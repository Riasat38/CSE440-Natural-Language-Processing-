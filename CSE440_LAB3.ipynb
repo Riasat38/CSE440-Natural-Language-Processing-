{
  "nbformat": 4,
  "nbformat_minor": 0,
  "metadata": {
    "colab": {
      "provenance": [],
      "authorship_tag": "ABX9TyNGh+R4wPmLVwI89ZioTxoq",
      "include_colab_link": true
    },
    "kernelspec": {
      "name": "python3",
      "display_name": "Python 3"
    },
    "language_info": {
      "name": "python"
    }
  },
  "cells": [
    {
      "cell_type": "markdown",
      "metadata": {
        "id": "view-in-github",
        "colab_type": "text"
      },
      "source": [
        "<a href=\"https://colab.research.google.com/github/Riasat38/CSE440-Natural-Language-Processing-/blob/main/CSE440_LAB3.ipynb\" target=\"_parent\"><img src=\"https://colab.research.google.com/assets/colab-badge.svg\" alt=\"Open In Colab\"/></a>"
      ]
    },
    {
      "cell_type": "code",
      "source": [
        "!pip install keras"
      ],
      "metadata": {
        "colab": {
          "base_uri": "https://localhost:8080/"
        },
        "id": "Mh5xK7p0ck1Z",
        "outputId": "80f86f42-aadd-43ee-ec8e-b00429684db3"
      },
      "execution_count": 30,
      "outputs": [
        {
          "output_type": "stream",
          "name": "stdout",
          "text": [
            "Requirement already satisfied: keras in /usr/local/lib/python3.11/dist-packages (3.8.0)\n",
            "Requirement already satisfied: absl-py in /usr/local/lib/python3.11/dist-packages (from keras) (1.4.0)\n",
            "Requirement already satisfied: numpy in /usr/local/lib/python3.11/dist-packages (from keras) (2.0.2)\n",
            "Requirement already satisfied: rich in /usr/local/lib/python3.11/dist-packages (from keras) (13.9.4)\n",
            "Requirement already satisfied: namex in /usr/local/lib/python3.11/dist-packages (from keras) (0.0.9)\n",
            "Requirement already satisfied: h5py in /usr/local/lib/python3.11/dist-packages (from keras) (3.13.0)\n",
            "Requirement already satisfied: optree in /usr/local/lib/python3.11/dist-packages (from keras) (0.15.0)\n",
            "Requirement already satisfied: ml-dtypes in /usr/local/lib/python3.11/dist-packages (from keras) (0.4.1)\n",
            "Requirement already satisfied: packaging in /usr/local/lib/python3.11/dist-packages (from keras) (24.2)\n",
            "Requirement already satisfied: typing-extensions>=4.5.0 in /usr/local/lib/python3.11/dist-packages (from optree->keras) (4.13.2)\n",
            "Requirement already satisfied: markdown-it-py>=2.2.0 in /usr/local/lib/python3.11/dist-packages (from rich->keras) (3.0.0)\n",
            "Requirement already satisfied: pygments<3.0.0,>=2.13.0 in /usr/local/lib/python3.11/dist-packages (from rich->keras) (2.18.0)\n",
            "Requirement already satisfied: mdurl~=0.1 in /usr/local/lib/python3.11/dist-packages (from markdown-it-py>=2.2.0->rich->keras) (0.1.2)\n"
          ]
        }
      ]
    },
    {
      "cell_type": "code",
      "source": [
        "import pandas as pd\n",
        "import numpy as np\n",
        "import matplotlib.pyplot as plt\n",
        "import sympy as sp\n",
        "from keras.models import Sequential\n",
        "from keras.layers import Dense, Dropout\n",
        "from sklearn.model_selection import train_test_split\n",
        "from sklearn.preprocessing import normalize\n"
      ],
      "metadata": {
        "id": "ZFMR9QfYcqxg"
      },
      "execution_count": 31,
      "outputs": []
    },
    {
      "cell_type": "code",
      "source": [
        "data = {\n",
        "    'X': [1.0, 2.0, 3.0, 4.0, 5.0],\n",
        "    'Y': [9.9, 8.0, 6.1, 3.9, 2.0]\n",
        "}\n",
        "df = pd.DataFrame(data)\n",
        "print(df.head())"
      ],
      "metadata": {
        "colab": {
          "base_uri": "https://localhost:8080/"
        },
        "id": "GLu8zL95Xp8X",
        "outputId": "26a91bb1-391f-46ca-8e81-bb2649ef005b"
      },
      "execution_count": 32,
      "outputs": [
        {
          "output_type": "stream",
          "name": "stdout",
          "text": [
            "     X    Y\n",
            "0  1.0  9.9\n",
            "1  2.0  8.0\n",
            "2  3.0  6.1\n",
            "3  4.0  3.9\n",
            "4  5.0  2.0\n"
          ]
        }
      ]
    },
    {
      "cell_type": "markdown",
      "source": [
        "$$ax^2 + bx + c$$"
      ],
      "metadata": {
        "id": "Ww48CFplYES4"
      }
    },
    {
      "cell_type": "code",
      "source": [
        "def gradient_descent_poly(a_val, b_val, c_val, X, Y, learning_rate, epochs):\n",
        "\n",
        "    # Define x and y as mathematical symbols\n",
        "    vars = sp.symbols('a b c x y n')\n",
        "    a, b, c, x, y, n  = vars\n",
        "    n_val = float(len(X))\n",
        "\n",
        "    error_function = ((1/(2*n)) * ((y - (a*(x**2) + b*x+c))**2))\n",
        "\n",
        "    for j in range(epochs):\n",
        "        c_gradient = 0\n",
        "        b_gradient = 0\n",
        "        a_gradient = 0\n",
        "        for i in range(0, len(X)):\n",
        "            #print(b)\n",
        "            c_gradient += sp.diff(error_function, c).subs({x:X[i], y: Y[i], b:b_val, a: a_val, c:c_val, n:n_val})\n",
        "            b_gradient += sp.diff(error_function, b).subs({x:X[i], y: Y[i], b:b_val, a: a_val, c:c_val, n:n_val})\n",
        "            a_gradient += sp.diff(error_function, a).subs({x:X[i], y: Y[i], b:b_val, a: a_val, c:c_val, n:n_val})\n",
        "\n",
        "        c_val -= (learning_rate * c_gradient)\n",
        "        b_val -= (learning_rate * b_gradient)\n",
        "        a_val -= (learning_rate * a_gradient)\n",
        "\n",
        "    return [a_val, b_val, c_val]"
      ],
      "metadata": {
        "id": "KKXCJdMAXsI4"
      },
      "execution_count": 33,
      "outputs": []
    },
    {
      "cell_type": "code",
      "source": [
        "X_data = df['X'].values\n",
        "Y_data = df['Y'].values"
      ],
      "metadata": {
        "id": "69by9rzzaQVZ"
      },
      "execution_count": 34,
      "outputs": []
    },
    {
      "cell_type": "code",
      "source": [
        "vals = gradient_descent_poly(a_val = 0, b_val = 0, c_val = 0, X = X_data, Y = Y_data, learning_rate=0.0001, epochs = 1000)\n",
        "\n",
        "a_val = vals[0]\n",
        "b_val = vals[1]\n",
        "c_val = vals[2]\n",
        "\n",
        "predictions = [(a_val * (X_data[i]**2)) + (b_val * X_data[i]) + c_val for i in range(len(X_data))]\n",
        "plt.scatter(X_data, Y_data)\n",
        "plt.plot(X_data, predictions, color='r')"
      ],
      "metadata": {
        "colab": {
          "base_uri": "https://localhost:8080/",
          "height": 447
        },
        "id": "nJoW-xv8aAcS",
        "outputId": "aecb5af2-0e9d-4e5e-91cf-b9da2bdf10ef"
      },
      "execution_count": 35,
      "outputs": [
        {
          "output_type": "execute_result",
          "data": {
            "text/plain": [
              "[<matplotlib.lines.Line2D at 0x7f4d66ab8f90>]"
            ]
          },
          "metadata": {},
          "execution_count": 35
        },
        {
          "output_type": "display_data",
          "data": {
            "text/plain": [
              "<Figure size 640x480 with 1 Axes>"
            ],
            "image/png": "[encoded data removed]"
          },
          "metadata": {}
        }
      ]
    },
    {
      "cell_type": "markdown",
      "source": [
        "## Task 2"
      ],
      "metadata": {
        "id": "Q_1BobusgCOt"
      }
    },
    {
      "cell_type": "code",
      "source": [
        "from sklearn.datasets import fetch_california_housing\n",
        "dataset = fetch_california_housing(as_frame=True)\n",
        "dataset"
      ],
      "metadata": {
        "colab": {
          "base_uri": "https://localhost:8080/"
        },
        "id": "_v8UNEdwdjm0",
        "outputId": "e99c946c-ec15-4fa2-f22c-6eb6f843efe1"
      },
      "execution_count": 36,
      "outputs": [
        {
          "output_type": "execute_result",
          "data": {
            "text/plain": [
              "{'data':        MedInc  HouseAge  AveRooms  AveBedrms  Population  AveOccup  Latitude  \\\n",
              " 0      8.3252      41.0  6.984127   1.023810       322.0  2.555556     37.88   \n",
              " 1      8.3014      21.0  6.238137   0.971880      2401.0  2.109842     37.86   \n",
              " 2      7.2574      52.0  8.288136   1.073446       496.0  2.802260     37.85   \n",
              " 3      5.6431      52.0  5.817352   1.073059       558.0  2.547945     37.85   \n",
              " 4      3.8462      52.0  6.281853   1.081081       565.0  2.181467     37.85   \n",
              " ...       ...       ...       ...        ...         ...       ...       ...   \n",
              " 20635  1.5603      25.0  5.045455   1.133333       845.0  2.560606     39.48   \n",
              " 20636  2.5568      18.0  6.114035   1.315789       356.0  3.122807     39.49   \n",
              " 20637  1.7000      17.0  5.205543   1.120092      1007.0  2.325635     39.43   \n",
              " 20638  1.8672      18.0  5.329513   1.171920       741.0  2.123209     39.43   \n",
              " 20639  2.3886      16.0  5.254717   1.162264      1387.0  2.616981     39.37   \n",
              " \n",
              "        Longitude  \n",
              " 0        -122.23  \n",
              " 1        -122.22  \n",
              " 2        -122.24  \n",
              " 3        -122.25  \n",
              " 4        -122.25  \n",
              " ...          ...  \n",
              " 20635    -121.09  \n",
              " 20636    -121.21  \n",
              " 20637    -121.22  \n",
              " 20638    -121.32  \n",
              " 20639    -121.24  \n",
              " \n",
              " [20640 rows x 8 columns],\n",
              " 'target': 0        4.526\n",
              " 1        3.585\n",
              " 2        3.521\n",
              " 3        3.413\n",
              " 4        3.422\n",
              "          ...  \n",
              " 20635    0.781\n",
              " 20636    0.771\n",
              " 20637    0.923\n",
              " 20638    0.847\n",
              " 20639    0.894\n",
              " Name: MedHouseVal, Length: 20640, dtype: float64,\n",
              " 'frame':        MedInc  HouseAge  AveRooms  AveBedrms  Population  AveOccup  Latitude  \\\n",
              " 0      8.3252      41.0  6.984127   1.023810       322.0  2.555556     37.88   \n",
              " 1      8.3014      21.0  6.238137   0.971880      2401.0  2.109842     37.86   \n",
              " 2      7.2574      52.0  8.288136   1.073446       496.0  2.802260     37.85   \n",
              " 3      5.6431      52.0  5.817352   1.073059       558.0  2.547945     37.85   \n",
              " 4      3.8462      52.0  6.281853   1.081081       565.0  2.181467     37.85   \n",
              " ...       ...       ...       ...        ...         ...       ...       ...   \n",
              " 20635  1.5603      25.0  5.045455   1.133333       845.0  2.560606     39.48   \n",
              " 20636  2.5568      18.0  6.114035   1.315789       356.0  3.122807     39.49   \n",
              " 20637  1.7000      17.0  5.205543   1.120092      1007.0  2.325635     39.43   \n",
              " 20638  1.8672      18.0  5.329513   1.171920       741.0  2.123209     39.43   \n",
              " 20639  2.3886      16.0  5.254717   1.162264      1387.0  2.616981     39.37   \n",
              " \n",
              "        Longitude  MedHouseVal  \n",
              " 0        -122.23        4.526  \n",
              " 1        -122.22        3.585  \n",
              " 2        -122.24        3.521  \n",
              " 3        -122.25        3.413  \n",
              " 4        -122.25        3.422  \n",
              " ...          ...          ...  \n",
              " 20635    -121.09        0.781  \n",
              " 20636    -121.21        0.771  \n",
              " 20637    -121.22        0.923  \n",
              " 20638    -121.32        0.847  \n",
              " 20639    -121.24        0.894  \n",
              " \n",
              " [20640 rows x 9 columns],\n",
              " 'target_names': ['MedHouseVal'],\n",
              " 'feature_names': ['MedInc',\n",
              "  'HouseAge',\n",
              "  'AveRooms',\n",
              "  'AveBedrms',\n",
              "  'Population',\n",
              "  'AveOccup',\n",
              "  'Latitude',\n",
              "  'Longitude'],\n",
              " 'DESCR': '.. _california_housing_dataset:\\n\\nCalifornia Housing dataset\\n--------------------------\\n\\n**Data Set Characteristics:**\\n\\n:Number of Instances: 20640\\n\\n:Number of Attributes: 8 numeric, predictive attributes and the target\\n\\n:Attribute Information:\\n    - MedInc        median income in block group\\n    - HouseAge      median house age in block group\\n    - AveRooms      average number of rooms per household\\n    - AveBedrms     average number of bedrooms per household\\n    - Population    block group population\\n    - AveOccup      average number of household members\\n    - Latitude      block group latitude\\n    - Longitude     block group longitude\\n\\n:Missing Attribute Values: None\\n\\nThis dataset was obtained from the StatLib repository.\\nhttps://www.dcc.fc.up.pt/~ltorgo/Regression/cal_housing.html\\n\\nThe target variable is the median house value for California districts,\\nexpressed in hundreds of thousands of dollars ($100,000).\\n\\nThis dataset was derived from the 1990 U.S. census, using one row per census\\nblock group. A block group is the smallest geographical unit for which the U.S.\\nCensus Bureau publishes sample data (a block group typically has a population\\nof 600 to 3,000 people).\\n\\nA household is a group of people residing within a home. Since the average\\nnumber of rooms and bedrooms in this dataset are provided per household, these\\ncolumns may take surprisingly large values for block groups with few households\\nand many empty houses, such as vacation resorts.\\n\\nIt can be downloaded/loaded using the\\n:func:`sklearn.datasets.fetch_california_housing` function.\\n\\n.. rubric:: References\\n\\n- Pace, R. Kelley and Ronald Barry, Sparse Spatial Autoregressions,\\n  Statistics and Probability Letters, 33 (1997) 291-297\\n'}"
            ]
          },
          "metadata": {},
          "execution_count": 36
        }
      ]
    },
    {
      "cell_type": "code",
      "source": [
        "X = dataset.data\n",
        "y = dataset.target"
      ],
      "metadata": {
        "id": "LM_-rs9Ldc9J"
      },
      "execution_count": 37,
      "outputs": []
    },
    {
      "cell_type": "code",
      "source": [
        "print(X['MedInc'].isnull().sum())\n",
        "print(X['HouseAge'].isnull().sum())\n",
        "print(X['AveRooms'].isnull().sum())\n",
        "print(X['AveBedrms'].isnull().sum())\n",
        "print(X['Population'].isnull().sum())\n",
        "print(X['AveOccup'].isnull().sum())"
      ],
      "metadata": {
        "colab": {
          "base_uri": "https://localhost:8080/"
        },
        "id": "mvFa4k-ffRUY",
        "outputId": "0526206f-4cf3-4cba-d67d-db2400267d80"
      },
      "execution_count": 38,
      "outputs": [
        {
          "output_type": "stream",
          "name": "stdout",
          "text": [
            "0\n",
            "0\n",
            "0\n",
            "0\n",
            "0\n",
            "0\n"
          ]
        }
      ]
    },
    {
      "cell_type": "code",
      "source": [
        "\n",
        "X_normalized = normalize(X, axis=0)\n",
        "X_normalized = pd.DataFrame(X_normalized, columns=X.columns)\n",
        "\n",
        "\n",
        "X_train, X_test, y_train, y_test = train_test_split(X_normalized, y, test_size=0.2, random_state=42)\n"
      ],
      "metadata": {
        "id": "-6xqWpJHfdUy"
      },
      "execution_count": 39,
      "outputs": []
    },
    {
      "cell_type": "code",
      "source": [
        "\n",
        "model = Sequential()\n",
        "model.add(Dense(31, activation='relu', input_shape=(X_train.shape[1],)))\n",
        "model.add(Dense(1))  # Output layer for regression\n",
        "model.compile(optimizer='adam', loss='mse', metrics=['accuracy'])\n",
        "\n",
        "history = model.fit(\n",
        "    X_train, y_train,\n",
        "    epochs=250,\n",
        "    validation_data=(X_test, y_test),\n",
        "    verbose=1\n",
        ")\n"
      ],
      "metadata": {
        "colab": {
          "base_uri": "https://localhost:8080/"
        },
        "id": "2xKA0ar2kD4m",
        "outputId": "d3bcffa0-0d11-43a4-e918-5884fde57bf6"
      },
      "execution_count": 40,
      "outputs": [
        {
          "output_type": "stream",
          "name": "stdout",
          "text": [
            "Epoch 1/250\n"
          ]
        },
        {
          "output_type": "stream",
          "name": "stderr",
          "text": [
            "/usr/local/lib/python3.11/dist-packages/keras/src/layers/core/dense.py:87: UserWarning: Do not pass an `input_shape`/`input_dim` argument to a layer. When using Sequential models, prefer using an `Input(shape)` object as the first layer in the model instead.\n",
            "  super().__init__(activity_regularizer=activity_regularizer, **kwargs)\n"
          ]
        },
        {
          "output_type": "stream",
          "name": "stdout",
          "text": [
            "\u001b[1m516/516\u001b[0m \u001b[32m━━━━━━━━━━━━━━━━━━━━\u001b[0m\u001b[37m\u001b[0m \u001b[1m4s\u001b[0m 6ms/step - accuracy: 0.0014 - loss: 3.3550 - val_accuracy: 0.0022 - val_loss: 1.2974\n",
            "Epoch 2/250\n",
            "\u001b[1m516/516\u001b[0m \u001b[32m━━━━━━━━━━━━━━━━━━━━\u001b[0m\u001b[37m\u001b[0m \u001b[1m2s\u001b[0m 5ms/step - accuracy: 0.0027 - loss: 1.3332 - val_accuracy: 0.0022 - val_loss: 1.2775\n",
            "Epoch 3/250\n",
            "\u001b[1m516/516\u001b[0m \u001b[32m━━━━━━━━━━━━━━━━━━━━\u001b[0m\u001b[37m\u001b[0m \u001b[1m3s\u001b[0m 5ms/step - accuracy: 0.0032 - loss: 1.2983 - val_accuracy: 0.0022 - val_loss: 1.2481\n",
            "Epoch 4/250\n",
            "\u001b[1m516/516\u001b[0m \u001b[32m━━━━━━━━━━━━━━━━━━━━\u001b[0m\u001b[37m\u001b[0m \u001b[1m3s\u001b[0m 5ms/step - accuracy: 0.0037 - loss: 1.2720 - val_accuracy: 0.0022 - val_loss: 1.2082\n",
            "Epoch 5/250\n",
            "\u001b[1m516/516\u001b[0m \u001b[32m━━━━━━━━━━━━━━━━━━━━\u001b[0m\u001b[37m\u001b[0m \u001b[1m5s\u001b[0m 6ms/step - accuracy: 0.0037 - loss: 1.2195 - val_accuracy: 0.0022 - val_loss: 1.1610\n",
            "Epoch 6/250\n",
            "\u001b[1m516/516\u001b[0m \u001b[32m━━━━━━━━━━━━━━━━━━━━\u001b[0m\u001b[37m\u001b[0m \u001b[1m3s\u001b[0m 2ms/step - accuracy: 0.0032 - loss: 1.1671 - val_accuracy: 0.0022 - val_loss: 1.0974\n",
            "Epoch 7/250\n",
            "\u001b[1m516/516\u001b[0m \u001b[32m━━━━━━━━━━━━━━━━━━━━\u001b[0m\u001b[37m\u001b[0m \u001b[1m1s\u001b[0m 2ms/step - accuracy: 0.0039 - loss: 1.0961 - val_accuracy: 0.0022 - val_loss: 1.0297\n",
            "Epoch 8/250\n",
            "\u001b[1m516/516\u001b[0m \u001b[32m━━━━━━━━━━━━━━━━━━━━\u001b[0m\u001b[37m\u001b[0m \u001b[1m1s\u001b[0m 2ms/step - accuracy: 0.0029 - loss: 1.0175 - val_accuracy: 0.0022 - val_loss: 0.9682\n",
            "Epoch 9/250\n",
            "\u001b[1m516/516\u001b[0m \u001b[32m━━━━━━━━━━━━━━━━━━━━\u001b[0m\u001b[37m\u001b[0m \u001b[1m1s\u001b[0m 2ms/step - accuracy: 0.0034 - loss: 0.9654 - val_accuracy: 0.0022 - val_loss: 0.9063\n",
            "Epoch 10/250\n",
            "\u001b[1m516/516\u001b[0m \u001b[32m━━━━━━━━━━━━━━━━━━━━\u001b[0m\u001b[37m\u001b[0m \u001b[1m1s\u001b[0m 2ms/step - accuracy: 0.0030 - loss: 0.8961 - val_accuracy: 0.0022 - val_loss: 0.8585\n",
            "Epoch 11/250\n",
            "\u001b[1m516/516\u001b[0m \u001b[32m━━━━━━━━━━━━━━━━━━━━\u001b[0m\u001b[37m\u001b[0m \u001b[1m2s\u001b[0m 3ms/step - accuracy: 0.0036 - loss: 0.8334 - val_accuracy: 0.0022 - val_loss: 0.8060\n",
            "Epoch 12/250\n",
            "\u001b[1m516/516\u001b[0m \u001b[32m━━━━━━━━━━━━━━━━━━━━\u001b[0m\u001b[37m\u001b[0m \u001b[1m2s\u001b[0m 2ms/step - accuracy: 0.0037 - loss: 0.8040 - val_accuracy: 0.0022 - val_loss: 0.7664\n",
            "Epoch 13/250\n",
            "\u001b[1m516/516\u001b[0m \u001b[32m━━━━━━━━━━━━━━━━━━━━\u001b[0m\u001b[37m\u001b[0m \u001b[1m1s\u001b[0m 2ms/step - accuracy: 0.0040 - loss: 0.7579 - val_accuracy: 0.0022 - val_loss: 0.7348\n",
            "Epoch 14/250\n",
            "\u001b[1m516/516\u001b[0m \u001b[32m━━━━━━━━━━━━━━━━━━━━\u001b[0m\u001b[37m\u001b[0m \u001b[1m1s\u001b[0m 2ms/step - accuracy: 0.0030 - loss: 0.7402 - val_accuracy: 0.0022 - val_loss: 0.7114\n",
            "Epoch 15/250\n",
            "\u001b[1m516/516\u001b[0m \u001b[32m━━━━━━━━━━━━━━━━━━━━\u001b[0m\u001b[37m\u001b[0m \u001b[1m1s\u001b[0m 2ms/step - accuracy: 0.0028 - loss: 0.7010 - val_accuracy: 0.0022 - val_loss: 0.6971\n",
            "Epoch 16/250\n",
            "\u001b[1m516/516\u001b[0m \u001b[32m━━━━━━━━━━━━━━━━━━━━\u001b[0m\u001b[37m\u001b[0m \u001b[1m1s\u001b[0m 2ms/step - accuracy: 0.0037 - loss: 0.6812 - val_accuracy: 0.0022 - val_loss: 0.6856\n",
            "Epoch 17/250\n",
            "\u001b[1m516/516\u001b[0m \u001b[32m━━━━━━━━━━━━━━━━━━━━\u001b[0m\u001b[37m\u001b[0m \u001b[1m1s\u001b[0m 2ms/step - accuracy: 0.0026 - loss: 0.6697 - val_accuracy: 0.0022 - val_loss: 0.6741\n",
            "Epoch 18/250\n",
            "\u001b[1m516/516\u001b[0m \u001b[32m━━━━━━━━━━━━━━━━━━━━\u001b[0m\u001b[37m\u001b[0m \u001b[1m1s\u001b[0m 2ms/step - accuracy: 0.0035 - loss: 0.6633 - val_accuracy: 0.0022 - val_loss: 0.6686\n",
            "Epoch 19/250\n",
            "\u001b[1m516/516\u001b[0m \u001b[32m━━━━━━━━━━━━━━━━━━━━\u001b[0m\u001b[37m\u001b[0m \u001b[1m1s\u001b[0m 2ms/step - accuracy: 0.0029 - loss: 0.6697 - val_accuracy: 0.0022 - val_loss: 0.6640\n",
            "Epoch 20/250\n",
            "\u001b[1m516/516\u001b[0m \u001b[32m━━━━━━━━━━━━━━━━━━━━\u001b[0m\u001b[37m\u001b[0m \u001b[1m3s\u001b[0m 3ms/step - accuracy: 0.0026 - loss: 0.6723 - val_accuracy: 0.0022 - val_loss: 0.6629\n",
            "Epoch 21/250\n",
            "\u001b[1m516/516\u001b[0m \u001b[32m━━━━━━━━━━━━━━━━━━━━\u001b[0m\u001b[37m\u001b[0m \u001b[1m2s\u001b[0m 2ms/step - accuracy: 0.0024 - loss: 0.6419 - val_accuracy: 0.0022 - val_loss: 0.6567\n",
            "Epoch 22/250\n",
            "\u001b[1m516/516\u001b[0m \u001b[32m━━━━━━━━━━━━━━━━━━━━\u001b[0m\u001b[37m\u001b[0m \u001b[1m1s\u001b[0m 2ms/step - accuracy: 0.0035 - loss: 0.6233 - val_accuracy: 0.0022 - val_loss: 0.6570\n",
            "Epoch 23/250\n",
            "\u001b[1m516/516\u001b[0m \u001b[32m━━━━━━━━━━━━━━━━━━━━\u001b[0m\u001b[37m\u001b[0m \u001b[1m1s\u001b[0m 2ms/step - accuracy: 0.0031 - loss: 0.6409 - val_accuracy: 0.0022 - val_loss: 0.6527\n",
            "Epoch 24/250\n",
            "\u001b[1m516/516\u001b[0m \u001b[32m━━━━━━━━━━━━━━━━━━━━\u001b[0m\u001b[37m\u001b[0m \u001b[1m1s\u001b[0m 2ms/step - accuracy: 0.0036 - loss: 0.6376 - val_accuracy: 0.0022 - val_loss: 0.6561\n",
            "Epoch 25/250\n",
            "\u001b[1m516/516\u001b[0m \u001b[32m━━━━━━━━━━━━━━━━━━━━\u001b[0m\u001b[37m\u001b[0m \u001b[1m1s\u001b[0m 2ms/step - accuracy: 0.0034 - loss: 0.6219 - val_accuracy: 0.0022 - val_loss: 0.6540\n",
            "Epoch 26/250\n",
            "\u001b[1m516/516\u001b[0m \u001b[32m━━━━━━━━━━━━━━━━━━━━\u001b[0m\u001b[37m\u001b[0m \u001b[1m1s\u001b[0m 2ms/step - accuracy: 0.0026 - loss: 0.6509 - val_accuracy: 0.0022 - val_loss: 0.6502\n",
            "Epoch 27/250\n",
            "\u001b[1m516/516\u001b[0m \u001b[32m━━━━━━━━━━━━━━━━━━━━\u001b[0m\u001b[37m\u001b[0m \u001b[1m1s\u001b[0m 2ms/step - accuracy: 0.0033 - loss: 0.6427 - val_accuracy: 0.0022 - val_loss: 0.6520\n",
            "Epoch 28/250\n",
            "\u001b[1m516/516\u001b[0m \u001b[32m━━━━━━━━━━━━━━━━━━━━\u001b[0m\u001b[37m\u001b[0m \u001b[1m2s\u001b[0m 4ms/step - accuracy: 0.0034 - loss: 0.6469 - val_accuracy: 0.0022 - val_loss: 0.6485\n",
            "Epoch 29/250\n",
            "\u001b[1m516/516\u001b[0m \u001b[32m━━━━━━━━━━━━━━━━━━━━\u001b[0m\u001b[37m\u001b[0m \u001b[1m1s\u001b[0m 2ms/step - accuracy: 0.0024 - loss: 0.6423 - val_accuracy: 0.0022 - val_loss: 0.6449\n",
            "Epoch 30/250\n",
            "\u001b[1m516/516\u001b[0m \u001b[32m━━━━━━━━━━━━━━━━━━━━\u001b[0m\u001b[37m\u001b[0m \u001b[1m1s\u001b[0m 2ms/step - accuracy: 0.0033 - loss: 0.6306 - val_accuracy: 0.0022 - val_loss: 0.6596\n",
            "Epoch 31/250\n",
            "\u001b[1m516/516\u001b[0m \u001b[32m━━━━━━━━━━━━━━━━━━━━\u001b[0m\u001b[37m\u001b[0m \u001b[1m1s\u001b[0m 2ms/step - accuracy: 0.0031 - loss: 0.6391 - val_accuracy: 0.0022 - val_loss: 0.6426\n",
            "Epoch 32/250\n",
            "\u001b[1m516/516\u001b[0m \u001b[32m━━━━━━━━━━━━━━━━━━━━\u001b[0m\u001b[37m\u001b[0m \u001b[1m1s\u001b[0m 2ms/step - accuracy: 0.0035 - loss: 0.6305 - val_accuracy: 0.0022 - val_loss: 0.6413\n",
            "Epoch 33/250\n",
            "\u001b[1m516/516\u001b[0m \u001b[32m━━━━━━━━━━━━━━━━━━━━\u001b[0m\u001b[37m\u001b[0m \u001b[1m1s\u001b[0m 2ms/step - accuracy: 0.0028 - loss: 0.6222 - val_accuracy: 0.0022 - val_loss: 0.6407\n",
            "Epoch 34/250\n",
            "\u001b[1m516/516\u001b[0m \u001b[32m━━━━━━━━━━━━━━━━━━━━\u001b[0m\u001b[37m\u001b[0m \u001b[1m1s\u001b[0m 2ms/step - accuracy: 0.0028 - loss: 0.6117 - val_accuracy: 0.0022 - val_loss: 0.6391\n",
            "Epoch 35/250\n",
            "\u001b[1m516/516\u001b[0m \u001b[32m━━━━━━━━━━━━━━━━━━━━\u001b[0m\u001b[37m\u001b[0m \u001b[1m1s\u001b[0m 2ms/step - accuracy: 0.0024 - loss: 0.6410 - val_accuracy: 0.0022 - val_loss: 0.6382\n",
            "Epoch 36/250\n",
            "\u001b[1m516/516\u001b[0m \u001b[32m━━━━━━━━━━━━━━━━━━━━\u001b[0m\u001b[37m\u001b[0m \u001b[1m1s\u001b[0m 2ms/step - accuracy: 0.0046 - loss: 0.6196 - val_accuracy: 0.0022 - val_loss: 0.6502\n",
            "Epoch 37/250\n",
            "\u001b[1m516/516\u001b[0m \u001b[32m━━━━━━━━━━━━━━━━━━━━\u001b[0m\u001b[37m\u001b[0m \u001b[1m2s\u001b[0m 3ms/step - accuracy: 0.0036 - loss: 0.6499 - val_accuracy: 0.0022 - val_loss: 0.6375\n",
            "Epoch 38/250\n",
            "\u001b[1m516/516\u001b[0m \u001b[32m━━━━━━━━━━━━━━━━━━━━\u001b[0m\u001b[37m\u001b[0m \u001b[1m2s\u001b[0m 2ms/step - accuracy: 0.0029 - loss: 0.6215 - val_accuracy: 0.0022 - val_loss: 0.6350\n",
            "Epoch 39/250\n",
            "\u001b[1m516/516\u001b[0m \u001b[32m━━━━━━━━━━━━━━━━━━━━\u001b[0m\u001b[37m\u001b[0m \u001b[1m1s\u001b[0m 2ms/step - accuracy: 0.0040 - loss: 0.6167 - val_accuracy: 0.0022 - val_loss: 0.6339\n",
            "Epoch 40/250\n",
            "\u001b[1m516/516\u001b[0m \u001b[32m━━━━━━━━━━━━━━━━━━━━\u001b[0m\u001b[37m\u001b[0m \u001b[1m1s\u001b[0m 2ms/step - accuracy: 0.0042 - loss: 0.6008 - val_accuracy: 0.0022 - val_loss: 0.6385\n",
            "Epoch 41/250\n",
            "\u001b[1m516/516\u001b[0m \u001b[32m━━━━━━━━━━━━━━━━━━━━\u001b[0m\u001b[37m\u001b[0m \u001b[1m1s\u001b[0m 2ms/step - accuracy: 0.0027 - loss: 0.6359 - val_accuracy: 0.0022 - val_loss: 0.6331\n",
            "Epoch 42/250\n",
            "\u001b[1m516/516\u001b[0m \u001b[32m━━━━━━━━━━━━━━━━━━━━\u001b[0m\u001b[37m\u001b[0m \u001b[1m1s\u001b[0m 2ms/step - accuracy: 0.0032 - loss: 0.6205 - val_accuracy: 0.0022 - val_loss: 0.6307\n",
            "Epoch 43/250\n",
            "\u001b[1m516/516\u001b[0m \u001b[32m━━━━━━━━━━━━━━━━━━━━\u001b[0m\u001b[37m\u001b[0m \u001b[1m1s\u001b[0m 2ms/step - accuracy: 0.0028 - loss: 0.6291 - val_accuracy: 0.0022 - val_loss: 0.6314\n",
            "Epoch 44/250\n",
            "\u001b[1m516/516\u001b[0m \u001b[32m━━━━━━━━━━━━━━━━━━━━\u001b[0m\u001b[37m\u001b[0m \u001b[1m1s\u001b[0m 2ms/step - accuracy: 0.0028 - loss: 0.6320 - val_accuracy: 0.0022 - val_loss: 0.6291\n",
            "Epoch 45/250\n",
            "\u001b[1m516/516\u001b[0m \u001b[32m━━━━━━━━━━━━━━━━━━━━\u001b[0m\u001b[37m\u001b[0m \u001b[1m1s\u001b[0m 2ms/step - accuracy: 0.0033 - loss: 0.6025 - val_accuracy: 0.0022 - val_loss: 0.6277\n",
            "Epoch 46/250\n",
            "\u001b[1m516/516\u001b[0m \u001b[32m━━━━━━━━━━━━━━━━━━━━\u001b[0m\u001b[37m\u001b[0m \u001b[1m2s\u001b[0m 4ms/step - accuracy: 0.0027 - loss: 0.6192 - val_accuracy: 0.0022 - val_loss: 0.6269\n",
            "Epoch 47/250\n",
            "\u001b[1m516/516\u001b[0m \u001b[32m━━━━━━━━━━━━━━━━━━━━\u001b[0m\u001b[37m\u001b[0m \u001b[1m1s\u001b[0m 3ms/step - accuracy: 0.0029 - loss: 0.6090 - val_accuracy: 0.0022 - val_loss: 0.6258\n",
            "Epoch 48/250\n",
            "\u001b[1m516/516\u001b[0m \u001b[32m━━━━━━━━━━━━━━━━━━━━\u001b[0m\u001b[37m\u001b[0m \u001b[1m1s\u001b[0m 2ms/step - accuracy: 0.0024 - loss: 0.6271 - val_accuracy: 0.0022 - val_loss: 0.6251\n",
            "Epoch 49/250\n",
            "\u001b[1m516/516\u001b[0m \u001b[32m━━━━━━━━━━━━━━━━━━━━\u001b[0m\u001b[37m\u001b[0m \u001b[1m1s\u001b[0m 2ms/step - accuracy: 0.0042 - loss: 0.6165 - val_accuracy: 0.0022 - val_loss: 0.6385\n",
            "Epoch 50/250\n",
            "\u001b[1m516/516\u001b[0m \u001b[32m━━━━━━━━━━━━━━━━━━━━\u001b[0m\u001b[37m\u001b[0m \u001b[1m1s\u001b[0m 2ms/step - accuracy: 0.0023 - loss: 0.6019 - val_accuracy: 0.0022 - val_loss: 0.6230\n",
            "Epoch 51/250\n",
            "\u001b[1m516/516\u001b[0m \u001b[32m━━━━━━━━━━━━━━━━━━━━\u001b[0m\u001b[37m\u001b[0m \u001b[1m1s\u001b[0m 2ms/step - accuracy: 0.0031 - loss: 0.6145 - val_accuracy: 0.0022 - val_loss: 0.6250\n",
            "Epoch 52/250\n",
            "\u001b[1m516/516\u001b[0m \u001b[32m━━━━━━━━━━━━━━━━━━━━\u001b[0m\u001b[37m\u001b[0m \u001b[1m1s\u001b[0m 2ms/step - accuracy: 0.0038 - loss: 0.6284 - val_accuracy: 0.0022 - val_loss: 0.6209\n",
            "Epoch 53/250\n",
            "\u001b[1m516/516\u001b[0m \u001b[32m━━━━━━━━━━━━━━━━━━━━\u001b[0m\u001b[37m\u001b[0m \u001b[1m1s\u001b[0m 2ms/step - accuracy: 0.0026 - loss: 0.6200 - val_accuracy: 0.0022 - val_loss: 0.6245\n",
            "Epoch 54/250\n",
            "\u001b[1m516/516\u001b[0m \u001b[32m━━━━━━━━━━━━━━━━━━━━\u001b[0m\u001b[37m\u001b[0m \u001b[1m1s\u001b[0m 2ms/step - accuracy: 0.0030 - loss: 0.6087 - val_accuracy: 0.0022 - val_loss: 0.6190\n",
            "Epoch 55/250\n",
            "\u001b[1m516/516\u001b[0m \u001b[32m━━━━━━━━━━━━━━━━━━━━\u001b[0m\u001b[37m\u001b[0m \u001b[1m2s\u001b[0m 3ms/step - accuracy: 0.0027 - loss: 0.6259 - val_accuracy: 0.0022 - val_loss: 0.6215\n",
            "Epoch 56/250\n",
            "\u001b[1m516/516\u001b[0m \u001b[32m━━━━━━━━━━━━━━━━━━━━\u001b[0m\u001b[37m\u001b[0m \u001b[1m2s\u001b[0m 2ms/step - accuracy: 0.0029 - loss: 0.5963 - val_accuracy: 0.0022 - val_loss: 0.6169\n",
            "Epoch 57/250\n",
            "\u001b[1m516/516\u001b[0m \u001b[32m━━━━━━━━━━━━━━━━━━━━\u001b[0m\u001b[37m\u001b[0m \u001b[1m1s\u001b[0m 2ms/step - accuracy: 0.0029 - loss: 0.6060 - val_accuracy: 0.0022 - val_loss: 0.6266\n",
            "Epoch 58/250\n",
            "\u001b[1m516/516\u001b[0m \u001b[32m━━━━━━━━━━━━━━━━━━━━\u001b[0m\u001b[37m\u001b[0m \u001b[1m1s\u001b[0m 2ms/step - accuracy: 0.0027 - loss: 0.6028 - val_accuracy: 0.0022 - val_loss: 0.6164\n",
            "Epoch 59/250\n",
            "\u001b[1m516/516\u001b[0m \u001b[32m━━━━━━━━━━━━━━━━━━━━\u001b[0m\u001b[37m\u001b[0m \u001b[1m1s\u001b[0m 2ms/step - accuracy: 0.0025 - loss: 0.6020 - val_accuracy: 0.0022 - val_loss: 0.6147\n",
            "Epoch 60/250\n",
            "\u001b[1m516/516\u001b[0m \u001b[32m━━━━━━━━━━━━━━━━━━━━\u001b[0m\u001b[37m\u001b[0m \u001b[1m3s\u001b[0m 2ms/step - accuracy: 0.0035 - loss: 0.6074 - val_accuracy: 0.0022 - val_loss: 0.6141\n",
            "Epoch 61/250\n",
            "\u001b[1m516/516\u001b[0m \u001b[32m━━━━━━━━━━━━━━━━━━━━\u001b[0m\u001b[37m\u001b[0m \u001b[1m1s\u001b[0m 2ms/step - accuracy: 0.0033 - loss: 0.6139 - val_accuracy: 0.0022 - val_loss: 0.6117\n",
            "Epoch 62/250\n",
            "\u001b[1m516/516\u001b[0m \u001b[32m━━━━━━━━━━━━━━━━━━━━\u001b[0m\u001b[37m\u001b[0m \u001b[1m1s\u001b[0m 2ms/step - accuracy: 0.0026 - loss: 0.6064 - val_accuracy: 0.0022 - val_loss: 0.6114\n",
            "Epoch 63/250\n",
            "\u001b[1m516/516\u001b[0m \u001b[32m━━━━━━━━━━━━━━━━━━━━\u001b[0m\u001b[37m\u001b[0m \u001b[1m3s\u001b[0m 3ms/step - accuracy: 0.0032 - loss: 0.5915 - val_accuracy: 0.0022 - val_loss: 0.6097\n",
            "Epoch 64/250\n",
            "\u001b[1m516/516\u001b[0m \u001b[32m━━━━━━━━━━━━━━━━━━━━\u001b[0m\u001b[37m\u001b[0m \u001b[1m2s\u001b[0m 2ms/step - accuracy: 0.0042 - loss: 0.5842 - val_accuracy: 0.0022 - val_loss: 0.6159\n",
            "Epoch 65/250\n",
            "\u001b[1m516/516\u001b[0m \u001b[32m━━━━━━━━━━━━━━━━━━━━\u001b[0m\u001b[37m\u001b[0m \u001b[1m1s\u001b[0m 2ms/step - accuracy: 0.0031 - loss: 0.5911 - val_accuracy: 0.0022 - val_loss: 0.6106\n",
            "Epoch 66/250\n",
            "\u001b[1m516/516\u001b[0m \u001b[32m━━━━━━━━━━━━━━━━━━━━\u001b[0m\u001b[37m\u001b[0m \u001b[1m1s\u001b[0m 2ms/step - accuracy: 0.0038 - loss: 0.5822 - val_accuracy: 0.0022 - val_loss: 0.6100\n",
            "Epoch 67/250\n",
            "\u001b[1m516/516\u001b[0m \u001b[32m━━━━━━━━━━━━━━━━━━━━\u001b[0m\u001b[37m\u001b[0m \u001b[1m1s\u001b[0m 2ms/step - accuracy: 0.0024 - loss: 0.5834 - val_accuracy: 0.0022 - val_loss: 0.6046\n",
            "Epoch 68/250\n",
            "\u001b[1m516/516\u001b[0m \u001b[32m━━━━━━━━━━━━━━━━━━━━\u001b[0m\u001b[37m\u001b[0m \u001b[1m1s\u001b[0m 2ms/step - accuracy: 0.0034 - loss: 0.6075 - val_accuracy: 0.0022 - val_loss: 0.6065\n",
            "Epoch 69/250\n",
            "\u001b[1m516/516\u001b[0m \u001b[32m━━━━━━━━━━━━━━━━━━━━\u001b[0m\u001b[37m\u001b[0m \u001b[1m1s\u001b[0m 2ms/step - accuracy: 0.0033 - loss: 0.5708 - val_accuracy: 0.0022 - val_loss: 0.6036\n",
            "Epoch 70/250\n",
            "\u001b[1m516/516\u001b[0m \u001b[32m━━━━━━━━━━━━━━━━━━━━\u001b[0m\u001b[37m\u001b[0m \u001b[1m2s\u001b[0m 4ms/step - accuracy: 0.0031 - loss: 0.5852 - val_accuracy: 0.0022 - val_loss: 0.6025\n",
            "Epoch 71/250\n",
            "\u001b[1m516/516\u001b[0m \u001b[32m━━━━━━━━━━━━━━━━━━━━\u001b[0m\u001b[37m\u001b[0m \u001b[1m2s\u001b[0m 3ms/step - accuracy: 0.0026 - loss: 0.5719 - val_accuracy: 0.0022 - val_loss: 0.6008\n",
            "Epoch 72/250\n",
            "\u001b[1m516/516\u001b[0m \u001b[32m━━━━━━━━━━━━━━━━━━━━\u001b[0m\u001b[37m\u001b[0m \u001b[1m2s\u001b[0m 2ms/step - accuracy: 0.0032 - loss: 0.6086 - val_accuracy: 0.0022 - val_loss: 0.6060\n",
            "Epoch 73/250\n",
            "\u001b[1m516/516\u001b[0m \u001b[32m━━━━━━━━━━━━━━━━━━━━\u001b[0m\u001b[37m\u001b[0m \u001b[1m1s\u001b[0m 2ms/step - accuracy: 0.0033 - loss: 0.6024 - val_accuracy: 0.0022 - val_loss: 0.5966\n",
            "Epoch 74/250\n",
            "\u001b[1m516/516\u001b[0m \u001b[32m━━━━━━━━━━━━━━━━━━━━\u001b[0m\u001b[37m\u001b[0m \u001b[1m1s\u001b[0m 2ms/step - accuracy: 0.0027 - loss: 0.5780 - val_accuracy: 0.0022 - val_loss: 0.6006\n",
            "Epoch 75/250\n",
            "\u001b[1m516/516\u001b[0m \u001b[32m━━━━━━━━━━━━━━━━━━━━\u001b[0m\u001b[37m\u001b[0m \u001b[1m1s\u001b[0m 2ms/step - accuracy: 0.0029 - loss: 0.5692 - val_accuracy: 0.0022 - val_loss: 0.6213\n",
            "Epoch 76/250\n",
            "\u001b[1m516/516\u001b[0m \u001b[32m━━━━━━━━━━━━━━━━━━━━\u001b[0m\u001b[37m\u001b[0m \u001b[1m1s\u001b[0m 2ms/step - accuracy: 0.0035 - loss: 0.5844 - val_accuracy: 0.0022 - val_loss: 0.5920\n",
            "Epoch 77/250\n",
            "\u001b[1m516/516\u001b[0m \u001b[32m━━━━━━━━━━━━━━━━━━━━\u001b[0m\u001b[37m\u001b[0m \u001b[1m1s\u001b[0m 2ms/step - accuracy: 0.0028 - loss: 0.5867 - val_accuracy: 0.0022 - val_loss: 0.5912\n",
            "Epoch 78/250\n",
            "\u001b[1m516/516\u001b[0m \u001b[32m━━━━━━━━━━━━━━━━━━━━\u001b[0m\u001b[37m\u001b[0m \u001b[1m2s\u001b[0m 4ms/step - accuracy: 0.0029 - loss: 0.5628 - val_accuracy: 0.0022 - val_loss: 0.5907\n",
            "Epoch 79/250\n",
            "\u001b[1m516/516\u001b[0m \u001b[32m━━━━━━━━━━━━━━━━━━━━\u001b[0m\u001b[37m\u001b[0m \u001b[1m2s\u001b[0m 2ms/step - accuracy: 0.0032 - loss: 0.5802 - val_accuracy: 0.0022 - val_loss: 0.5869\n",
            "Epoch 80/250\n",
            "\u001b[1m516/516\u001b[0m \u001b[32m━━━━━━━━━━━━━━━━━━━━\u001b[0m\u001b[37m\u001b[0m \u001b[1m1s\u001b[0m 2ms/step - accuracy: 0.0029 - loss: 0.5861 - val_accuracy: 0.0022 - val_loss: 0.5917\n",
            "Epoch 81/250\n",
            "\u001b[1m516/516\u001b[0m \u001b[32m━━━━━━━━━━━━━━━━━━━━\u001b[0m\u001b[37m\u001b[0m \u001b[1m1s\u001b[0m 2ms/step - accuracy: 0.0031 - loss: 0.5494 - val_accuracy: 0.0022 - val_loss: 0.5878\n",
            "Epoch 82/250\n",
            "\u001b[1m516/516\u001b[0m \u001b[32m━━━━━━━━━━━━━━━━━━━━\u001b[0m\u001b[37m\u001b[0m \u001b[1m3s\u001b[0m 3ms/step - accuracy: 0.0025 - loss: 0.5634 - val_accuracy: 0.0022 - val_loss: 0.5964\n",
            "Epoch 83/250\n",
            "\u001b[1m516/516\u001b[0m \u001b[32m━━━━━━━━━━━━━━━━━━━━\u001b[0m\u001b[37m\u001b[0m \u001b[1m2s\u001b[0m 2ms/step - accuracy: 0.0031 - loss: 0.5696 - val_accuracy: 0.0022 - val_loss: 0.5917\n",
            "Epoch 84/250\n",
            "\u001b[1m516/516\u001b[0m \u001b[32m━━━━━━━━━━━━━━━━━━━━\u001b[0m\u001b[37m\u001b[0m \u001b[1m1s\u001b[0m 2ms/step - accuracy: 0.0029 - loss: 0.5698 - val_accuracy: 0.0022 - val_loss: 0.5851\n",
            "Epoch 85/250\n",
            "\u001b[1m516/516\u001b[0m \u001b[32m━━━━━━━━━━━━━━━━━━━━\u001b[0m\u001b[37m\u001b[0m \u001b[1m3s\u001b[0m 3ms/step - accuracy: 0.0037 - loss: 0.5580 - val_accuracy: 0.0022 - val_loss: 0.5805\n",
            "Epoch 86/250\n",
            "\u001b[1m516/516\u001b[0m \u001b[32m━━━━━━━━━━━━━━━━━━━━\u001b[0m\u001b[37m\u001b[0m \u001b[1m1s\u001b[0m 2ms/step - accuracy: 0.0032 - loss: 0.5684 - val_accuracy: 0.0022 - val_loss: 0.5741\n",
            "Epoch 87/250\n",
            "\u001b[1m516/516\u001b[0m \u001b[32m━━━━━━━━━━━━━━━━━━━━\u001b[0m\u001b[37m\u001b[0m \u001b[1m2s\u001b[0m 2ms/step - accuracy: 0.0029 - loss: 0.5620 - val_accuracy: 0.0022 - val_loss: 0.5750\n",
            "Epoch 88/250\n",
            "\u001b[1m516/516\u001b[0m \u001b[32m━━━━━━━━━━━━━━━━━━━━\u001b[0m\u001b[37m\u001b[0m \u001b[1m1s\u001b[0m 2ms/step - accuracy: 0.0031 - loss: 0.5616 - val_accuracy: 0.0022 - val_loss: 0.5710\n",
            "Epoch 89/250\n",
            "\u001b[1m516/516\u001b[0m \u001b[32m━━━━━━━━━━━━━━━━━━━━\u001b[0m\u001b[37m\u001b[0m \u001b[1m1s\u001b[0m 2ms/step - accuracy: 0.0023 - loss: 0.5511 - val_accuracy: 0.0022 - val_loss: 0.5693\n",
            "Epoch 90/250\n",
            "\u001b[1m516/516\u001b[0m \u001b[32m━━━━━━━━━━━━━━━━━━━━\u001b[0m\u001b[37m\u001b[0m \u001b[1m2s\u001b[0m 2ms/step - accuracy: 0.0029 - loss: 0.5276 - val_accuracy: 0.0022 - val_loss: 0.5722\n",
            "Epoch 91/250\n",
            "\u001b[1m516/516\u001b[0m \u001b[32m━━━━━━━━━━━━━━━━━━━━\u001b[0m\u001b[37m\u001b[0m \u001b[1m2s\u001b[0m 3ms/step - accuracy: 0.0032 - loss: 0.5407 - val_accuracy: 0.0022 - val_loss: 0.5710\n",
            "Epoch 92/250\n",
            "\u001b[1m516/516\u001b[0m \u001b[32m━━━━━━━━━━━━━━━━━━━━\u001b[0m\u001b[37m\u001b[0m \u001b[1m2s\u001b[0m 3ms/step - accuracy: 0.0034 - loss: 0.5510 - val_accuracy: 0.0022 - val_loss: 0.5701\n",
            "Epoch 93/250\n",
            "\u001b[1m516/516\u001b[0m \u001b[32m━━━━━━━━━━━━━━━━━━━━\u001b[0m\u001b[37m\u001b[0m \u001b[1m2s\u001b[0m 2ms/step - accuracy: 0.0023 - loss: 0.5473 - val_accuracy: 0.0022 - val_loss: 0.5625\n",
            "Epoch 94/250\n",
            "\u001b[1m516/516\u001b[0m \u001b[32m━━━━━━━━━━━━━━━━━━━━\u001b[0m\u001b[37m\u001b[0m \u001b[1m1s\u001b[0m 2ms/step - accuracy: 0.0038 - loss: 0.5438 - val_accuracy: 0.0022 - val_loss: 0.5716\n",
            "Epoch 95/250\n",
            "\u001b[1m516/516\u001b[0m \u001b[32m━━━━━━━━━━━━━━━━━━━━\u001b[0m\u001b[37m\u001b[0m \u001b[1m2s\u001b[0m 2ms/step - accuracy: 0.0031 - loss: 0.5431 - val_accuracy: 0.0022 - val_loss: 0.5605\n",
            "Epoch 96/250\n",
            "\u001b[1m516/516\u001b[0m \u001b[32m━━━━━━━━━━━━━━━━━━━━\u001b[0m\u001b[37m\u001b[0m \u001b[1m1s\u001b[0m 2ms/step - accuracy: 0.0034 - loss: 0.5417 - val_accuracy: 0.0022 - val_loss: 0.5597\n",
            "Epoch 97/250\n",
            "\u001b[1m516/516\u001b[0m \u001b[32m━━━━━━━━━━━━━━━━━━━━\u001b[0m\u001b[37m\u001b[0m \u001b[1m1s\u001b[0m 2ms/step - accuracy: 0.0034 - loss: 0.5410 - val_accuracy: 0.0022 - val_loss: 0.5660\n",
            "Epoch 98/250\n",
            "\u001b[1m516/516\u001b[0m \u001b[32m━━━━━━━━━━━━━━━━━━━━\u001b[0m\u001b[37m\u001b[0m \u001b[1m1s\u001b[0m 2ms/step - accuracy: 0.0038 - loss: 0.5451 - val_accuracy: 0.0022 - val_loss: 0.5536\n",
            "Epoch 99/250\n",
            "\u001b[1m516/516\u001b[0m \u001b[32m━━━━━━━━━━━━━━━━━━━━\u001b[0m\u001b[37m\u001b[0m \u001b[1m2s\u001b[0m 3ms/step - accuracy: 0.0021 - loss: 0.5549 - val_accuracy: 0.0022 - val_loss: 0.5557\n",
            "Epoch 100/250\n",
            "\u001b[1m516/516\u001b[0m \u001b[32m━━━━━━━━━━━━━━━━━━━━\u001b[0m\u001b[37m\u001b[0m \u001b[1m2s\u001b[0m 2ms/step - accuracy: 0.0023 - loss: 0.5336 - val_accuracy: 0.0022 - val_loss: 0.5522\n",
            "Epoch 101/250\n",
            "\u001b[1m516/516\u001b[0m \u001b[32m━━━━━━━━━━━━━━━━━━━━\u001b[0m\u001b[37m\u001b[0m \u001b[1m1s\u001b[0m 2ms/step - accuracy: 0.0035 - loss: 0.5459 - val_accuracy: 0.0022 - val_loss: 0.5599\n",
            "Epoch 102/250\n",
            "\u001b[1m516/516\u001b[0m \u001b[32m━━━━━━━━━━━━━━━━━━━━\u001b[0m\u001b[37m\u001b[0m \u001b[1m2s\u001b[0m 2ms/step - accuracy: 0.0029 - loss: 0.5319 - val_accuracy: 0.0022 - val_loss: 0.5501\n",
            "Epoch 103/250\n",
            "\u001b[1m516/516\u001b[0m \u001b[32m━━━━━━━━━━━━━━━━━━━━\u001b[0m\u001b[37m\u001b[0m \u001b[1m1s\u001b[0m 2ms/step - accuracy: 0.0031 - loss: 0.5270 - val_accuracy: 0.0022 - val_loss: 0.5608\n",
            "Epoch 104/250\n",
            "\u001b[1m516/516\u001b[0m \u001b[32m━━━━━━━━━━━━━━━━━━━━\u001b[0m\u001b[37m\u001b[0m \u001b[1m1s\u001b[0m 3ms/step - accuracy: 0.0032 - loss: 0.5155 - val_accuracy: 0.0022 - val_loss: 0.5449\n",
            "Epoch 105/250\n",
            "\u001b[1m516/516\u001b[0m \u001b[32m━━━━━━━━━━━━━━━━━━━━\u001b[0m\u001b[37m\u001b[0m \u001b[1m1s\u001b[0m 2ms/step - accuracy: 0.0032 - loss: 0.5254 - val_accuracy: 0.0022 - val_loss: 0.5435\n",
            "Epoch 106/250\n",
            "\u001b[1m516/516\u001b[0m \u001b[32m━━━━━━━━━━━━━━━━━━━━\u001b[0m\u001b[37m\u001b[0m \u001b[1m1s\u001b[0m 2ms/step - accuracy: 0.0032 - loss: 0.5255 - val_accuracy: 0.0022 - val_loss: 0.5479\n",
            "Epoch 107/250\n",
            "\u001b[1m516/516\u001b[0m \u001b[32m━━━━━━━━━━━━━━━━━━━━\u001b[0m\u001b[37m\u001b[0m \u001b[1m3s\u001b[0m 3ms/step - accuracy: 0.0029 - loss: 0.5115 - val_accuracy: 0.0022 - val_loss: 0.5409\n",
            "Epoch 108/250\n",
            "\u001b[1m516/516\u001b[0m \u001b[32m━━━━━━━━━━━━━━━━━━━━\u001b[0m\u001b[37m\u001b[0m \u001b[1m1s\u001b[0m 2ms/step - accuracy: 0.0034 - loss: 0.5233 - val_accuracy: 0.0022 - val_loss: 0.5512\n",
            "Epoch 109/250\n",
            "\u001b[1m516/516\u001b[0m \u001b[32m━━━━━━━━━━━━━━━━━━━━\u001b[0m\u001b[37m\u001b[0m \u001b[1m1s\u001b[0m 2ms/step - accuracy: 0.0031 - loss: 0.5233 - val_accuracy: 0.0022 - val_loss: 0.5394\n",
            "Epoch 110/250\n",
            "\u001b[1m516/516\u001b[0m \u001b[32m━━━━━━━━━━━━━━━━━━━━\u001b[0m\u001b[37m\u001b[0m \u001b[1m1s\u001b[0m 2ms/step - accuracy: 0.0028 - loss: 0.5252 - val_accuracy: 0.0022 - val_loss: 0.5462\n",
            "Epoch 111/250\n",
            "\u001b[1m516/516\u001b[0m \u001b[32m━━━━━━━━━━━━━━━━━━━━\u001b[0m\u001b[37m\u001b[0m \u001b[1m2s\u001b[0m 2ms/step - accuracy: 0.0031 - loss: 0.5309 - val_accuracy: 0.0022 - val_loss: 0.5365\n",
            "Epoch 112/250\n",
            "\u001b[1m516/516\u001b[0m \u001b[32m━━━━━━━━━━━━━━━━━━━━\u001b[0m\u001b[37m\u001b[0m \u001b[1m2s\u001b[0m 2ms/step - accuracy: 0.0029 - loss: 0.5283 - val_accuracy: 0.0022 - val_loss: 0.5342\n",
            "Epoch 113/250\n",
            "\u001b[1m516/516\u001b[0m \u001b[32m━━━━━━━━━━━━━━━━━━━━\u001b[0m\u001b[37m\u001b[0m \u001b[1m2s\u001b[0m 3ms/step - accuracy: 0.0028 - loss: 0.5107 - val_accuracy: 0.0022 - val_loss: 0.5327\n",
            "Epoch 114/250\n",
            "\u001b[1m516/516\u001b[0m \u001b[32m━━━━━━━━━━━━━━━━━━━━\u001b[0m\u001b[37m\u001b[0m \u001b[1m2s\u001b[0m 2ms/step - accuracy: 0.0028 - loss: 0.5186 - val_accuracy: 0.0022 - val_loss: 0.5317\n",
            "Epoch 115/250\n",
            "\u001b[1m516/516\u001b[0m \u001b[32m━━━━━━━━━━━━━━━━━━━━\u001b[0m\u001b[37m\u001b[0m \u001b[1m3s\u001b[0m 2ms/step - accuracy: 0.0038 - loss: 0.5104 - val_accuracy: 0.0022 - val_loss: 0.5324\n",
            "Epoch 116/250\n",
            "\u001b[1m516/516\u001b[0m \u001b[32m━━━━━━━━━━━━━━━━━━━━\u001b[0m\u001b[37m\u001b[0m \u001b[1m1s\u001b[0m 2ms/step - accuracy: 0.0040 - loss: 0.5175 - val_accuracy: 0.0022 - val_loss: 0.5317\n",
            "Epoch 117/250\n",
            "\u001b[1m516/516\u001b[0m \u001b[32m━━━━━━━━━━━━━━━━━━━━\u001b[0m\u001b[37m\u001b[0m \u001b[1m1s\u001b[0m 2ms/step - accuracy: 0.0026 - loss: 0.5002 - val_accuracy: 0.0022 - val_loss: 0.5328\n",
            "Epoch 118/250\n",
            "\u001b[1m516/516\u001b[0m \u001b[32m━━━━━━━━━━━━━━━━━━━━\u001b[0m\u001b[37m\u001b[0m \u001b[1m1s\u001b[0m 2ms/step - accuracy: 0.0036 - loss: 0.5155 - val_accuracy: 0.0022 - val_loss: 0.5629\n",
            "Epoch 119/250\n",
            "\u001b[1m516/516\u001b[0m \u001b[32m━━━━━━━━━━━━━━━━━━━━\u001b[0m\u001b[37m\u001b[0m \u001b[1m1s\u001b[0m 2ms/step - accuracy: 0.0028 - loss: 0.5208 - val_accuracy: 0.0022 - val_loss: 0.5288\n",
            "Epoch 120/250\n",
            "\u001b[1m516/516\u001b[0m \u001b[32m━━━━━━━━━━━━━━━━━━━━\u001b[0m\u001b[37m\u001b[0m \u001b[1m3s\u001b[0m 3ms/step - accuracy: 0.0022 - loss: 0.5210 - val_accuracy: 0.0022 - val_loss: 0.5376\n",
            "Epoch 121/250\n",
            "\u001b[1m516/516\u001b[0m \u001b[32m━━━━━━━━━━━━━━━━━━━━\u001b[0m\u001b[37m\u001b[0m \u001b[1m2s\u001b[0m 2ms/step - accuracy: 0.0033 - loss: 0.5169 - val_accuracy: 0.0022 - val_loss: 0.5274\n",
            "Epoch 122/250\n",
            "\u001b[1m516/516\u001b[0m \u001b[32m━━━━━━━━━━━━━━━━━━━━\u001b[0m\u001b[37m\u001b[0m \u001b[1m3s\u001b[0m 3ms/step - accuracy: 0.0032 - loss: 0.5016 - val_accuracy: 0.0022 - val_loss: 0.5297\n",
            "Epoch 123/250\n",
            "\u001b[1m516/516\u001b[0m \u001b[32m━━━━━━━━━━━━━━━━━━━━\u001b[0m\u001b[37m\u001b[0m \u001b[1m1s\u001b[0m 2ms/step - accuracy: 0.0028 - loss: 0.4887 - val_accuracy: 0.0022 - val_loss: 0.5274\n",
            "Epoch 124/250\n",
            "\u001b[1m516/516\u001b[0m \u001b[32m━━━━━━━━━━━━━━━━━━━━\u001b[0m\u001b[37m\u001b[0m \u001b[1m1s\u001b[0m 2ms/step - accuracy: 0.0033 - loss: 0.5143 - val_accuracy: 0.0022 - val_loss: 0.5275\n",
            "Epoch 125/250\n",
            "\u001b[1m516/516\u001b[0m \u001b[32m━━━━━━━━━━━━━━━━━━━━\u001b[0m\u001b[37m\u001b[0m \u001b[1m1s\u001b[0m 2ms/step - accuracy: 0.0028 - loss: 0.5157 - val_accuracy: 0.0022 - val_loss: 0.5247\n",
            "Epoch 126/250\n",
            "\u001b[1m516/516\u001b[0m \u001b[32m━━━━━━━━━━━━━━━━━━━━\u001b[0m\u001b[37m\u001b[0m \u001b[1m1s\u001b[0m 3ms/step - accuracy: 0.0031 - loss: 0.4859 - val_accuracy: 0.0022 - val_loss: 0.5273\n",
            "Epoch 127/250\n",
            "\u001b[1m516/516\u001b[0m \u001b[32m━━━━━━━━━━━━━━━━━━━━\u001b[0m\u001b[37m\u001b[0m \u001b[1m1s\u001b[0m 3ms/step - accuracy: 0.0027 - loss: 0.4936 - val_accuracy: 0.0022 - val_loss: 0.5201\n",
            "Epoch 128/250\n",
            "\u001b[1m516/516\u001b[0m \u001b[32m━━━━━━━━━━━━━━━━━━━━\u001b[0m\u001b[37m\u001b[0m \u001b[1m2s\u001b[0m 3ms/step - accuracy: 0.0031 - loss: 0.4982 - val_accuracy: 0.0022 - val_loss: 0.5195\n",
            "Epoch 129/250\n",
            "\u001b[1m516/516\u001b[0m \u001b[32m━━━━━━━━━━━━━━━━━━━━\u001b[0m\u001b[37m\u001b[0m \u001b[1m2s\u001b[0m 2ms/step - accuracy: 0.0028 - loss: 0.4995 - val_accuracy: 0.0022 - val_loss: 0.5187\n",
            "Epoch 130/250\n",
            "\u001b[1m516/516\u001b[0m \u001b[32m━━━━━━━━━━━━━━━━━━━━\u001b[0m\u001b[37m\u001b[0m \u001b[1m1s\u001b[0m 2ms/step - accuracy: 0.0031 - loss: 0.4940 - val_accuracy: 0.0022 - val_loss: 0.5189\n",
            "Epoch 131/250\n",
            "\u001b[1m516/516\u001b[0m \u001b[32m━━━━━━━━━━━━━━━━━━━━\u001b[0m\u001b[37m\u001b[0m \u001b[1m1s\u001b[0m 2ms/step - accuracy: 0.0031 - loss: 0.4904 - val_accuracy: 0.0022 - val_loss: 0.5283\n",
            "Epoch 132/250\n",
            "\u001b[1m516/516\u001b[0m \u001b[32m━━━━━━━━━━━━━━━━━━━━\u001b[0m\u001b[37m\u001b[0m \u001b[1m2s\u001b[0m 2ms/step - accuracy: 0.0025 - loss: 0.5036 - val_accuracy: 0.0022 - val_loss: 0.5178\n",
            "Epoch 133/250\n",
            "\u001b[1m516/516\u001b[0m \u001b[32m━━━━━━━━━━━━━━━━━━━━\u001b[0m\u001b[37m\u001b[0m \u001b[1m1s\u001b[0m 2ms/step - accuracy: 0.0024 - loss: 0.4989 - val_accuracy: 0.0022 - val_loss: 0.5214\n",
            "Epoch 134/250\n",
            "\u001b[1m516/516\u001b[0m \u001b[32m━━━━━━━━━━━━━━━━━━━━\u001b[0m\u001b[37m\u001b[0m \u001b[1m2s\u001b[0m 4ms/step - accuracy: 0.0030 - loss: 0.4926 - val_accuracy: 0.0022 - val_loss: 0.5169\n",
            "Epoch 135/250\n",
            "\u001b[1m516/516\u001b[0m \u001b[32m━━━━━━━━━━━━━━━━━━━━\u001b[0m\u001b[37m\u001b[0m \u001b[1m2s\u001b[0m 2ms/step - accuracy: 0.0033 - loss: 0.4825 - val_accuracy: 0.0022 - val_loss: 0.5169\n",
            "Epoch 136/250\n",
            "\u001b[1m516/516\u001b[0m \u001b[32m━━━━━━━━━━━━━━━━━━━━\u001b[0m\u001b[37m\u001b[0m \u001b[1m1s\u001b[0m 2ms/step - accuracy: 0.0033 - loss: 0.5076 - val_accuracy: 0.0022 - val_loss: 0.5220\n",
            "Epoch 137/250\n",
            "\u001b[1m516/516\u001b[0m \u001b[32m━━━━━━━━━━━━━━━━━━━━\u001b[0m\u001b[37m\u001b[0m \u001b[1m1s\u001b[0m 3ms/step - accuracy: 0.0031 - loss: 0.4842 - val_accuracy: 0.0022 - val_loss: 0.5261\n",
            "Epoch 138/250\n",
            "\u001b[1m516/516\u001b[0m \u001b[32m━━━━━━━━━━━━━━━━━━━━\u001b[0m\u001b[37m\u001b[0m \u001b[1m3s\u001b[0m 3ms/step - accuracy: 0.0032 - loss: 0.5058 - val_accuracy: 0.0022 - val_loss: 0.5242\n",
            "Epoch 139/250\n",
            "\u001b[1m516/516\u001b[0m \u001b[32m━━━━━━━━━━━━━━━━━━━━\u001b[0m\u001b[37m\u001b[0m \u001b[1m2s\u001b[0m 2ms/step - accuracy: 0.0029 - loss: 0.4884 - val_accuracy: 0.0022 - val_loss: 0.5127\n",
            "Epoch 140/250\n",
            "\u001b[1m516/516\u001b[0m \u001b[32m━━━━━━━━━━━━━━━━━━━━\u001b[0m\u001b[37m\u001b[0m \u001b[1m1s\u001b[0m 2ms/step - accuracy: 0.0033 - loss: 0.4943 - val_accuracy: 0.0022 - val_loss: 0.5148\n",
            "Epoch 141/250\n",
            "\u001b[1m516/516\u001b[0m \u001b[32m━━━━━━━━━━━━━━━━━━━━\u001b[0m\u001b[37m\u001b[0m \u001b[1m3s\u001b[0m 3ms/step - accuracy: 0.0035 - loss: 0.5106 - val_accuracy: 0.0022 - val_loss: 0.5122\n",
            "Epoch 142/250\n",
            "\u001b[1m516/516\u001b[0m \u001b[32m━━━━━━━━━━━━━━━━━━━━\u001b[0m\u001b[37m\u001b[0m \u001b[1m2s\u001b[0m 2ms/step - accuracy: 0.0030 - loss: 0.4780 - val_accuracy: 0.0022 - val_loss: 0.5163\n",
            "Epoch 143/250\n",
            "\u001b[1m516/516\u001b[0m \u001b[32m━━━━━━━━━━━━━━━━━━━━\u001b[0m\u001b[37m\u001b[0m \u001b[1m2s\u001b[0m 2ms/step - accuracy: 0.0032 - loss: 0.4891 - val_accuracy: 0.0022 - val_loss: 0.5127\n",
            "Epoch 144/250\n",
            "\u001b[1m516/516\u001b[0m \u001b[32m━━━━━━━━━━━━━━━━━━━━\u001b[0m\u001b[37m\u001b[0m \u001b[1m1s\u001b[0m 2ms/step - accuracy: 0.0032 - loss: 0.5010 - val_accuracy: 0.0022 - val_loss: 0.5186\n",
            "Epoch 145/250\n",
            "\u001b[1m516/516\u001b[0m \u001b[32m━━━━━━━━━━━━━━━━━━━━\u001b[0m\u001b[37m\u001b[0m \u001b[1m1s\u001b[0m 2ms/step - accuracy: 0.0023 - loss: 0.4924 - val_accuracy: 0.0022 - val_loss: 0.5106\n",
            "Epoch 146/250\n",
            "\u001b[1m516/516\u001b[0m \u001b[32m━━━━━━━━━━━━━━━━━━━━\u001b[0m\u001b[37m\u001b[0m \u001b[1m1s\u001b[0m 2ms/step - accuracy: 0.0033 - loss: 0.5018 - val_accuracy: 0.0022 - val_loss: 0.5096\n",
            "Epoch 147/250\n",
            "\u001b[1m516/516\u001b[0m \u001b[32m━━━━━━━━━━━━━━━━━━━━\u001b[0m\u001b[37m\u001b[0m \u001b[1m2s\u001b[0m 4ms/step - accuracy: 0.0038 - loss: 0.4918 - val_accuracy: 0.0022 - val_loss: 0.5190\n",
            "Epoch 148/250\n",
            "\u001b[1m516/516\u001b[0m \u001b[32m━━━━━━━━━━━━━━━━━━━━\u001b[0m\u001b[37m\u001b[0m \u001b[1m2s\u001b[0m 3ms/step - accuracy: 0.0032 - loss: 0.4853 - val_accuracy: 0.0022 - val_loss: 0.5229\n",
            "Epoch 149/250\n",
            "\u001b[1m516/516\u001b[0m \u001b[32m━━━━━━━━━━━━━━━━━━━━\u001b[0m\u001b[37m\u001b[0m \u001b[1m2s\u001b[0m 2ms/step - accuracy: 0.0029 - loss: 0.4873 - val_accuracy: 0.0022 - val_loss: 0.5076\n",
            "Epoch 150/250\n",
            "\u001b[1m516/516\u001b[0m \u001b[32m━━━━━━━━━━━━━━━━━━━━\u001b[0m\u001b[37m\u001b[0m \u001b[1m1s\u001b[0m 2ms/step - accuracy: 0.0032 - loss: 0.5037 - val_accuracy: 0.0022 - val_loss: 0.5110\n",
            "Epoch 151/250\n",
            "\u001b[1m516/516\u001b[0m \u001b[32m━━━━━━━━━━━━━━━━━━━━\u001b[0m\u001b[37m\u001b[0m \u001b[1m1s\u001b[0m 2ms/step - accuracy: 0.0034 - loss: 0.4809 - val_accuracy: 0.0022 - val_loss: 0.5067\n",
            "Epoch 152/250\n",
            "\u001b[1m516/516\u001b[0m \u001b[32m━━━━━━━━━━━━━━━━━━━━\u001b[0m\u001b[37m\u001b[0m \u001b[1m2s\u001b[0m 2ms/step - accuracy: 0.0029 - loss: 0.4690 - val_accuracy: 0.0022 - val_loss: 0.5116\n",
            "Epoch 153/250\n",
            "\u001b[1m516/516\u001b[0m \u001b[32m━━━━━━━━━━━━━━━━━━━━\u001b[0m\u001b[37m\u001b[0m \u001b[1m1s\u001b[0m 2ms/step - accuracy: 0.0030 - loss: 0.4724 - val_accuracy: 0.0022 - val_loss: 0.5102\n",
            "Epoch 154/250\n",
            "\u001b[1m516/516\u001b[0m \u001b[32m━━━━━━━━━━━━━━━━━━━━\u001b[0m\u001b[37m\u001b[0m \u001b[1m3s\u001b[0m 3ms/step - accuracy: 0.0027 - loss: 0.4854 - val_accuracy: 0.0022 - val_loss: 0.5140\n",
            "Epoch 155/250\n",
            "\u001b[1m516/516\u001b[0m \u001b[32m━━━━━━━━━━━━━━━━━━━━\u001b[0m\u001b[37m\u001b[0m \u001b[1m2s\u001b[0m 2ms/step - accuracy: 0.0026 - loss: 0.4941 - val_accuracy: 0.0022 - val_loss: 0.5098\n",
            "Epoch 156/250\n",
            "\u001b[1m516/516\u001b[0m \u001b[32m━━━━━━━━━━━━━━━━━━━━\u001b[0m\u001b[37m\u001b[0m \u001b[1m1s\u001b[0m 2ms/step - accuracy: 0.0036 - loss: 0.4804 - val_accuracy: 0.0022 - val_loss: 0.5054\n",
            "Epoch 157/250\n",
            "\u001b[1m516/516\u001b[0m \u001b[32m━━━━━━━━━━━━━━━━━━━━\u001b[0m\u001b[37m\u001b[0m \u001b[1m1s\u001b[0m 2ms/step - accuracy: 0.0040 - loss: 0.4866 - val_accuracy: 0.0022 - val_loss: 0.5067\n",
            "Epoch 158/250\n",
            "\u001b[1m516/516\u001b[0m \u001b[32m━━━━━━━━━━━━━━━━━━━━\u001b[0m\u001b[37m\u001b[0m \u001b[1m2s\u001b[0m 2ms/step - accuracy: 0.0024 - loss: 0.4666 - val_accuracy: 0.0022 - val_loss: 0.5252\n",
            "Epoch 159/250\n",
            "\u001b[1m516/516\u001b[0m \u001b[32m━━━━━━━━━━━━━━━━━━━━\u001b[0m\u001b[37m\u001b[0m \u001b[1m1s\u001b[0m 3ms/step - accuracy: 0.0038 - loss: 0.5031 - val_accuracy: 0.0022 - val_loss: 0.5056\n",
            "Epoch 160/250\n",
            "\u001b[1m516/516\u001b[0m \u001b[32m━━━━━━━━━━━━━━━━━━━━\u001b[0m\u001b[37m\u001b[0m \u001b[1m3s\u001b[0m 4ms/step - accuracy: 0.0030 - loss: 0.4866 - val_accuracy: 0.0022 - val_loss: 0.5079\n",
            "Epoch 161/250\n",
            "\u001b[1m516/516\u001b[0m \u001b[32m━━━━━━━━━━━━━━━━━━━━\u001b[0m\u001b[37m\u001b[0m \u001b[1m2s\u001b[0m 2ms/step - accuracy: 0.0034 - loss: 0.4874 - val_accuracy: 0.0022 - val_loss: 0.5028\n",
            "Epoch 162/250\n",
            "\u001b[1m516/516\u001b[0m \u001b[32m━━━━━━━━━━━━━━━━━━━━\u001b[0m\u001b[37m\u001b[0m \u001b[1m1s\u001b[0m 2ms/step - accuracy: 0.0031 - loss: 0.4804 - val_accuracy: 0.0022 - val_loss: 0.5024\n",
            "Epoch 163/250\n",
            "\u001b[1m516/516\u001b[0m \u001b[32m━━━━━━━━━━━━━━━━━━━━\u001b[0m\u001b[37m\u001b[0m \u001b[1m1s\u001b[0m 2ms/step - accuracy: 0.0033 - loss: 0.4716 - val_accuracy: 0.0022 - val_loss: 0.5021\n",
            "Epoch 164/250\n",
            "\u001b[1m516/516\u001b[0m \u001b[32m━━━━━━━━━━━━━━━━━━━━\u001b[0m\u001b[37m\u001b[0m \u001b[1m3s\u001b[0m 2ms/step - accuracy: 0.0029 - loss: 0.4794 - val_accuracy: 0.0022 - val_loss: 0.5024\n",
            "Epoch 165/250\n",
            "\u001b[1m516/516\u001b[0m \u001b[32m━━━━━━━━━━━━━━━━━━━━\u001b[0m\u001b[37m\u001b[0m \u001b[1m3s\u001b[0m 2ms/step - accuracy: 0.0037 - loss: 0.4752 - val_accuracy: 0.0022 - val_loss: 0.5031\n",
            "Epoch 166/250\n",
            "\u001b[1m516/516\u001b[0m \u001b[32m━━━━━━━━━━━━━━━━━━━━\u001b[0m\u001b[37m\u001b[0m \u001b[1m3s\u001b[0m 3ms/step - accuracy: 0.0038 - loss: 0.4822 - val_accuracy: 0.0022 - val_loss: 0.5003\n",
            "Epoch 167/250\n",
            "\u001b[1m516/516\u001b[0m \u001b[32m━━━━━━━━━━━━━━━━━━━━\u001b[0m\u001b[37m\u001b[0m \u001b[1m1s\u001b[0m 2ms/step - accuracy: 0.0034 - loss: 0.4776 - val_accuracy: 0.0022 - val_loss: 0.5025\n",
            "Epoch 168/250\n",
            "\u001b[1m516/516\u001b[0m \u001b[32m━━━━━━━━━━━━━━━━━━━━\u001b[0m\u001b[37m\u001b[0m \u001b[1m1s\u001b[0m 2ms/step - accuracy: 0.0037 - loss: 0.4671 - val_accuracy: 0.0022 - val_loss: 0.5000\n",
            "Epoch 169/250\n",
            "\u001b[1m516/516\u001b[0m \u001b[32m━━━━━━━━━━━━━━━━━━━━\u001b[0m\u001b[37m\u001b[0m \u001b[1m1s\u001b[0m 3ms/step - accuracy: 0.0025 - loss: 0.4777 - val_accuracy: 0.0022 - val_loss: 0.5033\n",
            "Epoch 170/250\n",
            "\u001b[1m516/516\u001b[0m \u001b[32m━━━━━━━━━━━━━━━━━━━━\u001b[0m\u001b[37m\u001b[0m \u001b[1m2s\u001b[0m 2ms/step - accuracy: 0.0045 - loss: 0.4821 - val_accuracy: 0.0022 - val_loss: 0.5003\n",
            "Epoch 171/250\n",
            "\u001b[1m516/516\u001b[0m \u001b[32m━━━━━━━━━━━━━━━━━━━━\u001b[0m\u001b[37m\u001b[0m \u001b[1m1s\u001b[0m 2ms/step - accuracy: 0.0028 - loss: 0.4792 - val_accuracy: 0.0022 - val_loss: 0.5063\n",
            "Epoch 172/250\n",
            "\u001b[1m516/516\u001b[0m \u001b[32m━━━━━━━━━━━━━━━━━━━━\u001b[0m\u001b[37m\u001b[0m \u001b[1m1s\u001b[0m 2ms/step - accuracy: 0.0029 - loss: 0.4817 - val_accuracy: 0.0022 - val_loss: 0.5000\n",
            "Epoch 173/250\n",
            "\u001b[1m516/516\u001b[0m \u001b[32m━━━━━━━━━━━━━━━━━━━━\u001b[0m\u001b[37m\u001b[0m \u001b[1m1s\u001b[0m 3ms/step - accuracy: 0.0025 - loss: 0.4711 - val_accuracy: 0.0022 - val_loss: 0.5020\n",
            "Epoch 174/250\n",
            "\u001b[1m516/516\u001b[0m \u001b[32m━━━━━━━━━━━━━━━━━━━━\u001b[0m\u001b[37m\u001b[0m \u001b[1m2s\u001b[0m 4ms/step - accuracy: 0.0036 - loss: 0.4641 - val_accuracy: 0.0022 - val_loss: 0.5003\n",
            "Epoch 175/250\n",
            "\u001b[1m516/516\u001b[0m \u001b[32m━━━━━━━━━━━━━━━━━━━━\u001b[0m\u001b[37m\u001b[0m \u001b[1m1s\u001b[0m 3ms/step - accuracy: 0.0034 - loss: 0.4753 - val_accuracy: 0.0022 - val_loss: 0.4988\n",
            "Epoch 176/250\n",
            "\u001b[1m516/516\u001b[0m \u001b[32m━━━━━━━━━━━━━━━━━━━━\u001b[0m\u001b[37m\u001b[0m \u001b[1m1s\u001b[0m 2ms/step - accuracy: 0.0038 - loss: 0.4797 - val_accuracy: 0.0022 - val_loss: 0.5036\n",
            "Epoch 177/250\n",
            "\u001b[1m516/516\u001b[0m \u001b[32m━━━━━━━━━━━━━━━━━━━━\u001b[0m\u001b[37m\u001b[0m \u001b[1m3s\u001b[0m 2ms/step - accuracy: 0.0031 - loss: 0.4845 - val_accuracy: 0.0022 - val_loss: 0.4984\n",
            "Epoch 178/250\n",
            "\u001b[1m516/516\u001b[0m \u001b[32m━━━━━━━━━━━━━━━━━━━━\u001b[0m\u001b[37m\u001b[0m \u001b[1m1s\u001b[0m 2ms/step - accuracy: 0.0038 - loss: 0.4807 - val_accuracy: 0.0022 - val_loss: 0.5576\n",
            "Epoch 179/250\n",
            "\u001b[1m516/516\u001b[0m \u001b[32m━━━━━━━━━━━━━━━━━━━━\u001b[0m\u001b[37m\u001b[0m \u001b[1m1s\u001b[0m 2ms/step - accuracy: 0.0025 - loss: 0.4686 - val_accuracy: 0.0022 - val_loss: 0.5104\n",
            "Epoch 180/250\n",
            "\u001b[1m516/516\u001b[0m \u001b[32m━━━━━━━━━━━━━━━━━━━━\u001b[0m\u001b[37m\u001b[0m \u001b[1m3s\u001b[0m 3ms/step - accuracy: 0.0033 - loss: 0.4771 - val_accuracy: 0.0022 - val_loss: 0.5024\n",
            "Epoch 181/250\n",
            "\u001b[1m516/516\u001b[0m \u001b[32m━━━━━━━━━━━━━━━━━━━━\u001b[0m\u001b[37m\u001b[0m \u001b[1m3s\u001b[0m 3ms/step - accuracy: 0.0029 - loss: 0.4667 - val_accuracy: 0.0022 - val_loss: 0.5049\n",
            "Epoch 182/250\n",
            "\u001b[1m516/516\u001b[0m \u001b[32m━━━━━━━━━━━━━━━━━━━━\u001b[0m\u001b[37m\u001b[0m \u001b[1m1s\u001b[0m 3ms/step - accuracy: 0.0045 - loss: 0.4850 - val_accuracy: 0.0022 - val_loss: 0.5042\n",
            "Epoch 183/250\n",
            "\u001b[1m516/516\u001b[0m \u001b[32m━━━━━━━━━━━━━━━━━━━━\u001b[0m\u001b[37m\u001b[0m \u001b[1m3s\u001b[0m 3ms/step - accuracy: 0.0033 - loss: 0.5001 - val_accuracy: 0.0022 - val_loss: 0.4957\n",
            "Epoch 184/250\n",
            "\u001b[1m516/516\u001b[0m \u001b[32m━━━━━━━━━━━━━━━━━━━━\u001b[0m\u001b[37m\u001b[0m \u001b[1m3s\u001b[0m 3ms/step - accuracy: 0.0034 - loss: 0.4909 - val_accuracy: 0.0022 - val_loss: 0.4975\n",
            "Epoch 185/250\n",
            "\u001b[1m516/516\u001b[0m \u001b[32m━━━━━━━━━━━━━━━━━━━━\u001b[0m\u001b[37m\u001b[0m \u001b[1m1s\u001b[0m 2ms/step - accuracy: 0.0037 - loss: 0.4852 - val_accuracy: 0.0022 - val_loss: 0.4970\n",
            "Epoch 186/250\n",
            "\u001b[1m516/516\u001b[0m \u001b[32m━━━━━━━━━━━━━━━━━━━━\u001b[0m\u001b[37m\u001b[0m \u001b[1m1s\u001b[0m 3ms/step - accuracy: 0.0038 - loss: 0.4924 - val_accuracy: 0.0022 - val_loss: 0.4957\n",
            "Epoch 187/250\n",
            "\u001b[1m516/516\u001b[0m \u001b[32m━━━━━━━━━━━━━━━━━━━━\u001b[0m\u001b[37m\u001b[0m \u001b[1m3s\u001b[0m 4ms/step - accuracy: 0.0020 - loss: 0.4870 - val_accuracy: 0.0022 - val_loss: 0.4954\n",
            "Epoch 188/250\n",
            "\u001b[1m516/516\u001b[0m \u001b[32m━━━━━━━━━━━━━━━━━━━━\u001b[0m\u001b[37m\u001b[0m \u001b[1m1s\u001b[0m 2ms/step - accuracy: 0.0035 - loss: 0.4655 - val_accuracy: 0.0022 - val_loss: 0.5038\n",
            "Epoch 189/250\n",
            "\u001b[1m516/516\u001b[0m \u001b[32m━━━━━━━━━━━━━━━━━━━━\u001b[0m\u001b[37m\u001b[0m \u001b[1m1s\u001b[0m 2ms/step - accuracy: 0.0040 - loss: 0.4927 - val_accuracy: 0.0022 - val_loss: 0.4962\n",
            "Epoch 190/250\n",
            "\u001b[1m516/516\u001b[0m \u001b[32m━━━━━━━━━━━━━━━━━━━━\u001b[0m\u001b[37m\u001b[0m \u001b[1m1s\u001b[0m 2ms/step - accuracy: 0.0028 - loss: 0.4841 - val_accuracy: 0.0022 - val_loss: 0.4960\n",
            "Epoch 191/250\n",
            "\u001b[1m516/516\u001b[0m \u001b[32m━━━━━━━━━━━━━━━━━━━━\u001b[0m\u001b[37m\u001b[0m \u001b[1m1s\u001b[0m 2ms/step - accuracy: 0.0022 - loss: 0.4825 - val_accuracy: 0.0022 - val_loss: 0.4947\n",
            "Epoch 192/250\n",
            "\u001b[1m516/516\u001b[0m \u001b[32m━━━━━━━━━━━━━━━━━━━━\u001b[0m\u001b[37m\u001b[0m \u001b[1m1s\u001b[0m 3ms/step - accuracy: 0.0033 - loss: 0.4813 - val_accuracy: 0.0022 - val_loss: 0.4941\n",
            "Epoch 193/250\n",
            "\u001b[1m516/516\u001b[0m \u001b[32m━━━━━━━━━━━━━━━━━━━━\u001b[0m\u001b[37m\u001b[0m \u001b[1m1s\u001b[0m 2ms/step - accuracy: 0.0038 - loss: 0.4766 - val_accuracy: 0.0022 - val_loss: 0.4954\n",
            "Epoch 194/250\n",
            "\u001b[1m516/516\u001b[0m \u001b[32m━━━━━━━━━━━━━━━━━━━━\u001b[0m\u001b[37m\u001b[0m \u001b[1m1s\u001b[0m 2ms/step - accuracy: 0.0035 - loss: 0.4808 - val_accuracy: 0.0022 - val_loss: 0.4948\n",
            "Epoch 195/250\n",
            "\u001b[1m516/516\u001b[0m \u001b[32m━━━━━━━━━━━━━━━━━━━━\u001b[0m\u001b[37m\u001b[0m \u001b[1m2s\u001b[0m 4ms/step - accuracy: 0.0039 - loss: 0.4730 - val_accuracy: 0.0022 - val_loss: 0.5035\n",
            "Epoch 196/250\n",
            "\u001b[1m516/516\u001b[0m \u001b[32m━━━━━━━━━━━━━━━━━━━━\u001b[0m\u001b[37m\u001b[0m \u001b[1m2s\u001b[0m 3ms/step - accuracy: 0.0033 - loss: 0.5015 - val_accuracy: 0.0022 - val_loss: 0.4935\n",
            "Epoch 197/250\n",
            "\u001b[1m516/516\u001b[0m \u001b[32m━━━━━━━━━━━━━━━━━━━━\u001b[0m\u001b[37m\u001b[0m \u001b[1m1s\u001b[0m 2ms/step - accuracy: 0.0037 - loss: 0.4694 - val_accuracy: 0.0022 - val_loss: 0.4932\n",
            "Epoch 198/250\n",
            "\u001b[1m516/516\u001b[0m \u001b[32m━━━━━━━━━━━━━━━━━━━━\u001b[0m\u001b[37m\u001b[0m \u001b[1m1s\u001b[0m 2ms/step - accuracy: 0.0033 - loss: 0.4750 - val_accuracy: 0.0022 - val_loss: 0.4960\n",
            "Epoch 199/250\n",
            "\u001b[1m516/516\u001b[0m \u001b[32m━━━━━━━━━━━━━━━━━━━━\u001b[0m\u001b[37m\u001b[0m \u001b[1m1s\u001b[0m 2ms/step - accuracy: 0.0036 - loss: 0.4536 - val_accuracy: 0.0022 - val_loss: 0.4947\n",
            "Epoch 200/250\n",
            "\u001b[1m516/516\u001b[0m \u001b[32m━━━━━━━━━━━━━━━━━━━━\u001b[0m\u001b[37m\u001b[0m \u001b[1m1s\u001b[0m 2ms/step - accuracy: 0.0035 - loss: 0.4713 - val_accuracy: 0.0022 - val_loss: 0.4983\n",
            "Epoch 201/250\n",
            "\u001b[1m516/516\u001b[0m \u001b[32m━━━━━━━━━━━━━━━━━━━━\u001b[0m\u001b[37m\u001b[0m \u001b[1m1s\u001b[0m 2ms/step - accuracy: 0.0032 - loss: 0.4743 - val_accuracy: 0.0022 - val_loss: 0.4933\n",
            "Epoch 202/250\n",
            "\u001b[1m516/516\u001b[0m \u001b[32m━━━━━━━━━━━━━━━━━━━━\u001b[0m\u001b[37m\u001b[0m \u001b[1m1s\u001b[0m 3ms/step - accuracy: 0.0033 - loss: 0.4711 - val_accuracy: 0.0022 - val_loss: 0.4971\n",
            "Epoch 203/250\n",
            "\u001b[1m516/516\u001b[0m \u001b[32m━━━━━━━━━━━━━━━━━━━━\u001b[0m\u001b[37m\u001b[0m \u001b[1m3s\u001b[0m 3ms/step - accuracy: 0.0033 - loss: 0.4688 - val_accuracy: 0.0022 - val_loss: 0.4920\n",
            "Epoch 204/250\n",
            "\u001b[1m516/516\u001b[0m \u001b[32m━━━━━━━━━━━━━━━━━━━━\u001b[0m\u001b[37m\u001b[0m \u001b[1m2s\u001b[0m 3ms/step - accuracy: 0.0043 - loss: 0.4758 - val_accuracy: 0.0022 - val_loss: 0.4912\n",
            "Epoch 205/250\n",
            "\u001b[1m516/516\u001b[0m \u001b[32m━━━━━━━━━━━━━━━━━━━━\u001b[0m\u001b[37m\u001b[0m \u001b[1m2s\u001b[0m 3ms/step - accuracy: 0.0029 - loss: 0.4811 - val_accuracy: 0.0022 - val_loss: 0.4915\n",
            "Epoch 206/250\n",
            "\u001b[1m516/516\u001b[0m \u001b[32m━━━━━━━━━━━━━━━━━━━━\u001b[0m\u001b[37m\u001b[0m \u001b[1m1s\u001b[0m 2ms/step - accuracy: 0.0045 - loss: 0.4810 - val_accuracy: 0.0022 - val_loss: 0.4996\n",
            "Epoch 207/250\n",
            "\u001b[1m516/516\u001b[0m \u001b[32m━━━━━━━━━━━━━━━━━━━━\u001b[0m\u001b[37m\u001b[0m \u001b[1m1s\u001b[0m 3ms/step - accuracy: 0.0037 - loss: 0.4683 - val_accuracy: 0.0022 - val_loss: 0.4900\n",
            "Epoch 208/250\n",
            "\u001b[1m516/516\u001b[0m \u001b[32m━━━━━━━━━━━━━━━━━━━━\u001b[0m\u001b[37m\u001b[0m \u001b[1m2s\u001b[0m 2ms/step - accuracy: 0.0031 - loss: 0.4684 - val_accuracy: 0.0022 - val_loss: 0.4898\n",
            "Epoch 209/250\n",
            "\u001b[1m516/516\u001b[0m \u001b[32m━━━━━━━━━━━━━━━━━━━━\u001b[0m\u001b[37m\u001b[0m \u001b[1m1s\u001b[0m 2ms/step - accuracy: 0.0031 - loss: 0.4606 - val_accuracy: 0.0022 - val_loss: 0.5035\n",
            "Epoch 210/250\n",
            "\u001b[1m516/516\u001b[0m \u001b[32m━━━━━━━━━━━━━━━━━━━━\u001b[0m\u001b[37m\u001b[0m \u001b[1m1s\u001b[0m 3ms/step - accuracy: 0.0037 - loss: 0.4628 - val_accuracy: 0.0022 - val_loss: 0.4927\n",
            "Epoch 211/250\n",
            "\u001b[1m516/516\u001b[0m \u001b[32m━━━━━━━━━━━━━━━━━━━━\u001b[0m\u001b[37m\u001b[0m \u001b[1m2s\u001b[0m 4ms/step - accuracy: 0.0033 - loss: 0.4841 - val_accuracy: 0.0022 - val_loss: 0.4899\n",
            "Epoch 212/250\n",
            "\u001b[1m516/516\u001b[0m \u001b[32m━━━━━━━━━━━━━━━━━━━━\u001b[0m\u001b[37m\u001b[0m \u001b[1m2s\u001b[0m 3ms/step - accuracy: 0.0037 - loss: 0.4776 - val_accuracy: 0.0022 - val_loss: 0.4870\n",
            "Epoch 213/250\n",
            "\u001b[1m516/516\u001b[0m \u001b[32m━━━━━━━━━━━━━━━━━━━━\u001b[0m\u001b[37m\u001b[0m \u001b[1m1s\u001b[0m 3ms/step - accuracy: 0.0029 - loss: 0.4865 - val_accuracy: 0.0022 - val_loss: 0.4908\n",
            "Epoch 214/250\n",
            "\u001b[1m516/516\u001b[0m \u001b[32m━━━━━━━━━━━━━━━━━━━━\u001b[0m\u001b[37m\u001b[0m \u001b[1m1s\u001b[0m 2ms/step - accuracy: 0.0036 - loss: 0.4615 - val_accuracy: 0.0022 - val_loss: 0.4866\n",
            "Epoch 215/250\n",
            "\u001b[1m516/516\u001b[0m \u001b[32m━━━━━━━━━━━━━━━━━━━━\u001b[0m\u001b[37m\u001b[0m \u001b[1m1s\u001b[0m 2ms/step - accuracy: 0.0021 - loss: 0.4658 - val_accuracy: 0.0022 - val_loss: 0.4887\n",
            "Epoch 216/250\n",
            "\u001b[1m516/516\u001b[0m \u001b[32m━━━━━━━━━━━━━━━━━━━━\u001b[0m\u001b[37m\u001b[0m \u001b[1m1s\u001b[0m 3ms/step - accuracy: 0.0029 - loss: 0.4791 - val_accuracy: 0.0022 - val_loss: 0.4878\n",
            "Epoch 217/250\n",
            "\u001b[1m516/516\u001b[0m \u001b[32m━━━━━━━━━━━━━━━━━━━━\u001b[0m\u001b[37m\u001b[0m \u001b[1m2s\u001b[0m 2ms/step - accuracy: 0.0024 - loss: 0.4636 - val_accuracy: 0.0022 - val_loss: 0.4876\n",
            "Epoch 218/250\n",
            "\u001b[1m516/516\u001b[0m \u001b[32m━━━━━━━━━━━━━━━━━━━━\u001b[0m\u001b[37m\u001b[0m \u001b[1m1s\u001b[0m 3ms/step - accuracy: 0.0032 - loss: 0.4697 - val_accuracy: 0.0022 - val_loss: 0.4916\n",
            "Epoch 219/250\n",
            "\u001b[1m516/516\u001b[0m \u001b[32m━━━━━━━━━━━━━━━━━━━━\u001b[0m\u001b[37m\u001b[0m \u001b[1m3s\u001b[0m 3ms/step - accuracy: 0.0035 - loss: 0.4691 - val_accuracy: 0.0022 - val_loss: 0.4855\n",
            "Epoch 220/250\n",
            "\u001b[1m516/516\u001b[0m \u001b[32m━━━━━━━━━━━━━━━━━━━━\u001b[0m\u001b[37m\u001b[0m \u001b[1m1s\u001b[0m 2ms/step - accuracy: 0.0035 - loss: 0.4592 - val_accuracy: 0.0022 - val_loss: 0.4889\n",
            "Epoch 221/250\n",
            "\u001b[1m516/516\u001b[0m \u001b[32m━━━━━━━━━━━━━━━━━━━━\u001b[0m\u001b[37m\u001b[0m \u001b[1m1s\u001b[0m 3ms/step - accuracy: 0.0030 - loss: 0.4728 - val_accuracy: 0.0022 - val_loss: 0.4941\n",
            "Epoch 222/250\n",
            "\u001b[1m516/516\u001b[0m \u001b[32m━━━━━━━━━━━━━━━━━━━━\u001b[0m\u001b[37m\u001b[0m \u001b[1m1s\u001b[0m 2ms/step - accuracy: 0.0023 - loss: 0.4682 - val_accuracy: 0.0022 - val_loss: 0.4902\n",
            "Epoch 223/250\n",
            "\u001b[1m516/516\u001b[0m \u001b[32m━━━━━━━━━━━━━━━━━━━━\u001b[0m\u001b[37m\u001b[0m \u001b[1m1s\u001b[0m 2ms/step - accuracy: 0.0035 - loss: 0.4679 - val_accuracy: 0.0022 - val_loss: 0.4861\n",
            "Epoch 224/250\n",
            "\u001b[1m516/516\u001b[0m \u001b[32m━━━━━━━━━━━━━━━━━━━━\u001b[0m\u001b[37m\u001b[0m \u001b[1m1s\u001b[0m 2ms/step - accuracy: 0.0024 - loss: 0.4774 - val_accuracy: 0.0022 - val_loss: 0.4865\n",
            "Epoch 225/250\n",
            "\u001b[1m516/516\u001b[0m \u001b[32m━━━━━━━━━━━━━━━━━━━━\u001b[0m\u001b[37m\u001b[0m \u001b[1m3s\u001b[0m 3ms/step - accuracy: 0.0028 - loss: 0.4647 - val_accuracy: 0.0022 - val_loss: 0.5111\n",
            "Epoch 226/250\n",
            "\u001b[1m516/516\u001b[0m \u001b[32m━━━━━━━━━━━━━━━━━━━━\u001b[0m\u001b[37m\u001b[0m \u001b[1m3s\u001b[0m 3ms/step - accuracy: 0.0031 - loss: 0.4679 - val_accuracy: 0.0022 - val_loss: 0.4844\n",
            "Epoch 227/250\n",
            "\u001b[1m516/516\u001b[0m \u001b[32m━━━━━━━━━━━━━━━━━━━━\u001b[0m\u001b[37m\u001b[0m \u001b[1m2s\u001b[0m 3ms/step - accuracy: 0.0028 - loss: 0.4706 - val_accuracy: 0.0022 - val_loss: 0.4847\n",
            "Epoch 228/250\n",
            "\u001b[1m516/516\u001b[0m \u001b[32m━━━━━━━━━━━━━━━━━━━━\u001b[0m\u001b[37m\u001b[0m \u001b[1m3s\u001b[0m 2ms/step - accuracy: 0.0040 - loss: 0.4778 - val_accuracy: 0.0022 - val_loss: 0.4833\n",
            "Epoch 229/250\n",
            "\u001b[1m516/516\u001b[0m \u001b[32m━━━━━━━━━━━━━━━━━━━━\u001b[0m\u001b[37m\u001b[0m \u001b[1m3s\u001b[0m 3ms/step - accuracy: 0.0030 - loss: 0.4787 - val_accuracy: 0.0022 - val_loss: 0.4945\n",
            "Epoch 230/250\n",
            "\u001b[1m516/516\u001b[0m \u001b[32m━━━━━━━━━━━━━━━━━━━━\u001b[0m\u001b[37m\u001b[0m \u001b[1m3s\u001b[0m 4ms/step - accuracy: 0.0028 - loss: 0.4708 - val_accuracy: 0.0022 - val_loss: 0.4936\n",
            "Epoch 231/250\n",
            "\u001b[1m516/516\u001b[0m \u001b[32m━━━━━━━━━━━━━━━━━━━━\u001b[0m\u001b[37m\u001b[0m \u001b[1m2s\u001b[0m 3ms/step - accuracy: 0.0035 - loss: 0.4773 - val_accuracy: 0.0022 - val_loss: 0.4866\n",
            "Epoch 232/250\n",
            "\u001b[1m516/516\u001b[0m \u001b[32m━━━━━━━━━━━━━━━━━━━━\u001b[0m\u001b[37m\u001b[0m \u001b[1m3s\u001b[0m 3ms/step - accuracy: 0.0033 - loss: 0.4707 - val_accuracy: 0.0022 - val_loss: 0.5083\n",
            "Epoch 233/250\n",
            "\u001b[1m516/516\u001b[0m \u001b[32m━━━━━━━━━━━━━━━━━━━━\u001b[0m\u001b[37m\u001b[0m \u001b[1m2s\u001b[0m 2ms/step - accuracy: 0.0032 - loss: 0.4650 - val_accuracy: 0.0022 - val_loss: 0.4837\n",
            "Epoch 234/250\n",
            "\u001b[1m516/516\u001b[0m \u001b[32m━━━━━━━━━━━━━━━━━━━━\u001b[0m\u001b[37m\u001b[0m \u001b[1m1s\u001b[0m 2ms/step - accuracy: 0.0031 - loss: 0.4582 - val_accuracy: 0.0022 - val_loss: 0.4833\n",
            "Epoch 235/250\n",
            "\u001b[1m516/516\u001b[0m \u001b[32m━━━━━━━━━━━━━━━━━━━━\u001b[0m\u001b[37m\u001b[0m \u001b[1m1s\u001b[0m 2ms/step - accuracy: 0.0020 - loss: 0.4685 - val_accuracy: 0.0022 - val_loss: 0.4837\n",
            "Epoch 236/250\n",
            "\u001b[1m516/516\u001b[0m \u001b[32m━━━━━━━━━━━━━━━━━━━━\u001b[0m\u001b[37m\u001b[0m \u001b[1m1s\u001b[0m 2ms/step - accuracy: 0.0036 - loss: 0.4663 - val_accuracy: 0.0022 - val_loss: 0.4873\n",
            "Epoch 237/250\n",
            "\u001b[1m516/516\u001b[0m \u001b[32m━━━━━━━━━━━━━━━━━━━━\u001b[0m\u001b[37m\u001b[0m \u001b[1m2s\u001b[0m 4ms/step - accuracy: 0.0046 - loss: 0.4555 - val_accuracy: 0.0022 - val_loss: 0.5052\n",
            "Epoch 238/250\n",
            "\u001b[1m516/516\u001b[0m \u001b[32m━━━━━━━━━━━━━━━━━━━━\u001b[0m\u001b[37m\u001b[0m \u001b[1m2s\u001b[0m 3ms/step - accuracy: 0.0031 - loss: 0.4717 - val_accuracy: 0.0022 - val_loss: 0.4855\n",
            "Epoch 239/250\n",
            "\u001b[1m516/516\u001b[0m \u001b[32m━━━━━━━━━━━━━━━━━━━━\u001b[0m\u001b[37m\u001b[0m \u001b[1m1s\u001b[0m 2ms/step - accuracy: 0.0035 - loss: 0.4659 - val_accuracy: 0.0022 - val_loss: 0.4814\n",
            "Epoch 240/250\n",
            "\u001b[1m516/516\u001b[0m \u001b[32m━━━━━━━━━━━━━━━━━━━━\u001b[0m\u001b[37m\u001b[0m \u001b[1m1s\u001b[0m 2ms/step - accuracy: 0.0033 - loss: 0.4762 - val_accuracy: 0.0022 - val_loss: 0.4827\n",
            "Epoch 241/250\n",
            "\u001b[1m516/516\u001b[0m \u001b[32m━━━━━━━━━━━━━━━━━━━━\u001b[0m\u001b[37m\u001b[0m \u001b[1m3s\u001b[0m 3ms/step - accuracy: 0.0036 - loss: 0.4542 - val_accuracy: 0.0022 - val_loss: 0.4820\n",
            "Epoch 242/250\n",
            "\u001b[1m516/516\u001b[0m \u001b[32m━━━━━━━━━━━━━━━━━━━━\u001b[0m\u001b[37m\u001b[0m \u001b[1m3s\u001b[0m 2ms/step - accuracy: 0.0036 - loss: 0.4421 - val_accuracy: 0.0022 - val_loss: 0.4836\n",
            "Epoch 243/250\n",
            "\u001b[1m516/516\u001b[0m \u001b[32m━━━━━━━━━━━━━━━━━━━━\u001b[0m\u001b[37m\u001b[0m \u001b[1m3s\u001b[0m 4ms/step - accuracy: 0.0030 - loss: 0.4656 - val_accuracy: 0.0022 - val_loss: 0.4832\n",
            "Epoch 244/250\n",
            "\u001b[1m516/516\u001b[0m \u001b[32m━━━━━━━━━━━━━━━━━━━━\u001b[0m\u001b[37m\u001b[0m \u001b[1m2s\u001b[0m 3ms/step - accuracy: 0.0030 - loss: 0.4455 - val_accuracy: 0.0022 - val_loss: 0.4878\n",
            "Epoch 245/250\n",
            "\u001b[1m516/516\u001b[0m \u001b[32m━━━━━━━━━━━━━━━━━━━━\u001b[0m\u001b[37m\u001b[0m \u001b[1m2s\u001b[0m 2ms/step - accuracy: 0.0033 - loss: 0.4658 - val_accuracy: 0.0022 - val_loss: 0.4817\n",
            "Epoch 246/250\n",
            "\u001b[1m516/516\u001b[0m \u001b[32m━━━━━━━━━━━━━━━━━━━━\u001b[0m\u001b[37m\u001b[0m \u001b[1m1s\u001b[0m 3ms/step - accuracy: 0.0044 - loss: 0.4752 - val_accuracy: 0.0022 - val_loss: 0.4813\n",
            "Epoch 247/250\n",
            "\u001b[1m516/516\u001b[0m \u001b[32m━━━━━━━━━━━━━━━━━━━━\u001b[0m\u001b[37m\u001b[0m \u001b[1m2s\u001b[0m 2ms/step - accuracy: 0.0040 - loss: 0.4667 - val_accuracy: 0.0022 - val_loss: 0.4837\n",
            "Epoch 248/250\n",
            "\u001b[1m516/516\u001b[0m \u001b[32m━━━━━━━━━━━━━━━━━━━━\u001b[0m\u001b[37m\u001b[0m \u001b[1m1s\u001b[0m 2ms/step - accuracy: 0.0021 - loss: 0.4796 - val_accuracy: 0.0022 - val_loss: 0.4825\n",
            "Epoch 249/250\n",
            "\u001b[1m516/516\u001b[0m \u001b[32m━━━━━━━━━━━━━━━━━━━━\u001b[0m\u001b[37m\u001b[0m \u001b[1m2s\u001b[0m 3ms/step - accuracy: 0.0028 - loss: 0.4696 - val_accuracy: 0.0022 - val_loss: 0.4812\n",
            "Epoch 250/250\n",
            "\u001b[1m516/516\u001b[0m \u001b[32m━━━━━━━━━━━━━━━━━━━━\u001b[0m\u001b[37m\u001b[0m \u001b[1m2s\u001b[0m 3ms/step - accuracy: 0.0029 - loss: 0.4672 - val_accuracy: 0.0022 - val_loss: 0.4894\n"
          ]
        }
      ]
    },
    {
      "cell_type": "code",
      "source": [
        "test_loss, test_accuracy = model.evaluate(X_test, y_test, verbose=0)\n",
        "print(f\"Model Summary:\")\n",
        "model.summary()\n",
        "print(f\"\\nTest MSE: {test_loss:.4f}, Test accuracy: {test_accuracy:.4f}%\")\n",
        "\n",
        "\n",
        "plt.figure(figsize=(12, 5))\n",
        "plt.plot(history.history['loss'], label='Training Loss')\n",
        "plt.plot(history.history['val_loss'], label='Test Loss')\n",
        "plt.title('Model Loss Progression')\n",
        "plt.ylabel('Mean Squared Error')\n",
        "plt.xlabel('Epoch')\n",
        "plt.legend()\n",
        "plt.grid(True)\n",
        "plt.show()"
      ],
      "metadata": {
        "id": "BlIwBwLjkD3t",
        "colab": {
          "base_uri": "https://localhost:8080/",
          "height": 726
        },
        "outputId": "87ef84a8-fcf2-458f-e94e-748bdb0ff856"
      },
      "execution_count": 41,
      "outputs": [
        {
          "output_type": "stream",
          "name": "stdout",
          "text": [
            "Model Summary:\n"
          ]
        },
        {
          "output_type": "display_data",
          "data": {
            "text/plain": [
              "\u001b[1mModel: \"sequential_4\"\u001b[0m\n"
            ],
            "text/html": [
              "<pre style=\"white-space:pre;overflow-x:auto;line-height:normal;font-family:Menlo,'DejaVu Sans Mono',consolas,'Courier New',monospace\"><span style=\"font-weight: bold\">Model: \"sequential_4\"</span>\n",
              "</pre>\n"
            ]
          },
          "metadata": {}
        },
        {
          "output_type": "display_data",
          "data": {
            "text/plain": [
              "┏━━━━━━━━━━━━━━━━━━━━━━━━━━━━━━━━━┳━━━━━━━━━━━━━━━━━━━━━━━━┳━━━━━━━━━━━━━━━┓\n",
              "┃\u001b[1m \u001b[0m\u001b[1mLayer (type)                   \u001b[0m\u001b[1m \u001b[0m┃\u001b[1m \u001b[0m\u001b[1mOutput Shape          \u001b[0m\u001b[1m \u001b[0m┃\u001b[1m \u001b[0m\u001b[1m      Param #\u001b[0m\u001b[1m \u001b[0m┃\n",
              "┡━━━━━━━━━━━━━━━━━━━━━━━━━━━━━━━━━╇━━━━━━━━━━━━━━━━━━━━━━━━╇━━━━━━━━━━━━━━━┩\n",
              "│ dense_14 (\u001b[38;5;33mDense\u001b[0m)                │ (\u001b[38;5;45mNone\u001b[0m, \u001b[38;5;34m31\u001b[0m)             │           \u001b[38;5;34m279\u001b[0m │\n",
              "├─────────────────────────────────┼────────────────────────┼───────────────┤\n",
              "│ dense_15 (\u001b[38;5;33mDense\u001b[0m)                │ (\u001b[38;5;45mNone\u001b[0m, \u001b[38;5;34m1\u001b[0m)              │            \u001b[38;5;34m32\u001b[0m │\n",
              "└─────────────────────────────────┴────────────────────────┴───────────────┘\n"
            ],
            "text/html": [
              "<pre style=\"white-space:pre;overflow-x:auto;line-height:normal;font-family:Menlo,'DejaVu Sans Mono',consolas,'Courier New',monospace\">┏━━━━━━━━━━━━━━━━━━━━━━━━━━━━━━━━━┳━━━━━━━━━━━━━━━━━━━━━━━━┳━━━━━━━━━━━━━━━┓\n",
              "┃<span style=\"font-weight: bold\"> Layer (type)                    </span>┃<span style=\"font-weight: bold\"> Output Shape           </span>┃<span style=\"font-weight: bold\">       Param # </span>┃\n",
              "┡━━━━━━━━━━━━━━━━━━━━━━━━━━━━━━━━━╇━━━━━━━━━━━━━━━━━━━━━━━━╇━━━━━━━━━━━━━━━┩\n",
              "│ dense_14 (<span style=\"color: #0087ff; text-decoration-color: #0087ff\">Dense</span>)                │ (<span style=\"color: #00d7ff; text-decoration-color: #00d7ff\">None</span>, <span style=\"color: #00af00; text-decoration-color: #00af00\">31</span>)             │           <span style=\"color: #00af00; text-decoration-color: #00af00\">279</span> │\n",
              "├─────────────────────────────────┼────────────────────────┼───────────────┤\n",
              "│ dense_15 (<span style=\"color: #0087ff; text-decoration-color: #0087ff\">Dense</span>)                │ (<span style=\"color: #00d7ff; text-decoration-color: #00d7ff\">None</span>, <span style=\"color: #00af00; text-decoration-color: #00af00\">1</span>)              │            <span style=\"color: #00af00; text-decoration-color: #00af00\">32</span> │\n",
              "└─────────────────────────────────┴────────────────────────┴───────────────┘\n",
              "</pre>\n"
            ]
          },
          "metadata": {}
        },
        {
          "output_type": "display_data",
          "data": {
            "text/plain": [
              "\u001b[1m Total params: \u001b[0m\u001b[38;5;34m935\u001b[0m (3.66 KB)\n"
            ],
            "text/html": [
              "<pre style=\"white-space:pre;overflow-x:auto;line-height:normal;font-family:Menlo,'DejaVu Sans Mono',consolas,'Courier New',monospace\"><span style=\"font-weight: bold\"> Total params: </span><span style=\"color: #00af00; text-decoration-color: #00af00\">935</span> (3.66 KB)\n",
              "</pre>\n"
            ]
          },
          "metadata": {}
        },
        {
          "output_type": "display_data",
          "data": {
            "text/plain": [
              "\u001b[1m Trainable params: \u001b[0m\u001b[38;5;34m311\u001b[0m (1.21 KB)\n"
            ],
            "text/html": [
              "<pre style=\"white-space:pre;overflow-x:auto;line-height:normal;font-family:Menlo,'DejaVu Sans Mono',consolas,'Courier New',monospace\"><span style=\"font-weight: bold\"> Trainable params: </span><span style=\"color: #00af00; text-decoration-color: #00af00\">311</span> (1.21 KB)\n",
              "</pre>\n"
            ]
          },
          "metadata": {}
        },
        {
          "output_type": "display_data",
          "data": {
            "text/plain": [
              "\u001b[1m Non-trainable params: \u001b[0m\u001b[38;5;34m0\u001b[0m (0.00 B)\n"
            ],
            "text/html": [
              "<pre style=\"white-space:pre;overflow-x:auto;line-height:normal;font-family:Menlo,'DejaVu Sans Mono',consolas,'Courier New',monospace\"><span style=\"font-weight: bold\"> Non-trainable params: </span><span style=\"color: #00af00; text-decoration-color: #00af00\">0</span> (0.00 B)\n",
              "</pre>\n"
            ]
          },
          "metadata": {}
        },
        {
          "output_type": "display_data",
          "data": {
            "text/plain": [
              "\u001b[1m Optimizer params: \u001b[0m\u001b[38;5;34m624\u001b[0m (2.44 KB)\n"
            ],
            "text/html": [
              "<pre style=\"white-space:pre;overflow-x:auto;line-height:normal;font-family:Menlo,'DejaVu Sans Mono',consolas,'Courier New',monospace\"><span style=\"font-weight: bold\"> Optimizer params: </span><span style=\"color: #00af00; text-decoration-color: #00af00\">624</span> (2.44 KB)\n",
              "</pre>\n"
            ]
          },
          "metadata": {}
        },
        {
          "output_type": "stream",
          "name": "stdout",
          "text": [
            "\n",
            "Test MSE: 0.4894, Test accuracy: 0.0022%\n"
          ]
        },
        {
          "output_type": "display_data",
          "data": {
            "text/plain": [
              "<Figure size 1200x500 with 1 Axes>"
            ],
            "image/png": "[encoded data removed]"
          },
          "metadata": {}
        }
      ]
    },
    {
      "cell_type": "code",
      "source": [
        "\n",
        "model_2 = Sequential()\n",
        "\n",
        "# Hidden layer1\n",
        "model_2.add(Dense(64, activation='relu', input_shape=(X_train.shape[1],)))\n",
        "model_2.add(Dropout(0.2))\n",
        "\n",
        "# Hidden layer2\n",
        "model_2.add(Dense(32, activation='relu'))\n",
        "model_2.add(Dropout(0.2))\n",
        "\n",
        "# Hidden layer3\n",
        "model_2.add(Dense(16, activation='relu'))\n",
        "\n",
        "model_2.add(Dense(1))\n",
        "\n",
        "model_2.compile(optimizer='adam', loss='mse', metrics=['accuracy'])\n",
        "\n",
        "history_2= model_2.fit(\n",
        "    X_train, y_train,\n",
        "    validation_data=(X_test, y_test),\n",
        "    epochs=200,\n",
        "    verbose=1\n",
        ")\n",
        "\n"
      ],
      "metadata": {
        "colab": {
          "base_uri": "https://localhost:8080/"
        },
        "id": "mk0l1diNnNNt",
        "outputId": "a9e6003d-aa5e-4be4-b82e-00554198da26"
      },
      "execution_count": 42,
      "outputs": [
        {
          "output_type": "stream",
          "name": "stdout",
          "text": [
            "Epoch 1/200\n"
          ]
        },
        {
          "output_type": "stream",
          "name": "stderr",
          "text": [
            "/usr/local/lib/python3.11/dist-packages/keras/src/layers/core/dense.py:87: UserWarning: Do not pass an `input_shape`/`input_dim` argument to a layer. When using Sequential models, prefer using an `Input(shape)` object as the first layer in the model instead.\n",
            "  super().__init__(activity_regularizer=activity_regularizer, **kwargs)\n"
          ]
        },
        {
          "output_type": "stream",
          "name": "stdout",
          "text": [
            "\u001b[1m516/516\u001b[0m \u001b[32m━━━━━━━━━━━━━━━━━━━━\u001b[0m\u001b[37m\u001b[0m \u001b[1m3s\u001b[0m 3ms/step - accuracy: 0.0030 - loss: 2.4355 - val_accuracy: 0.0022 - val_loss: 1.2635\n",
            "Epoch 2/200\n",
            "\u001b[1m516/516\u001b[0m \u001b[32m━━━━━━━━━━━━━━━━━━━━\u001b[0m\u001b[37m\u001b[0m \u001b[1m1s\u001b[0m 3ms/step - accuracy: 0.0031 - loss: 1.3237 - val_accuracy: 0.0022 - val_loss: 0.9940\n",
            "Epoch 3/200\n",
            "\u001b[1m516/516\u001b[0m \u001b[32m━━━━━━━━━━━━━━━━━━━━\u001b[0m\u001b[37m\u001b[0m \u001b[1m1s\u001b[0m 2ms/step - accuracy: 0.0032 - loss: 0.9036 - val_accuracy: 0.0022 - val_loss: 0.6504\n",
            "Epoch 4/200\n",
            "\u001b[1m516/516\u001b[0m \u001b[32m━━━━━━━━━━━━━━━━━━━━\u001b[0m\u001b[37m\u001b[0m \u001b[1m1s\u001b[0m 3ms/step - accuracy: 0.0029 - loss: 0.6988 - val_accuracy: 0.0022 - val_loss: 0.6418\n",
            "Epoch 5/200\n",
            "\u001b[1m516/516\u001b[0m \u001b[32m━━━━━━━━━━━━━━━━━━━━\u001b[0m\u001b[37m\u001b[0m \u001b[1m2s\u001b[0m 4ms/step - accuracy: 0.0032 - loss: 0.6883 - val_accuracy: 0.0022 - val_loss: 0.6433\n",
            "Epoch 6/200\n",
            "\u001b[1m516/516\u001b[0m \u001b[32m━━━━━━━━━━━━━━━━━━━━\u001b[0m\u001b[37m\u001b[0m \u001b[1m2s\u001b[0m 3ms/step - accuracy: 0.0034 - loss: 0.6478 - val_accuracy: 0.0022 - val_loss: 0.6037\n",
            "Epoch 7/200\n",
            "\u001b[1m516/516\u001b[0m \u001b[32m━━━━━━━━━━━━━━━━━━━━\u001b[0m\u001b[37m\u001b[0m \u001b[1m2s\u001b[0m 2ms/step - accuracy: 0.0030 - loss: 0.6528 - val_accuracy: 0.0022 - val_loss: 0.6037\n",
            "Epoch 8/200\n",
            "\u001b[1m516/516\u001b[0m \u001b[32m━━━━━━━━━━━━━━━━━━━━\u001b[0m\u001b[37m\u001b[0m \u001b[1m1s\u001b[0m 3ms/step - accuracy: 0.0032 - loss: 0.6523 - val_accuracy: 0.0022 - val_loss: 0.5949\n",
            "Epoch 9/200\n",
            "\u001b[1m516/516\u001b[0m \u001b[32m━━━━━━━━━━━━━━━━━━━━\u001b[0m\u001b[37m\u001b[0m \u001b[1m3s\u001b[0m 3ms/step - accuracy: 0.0040 - loss: 0.6339 - val_accuracy: 0.0022 - val_loss: 0.5983\n",
            "Epoch 10/200\n",
            "\u001b[1m516/516\u001b[0m \u001b[32m━━━━━━━━━━━━━━━━━━━━\u001b[0m\u001b[37m\u001b[0m \u001b[1m1s\u001b[0m 3ms/step - accuracy: 0.0036 - loss: 0.6005 - val_accuracy: 0.0022 - val_loss: 0.5642\n",
            "Epoch 11/200\n",
            "\u001b[1m516/516\u001b[0m \u001b[32m━━━━━━━━━━━━━━━━━━━━\u001b[0m\u001b[37m\u001b[0m \u001b[1m3s\u001b[0m 4ms/step - accuracy: 0.0027 - loss: 0.6011 - val_accuracy: 0.0022 - val_loss: 0.5546\n",
            "Epoch 12/200\n",
            "\u001b[1m516/516\u001b[0m \u001b[32m━━━━━━━━━━━━━━━━━━━━\u001b[0m\u001b[37m\u001b[0m \u001b[1m2s\u001b[0m 3ms/step - accuracy: 0.0030 - loss: 0.5973 - val_accuracy: 0.0022 - val_loss: 0.5571\n",
            "Epoch 13/200\n",
            "\u001b[1m516/516\u001b[0m \u001b[32m━━━━━━━━━━━━━━━━━━━━\u001b[0m\u001b[37m\u001b[0m \u001b[1m1s\u001b[0m 2ms/step - accuracy: 0.0027 - loss: 0.5837 - val_accuracy: 0.0022 - val_loss: 0.5409\n",
            "Epoch 14/200\n",
            "\u001b[1m516/516\u001b[0m \u001b[32m━━━━━━━━━━━━━━━━━━━━\u001b[0m\u001b[37m\u001b[0m \u001b[1m1s\u001b[0m 3ms/step - accuracy: 0.0037 - loss: 0.5575 - val_accuracy: 0.0022 - val_loss: 0.5472\n",
            "Epoch 15/200\n",
            "\u001b[1m516/516\u001b[0m \u001b[32m━━━━━━━━━━━━━━━━━━━━\u001b[0m\u001b[37m\u001b[0m \u001b[1m2s\u001b[0m 3ms/step - accuracy: 0.0036 - loss: 0.5718 - val_accuracy: 0.0022 - val_loss: 0.5426\n",
            "Epoch 16/200\n",
            "\u001b[1m516/516\u001b[0m \u001b[32m━━━━━━━━━━━━━━━━━━━━\u001b[0m\u001b[37m\u001b[0m \u001b[1m3s\u001b[0m 3ms/step - accuracy: 0.0037 - loss: 0.5625 - val_accuracy: 0.0022 - val_loss: 0.5336\n",
            "Epoch 17/200\n",
            "\u001b[1m516/516\u001b[0m \u001b[32m━━━━━━━━━━━━━━━━━━━━\u001b[0m\u001b[37m\u001b[0m \u001b[1m2s\u001b[0m 5ms/step - accuracy: 0.0025 - loss: 0.5735 - val_accuracy: 0.0022 - val_loss: 0.5383\n",
            "Epoch 18/200\n",
            "\u001b[1m516/516\u001b[0m \u001b[32m━━━━━━━━━━━━━━━━━━━━\u001b[0m\u001b[37m\u001b[0m \u001b[1m2s\u001b[0m 3ms/step - accuracy: 0.0030 - loss: 0.5827 - val_accuracy: 0.0022 - val_loss: 0.5192\n",
            "Epoch 19/200\n",
            "\u001b[1m516/516\u001b[0m \u001b[32m━━━━━━━━━━━━━━━━━━━━\u001b[0m\u001b[37m\u001b[0m \u001b[1m2s\u001b[0m 3ms/step - accuracy: 0.0032 - loss: 0.5605 - val_accuracy: 0.0022 - val_loss: 0.5133\n",
            "Epoch 20/200\n",
            "\u001b[1m516/516\u001b[0m \u001b[32m━━━━━━━━━━━━━━━━━━━━\u001b[0m\u001b[37m\u001b[0m \u001b[1m1s\u001b[0m 3ms/step - accuracy: 0.0033 - loss: 0.5572 - val_accuracy: 0.0022 - val_loss: 0.5108\n",
            "Epoch 21/200\n",
            "\u001b[1m516/516\u001b[0m \u001b[32m━━━━━━━━━━━━━━━━━━━━\u001b[0m\u001b[37m\u001b[0m \u001b[1m1s\u001b[0m 3ms/step - accuracy: 0.0030 - loss: 0.5406 - val_accuracy: 0.0022 - val_loss: 0.5177\n",
            "Epoch 22/200\n",
            "\u001b[1m516/516\u001b[0m \u001b[32m━━━━━━━━━━━━━━━━━━━━\u001b[0m\u001b[37m\u001b[0m \u001b[1m1s\u001b[0m 3ms/step - accuracy: 0.0039 - loss: 0.5420 - val_accuracy: 0.0022 - val_loss: 0.5141\n",
            "Epoch 23/200\n",
            "\u001b[1m516/516\u001b[0m \u001b[32m━━━━━━━━━━━━━━━━━━━━\u001b[0m\u001b[37m\u001b[0m \u001b[1m3s\u001b[0m 3ms/step - accuracy: 0.0032 - loss: 0.5463 - val_accuracy: 0.0022 - val_loss: 0.5019\n",
            "Epoch 24/200\n",
            "\u001b[1m516/516\u001b[0m \u001b[32m━━━━━━━━━━━━━━━━━━━━\u001b[0m\u001b[37m\u001b[0m \u001b[1m2s\u001b[0m 4ms/step - accuracy: 0.0032 - loss: 0.5406 - val_accuracy: 0.0022 - val_loss: 0.5051\n",
            "Epoch 25/200\n",
            "\u001b[1m516/516\u001b[0m \u001b[32m━━━━━━━━━━━━━━━━━━━━\u001b[0m\u001b[37m\u001b[0m \u001b[1m1s\u001b[0m 3ms/step - accuracy: 0.0037 - loss: 0.5333 - val_accuracy: 0.0022 - val_loss: 0.4976\n",
            "Epoch 26/200\n",
            "\u001b[1m516/516\u001b[0m \u001b[32m━━━━━━━━━━━━━━━━━━━━\u001b[0m\u001b[37m\u001b[0m \u001b[1m3s\u001b[0m 3ms/step - accuracy: 0.0033 - loss: 0.5178 - val_accuracy: 0.0022 - val_loss: 0.5001\n",
            "Epoch 27/200\n",
            "\u001b[1m516/516\u001b[0m \u001b[32m━━━━━━━━━━━━━━━━━━━━\u001b[0m\u001b[37m\u001b[0m \u001b[1m1s\u001b[0m 3ms/step - accuracy: 0.0031 - loss: 0.5268 - val_accuracy: 0.0022 - val_loss: 0.5068\n",
            "Epoch 28/200\n",
            "\u001b[1m516/516\u001b[0m \u001b[32m━━━━━━━━━━━━━━━━━━━━\u001b[0m\u001b[37m\u001b[0m \u001b[1m3s\u001b[0m 2ms/step - accuracy: 0.0041 - loss: 0.5420 - val_accuracy: 0.0022 - val_loss: 0.4916\n",
            "Epoch 29/200\n",
            "\u001b[1m516/516\u001b[0m \u001b[32m━━━━━━━━━━━━━━━━━━━━\u001b[0m\u001b[37m\u001b[0m \u001b[1m1s\u001b[0m 3ms/step - accuracy: 0.0027 - loss: 0.5174 - val_accuracy: 0.0022 - val_loss: 0.5047\n",
            "Epoch 30/200\n",
            "\u001b[1m516/516\u001b[0m \u001b[32m━━━━━━━━━━━━━━━━━━━━\u001b[0m\u001b[37m\u001b[0m \u001b[1m2s\u001b[0m 4ms/step - accuracy: 0.0030 - loss: 0.5129 - val_accuracy: 0.0022 - val_loss: 0.5201\n",
            "Epoch 31/200\n",
            "\u001b[1m516/516\u001b[0m \u001b[32m━━━━━━━━━━━━━━━━━━━━\u001b[0m\u001b[37m\u001b[0m \u001b[1m2s\u001b[0m 3ms/step - accuracy: 0.0039 - loss: 0.5086 - val_accuracy: 0.0022 - val_loss: 0.5150\n",
            "Epoch 32/200\n",
            "\u001b[1m516/516\u001b[0m \u001b[32m━━━━━━━━━━━━━━━━━━━━\u001b[0m\u001b[37m\u001b[0m \u001b[1m3s\u001b[0m 3ms/step - accuracy: 0.0036 - loss: 0.5197 - val_accuracy: 0.0022 - val_loss: 0.4980\n",
            "Epoch 33/200\n",
            "\u001b[1m516/516\u001b[0m \u001b[32m━━━━━━━━━━━━━━━━━━━━\u001b[0m\u001b[37m\u001b[0m \u001b[1m1s\u001b[0m 3ms/step - accuracy: 0.0042 - loss: 0.5234 - val_accuracy: 0.0022 - val_loss: 0.4851\n",
            "Epoch 34/200\n",
            "\u001b[1m516/516\u001b[0m \u001b[32m━━━━━━━━━━━━━━━━━━━━\u001b[0m\u001b[37m\u001b[0m \u001b[1m3s\u001b[0m 3ms/step - accuracy: 0.0026 - loss: 0.5146 - val_accuracy: 0.0022 - val_loss: 0.5622\n",
            "Epoch 35/200\n",
            "\u001b[1m516/516\u001b[0m \u001b[32m━━━━━━━━━━━━━━━━━━━━\u001b[0m\u001b[37m\u001b[0m \u001b[1m3s\u001b[0m 3ms/step - accuracy: 0.0031 - loss: 0.5253 - val_accuracy: 0.0022 - val_loss: 0.4890\n",
            "Epoch 36/200\n",
            "\u001b[1m516/516\u001b[0m \u001b[32m━━━━━━━━━━━━━━━━━━━━\u001b[0m\u001b[37m\u001b[0m \u001b[1m3s\u001b[0m 3ms/step - accuracy: 0.0033 - loss: 0.5272 - val_accuracy: 0.0022 - val_loss: 0.4823\n",
            "Epoch 37/200\n",
            "\u001b[1m516/516\u001b[0m \u001b[32m━━━━━━━━━━━━━━━━━━━━\u001b[0m\u001b[37m\u001b[0m \u001b[1m2s\u001b[0m 3ms/step - accuracy: 0.0029 - loss: 0.5187 - val_accuracy: 0.0022 - val_loss: 0.5076\n",
            "Epoch 38/200\n",
            "\u001b[1m516/516\u001b[0m \u001b[32m━━━━━━━━━━━━━━━━━━━━\u001b[0m\u001b[37m\u001b[0m \u001b[1m3s\u001b[0m 3ms/step - accuracy: 0.0026 - loss: 0.5127 - val_accuracy: 0.0022 - val_loss: 0.5132\n",
            "Epoch 39/200\n",
            "\u001b[1m516/516\u001b[0m \u001b[32m━━━━━━━━━━━━━━━━━━━━\u001b[0m\u001b[37m\u001b[0m \u001b[1m1s\u001b[0m 3ms/step - accuracy: 0.0033 - loss: 0.5145 - val_accuracy: 0.0022 - val_loss: 0.5204\n",
            "Epoch 40/200\n",
            "\u001b[1m516/516\u001b[0m \u001b[32m━━━━━━━━━━━━━━━━━━━━\u001b[0m\u001b[37m\u001b[0m \u001b[1m2s\u001b[0m 3ms/step - accuracy: 0.0028 - loss: 0.5137 - val_accuracy: 0.0022 - val_loss: 0.4798\n",
            "Epoch 41/200\n",
            "\u001b[1m516/516\u001b[0m \u001b[32m━━━━━━━━━━━━━━━━━━━━\u001b[0m\u001b[37m\u001b[0m \u001b[1m2s\u001b[0m 4ms/step - accuracy: 0.0031 - loss: 0.5167 - val_accuracy: 0.0022 - val_loss: 0.5533\n",
            "Epoch 42/200\n",
            "\u001b[1m516/516\u001b[0m \u001b[32m━━━━━━━━━━━━━━━━━━━━\u001b[0m\u001b[37m\u001b[0m \u001b[1m2s\u001b[0m 3ms/step - accuracy: 0.0027 - loss: 0.5134 - val_accuracy: 0.0022 - val_loss: 0.4859\n",
            "Epoch 43/200\n",
            "\u001b[1m516/516\u001b[0m \u001b[32m━━━━━━━━━━━━━━━━━━━━\u001b[0m\u001b[37m\u001b[0m \u001b[1m2s\u001b[0m 3ms/step - accuracy: 0.0027 - loss: 0.5140 - val_accuracy: 0.0022 - val_loss: 0.4929\n",
            "Epoch 44/200\n",
            "\u001b[1m516/516\u001b[0m \u001b[32m━━━━━━━━━━━━━━━━━━━━\u001b[0m\u001b[37m\u001b[0m \u001b[1m3s\u001b[0m 3ms/step - accuracy: 0.0031 - loss: 0.5157 - val_accuracy: 0.0022 - val_loss: 0.5179\n",
            "Epoch 45/200\n",
            "\u001b[1m516/516\u001b[0m \u001b[32m━━━━━━━━━━━━━━━━━━━━\u001b[0m\u001b[37m\u001b[0m \u001b[1m1s\u001b[0m 3ms/step - accuracy: 0.0036 - loss: 0.5096 - val_accuracy: 0.0022 - val_loss: 0.5100\n",
            "Epoch 46/200\n",
            "\u001b[1m516/516\u001b[0m \u001b[32m━━━━━━━━━━━━━━━━━━━━\u001b[0m\u001b[37m\u001b[0m \u001b[1m5s\u001b[0m 7ms/step - accuracy: 0.0027 - loss: 0.5232 - val_accuracy: 0.0022 - val_loss: 0.5198\n",
            "Epoch 47/200\n",
            "\u001b[1m516/516\u001b[0m \u001b[32m━━━━━━━━━━━━━━━━━━━━\u001b[0m\u001b[37m\u001b[0m \u001b[1m5s\u001b[0m 6ms/step - accuracy: 0.0026 - loss: 0.5016 - val_accuracy: 0.0022 - val_loss: 0.4991\n",
            "Epoch 48/200\n",
            "\u001b[1m516/516\u001b[0m \u001b[32m━━━━━━━━━━━━━━━━━━━━\u001b[0m\u001b[37m\u001b[0m \u001b[1m4s\u001b[0m 4ms/step - accuracy: 0.0030 - loss: 0.5020 - val_accuracy: 0.0022 - val_loss: 0.4830\n",
            "Epoch 49/200\n",
            "\u001b[1m516/516\u001b[0m \u001b[32m━━━━━━━━━━━━━━━━━━━━\u001b[0m\u001b[37m\u001b[0m \u001b[1m2s\u001b[0m 3ms/step - accuracy: 0.0024 - loss: 0.4934 - val_accuracy: 0.0022 - val_loss: 0.4807\n",
            "Epoch 50/200\n",
            "\u001b[1m516/516\u001b[0m \u001b[32m━━━━━━━━━━━━━━━━━━━━\u001b[0m\u001b[37m\u001b[0m \u001b[1m4s\u001b[0m 5ms/step - accuracy: 0.0033 - loss: 0.5027 - val_accuracy: 0.0022 - val_loss: 0.4944\n",
            "Epoch 51/200\n",
            "\u001b[1m516/516\u001b[0m \u001b[32m━━━━━━━━━━━━━━━━━━━━\u001b[0m\u001b[37m\u001b[0m \u001b[1m1s\u001b[0m 3ms/step - accuracy: 0.0038 - loss: 0.5066 - val_accuracy: 0.0022 - val_loss: 0.4800\n",
            "Epoch 52/200\n",
            "\u001b[1m516/516\u001b[0m \u001b[32m━━━━━━━━━━━━━━━━━━━━\u001b[0m\u001b[37m\u001b[0m \u001b[1m3s\u001b[0m 3ms/step - accuracy: 0.0039 - loss: 0.4886 - val_accuracy: 0.0022 - val_loss: 0.4743\n",
            "Epoch 53/200\n",
            "\u001b[1m516/516\u001b[0m \u001b[32m━━━━━━━━━━━━━━━━━━━━\u001b[0m\u001b[37m\u001b[0m \u001b[1m1s\u001b[0m 3ms/step - accuracy: 0.0023 - loss: 0.4889 - val_accuracy: 0.0022 - val_loss: 0.4908\n",
            "Epoch 54/200\n",
            "\u001b[1m516/516\u001b[0m \u001b[32m━━━━━━━━━━━━━━━━━━━━\u001b[0m\u001b[37m\u001b[0m \u001b[1m1s\u001b[0m 3ms/step - accuracy: 0.0033 - loss: 0.5017 - val_accuracy: 0.0022 - val_loss: 0.4984\n",
            "Epoch 55/200\n",
            "\u001b[1m516/516\u001b[0m \u001b[32m━━━━━━━━━━━━━━━━━━━━\u001b[0m\u001b[37m\u001b[0m \u001b[1m1s\u001b[0m 2ms/step - accuracy: 0.0035 - loss: 0.4992 - val_accuracy: 0.0022 - val_loss: 0.4835\n",
            "Epoch 56/200\n",
            "\u001b[1m516/516\u001b[0m \u001b[32m━━━━━━━━━━━━━━━━━━━━\u001b[0m\u001b[37m\u001b[0m \u001b[1m1s\u001b[0m 2ms/step - accuracy: 0.0036 - loss: 0.4985 - val_accuracy: 0.0022 - val_loss: 0.5021\n",
            "Epoch 57/200\n",
            "\u001b[1m516/516\u001b[0m \u001b[32m━━━━━━━━━━━━━━━━━━━━\u001b[0m\u001b[37m\u001b[0m \u001b[1m3s\u001b[0m 4ms/step - accuracy: 0.0030 - loss: 0.4997 - val_accuracy: 0.0022 - val_loss: 0.4838\n",
            "Epoch 58/200\n",
            "\u001b[1m516/516\u001b[0m \u001b[32m━━━━━━━━━━━━━━━━━━━━\u001b[0m\u001b[37m\u001b[0m \u001b[1m1s\u001b[0m 3ms/step - accuracy: 0.0034 - loss: 0.4823 - val_accuracy: 0.0022 - val_loss: 0.4657\n",
            "Epoch 59/200\n",
            "\u001b[1m516/516\u001b[0m \u001b[32m━━━━━━━━━━━━━━━━━━━━\u001b[0m\u001b[37m\u001b[0m \u001b[1m1s\u001b[0m 3ms/step - accuracy: 0.0031 - loss: 0.5064 - val_accuracy: 0.0022 - val_loss: 0.5135\n",
            "Epoch 60/200\n",
            "\u001b[1m516/516\u001b[0m \u001b[32m━━━━━━━━━━━━━━━━━━━━\u001b[0m\u001b[37m\u001b[0m \u001b[1m1s\u001b[0m 3ms/step - accuracy: 0.0029 - loss: 0.5094 - val_accuracy: 0.0022 - val_loss: 0.4710\n",
            "Epoch 61/200\n",
            "\u001b[1m516/516\u001b[0m \u001b[32m━━━━━━━━━━━━━━━━━━━━\u001b[0m\u001b[37m\u001b[0m \u001b[1m3s\u001b[0m 3ms/step - accuracy: 0.0037 - loss: 0.5061 - val_accuracy: 0.0022 - val_loss: 0.4994\n",
            "Epoch 62/200\n",
            "\u001b[1m516/516\u001b[0m \u001b[32m━━━━━━━━━━━━━━━━━━━━\u001b[0m\u001b[37m\u001b[0m \u001b[1m3s\u001b[0m 3ms/step - accuracy: 0.0033 - loss: 0.4881 - val_accuracy: 0.0022 - val_loss: 0.4825\n",
            "Epoch 63/200\n",
            "\u001b[1m516/516\u001b[0m \u001b[32m━━━━━━━━━━━━━━━━━━━━\u001b[0m\u001b[37m\u001b[0m \u001b[1m3s\u001b[0m 4ms/step - accuracy: 0.0026 - loss: 0.4933 - val_accuracy: 0.0022 - val_loss: 0.4847\n",
            "Epoch 64/200\n",
            "\u001b[1m516/516\u001b[0m \u001b[32m━━━━━━━━━━━━━━━━━━━━\u001b[0m\u001b[37m\u001b[0m \u001b[1m2s\u001b[0m 3ms/step - accuracy: 0.0037 - loss: 0.4797 - val_accuracy: 0.0022 - val_loss: 0.5421\n",
            "Epoch 65/200\n",
            "\u001b[1m516/516\u001b[0m \u001b[32m━━━━━━━━━━━━━━━━━━━━\u001b[0m\u001b[37m\u001b[0m \u001b[1m3s\u001b[0m 3ms/step - accuracy: 0.0039 - loss: 0.5014 - val_accuracy: 0.0022 - val_loss: 0.4687\n",
            "Epoch 66/200\n",
            "\u001b[1m516/516\u001b[0m \u001b[32m━━━━━━━━━━━━━━━━━━━━\u001b[0m\u001b[37m\u001b[0m \u001b[1m1s\u001b[0m 3ms/step - accuracy: 0.0030 - loss: 0.4837 - val_accuracy: 0.0022 - val_loss: 0.4729\n",
            "Epoch 67/200\n",
            "\u001b[1m516/516\u001b[0m \u001b[32m━━━━━━━━━━━━━━━━━━━━\u001b[0m\u001b[37m\u001b[0m \u001b[1m3s\u001b[0m 3ms/step - accuracy: 0.0032 - loss: 0.4866 - val_accuracy: 0.0022 - val_loss: 0.4782\n",
            "Epoch 68/200\n",
            "\u001b[1m516/516\u001b[0m \u001b[32m━━━━━━━━━━━━━━━━━━━━\u001b[0m\u001b[37m\u001b[0m \u001b[1m2s\u001b[0m 5ms/step - accuracy: 0.0041 - loss: 0.4853 - val_accuracy: 0.0022 - val_loss: 0.4693\n",
            "Epoch 69/200\n",
            "\u001b[1m516/516\u001b[0m \u001b[32m━━━━━━━━━━━━━━━━━━━━\u001b[0m\u001b[37m\u001b[0m \u001b[1m2s\u001b[0m 3ms/step - accuracy: 0.0029 - loss: 0.5026 - val_accuracy: 0.0022 - val_loss: 0.5052\n",
            "Epoch 70/200\n",
            "\u001b[1m516/516\u001b[0m \u001b[32m━━━━━━━━━━━━━━━━━━━━\u001b[0m\u001b[37m\u001b[0m \u001b[1m2s\u001b[0m 3ms/step - accuracy: 0.0035 - loss: 0.5027 - val_accuracy: 0.0022 - val_loss: 0.4822\n",
            "Epoch 71/200\n",
            "\u001b[1m516/516\u001b[0m \u001b[32m━━━━━━━━━━━━━━━━━━━━\u001b[0m\u001b[37m\u001b[0m \u001b[1m2s\u001b[0m 4ms/step - accuracy: 0.0030 - loss: 0.4885 - val_accuracy: 0.0022 - val_loss: 0.4646\n",
            "Epoch 72/200\n",
            "\u001b[1m516/516\u001b[0m \u001b[32m━━━━━━━━━━━━━━━━━━━━\u001b[0m\u001b[37m\u001b[0m \u001b[1m2s\u001b[0m 3ms/step - accuracy: 0.0034 - loss: 0.5101 - val_accuracy: 0.0022 - val_loss: 0.4940\n",
            "Epoch 73/200\n",
            "\u001b[1m516/516\u001b[0m \u001b[32m━━━━━━━━━━━━━━━━━━━━\u001b[0m\u001b[37m\u001b[0m \u001b[1m2s\u001b[0m 3ms/step - accuracy: 0.0029 - loss: 0.4818 - val_accuracy: 0.0022 - val_loss: 0.4748\n",
            "Epoch 74/200\n",
            "\u001b[1m516/516\u001b[0m \u001b[32m━━━━━━━━━━━━━━━━━━━━\u001b[0m\u001b[37m\u001b[0m \u001b[1m4s\u001b[0m 5ms/step - accuracy: 0.0038 - loss: 0.4779 - val_accuracy: 0.0022 - val_loss: 0.4833\n",
            "Epoch 75/200\n",
            "\u001b[1m516/516\u001b[0m \u001b[32m━━━━━━━━━━━━━━━━━━━━\u001b[0m\u001b[37m\u001b[0m \u001b[1m2s\u001b[0m 4ms/step - accuracy: 0.0035 - loss: 0.4886 - val_accuracy: 0.0022 - val_loss: 0.5131\n",
            "Epoch 76/200\n",
            "\u001b[1m516/516\u001b[0m \u001b[32m━━━━━━━━━━━━━━━━━━━━\u001b[0m\u001b[37m\u001b[0m \u001b[1m2s\u001b[0m 3ms/step - accuracy: 0.0039 - loss: 0.5026 - val_accuracy: 0.0022 - val_loss: 0.4824\n",
            "Epoch 77/200\n",
            "\u001b[1m516/516\u001b[0m \u001b[32m━━━━━━━━━━━━━━━━━━━━\u001b[0m\u001b[37m\u001b[0m \u001b[1m1s\u001b[0m 3ms/step - accuracy: 0.0042 - loss: 0.4980 - val_accuracy: 0.0022 - val_loss: 0.4638\n",
            "Epoch 78/200\n",
            "\u001b[1m516/516\u001b[0m \u001b[32m━━━━━━━━━━━━━━━━━━━━\u001b[0m\u001b[37m\u001b[0m \u001b[1m3s\u001b[0m 3ms/step - accuracy: 0.0034 - loss: 0.4998 - val_accuracy: 0.0022 - val_loss: 0.4874\n",
            "Epoch 79/200\n",
            "\u001b[1m516/516\u001b[0m \u001b[32m━━━━━━━━━━━━━━━━━━━━\u001b[0m\u001b[37m\u001b[0m \u001b[1m2s\u001b[0m 4ms/step - accuracy: 0.0032 - loss: 0.4965 - val_accuracy: 0.0022 - val_loss: 0.4750\n",
            "Epoch 80/200\n",
            "\u001b[1m516/516\u001b[0m \u001b[32m━━━━━━━━━━━━━━━━━━━━\u001b[0m\u001b[37m\u001b[0m \u001b[1m2s\u001b[0m 5ms/step - accuracy: 0.0032 - loss: 0.4811 - val_accuracy: 0.0022 - val_loss: 0.4982\n",
            "Epoch 81/200\n",
            "\u001b[1m516/516\u001b[0m \u001b[32m━━━━━━━━━━━━━━━━━━━━\u001b[0m\u001b[37m\u001b[0m \u001b[1m2s\u001b[0m 3ms/step - accuracy: 0.0031 - loss: 0.4891 - val_accuracy: 0.0022 - val_loss: 0.4786\n",
            "Epoch 82/200\n",
            "\u001b[1m516/516\u001b[0m \u001b[32m━━━━━━━━━━━━━━━━━━━━\u001b[0m\u001b[37m\u001b[0m \u001b[1m2s\u001b[0m 3ms/step - accuracy: 0.0035 - loss: 0.4830 - val_accuracy: 0.0022 - val_loss: 0.4932\n",
            "Epoch 83/200\n",
            "\u001b[1m516/516\u001b[0m \u001b[32m━━━━━━━━━━━━━━━━━━━━\u001b[0m\u001b[37m\u001b[0m \u001b[1m1s\u001b[0m 3ms/step - accuracy: 0.0034 - loss: 0.4785 - val_accuracy: 0.0022 - val_loss: 0.4774\n",
            "Epoch 84/200\n",
            "\u001b[1m516/516\u001b[0m \u001b[32m━━━━━━━━━━━━━━━━━━━━\u001b[0m\u001b[37m\u001b[0m \u001b[1m3s\u001b[0m 3ms/step - accuracy: 0.0026 - loss: 0.4991 - val_accuracy: 0.0022 - val_loss: 0.4595\n",
            "Epoch 85/200\n",
            "\u001b[1m516/516\u001b[0m \u001b[32m━━━━━━━━━━━━━━━━━━━━\u001b[0m\u001b[37m\u001b[0m \u001b[1m4s\u001b[0m 5ms/step - accuracy: 0.0026 - loss: 0.4947 - val_accuracy: 0.0022 - val_loss: 0.4580\n",
            "Epoch 86/200\n",
            "\u001b[1m516/516\u001b[0m \u001b[32m━━━━━━━━━━━━━━━━━━━━\u001b[0m\u001b[37m\u001b[0m \u001b[1m2s\u001b[0m 3ms/step - accuracy: 0.0030 - loss: 0.4885 - val_accuracy: 0.0022 - val_loss: 0.4555\n",
            "Epoch 87/200\n",
            "\u001b[1m516/516\u001b[0m \u001b[32m━━━━━━━━━━━━━━━━━━━━\u001b[0m\u001b[37m\u001b[0m \u001b[1m2s\u001b[0m 3ms/step - accuracy: 0.0029 - loss: 0.4680 - val_accuracy: 0.0022 - val_loss: 0.4772\n",
            "Epoch 88/200\n",
            "\u001b[1m516/516\u001b[0m \u001b[32m━━━━━━━━━━━━━━━━━━━━\u001b[0m\u001b[37m\u001b[0m \u001b[1m1s\u001b[0m 3ms/step - accuracy: 0.0035 - loss: 0.4893 - val_accuracy: 0.0022 - val_loss: 0.4664\n",
            "Epoch 89/200\n",
            "\u001b[1m516/516\u001b[0m \u001b[32m━━━━━━━━━━━━━━━━━━━━\u001b[0m\u001b[37m\u001b[0m \u001b[1m1s\u001b[0m 3ms/step - accuracy: 0.0028 - loss: 0.4910 - val_accuracy: 0.0022 - val_loss: 0.4770\n",
            "Epoch 90/200\n",
            "\u001b[1m516/516\u001b[0m \u001b[32m━━━━━━━━━━━━━━━━━━━━\u001b[0m\u001b[37m\u001b[0m \u001b[1m3s\u001b[0m 3ms/step - accuracy: 0.0033 - loss: 0.4718 - val_accuracy: 0.0022 - val_loss: 0.4731\n",
            "Epoch 91/200\n",
            "\u001b[1m516/516\u001b[0m \u001b[32m━━━━━━━━━━━━━━━━━━━━\u001b[0m\u001b[37m\u001b[0m \u001b[1m4s\u001b[0m 5ms/step - accuracy: 0.0026 - loss: 0.4723 - val_accuracy: 0.0022 - val_loss: 0.5046\n",
            "Epoch 92/200\n",
            "\u001b[1m516/516\u001b[0m \u001b[32m━━━━━━━━━━━━━━━━━━━━\u001b[0m\u001b[37m\u001b[0m \u001b[1m2s\u001b[0m 3ms/step - accuracy: 0.0031 - loss: 0.4881 - val_accuracy: 0.0022 - val_loss: 0.4623\n",
            "Epoch 93/200\n",
            "\u001b[1m516/516\u001b[0m \u001b[32m━━━━━━━━━━━━━━━━━━━━\u001b[0m\u001b[37m\u001b[0m \u001b[1m1s\u001b[0m 3ms/step - accuracy: 0.0032 - loss: 0.4995 - val_accuracy: 0.0022 - val_loss: 0.4705\n",
            "Epoch 94/200\n",
            "\u001b[1m516/516\u001b[0m \u001b[32m━━━━━━━━━━━━━━━━━━━━\u001b[0m\u001b[37m\u001b[0m \u001b[1m1s\u001b[0m 3ms/step - accuracy: 0.0031 - loss: 0.4810 - val_accuracy: 0.0022 - val_loss: 0.4602\n",
            "Epoch 95/200\n",
            "\u001b[1m516/516\u001b[0m \u001b[32m━━━━━━━━━━━━━━━━━━━━\u001b[0m\u001b[37m\u001b[0m \u001b[1m1s\u001b[0m 3ms/step - accuracy: 0.0031 - loss: 0.4751 - val_accuracy: 0.0022 - val_loss: 0.4649\n",
            "Epoch 96/200\n",
            "\u001b[1m516/516\u001b[0m \u001b[32m━━━━━━━━━━━━━━━━━━━━\u001b[0m\u001b[37m\u001b[0m \u001b[1m1s\u001b[0m 3ms/step - accuracy: 0.0037 - loss: 0.4786 - val_accuracy: 0.0022 - val_loss: 0.4650\n",
            "Epoch 97/200\n",
            "\u001b[1m516/516\u001b[0m \u001b[32m━━━━━━━━━━━━━━━━━━━━\u001b[0m\u001b[37m\u001b[0m \u001b[1m1s\u001b[0m 3ms/step - accuracy: 0.0029 - loss: 0.4912 - val_accuracy: 0.0022 - val_loss: 0.4580\n",
            "Epoch 98/200\n",
            "\u001b[1m516/516\u001b[0m \u001b[32m━━━━━━━━━━━━━━━━━━━━\u001b[0m\u001b[37m\u001b[0m \u001b[1m1s\u001b[0m 2ms/step - accuracy: 0.0031 - loss: 0.5011 - val_accuracy: 0.0022 - val_loss: 0.4587\n",
            "Epoch 99/200\n",
            "\u001b[1m516/516\u001b[0m \u001b[32m━━━━━━━━━━━━━━━━━━━━\u001b[0m\u001b[37m\u001b[0m \u001b[1m3s\u001b[0m 3ms/step - accuracy: 0.0036 - loss: 0.4764 - val_accuracy: 0.0022 - val_loss: 0.4609\n",
            "Epoch 100/200\n",
            "\u001b[1m516/516\u001b[0m \u001b[32m━━━━━━━━━━━━━━━━━━━━\u001b[0m\u001b[37m\u001b[0m \u001b[1m1s\u001b[0m 3ms/step - accuracy: 0.0032 - loss: 0.4837 - val_accuracy: 0.0022 - val_loss: 0.4651\n",
            "Epoch 101/200\n",
            "\u001b[1m516/516\u001b[0m \u001b[32m━━━━━━━━━━━━━━━━━━━━\u001b[0m\u001b[37m\u001b[0m \u001b[1m2s\u001b[0m 3ms/step - accuracy: 0.0029 - loss: 0.4692 - val_accuracy: 0.0022 - val_loss: 0.4890\n",
            "Epoch 102/200\n",
            "\u001b[1m516/516\u001b[0m \u001b[32m━━━━━━━━━━━━━━━━━━━━\u001b[0m\u001b[37m\u001b[0m \u001b[1m2s\u001b[0m 2ms/step - accuracy: 0.0027 - loss: 0.4854 - val_accuracy: 0.0022 - val_loss: 0.4887\n",
            "Epoch 103/200\n",
            "\u001b[1m516/516\u001b[0m \u001b[32m━━━━━━━━━━━━━━━━━━━━\u001b[0m\u001b[37m\u001b[0m \u001b[1m1s\u001b[0m 3ms/step - accuracy: 0.0030 - loss: 0.4691 - val_accuracy: 0.0022 - val_loss: 0.4665\n",
            "Epoch 104/200\n",
            "\u001b[1m516/516\u001b[0m \u001b[32m━━━━━━━━━━━━━━━━━━━━\u001b[0m\u001b[37m\u001b[0m \u001b[1m3s\u001b[0m 4ms/step - accuracy: 0.0027 - loss: 0.4798 - val_accuracy: 0.0022 - val_loss: 0.4598\n",
            "Epoch 105/200\n",
            "\u001b[1m516/516\u001b[0m \u001b[32m━━━━━━━━━━━━━━━━━━━━\u001b[0m\u001b[37m\u001b[0m \u001b[1m2s\u001b[0m 3ms/step - accuracy: 0.0034 - loss: 0.4818 - val_accuracy: 0.0022 - val_loss: 0.4550\n",
            "Epoch 106/200\n",
            "\u001b[1m516/516\u001b[0m \u001b[32m━━━━━━━━━━━━━━━━━━━━\u001b[0m\u001b[37m\u001b[0m \u001b[1m2s\u001b[0m 3ms/step - accuracy: 0.0033 - loss: 0.4837 - val_accuracy: 0.0022 - val_loss: 0.4592\n",
            "Epoch 107/200\n",
            "\u001b[1m516/516\u001b[0m \u001b[32m━━━━━━━━━━━━━━━━━━━━\u001b[0m\u001b[37m\u001b[0m \u001b[1m3s\u001b[0m 3ms/step - accuracy: 0.0035 - loss: 0.4754 - val_accuracy: 0.0022 - val_loss: 0.4619\n",
            "Epoch 108/200\n",
            "\u001b[1m516/516\u001b[0m \u001b[32m━━━━━━━━━━━━━━━━━━━━\u001b[0m\u001b[37m\u001b[0m \u001b[1m1s\u001b[0m 3ms/step - accuracy: 0.0029 - loss: 0.4715 - val_accuracy: 0.0022 - val_loss: 0.4761\n",
            "Epoch 109/200\n",
            "\u001b[1m516/516\u001b[0m \u001b[32m━━━━━━━━━━━━━━━━━━━━\u001b[0m\u001b[37m\u001b[0m \u001b[1m1s\u001b[0m 2ms/step - accuracy: 0.0028 - loss: 0.5009 - val_accuracy: 0.0022 - val_loss: 0.4616\n",
            "Epoch 110/200\n",
            "\u001b[1m516/516\u001b[0m \u001b[32m━━━━━━━━━━━━━━━━━━━━\u001b[0m\u001b[37m\u001b[0m \u001b[1m1s\u001b[0m 3ms/step - accuracy: 0.0036 - loss: 0.4653 - val_accuracy: 0.0022 - val_loss: 0.4595\n",
            "Epoch 111/200\n",
            "\u001b[1m516/516\u001b[0m \u001b[32m━━━━━━━━━━━━━━━━━━━━\u001b[0m\u001b[37m\u001b[0m \u001b[1m2s\u001b[0m 4ms/step - accuracy: 0.0032 - loss: 0.4718 - val_accuracy: 0.0022 - val_loss: 0.5181\n",
            "Epoch 112/200\n",
            "\u001b[1m516/516\u001b[0m \u001b[32m━━━━━━━━━━━━━━━━━━━━\u001b[0m\u001b[37m\u001b[0m \u001b[1m2s\u001b[0m 3ms/step - accuracy: 0.0031 - loss: 0.4806 - val_accuracy: 0.0022 - val_loss: 0.5331\n",
            "Epoch 113/200\n",
            "\u001b[1m516/516\u001b[0m \u001b[32m━━━━━━━━━━━━━━━━━━━━\u001b[0m\u001b[37m\u001b[0m \u001b[1m1s\u001b[0m 2ms/step - accuracy: 0.0026 - loss: 0.4742 - val_accuracy: 0.0022 - val_loss: 0.4626\n",
            "Epoch 114/200\n",
            "\u001b[1m516/516\u001b[0m \u001b[32m━━━━━━━━━━━━━━━━━━━━\u001b[0m\u001b[37m\u001b[0m \u001b[1m1s\u001b[0m 2ms/step - accuracy: 0.0034 - loss: 0.4694 - val_accuracy: 0.0022 - val_loss: 0.4548\n",
            "Epoch 115/200\n",
            "\u001b[1m516/516\u001b[0m \u001b[32m━━━━━━━━━━━━━━━━━━━━\u001b[0m\u001b[37m\u001b[0m \u001b[1m1s\u001b[0m 3ms/step - accuracy: 0.0029 - loss: 0.4762 - val_accuracy: 0.0022 - val_loss: 0.4565\n",
            "Epoch 116/200\n",
            "\u001b[1m516/516\u001b[0m \u001b[32m━━━━━━━━━━━━━━━━━━━━\u001b[0m\u001b[37m\u001b[0m \u001b[1m1s\u001b[0m 3ms/step - accuracy: 0.0031 - loss: 0.4837 - val_accuracy: 0.0022 - val_loss: 0.5510\n",
            "Epoch 117/200\n",
            "\u001b[1m516/516\u001b[0m \u001b[32m━━━━━━━━━━━━━━━━━━━━\u001b[0m\u001b[37m\u001b[0m \u001b[1m1s\u001b[0m 3ms/step - accuracy: 0.0036 - loss: 0.4830 - val_accuracy: 0.0022 - val_loss: 0.4594\n",
            "Epoch 118/200\n",
            "\u001b[1m516/516\u001b[0m \u001b[32m━━━━━━━━━━━━━━━━━━━━\u001b[0m\u001b[37m\u001b[0m \u001b[1m3s\u001b[0m 3ms/step - accuracy: 0.0029 - loss: 0.4822 - val_accuracy: 0.0022 - val_loss: 0.4590\n",
            "Epoch 119/200\n",
            "\u001b[1m516/516\u001b[0m \u001b[32m━━━━━━━━━━━━━━━━━━━━\u001b[0m\u001b[37m\u001b[0m \u001b[1m2s\u001b[0m 4ms/step - accuracy: 0.0025 - loss: 0.4657 - val_accuracy: 0.0022 - val_loss: 0.4530\n",
            "Epoch 120/200\n",
            "\u001b[1m516/516\u001b[0m \u001b[32m━━━━━━━━━━━━━━━━━━━━\u001b[0m\u001b[37m\u001b[0m \u001b[1m2s\u001b[0m 3ms/step - accuracy: 0.0032 - loss: 0.4953 - val_accuracy: 0.0022 - val_loss: 0.4675\n",
            "Epoch 121/200\n",
            "\u001b[1m516/516\u001b[0m \u001b[32m━━━━━━━━━━━━━━━━━━━━\u001b[0m\u001b[37m\u001b[0m \u001b[1m1s\u001b[0m 2ms/step - accuracy: 0.0031 - loss: 0.4914 - val_accuracy: 0.0022 - val_loss: 0.4813\n",
            "Epoch 122/200\n",
            "\u001b[1m516/516\u001b[0m \u001b[32m━━━━━━━━━━━━━━━━━━━━\u001b[0m\u001b[37m\u001b[0m \u001b[1m1s\u001b[0m 3ms/step - accuracy: 0.0036 - loss: 0.4829 - val_accuracy: 0.0022 - val_loss: 0.4683\n",
            "Epoch 123/200\n",
            "\u001b[1m516/516\u001b[0m \u001b[32m━━━━━━━━━━━━━━━━━━━━\u001b[0m\u001b[37m\u001b[0m \u001b[1m1s\u001b[0m 3ms/step - accuracy: 0.0040 - loss: 0.4846 - val_accuracy: 0.0022 - val_loss: 0.4718\n",
            "Epoch 124/200\n",
            "\u001b[1m516/516\u001b[0m \u001b[32m━━━━━━━━━━━━━━━━━━━━\u001b[0m\u001b[37m\u001b[0m \u001b[1m1s\u001b[0m 3ms/step - accuracy: 0.0033 - loss: 0.4791 - val_accuracy: 0.0022 - val_loss: 0.4548\n",
            "Epoch 125/200\n",
            "\u001b[1m516/516\u001b[0m \u001b[32m━━━━━━━━━━━━━━━━━━━━\u001b[0m\u001b[37m\u001b[0m \u001b[1m1s\u001b[0m 2ms/step - accuracy: 0.0034 - loss: 0.4621 - val_accuracy: 0.0022 - val_loss: 0.4627\n",
            "Epoch 126/200\n",
            "\u001b[1m516/516\u001b[0m \u001b[32m━━━━━━━━━━━━━━━━━━━━\u001b[0m\u001b[37m\u001b[0m \u001b[1m1s\u001b[0m 3ms/step - accuracy: 0.0031 - loss: 0.4795 - val_accuracy: 0.0022 - val_loss: 0.5602\n",
            "Epoch 127/200\n",
            "\u001b[1m516/516\u001b[0m \u001b[32m━━━━━━━━━━━━━━━━━━━━\u001b[0m\u001b[37m\u001b[0m \u001b[1m2s\u001b[0m 4ms/step - accuracy: 0.0024 - loss: 0.4743 - val_accuracy: 0.0022 - val_loss: 0.4561\n",
            "Epoch 128/200\n",
            "\u001b[1m516/516\u001b[0m \u001b[32m━━━━━━━━━━━━━━━━━━━━\u001b[0m\u001b[37m\u001b[0m \u001b[1m2s\u001b[0m 3ms/step - accuracy: 0.0032 - loss: 0.4683 - val_accuracy: 0.0022 - val_loss: 0.4670\n",
            "Epoch 129/200\n",
            "\u001b[1m516/516\u001b[0m \u001b[32m━━━━━━━━━━━━━━━━━━━━\u001b[0m\u001b[37m\u001b[0m \u001b[1m2s\u001b[0m 2ms/step - accuracy: 0.0035 - loss: 0.4891 - val_accuracy: 0.0022 - val_loss: 0.4596\n",
            "Epoch 130/200\n",
            "\u001b[1m516/516\u001b[0m \u001b[32m━━━━━━━━━━━━━━━━━━━━\u001b[0m\u001b[37m\u001b[0m \u001b[1m3s\u001b[0m 3ms/step - accuracy: 0.0033 - loss: 0.4740 - val_accuracy: 0.0022 - val_loss: 0.4690\n",
            "Epoch 131/200\n",
            "\u001b[1m516/516\u001b[0m \u001b[32m━━━━━━━━━━━━━━━━━━━━\u001b[0m\u001b[37m\u001b[0m \u001b[1m1s\u001b[0m 3ms/step - accuracy: 0.0034 - loss: 0.4631 - val_accuracy: 0.0022 - val_loss: 0.5016\n",
            "Epoch 132/200\n",
            "\u001b[1m516/516\u001b[0m \u001b[32m━━━━━━━━━━━━━━━━━━━━\u001b[0m\u001b[37m\u001b[0m \u001b[1m3s\u001b[0m 3ms/step - accuracy: 0.0035 - loss: 0.4868 - val_accuracy: 0.0022 - val_loss: 0.4590\n",
            "Epoch 133/200\n",
            "\u001b[1m516/516\u001b[0m \u001b[32m━━━━━━━━━━━━━━━━━━━━\u001b[0m\u001b[37m\u001b[0m \u001b[1m2s\u001b[0m 3ms/step - accuracy: 0.0039 - loss: 0.4807 - val_accuracy: 0.0022 - val_loss: 0.5058\n",
            "Epoch 134/200\n",
            "\u001b[1m516/516\u001b[0m \u001b[32m━━━━━━━━━━━━━━━━━━━━\u001b[0m\u001b[37m\u001b[0m \u001b[1m1s\u001b[0m 2ms/step - accuracy: 0.0032 - loss: 0.4731 - val_accuracy: 0.0022 - val_loss: 0.4678\n",
            "Epoch 135/200\n",
            "\u001b[1m516/516\u001b[0m \u001b[32m━━━━━━━━━━━━━━━━━━━━\u001b[0m\u001b[37m\u001b[0m \u001b[1m1s\u001b[0m 2ms/step - accuracy: 0.0033 - loss: 0.4767 - val_accuracy: 0.0022 - val_loss: 0.5511\n",
            "Epoch 136/200\n",
            "\u001b[1m516/516\u001b[0m \u001b[32m━━━━━━━━━━━━━━━━━━━━\u001b[0m\u001b[37m\u001b[0m \u001b[1m1s\u001b[0m 3ms/step - accuracy: 0.0030 - loss: 0.4803 - val_accuracy: 0.0022 - val_loss: 0.4620\n",
            "Epoch 137/200\n",
            "\u001b[1m516/516\u001b[0m \u001b[32m━━━━━━━━━━━━━━━━━━━━\u001b[0m\u001b[37m\u001b[0m \u001b[1m3s\u001b[0m 3ms/step - accuracy: 0.0027 - loss: 0.4795 - val_accuracy: 0.0022 - val_loss: 0.4697\n",
            "Epoch 138/200\n",
            "\u001b[1m516/516\u001b[0m \u001b[32m━━━━━━━━━━━━━━━━━━━━\u001b[0m\u001b[37m\u001b[0m \u001b[1m1s\u001b[0m 3ms/step - accuracy: 0.0041 - loss: 0.4797 - val_accuracy: 0.0022 - val_loss: 0.4542\n",
            "Epoch 139/200\n",
            "\u001b[1m516/516\u001b[0m \u001b[32m━━━━━━━━━━━━━━━━━━━━\u001b[0m\u001b[37m\u001b[0m \u001b[1m3s\u001b[0m 4ms/step - accuracy: 0.0037 - loss: 0.4976 - val_accuracy: 0.0022 - val_loss: 0.4940\n",
            "Epoch 140/200\n",
            "\u001b[1m516/516\u001b[0m \u001b[32m━━━━━━━━━━━━━━━━━━━━\u001b[0m\u001b[37m\u001b[0m \u001b[1m2s\u001b[0m 3ms/step - accuracy: 0.0029 - loss: 0.4746 - val_accuracy: 0.0022 - val_loss: 0.4620\n",
            "Epoch 141/200\n",
            "\u001b[1m516/516\u001b[0m \u001b[32m━━━━━━━━━━━━━━━━━━━━\u001b[0m\u001b[37m\u001b[0m \u001b[1m1s\u001b[0m 3ms/step - accuracy: 0.0035 - loss: 0.4688 - val_accuracy: 0.0022 - val_loss: 0.4773\n",
            "Epoch 142/200\n",
            "\u001b[1m516/516\u001b[0m \u001b[32m━━━━━━━━━━━━━━━━━━━━\u001b[0m\u001b[37m\u001b[0m \u001b[1m1s\u001b[0m 2ms/step - accuracy: 0.0032 - loss: 0.4915 - val_accuracy: 0.0022 - val_loss: 0.4564\n",
            "Epoch 143/200\n",
            "\u001b[1m516/516\u001b[0m \u001b[32m━━━━━━━━━━━━━━━━━━━━\u001b[0m\u001b[37m\u001b[0m \u001b[1m1s\u001b[0m 3ms/step - accuracy: 0.0037 - loss: 0.4935 - val_accuracy: 0.0022 - val_loss: 0.4656\n",
            "Epoch 144/200\n",
            "\u001b[1m516/516\u001b[0m \u001b[32m━━━━━━━━━━━━━━━━━━━━\u001b[0m\u001b[37m\u001b[0m \u001b[1m2s\u001b[0m 3ms/step - accuracy: 0.0032 - loss: 0.4914 - val_accuracy: 0.0022 - val_loss: 0.4598\n",
            "Epoch 145/200\n",
            "\u001b[1m516/516\u001b[0m \u001b[32m━━━━━━━━━━━━━━━━━━━━\u001b[0m\u001b[37m\u001b[0m \u001b[1m3s\u001b[0m 3ms/step - accuracy: 0.0033 - loss: 0.4691 - val_accuracy: 0.0022 - val_loss: 0.4623\n",
            "Epoch 146/200\n",
            "\u001b[1m516/516\u001b[0m \u001b[32m━━━━━━━━━━━━━━━━━━━━\u001b[0m\u001b[37m\u001b[0m \u001b[1m3s\u001b[0m 3ms/step - accuracy: 0.0033 - loss: 0.4929 - val_accuracy: 0.0022 - val_loss: 0.4626\n",
            "Epoch 147/200\n",
            "\u001b[1m516/516\u001b[0m \u001b[32m━━━━━━━━━━━━━━━━━━━━\u001b[0m\u001b[37m\u001b[0m \u001b[1m2s\u001b[0m 3ms/step - accuracy: 0.0032 - loss: 0.4783 - val_accuracy: 0.0022 - val_loss: 0.4749\n",
            "Epoch 148/200\n",
            "\u001b[1m516/516\u001b[0m \u001b[32m━━━━━━━━━━━━━━━━━━━━\u001b[0m\u001b[37m\u001b[0m \u001b[1m1s\u001b[0m 3ms/step - accuracy: 0.0030 - loss: 0.4773 - val_accuracy: 0.0022 - val_loss: 0.4823\n",
            "Epoch 149/200\n",
            "\u001b[1m516/516\u001b[0m \u001b[32m━━━━━━━━━━━━━━━━━━━━\u001b[0m\u001b[37m\u001b[0m \u001b[1m2s\u001b[0m 2ms/step - accuracy: 0.0039 - loss: 0.4524 - val_accuracy: 0.0022 - val_loss: 0.4549\n",
            "Epoch 150/200\n",
            "\u001b[1m516/516\u001b[0m \u001b[32m━━━━━━━━━━━━━━━━━━━━\u001b[0m\u001b[37m\u001b[0m \u001b[1m2s\u001b[0m 3ms/step - accuracy: 0.0026 - loss: 0.4669 - val_accuracy: 0.0022 - val_loss: 0.4746\n",
            "Epoch 151/200\n",
            "\u001b[1m516/516\u001b[0m \u001b[32m━━━━━━━━━━━━━━━━━━━━\u001b[0m\u001b[37m\u001b[0m \u001b[1m1s\u001b[0m 3ms/step - accuracy: 0.0037 - loss: 0.4829 - val_accuracy: 0.0022 - val_loss: 0.4522\n",
            "Epoch 152/200\n",
            "\u001b[1m516/516\u001b[0m \u001b[32m━━━━━━━━━━━━━━━━━━━━\u001b[0m\u001b[37m\u001b[0m \u001b[1m2s\u001b[0m 4ms/step - accuracy: 0.0029 - loss: 0.4820 - val_accuracy: 0.0022 - val_loss: 0.4607\n",
            "Epoch 153/200\n",
            "\u001b[1m516/516\u001b[0m \u001b[32m━━━━━━━━━━━━━━━━━━━━\u001b[0m\u001b[37m\u001b[0m \u001b[1m2s\u001b[0m 2ms/step - accuracy: 0.0031 - loss: 0.4623 - val_accuracy: 0.0022 - val_loss: 0.4948\n",
            "Epoch 154/200\n",
            "\u001b[1m516/516\u001b[0m \u001b[32m━━━━━━━━━━━━━━━━━━━━\u001b[0m\u001b[37m\u001b[0m \u001b[1m1s\u001b[0m 3ms/step - accuracy: 0.0035 - loss: 0.4856 - val_accuracy: 0.0022 - val_loss: 0.4512\n",
            "Epoch 155/200\n",
            "\u001b[1m516/516\u001b[0m \u001b[32m━━━━━━━━━━━━━━━━━━━━\u001b[0m\u001b[37m\u001b[0m \u001b[1m1s\u001b[0m 3ms/step - accuracy: 0.0026 - loss: 0.4781 - val_accuracy: 0.0022 - val_loss: 0.4657\n",
            "Epoch 156/200\n",
            "\u001b[1m516/516\u001b[0m \u001b[32m━━━━━━━━━━━━━━━━━━━━\u001b[0m\u001b[37m\u001b[0m \u001b[1m3s\u001b[0m 3ms/step - accuracy: 0.0033 - loss: 0.4591 - val_accuracy: 0.0022 - val_loss: 0.4632\n",
            "Epoch 157/200\n",
            "\u001b[1m516/516\u001b[0m \u001b[32m━━━━━━━━━━━━━━━━━━━━\u001b[0m\u001b[37m\u001b[0m \u001b[1m3s\u001b[0m 3ms/step - accuracy: 0.0028 - loss: 0.4721 - val_accuracy: 0.0022 - val_loss: 0.4615\n",
            "Epoch 158/200\n",
            "\u001b[1m516/516\u001b[0m \u001b[32m━━━━━━━━━━━━━━━━━━━━\u001b[0m\u001b[37m\u001b[0m \u001b[1m3s\u001b[0m 4ms/step - accuracy: 0.0038 - loss: 0.4754 - val_accuracy: 0.0022 - val_loss: 0.4519\n",
            "Epoch 159/200\n",
            "\u001b[1m516/516\u001b[0m \u001b[32m━━━━━━━━━━━━━━━━━━━━\u001b[0m\u001b[37m\u001b[0m \u001b[1m1s\u001b[0m 3ms/step - accuracy: 0.0039 - loss: 0.4759 - val_accuracy: 0.0022 - val_loss: 0.4843\n",
            "Epoch 160/200\n",
            "\u001b[1m516/516\u001b[0m \u001b[32m━━━━━━━━━━━━━━━━━━━━\u001b[0m\u001b[37m\u001b[0m \u001b[1m3s\u001b[0m 3ms/step - accuracy: 0.0029 - loss: 0.4790 - val_accuracy: 0.0022 - val_loss: 0.4874\n",
            "Epoch 161/200\n",
            "\u001b[1m516/516\u001b[0m \u001b[32m━━━━━━━━━━━━━━━━━━━━\u001b[0m\u001b[37m\u001b[0m \u001b[1m1s\u001b[0m 3ms/step - accuracy: 0.0028 - loss: 0.4848 - val_accuracy: 0.0022 - val_loss: 0.4614\n",
            "Epoch 162/200\n",
            "\u001b[1m516/516\u001b[0m \u001b[32m━━━━━━━━━━━━━━━━━━━━\u001b[0m\u001b[37m\u001b[0m \u001b[1m2s\u001b[0m 2ms/step - accuracy: 0.0028 - loss: 0.4570 - val_accuracy: 0.0022 - val_loss: 0.4593\n",
            "Epoch 163/200\n",
            "\u001b[1m516/516\u001b[0m \u001b[32m━━━━━━━━━━━━━━━━━━━━\u001b[0m\u001b[37m\u001b[0m \u001b[1m1s\u001b[0m 3ms/step - accuracy: 0.0026 - loss: 0.4822 - val_accuracy: 0.0022 - val_loss: 0.4647\n",
            "Epoch 164/200\n",
            "\u001b[1m516/516\u001b[0m \u001b[32m━━━━━━━━━━━━━━━━━━━━\u001b[0m\u001b[37m\u001b[0m \u001b[1m3s\u001b[0m 4ms/step - accuracy: 0.0033 - loss: 0.4713 - val_accuracy: 0.0022 - val_loss: 0.4515\n",
            "Epoch 165/200\n",
            "\u001b[1m516/516\u001b[0m \u001b[32m━━━━━━━━━━━━━━━━━━━━\u001b[0m\u001b[37m\u001b[0m \u001b[1m2s\u001b[0m 3ms/step - accuracy: 0.0024 - loss: 0.4567 - val_accuracy: 0.0022 - val_loss: 0.4620\n",
            "Epoch 166/200\n",
            "\u001b[1m516/516\u001b[0m \u001b[32m━━━━━━━━━━━━━━━━━━━━\u001b[0m\u001b[37m\u001b[0m \u001b[1m1s\u001b[0m 2ms/step - accuracy: 0.0034 - loss: 0.4612 - val_accuracy: 0.0022 - val_loss: 0.5130\n",
            "Epoch 167/200\n",
            "\u001b[1m516/516\u001b[0m \u001b[32m━━━━━━━━━━━━━━━━━━━━\u001b[0m\u001b[37m\u001b[0m \u001b[1m1s\u001b[0m 3ms/step - accuracy: 0.0030 - loss: 0.4909 - val_accuracy: 0.0022 - val_loss: 0.4611\n",
            "Epoch 168/200\n",
            "\u001b[1m516/516\u001b[0m \u001b[32m━━━━━━━━━━━━━━━━━━━━\u001b[0m\u001b[37m\u001b[0m \u001b[1m3s\u001b[0m 3ms/step - accuracy: 0.0032 - loss: 0.4664 - val_accuracy: 0.0022 - val_loss: 0.4613\n",
            "Epoch 169/200\n",
            "\u001b[1m516/516\u001b[0m \u001b[32m━━━━━━━━━━━━━━━━━━━━\u001b[0m\u001b[37m\u001b[0m \u001b[1m3s\u001b[0m 3ms/step - accuracy: 0.0037 - loss: 0.4682 - val_accuracy: 0.0022 - val_loss: 0.4558\n",
            "Epoch 170/200\n",
            "\u001b[1m516/516\u001b[0m \u001b[32m━━━━━━━━━━━━━━━━━━━━\u001b[0m\u001b[37m\u001b[0m \u001b[1m3s\u001b[0m 4ms/step - accuracy: 0.0032 - loss: 0.4798 - val_accuracy: 0.0022 - val_loss: 0.4758\n",
            "Epoch 171/200\n",
            "\u001b[1m516/516\u001b[0m \u001b[32m━━━━━━━━━━━━━━━━━━━━\u001b[0m\u001b[37m\u001b[0m \u001b[1m1s\u001b[0m 3ms/step - accuracy: 0.0034 - loss: 0.4909 - val_accuracy: 0.0022 - val_loss: 0.5476\n",
            "Epoch 172/200\n",
            "\u001b[1m516/516\u001b[0m \u001b[32m━━━━━━━━━━━━━━━━━━━━\u001b[0m\u001b[37m\u001b[0m \u001b[1m1s\u001b[0m 3ms/step - accuracy: 0.0025 - loss: 0.4859 - val_accuracy: 0.0022 - val_loss: 0.4522\n",
            "Epoch 173/200\n",
            "\u001b[1m516/516\u001b[0m \u001b[32m━━━━━━━━━━━━━━━━━━━━\u001b[0m\u001b[37m\u001b[0m \u001b[1m3s\u001b[0m 3ms/step - accuracy: 0.0031 - loss: 0.4935 - val_accuracy: 0.0022 - val_loss: 0.4487\n",
            "Epoch 174/200\n",
            "\u001b[1m516/516\u001b[0m \u001b[32m━━━━━━━━━━━━━━━━━━━━\u001b[0m\u001b[37m\u001b[0m \u001b[1m1s\u001b[0m 2ms/step - accuracy: 0.0029 - loss: 0.4875 - val_accuracy: 0.0022 - val_loss: 0.4538\n",
            "Epoch 175/200\n",
            "\u001b[1m516/516\u001b[0m \u001b[32m━━━━━━━━━━━━━━━━━━━━\u001b[0m\u001b[37m\u001b[0m \u001b[1m1s\u001b[0m 3ms/step - accuracy: 0.0030 - loss: 0.4627 - val_accuracy: 0.0022 - val_loss: 0.4505\n",
            "Epoch 176/200\n",
            "\u001b[1m516/516\u001b[0m \u001b[32m━━━━━━━━━━━━━━━━━━━━\u001b[0m\u001b[37m\u001b[0m \u001b[1m1s\u001b[0m 2ms/step - accuracy: 0.0028 - loss: 0.4778 - val_accuracy: 0.0022 - val_loss: 0.4552\n",
            "Epoch 177/200\n",
            "\u001b[1m516/516\u001b[0m \u001b[32m━━━━━━━━━━━━━━━━━━━━\u001b[0m\u001b[37m\u001b[0m \u001b[1m2s\u001b[0m 3ms/step - accuracy: 0.0028 - loss: 0.4659 - val_accuracy: 0.0022 - val_loss: 0.4484\n",
            "Epoch 178/200\n",
            "\u001b[1m516/516\u001b[0m \u001b[32m━━━━━━━━━━━━━━━━━━━━\u001b[0m\u001b[37m\u001b[0m \u001b[1m2s\u001b[0m 3ms/step - accuracy: 0.0030 - loss: 0.4634 - val_accuracy: 0.0022 - val_loss: 0.4491\n",
            "Epoch 179/200\n",
            "\u001b[1m516/516\u001b[0m \u001b[32m━━━━━━━━━━━━━━━━━━━━\u001b[0m\u001b[37m\u001b[0m \u001b[1m1s\u001b[0m 3ms/step - accuracy: 0.0039 - loss: 0.4759 - val_accuracy: 0.0022 - val_loss: 0.4532\n",
            "Epoch 180/200\n",
            "\u001b[1m516/516\u001b[0m \u001b[32m━━━━━━━━━━━━━━━━━━━━\u001b[0m\u001b[37m\u001b[0m \u001b[1m3s\u001b[0m 3ms/step - accuracy: 0.0027 - loss: 0.4696 - val_accuracy: 0.0022 - val_loss: 0.4506\n",
            "Epoch 181/200\n",
            "\u001b[1m516/516\u001b[0m \u001b[32m━━━━━━━━━━━━━━━━━━━━\u001b[0m\u001b[37m\u001b[0m \u001b[1m2s\u001b[0m 3ms/step - accuracy: 0.0030 - loss: 0.4918 - val_accuracy: 0.0022 - val_loss: 0.4571\n",
            "Epoch 182/200\n",
            "\u001b[1m516/516\u001b[0m \u001b[32m━━━━━━━━━━━━━━━━━━━━\u001b[0m\u001b[37m\u001b[0m \u001b[1m3s\u001b[0m 3ms/step - accuracy: 0.0036 - loss: 0.4700 - val_accuracy: 0.0022 - val_loss: 0.4731\n",
            "Epoch 183/200\n",
            "\u001b[1m516/516\u001b[0m \u001b[32m━━━━━━━━━━━━━━━━━━━━\u001b[0m\u001b[37m\u001b[0m \u001b[1m2s\u001b[0m 3ms/step - accuracy: 0.0025 - loss: 0.4744 - val_accuracy: 0.0022 - val_loss: 0.4709\n",
            "Epoch 184/200\n",
            "\u001b[1m516/516\u001b[0m \u001b[32m━━━━━━━━━━━━━━━━━━━━\u001b[0m\u001b[37m\u001b[0m \u001b[1m2s\u001b[0m 3ms/step - accuracy: 0.0030 - loss: 0.4687 - val_accuracy: 0.0022 - val_loss: 0.4991\n",
            "Epoch 185/200\n",
            "\u001b[1m516/516\u001b[0m \u001b[32m━━━━━━━━━━━━━━━━━━━━\u001b[0m\u001b[37m\u001b[0m \u001b[1m3s\u001b[0m 3ms/step - accuracy: 0.0028 - loss: 0.4729 - val_accuracy: 0.0022 - val_loss: 0.4848\n",
            "Epoch 186/200\n",
            "\u001b[1m516/516\u001b[0m \u001b[32m━━━━━━━━━━━━━━━━━━━━\u001b[0m\u001b[37m\u001b[0m \u001b[1m1s\u001b[0m 3ms/step - accuracy: 0.0033 - loss: 0.4690 - val_accuracy: 0.0022 - val_loss: 0.4457\n",
            "Epoch 187/200\n",
            "\u001b[1m516/516\u001b[0m \u001b[32m━━━━━━━━━━━━━━━━━━━━\u001b[0m\u001b[37m\u001b[0m \u001b[1m1s\u001b[0m 3ms/step - accuracy: 0.0030 - loss: 0.4689 - val_accuracy: 0.0022 - val_loss: 0.4483\n",
            "Epoch 188/200\n",
            "\u001b[1m516/516\u001b[0m \u001b[32m━━━━━━━━━━━━━━━━━━━━\u001b[0m\u001b[37m\u001b[0m \u001b[1m1s\u001b[0m 3ms/step - accuracy: 0.0034 - loss: 0.4757 - val_accuracy: 0.0022 - val_loss: 0.4896\n",
            "Epoch 189/200\n",
            "\u001b[1m516/516\u001b[0m \u001b[32m━━━━━━━━━━━━━━━━━━━━\u001b[0m\u001b[37m\u001b[0m \u001b[1m1s\u001b[0m 3ms/step - accuracy: 0.0044 - loss: 0.4695 - val_accuracy: 0.0022 - val_loss: 0.4561\n",
            "Epoch 190/200\n",
            "\u001b[1m516/516\u001b[0m \u001b[32m━━━━━━━━━━━━━━━━━━━━\u001b[0m\u001b[37m\u001b[0m \u001b[1m2s\u001b[0m 3ms/step - accuracy: 0.0026 - loss: 0.4664 - val_accuracy: 0.0022 - val_loss: 0.4553\n",
            "Epoch 191/200\n",
            "\u001b[1m516/516\u001b[0m \u001b[32m━━━━━━━━━━━━━━━━━━━━\u001b[0m\u001b[37m\u001b[0m \u001b[1m2s\u001b[0m 4ms/step - accuracy: 0.0032 - loss: 0.4561 - val_accuracy: 0.0022 - val_loss: 0.4699\n",
            "Epoch 192/200\n",
            "\u001b[1m516/516\u001b[0m \u001b[32m━━━━━━━━━━━━━━━━━━━━\u001b[0m\u001b[37m\u001b[0m \u001b[1m2s\u001b[0m 3ms/step - accuracy: 0.0034 - loss: 0.4716 - val_accuracy: 0.0022 - val_loss: 0.4527\n",
            "Epoch 193/200\n",
            "\u001b[1m516/516\u001b[0m \u001b[32m━━━━━━━━━━━━━━━━━━━━\u001b[0m\u001b[37m\u001b[0m \u001b[1m2s\u001b[0m 3ms/step - accuracy: 0.0033 - loss: 0.4544 - val_accuracy: 0.0022 - val_loss: 0.4546\n",
            "Epoch 194/200\n",
            "\u001b[1m516/516\u001b[0m \u001b[32m━━━━━━━━━━━━━━━━━━━━\u001b[0m\u001b[37m\u001b[0m \u001b[1m1s\u001b[0m 3ms/step - accuracy: 0.0028 - loss: 0.4983 - val_accuracy: 0.0022 - val_loss: 0.4496\n",
            "Epoch 195/200\n",
            "\u001b[1m516/516\u001b[0m \u001b[32m━━━━━━━━━━━━━━━━━━━━\u001b[0m\u001b[37m\u001b[0m \u001b[1m1s\u001b[0m 2ms/step - accuracy: 0.0035 - loss: 0.4852 - val_accuracy: 0.0022 - val_loss: 0.4487\n",
            "Epoch 196/200\n",
            "\u001b[1m516/516\u001b[0m \u001b[32m━━━━━━━━━━━━━━━━━━━━\u001b[0m\u001b[37m\u001b[0m \u001b[1m3s\u001b[0m 3ms/step - accuracy: 0.0031 - loss: 0.4787 - val_accuracy: 0.0022 - val_loss: 0.4785\n",
            "Epoch 197/200\n",
            "\u001b[1m516/516\u001b[0m \u001b[32m━━━━━━━━━━━━━━━━━━━━\u001b[0m\u001b[37m\u001b[0m \u001b[1m3s\u001b[0m 3ms/step - accuracy: 0.0039 - loss: 0.4723 - val_accuracy: 0.0022 - val_loss: 0.4613\n",
            "Epoch 198/200\n",
            "\u001b[1m516/516\u001b[0m \u001b[32m━━━━━━━━━━━━━━━━━━━━\u001b[0m\u001b[37m\u001b[0m \u001b[1m2s\u001b[0m 3ms/step - accuracy: 0.0029 - loss: 0.4800 - val_accuracy: 0.0022 - val_loss: 0.4493\n",
            "Epoch 199/200\n",
            "\u001b[1m516/516\u001b[0m \u001b[32m━━━━━━━━━━━━━━━━━━━━\u001b[0m\u001b[37m\u001b[0m \u001b[1m2s\u001b[0m 3ms/step - accuracy: 0.0031 - loss: 0.4565 - val_accuracy: 0.0022 - val_loss: 0.5367\n",
            "Epoch 200/200\n",
            "\u001b[1m516/516\u001b[0m \u001b[32m━━━━━━━━━━━━━━━━━━━━\u001b[0m\u001b[37m\u001b[0m \u001b[1m1s\u001b[0m 2ms/step - accuracy: 0.0033 - loss: 0.4771 - val_accuracy: 0.0022 - val_loss: 0.4474\n"
          ]
        }
      ]
    },
    {
      "cell_type": "code",
      "source": [
        "print(history.history)"
      ],
      "metadata": {
        "colab": {
          "base_uri": "https://localhost:8080/"
        },
        "id": "p3uO_xSZr2fw",
        "outputId": "850ee033-4dac-4ea0-ff3e-6f27536ceb79"
      },
      "execution_count": 43,
      "outputs": [
        {
          "output_type": "stream",
          "name": "stdout",
          "text": [
            "{'accuracy': [0.0026647287886589766, 0.0032097867224365473, 0.0032097867224365473, 0.0032097867224365473, 0.0032097867224365473, 0.0032097867224365473, 0.0032097867224365473, 0.0032097867224365473, 0.0032097867224365473, 0.0032097867224365473, 0.0032097867224365473, 0.0032097867224365473, 0.0032097867224365473, 0.0032097867224365473, 0.0032097867224365473, 0.0032097867224365473, 0.0032097867224365473, 0.0032097867224365473, 0.0032097867224365473, 0.0032097867224365473, 0.0032097867224365473, 0.0031492249108850956, 0.0032097867224365473, 0.0031492249108850956, 0.0031492249108850956, 0.0031492249108850956, 0.0031492249108850956, 0.0031492249108850956, 0.0031492249108850956, 0.0031492249108850956, 0.0031492249108850956, 0.0031492249108850956, 0.0031492249108850956, 0.0031492249108850956, 0.0031492249108850956, 0.0031492249108850956, 0.0031492249108850956, 0.0031492249108850956, 0.0031492249108850956, 0.0031492249108850956, 0.0031492249108850956, 0.0031492249108850956, 0.0031492249108850956, 0.0031492249108850956, 0.0031492249108850956, 0.0031492249108850956, 0.0031492249108850956, 0.0031492249108850956, 0.0031492249108850956, 0.0031492249108850956, 0.0031492249108850956, 0.0031492249108850956, 0.0031492249108850956, 0.0031492249108850956, 0.0031492249108850956, 0.0031492249108850956, 0.0031492249108850956, 0.0031492249108850956, 0.0031492249108850956, 0.0031492249108850956, 0.0031492249108850956, 0.0031492249108850956, 0.0031492249108850956, 0.0031492249108850956, 0.0031492249108850956, 0.0031492249108850956, 0.0031492249108850956, 0.0031492249108850956, 0.0031492249108850956, 0.0031492249108850956, 0.0031492249108850956, 0.0031492249108850956, 0.0031492249108850956, 0.0031492249108850956, 0.0031492249108850956, 0.0031492249108850956, 0.0031492249108850956, 0.0031492249108850956, 0.0032097867224365473, 0.0031492249108850956, 0.0032097867224365473, 0.0031492249108850956, 0.0032097867224365473, 0.0031492249108850956, 0.0031492249108850956, 0.0031492249108850956, 0.0031492249108850956, 0.0031492249108850956, 0.0031492249108850956, 0.0031492249108850956, 0.0031492249108850956, 0.0031492249108850956, 0.0031492249108850956, 0.0031492249108850956, 0.0032097867224365473, 0.0031492249108850956, 0.0031492249108850956, 0.0031492249108850956, 0.0031492249108850956, 0.0031492249108850956, 0.0031492249108850956, 0.0031492249108850956, 0.0031492249108850956, 0.0031492249108850956, 0.0032097867224365473, 0.0032097867224365473, 0.0031492249108850956, 0.0031492249108850956, 0.0031492249108850956, 0.0031492249108850956, 0.0031492249108850956, 0.0031492249108850956, 0.0031492249108850956, 0.0031492249108850956, 0.0032097867224365473, 0.0031492249108850956, 0.0031492249108850956, 0.0032097867224365473, 0.0031492249108850956, 0.0031492249108850956, 0.0032097867224365473, 0.0031492249108850956, 0.0032097867224365473, 0.0031492249108850956, 0.0031492249108850956, 0.0031492249108850956, 0.0031492249108850956, 0.0031492249108850956, 0.0031492249108850956, 0.0031492249108850956, 0.0031492249108850956, 0.0031492249108850956, 0.0031492249108850956, 0.0032097867224365473, 0.0032097867224365473, 0.0031492249108850956, 0.0032097867224365473, 0.0031492249108850956, 0.0031492249108850956, 0.0032097867224365473, 0.0031492249108850956, 0.0031492249108850956, 0.0032097867224365473, 0.0031492249108850956, 0.0031492249108850956, 0.0031492249108850956, 0.0031492249108850956, 0.0031492249108850956, 0.0031492249108850956, 0.0031492249108850956, 0.0031492249108850956, 0.0031492249108850956, 0.0031492249108850956, 0.0032097867224365473, 0.0031492249108850956, 0.0031492249108850956, 0.0031492249108850956, 0.0031492249108850956, 0.0031492249108850956, 0.0031492249108850956, 0.0032097867224365473, 0.0031492249108850956, 0.0031492249108850956, 0.0032097867224365473, 0.0031492249108850956, 0.0032097867224365473, 0.0032097867224365473, 0.0031492249108850956, 0.0032097867224365473, 0.0031492249108850956, 0.0031492249108850956, 0.0032097867224365473, 0.0031492249108850956, 0.0031492249108850956, 0.0032097867224365473, 0.0032097867224365473, 0.0032097867224365473, 0.0031492249108850956, 0.0031492249108850956, 0.0031492249108850956, 0.0031492249108850956, 0.0032097867224365473, 0.0032097867224365473, 0.0031492249108850956, 0.0031492249108850956, 0.0031492249108850956, 0.0031492249108850956, 0.0032097867224365473, 0.0032097867224365473, 0.0032097867224365473, 0.0031492249108850956, 0.0032097867224365473, 0.0031492249108850956, 0.0031492249108850956, 0.0031492249108850956, 0.0031492249108850956, 0.0031492249108850956, 0.0031492249108850956, 0.0031492249108850956, 0.0031492249108850956, 0.0032097867224365473, 0.0031492249108850956, 0.0031492249108850956, 0.0031492249108850956, 0.0032097867224365473, 0.0032097867224365473, 0.0032097867224365473, 0.0031492249108850956, 0.0031492249108850956, 0.0032097867224365473, 0.0032097867224365473, 0.0032097867224365473, 0.0032097867224365473, 0.0031492249108850956, 0.0031492249108850956, 0.0031492249108850956, 0.0031492249108850956, 0.0031492249108850956, 0.0031492249108850956, 0.0031492249108850956, 0.0032097867224365473, 0.0032097867224365473, 0.0031492249108850956, 0.0031492249108850956, 0.0031492249108850956, 0.0032097867224365473, 0.0031492249108850956, 0.0032097867224365473, 0.0032097867224365473, 0.0032097867224365473, 0.0031492249108850956, 0.0031492249108850956, 0.0031492249108850956, 0.0031492249108850956, 0.0032097867224365473, 0.0031492249108850956, 0.0032097867224365473, 0.0032097867224365473, 0.0031492249108850956, 0.0032097867224365473, 0.0032097867224365473, 0.0031492249108850956, 0.0031492249108850956, 0.0031492249108850956, 0.0031492249108850956, 0.0032097867224365473, 0.0031492249108850956, 0.0031492249108850956, 0.0031492249108850956, 0.0031492249108850956], 'loss': [2.1279449462890625, 1.3142467737197876, 1.2902748584747314, 1.2533612251281738, 1.2047333717346191, 1.1458147764205933, 1.080360770225525, 1.012432336807251, 0.9501380920410156, 0.8896722793579102, 0.8367360234260559, 0.7905047535896301, 0.7533202767372131, 0.7220484614372253, 0.6997749209403992, 0.6848912835121155, 0.6732968091964722, 0.6642915606498718, 0.6587119102478027, 0.6522824764251709, 0.6489563584327698, 0.6456326246261597, 0.6418333053588867, 0.6410983800888062, 0.6394273638725281, 0.6392933130264282, 0.635911226272583, 0.6347036957740784, 0.6343130469322205, 0.6330927610397339, 0.630662739276886, 0.6301069259643555, 0.6291252374649048, 0.628174901008606, 0.626239001750946, 0.6250844597816467, 0.6247747540473938, 0.6250307559967041, 0.6216918230056763, 0.6208784580230713, 0.6192342638969421, 0.6194419860839844, 0.617358386516571, 0.6161004304885864, 0.6142338514328003, 0.6145531535148621, 0.6132321357727051, 0.6123047471046448, 0.612240195274353, 0.6104575395584106, 0.6096919178962708, 0.6094986200332642, 0.6065578460693359, 0.605649471282959, 0.6046879887580872, 0.6051452159881592, 0.6023655533790588, 0.6015014052391052, 0.6016539335250854, 0.5991368889808655, 0.5995877385139465, 0.59712153673172, 0.5948107838630676, 0.5942975878715515, 0.5928182601928711, 0.5928083062171936, 0.5911511182785034, 0.5901259779930115, 0.5879712700843811, 0.5873003602027893, 0.5857610106468201, 0.5851823687553406, 0.5825745463371277, 0.5817922353744507, 0.5785391926765442, 0.579095721244812, 0.5764024257659912, 0.5746380686759949, 0.5724140405654907, 0.5694514513015747, 0.5698052644729614, 0.5671826601028442, 0.5649291276931763, 0.5629128813743591, 0.5614987015724182, 0.559217095375061, 0.5590238571166992, 0.5546502470970154, 0.552885115146637, 0.5531113147735596, 0.5487304329872131, 0.5484626889228821, 0.5457361936569214, 0.5440254211425781, 0.5426337122917175, 0.5396177172660828, 0.5392060279846191, 0.5362597107887268, 0.5359838604927063, 0.5338708758354187, 0.5308111906051636, 0.5293682217597961, 0.5284023284912109, 0.5262991189956665, 0.5251120924949646, 0.5233738422393799, 0.523682713508606, 0.521056592464447, 0.5199072360992432, 0.5175129771232605, 0.5168145895004272, 0.515123724937439, 0.5144002437591553, 0.5130456686019897, 0.5133473873138428, 0.5137185454368591, 0.509850800037384, 0.5097818374633789, 0.5077815651893616, 0.5061607956886292, 0.506069540977478, 0.5045775175094604, 0.5043234825134277, 0.5025203824043274, 0.5022658705711365, 0.5025193691253662, 0.49898776412010193, 0.4996257424354553, 0.4990585148334503, 0.49798884987831116, 0.4963614344596863, 0.49581319093704224, 0.4957464933395386, 0.4961467981338501, 0.49524375796318054, 0.49344930052757263, 0.4928911328315735, 0.49375587701797485, 0.49089086055755615, 0.49095332622528076, 0.4908815324306488, 0.4909287691116333, 0.4905029237270355, 0.4886026680469513, 0.4900854527950287, 0.4883197844028473, 0.48974889516830444, 0.4890797436237335, 0.48691418766975403, 0.487900972366333, 0.48507633805274963, 0.48532208800315857, 0.48358672857284546, 0.4840391278266907, 0.48554274439811707, 0.4841829538345337, 0.48316285014152527, 0.4844276010990143, 0.4842285215854645, 0.4834786355495453, 0.48329082131385803, 0.4810801148414612, 0.4818618595600128, 0.481689453125, 0.48048749566078186, 0.48176309466362, 0.48053136467933655, 0.47934117913246155, 0.47905099391937256, 0.47879594564437866, 0.4802534580230713, 0.47968578338623047, 0.47933200001716614, 0.4791622757911682, 0.4777664244174957, 0.4789905548095703, 0.47834473848342896, 0.47685450315475464, 0.47702756524086, 0.47784069180488586, 0.4754902422428131, 0.47637486457824707, 0.47779354453086853, 0.4762952923774719, 0.4750857353210449, 0.4768644869327545, 0.476580411195755, 0.47449031472206116, 0.4757255017757416, 0.4731629490852356, 0.4738668203353882, 0.47437626123428345, 0.47320231795310974, 0.47306251525878906, 0.47237154841423035, 0.47389665246009827, 0.47432735562324524, 0.47235313057899475, 0.4724789559841156, 0.47192659974098206, 0.47146856784820557, 0.47193071246147156, 0.4734325408935547, 0.4710184931755066, 0.47319918870925903, 0.4719541370868683, 0.4716538190841675, 0.47031018137931824, 0.4713543951511383, 0.46934789419174194, 0.470995157957077, 0.4715864062309265, 0.4695420563220978, 0.4685739576816559, 0.46870675683021545, 0.46955156326293945, 0.46791133284568787, 0.4692477285861969, 0.47049325704574585, 0.46908050775527954, 0.46983960270881653, 0.4680211544036865, 0.4676648676395416, 0.46764594316482544, 0.4671594202518463, 0.46751660108566284, 0.46758827567100525, 0.46746161580085754, 0.46686792373657227, 0.46560168266296387, 0.46726444363594055, 0.46649354696273804, 0.4672020971775055, 0.46643364429473877, 0.46595144271850586, 0.4690689444541931, 0.46701833605766296, 0.46624690294265747, 0.4668206572532654, 0.46727898716926575, 0.4654279947280884, 0.46723857522010803, 0.465349942445755, 0.4646085798740387, 0.464441180229187, 0.46586400270462036, 0.46490463614463806, 0.4660228192806244, 0.46565788984298706, 0.46433520317077637], 'val_accuracy': [0.0021802326664328575, 0.0021802326664328575, 0.0021802326664328575, 0.0021802326664328575, 0.0021802326664328575, 0.0021802326664328575, 0.0021802326664328575, 0.0021802326664328575, 0.0021802326664328575, 0.0021802326664328575, 0.0021802326664328575, 0.0021802326664328575, 0.0021802326664328575, 0.0021802326664328575, 0.0021802326664328575, 0.0021802326664328575, 0.0021802326664328575, 0.0021802326664328575, 0.0021802326664328575, 0.0021802326664328575, 0.0021802326664328575, 0.0021802326664328575, 0.0021802326664328575, 0.0021802326664328575, 0.0021802326664328575, 0.0021802326664328575, 0.0021802326664328575, 0.0021802326664328575, 0.0021802326664328575, 0.0021802326664328575, 0.0021802326664328575, 0.0021802326664328575, 0.0021802326664328575, 0.0021802326664328575, 0.0021802326664328575, 0.0021802326664328575, 0.0021802326664328575, 0.0021802326664328575, 0.0021802326664328575, 0.0021802326664328575, 0.0021802326664328575, 0.0021802326664328575, 0.0021802326664328575, 0.0021802326664328575, 0.0021802326664328575, 0.0021802326664328575, 0.0021802326664328575, 0.0021802326664328575, 0.0021802326664328575, 0.0021802326664328575, 0.0021802326664328575, 0.0021802326664328575, 0.0021802326664328575, 0.0021802326664328575, 0.0021802326664328575, 0.0021802326664328575, 0.0021802326664328575, 0.0021802326664328575, 0.0021802326664328575, 0.0021802326664328575, 0.0021802326664328575, 0.0021802326664328575, 0.0021802326664328575, 0.0021802326664328575, 0.0021802326664328575, 0.0021802326664328575, 0.0021802326664328575, 0.0021802326664328575, 0.0021802326664328575, 0.0021802326664328575, 0.0021802326664328575, 0.0021802326664328575, 0.0021802326664328575, 0.0021802326664328575, 0.0021802326664328575, 0.0021802326664328575, 0.0021802326664328575, 0.0021802326664328575, 0.0021802326664328575, 0.0021802326664328575, 0.0021802326664328575, 0.0021802326664328575, 0.0021802326664328575, 0.0021802326664328575, 0.0021802326664328575, 0.0021802326664328575, 0.0021802326664328575, 0.0021802326664328575, 0.0021802326664328575, 0.0021802326664328575, 0.0021802326664328575, 0.0021802326664328575, 0.0021802326664328575, 0.0021802326664328575, 0.0021802326664328575, 0.0021802326664328575, 0.0021802326664328575, 0.0021802326664328575, 0.0021802326664328575, 0.0021802326664328575, 0.0021802326664328575, 0.0021802326664328575, 0.0021802326664328575, 0.0021802326664328575, 0.0021802326664328575, 0.0021802326664328575, 0.0021802326664328575, 0.0021802326664328575, 0.0021802326664328575, 0.0021802326664328575, 0.0021802326664328575, 0.0021802326664328575, 0.0021802326664328575, 0.0021802326664328575, 0.0021802326664328575, 0.0021802326664328575, 0.0021802326664328575, 0.0021802326664328575, 0.0021802326664328575, 0.0021802326664328575, 0.0021802326664328575, 0.0021802326664328575, 0.0021802326664328575, 0.0021802326664328575, 0.0021802326664328575, 0.0021802326664328575, 0.0021802326664328575, 0.0021802326664328575, 0.0021802326664328575, 0.0021802326664328575, 0.0021802326664328575, 0.0021802326664328575, 0.0021802326664328575, 0.0021802326664328575, 0.0021802326664328575, 0.0021802326664328575, 0.0021802326664328575, 0.0021802326664328575, 0.0021802326664328575, 0.0021802326664328575, 0.0021802326664328575, 0.0021802326664328575, 0.0021802326664328575, 0.0021802326664328575, 0.0021802326664328575, 0.0021802326664328575, 0.0021802326664328575, 0.0021802326664328575, 0.0021802326664328575, 0.0021802326664328575, 0.0021802326664328575, 0.0021802326664328575, 0.0021802326664328575, 0.0021802326664328575, 0.0021802326664328575, 0.0021802326664328575, 0.0021802326664328575, 0.0021802326664328575, 0.0021802326664328575, 0.0021802326664328575, 0.0021802326664328575, 0.0021802326664328575, 0.0021802326664328575, 0.0021802326664328575, 0.0021802326664328575, 0.0021802326664328575, 0.0021802326664328575, 0.0021802326664328575, 0.0021802326664328575, 0.0021802326664328575, 0.0021802326664328575, 0.0021802326664328575, 0.0021802326664328575, 0.0021802326664328575, 0.0021802326664328575, 0.0021802326664328575, 0.0021802326664328575, 0.0021802326664328575, 0.0021802326664328575, 0.0021802326664328575, 0.0021802326664328575, 0.0021802326664328575, 0.0021802326664328575, 0.0021802326664328575, 0.0021802326664328575, 0.0021802326664328575, 0.0021802326664328575, 0.0021802326664328575, 0.0021802326664328575, 0.0021802326664328575, 0.0021802326664328575, 0.0021802326664328575, 0.0021802326664328575, 0.0021802326664328575, 0.0021802326664328575, 0.0021802326664328575, 0.0021802326664328575, 0.0021802326664328575, 0.0021802326664328575, 0.0021802326664328575, 0.0021802326664328575, 0.0021802326664328575, 0.0021802326664328575, 0.0021802326664328575, 0.0021802326664328575, 0.0021802326664328575, 0.0021802326664328575, 0.0021802326664328575, 0.0021802326664328575, 0.0021802326664328575, 0.0021802326664328575, 0.0021802326664328575, 0.0021802326664328575, 0.0021802326664328575, 0.0021802326664328575, 0.0021802326664328575, 0.0021802326664328575, 0.0021802326664328575, 0.0021802326664328575, 0.0021802326664328575, 0.0021802326664328575, 0.0021802326664328575, 0.0021802326664328575, 0.0021802326664328575, 0.0021802326664328575, 0.0021802326664328575, 0.0021802326664328575, 0.0021802326664328575, 0.0021802326664328575, 0.0021802326664328575, 0.0021802326664328575, 0.0021802326664328575, 0.0021802326664328575, 0.0021802326664328575, 0.0021802326664328575, 0.0021802326664328575, 0.0021802326664328575, 0.0021802326664328575, 0.0021802326664328575, 0.0021802326664328575, 0.0021802326664328575, 0.0021802326664328575, 0.0021802326664328575, 0.0021802326664328575, 0.0021802326664328575, 0.0021802326664328575, 0.0021802326664328575, 0.0021802326664328575, 0.0021802326664328575, 0.0021802326664328575], 'val_loss': [1.29743230342865, 1.2775123119354248, 1.248109221458435, 1.2081912755966187, 1.161042332649231, 1.097407341003418, 1.0296696424484253, 0.9681554436683655, 0.9062752723693848, 0.8584997653961182, 0.8059805631637573, 0.7663989663124084, 0.7347928881645203, 0.7114057540893555, 0.6970638036727905, 0.6855664849281311, 0.6740533709526062, 0.6685898303985596, 0.6639977693557739, 0.6628618240356445, 0.6567118763923645, 0.6569973230361938, 0.6527049541473389, 0.6560994982719421, 0.6540039777755737, 0.6501838564872742, 0.6519532203674316, 0.6484966278076172, 0.6448688507080078, 0.659561038017273, 0.6425776481628418, 0.6412873864173889, 0.6407361626625061, 0.6391007900238037, 0.6381538510322571, 0.6501943469047546, 0.637525200843811, 0.6350427865982056, 0.6339300870895386, 0.6385060548782349, 0.633073091506958, 0.6307165622711182, 0.6313638091087341, 0.6291472315788269, 0.6276901960372925, 0.6269187331199646, 0.6258312463760376, 0.6251052618026733, 0.6385430693626404, 0.6229769587516785, 0.6250336170196533, 0.6209149956703186, 0.6245223879814148, 0.6189919114112854, 0.62151038646698, 0.6168813109397888, 0.6265531182289124, 0.6163932681083679, 0.6147252321243286, 0.6141076683998108, 0.6116585731506348, 0.6114240288734436, 0.6097240447998047, 0.6158707141876221, 0.6105762124061584, 0.609991192817688, 0.6046174764633179, 0.6064512133598328, 0.6036245226860046, 0.6024976372718811, 0.6008123159408569, 0.6060458421707153, 0.5965818762779236, 0.6006333827972412, 0.6212856769561768, 0.5919703841209412, 0.5912265181541443, 0.590697705745697, 0.5868547558784485, 0.5917094945907593, 0.5877867341041565, 0.5964261293411255, 0.5916755199432373, 0.5851422548294067, 0.580467939376831, 0.5741389989852905, 0.5750032067298889, 0.5709533095359802, 0.5692654252052307, 0.5722066164016724, 0.5709954500198364, 0.5701249837875366, 0.5625236630439758, 0.5716302394866943, 0.5605016350746155, 0.559748649597168, 0.5660350918769836, 0.5536234974861145, 0.5557335615158081, 0.5521875023841858, 0.5598633885383606, 0.5500556230545044, 0.5607669353485107, 0.5449050664901733, 0.5434746742248535, 0.5479111671447754, 0.5408602952957153, 0.551226019859314, 0.5394455194473267, 0.5461593270301819, 0.5364946126937866, 0.5342095494270325, 0.5327422618865967, 0.5317391157150269, 0.5323815941810608, 0.5316945910453796, 0.5327777862548828, 0.5628896355628967, 0.5288158655166626, 0.537575364112854, 0.5274394154548645, 0.5296627283096313, 0.5273909568786621, 0.5275110006332397, 0.5247256755828857, 0.5273352265357971, 0.5200536251068115, 0.519473671913147, 0.5186979174613953, 0.5189138054847717, 0.5282911658287048, 0.5177730917930603, 0.5214226841926575, 0.5168579816818237, 0.5168596506118774, 0.5219964981079102, 0.5261383652687073, 0.5241892337799072, 0.5127477049827576, 0.5148082375526428, 0.5121843814849854, 0.5163438320159912, 0.5127324461936951, 0.5186295509338379, 0.5105636715888977, 0.5095531344413757, 0.5189695358276367, 0.522933304309845, 0.5075554847717285, 0.5110139846801758, 0.5066536664962769, 0.5115519762039185, 0.5102055668830872, 0.5139537453651428, 0.509751558303833, 0.5053972601890564, 0.5067320466041565, 0.5251628756523132, 0.5056201815605164, 0.5078626275062561, 0.5027674436569214, 0.5023854970932007, 0.502062201499939, 0.5023683905601501, 0.5031045079231262, 0.5002885460853577, 0.5025399327278137, 0.4999784231185913, 0.5033378005027771, 0.5002530813217163, 0.5062928199768066, 0.5000383853912354, 0.502045750617981, 0.5003143548965454, 0.4988235831260681, 0.5035825967788696, 0.49842774868011475, 0.5575913190841675, 0.5103745460510254, 0.5024078488349915, 0.504873514175415, 0.5041584968566895, 0.49572616815567017, 0.49751168489456177, 0.49697449803352356, 0.495714396238327, 0.4953501224517822, 0.503791093826294, 0.4961772561073303, 0.4959706664085388, 0.4946649372577667, 0.49413439631462097, 0.49544426798820496, 0.4948286712169647, 0.5035243630409241, 0.493511438369751, 0.4931880533695221, 0.4960348904132843, 0.49473872780799866, 0.4983336627483368, 0.4933009445667267, 0.49705642461776733, 0.4919763505458832, 0.49120032787323, 0.4915272891521454, 0.49957647919654846, 0.49004754424095154, 0.4897928237915039, 0.5034777522087097, 0.4926677346229553, 0.4898880422115326, 0.48703116178512573, 0.4907589554786682, 0.48664912581443787, 0.48873043060302734, 0.4878495931625366, 0.4875977039337158, 0.4915839433670044, 0.4854593873023987, 0.4889172613620758, 0.4940571188926697, 0.49022892117500305, 0.48607513308525085, 0.48646223545074463, 0.5110708475112915, 0.4843715727329254, 0.48468947410583496, 0.4832681119441986, 0.4945068359375, 0.49356094002723694, 0.48656749725341797, 0.5082752704620361, 0.48372069001197815, 0.48334819078445435, 0.48371264338493347, 0.48731040954589844, 0.5051572322845459, 0.48553231358528137, 0.4814310073852539, 0.48266372084617615, 0.48204436898231506, 0.4836432933807373, 0.48318222165107727, 0.48784080147743225, 0.48172587156295776, 0.48129507899284363, 0.4837004244327545, 0.4825189411640167, 0.4811502993106842, 0.48938941955566406]}\n"
          ]
        }
      ]
    },
    {
      "cell_type": "code",
      "source": [
        "# Evaluate on test set\n",
        "test_loss, accuracy = model_2.evaluate(X_test, y_test, verbose=2)\n",
        "print(f\"\\nTest MSE: {test_loss:.4f}, Test accuracy: {accuracy:.4f}\")\n",
        "\n",
        "# Model summary\n",
        "print(\"\\nModel Summary:\")\n",
        "model_2.summary()\n",
        "\n",
        "plt.figure(figsize=(10, 6))\n",
        "plt.plot(history_2.history['loss'], label='Training Loss (MSE)')\n",
        "plt.plot(history_2.history['val_loss'], label='Validation Loss (MSE)')\n",
        "plt.title('Training vs Validation Loss')\n",
        "plt.xlabel('Epoch')\n",
        "plt.ylabel('Mean Squared Error')\n",
        "plt.legend()\n",
        "plt.grid(True)\n",
        "plt.show()"
      ],
      "metadata": {
        "colab": {
          "base_uri": "https://localhost:8080/",
          "height": 962
        },
        "id": "UR8O5mKoqVew",
        "outputId": "09e07a95-8a87-4cdc-b740-d513a4cc0056"
      },
      "execution_count": 44,
      "outputs": [
        {
          "output_type": "stream",
          "name": "stdout",
          "text": [
            "129/129 - 0s - 2ms/step - accuracy: 0.0022 - loss: 0.4474\n",
            "\n",
            "Test MSE: 0.4474, Test accuracy: 0.0022\n",
            "\n",
            "Model Summary:\n"
          ]
        },
        {
          "output_type": "display_data",
          "data": {
            "text/plain": [
              "\u001b[1mModel: \"sequential_5\"\u001b[0m\n"
            ],
            "text/html": [
              "<pre style=\"white-space:pre;overflow-x:auto;line-height:normal;font-family:Menlo,'DejaVu Sans Mono',consolas,'Courier New',monospace\"><span style=\"font-weight: bold\">Model: \"sequential_5\"</span>\n",
              "</pre>\n"
            ]
          },
          "metadata": {}
        },
        {
          "output_type": "display_data",
          "data": {
            "text/plain": [
              "┏━━━━━━━━━━━━━━━━━━━━━━━━━━━━━━━━━┳━━━━━━━━━━━━━━━━━━━━━━━━┳━━━━━━━━━━━━━━━┓\n",
              "┃\u001b[1m \u001b[0m\u001b[1mLayer (type)                   \u001b[0m\u001b[1m \u001b[0m┃\u001b[1m \u001b[0m\u001b[1mOutput Shape          \u001b[0m\u001b[1m \u001b[0m┃\u001b[1m \u001b[0m\u001b[1m      Param #\u001b[0m\u001b[1m \u001b[0m┃\n",
              "┡━━━━━━━━━━━━━━━━━━━━━━━━━━━━━━━━━╇━━━━━━━━━━━━━━━━━━━━━━━━╇━━━━━━━━━━━━━━━┩\n",
              "│ dense_16 (\u001b[38;5;33mDense\u001b[0m)                │ (\u001b[38;5;45mNone\u001b[0m, \u001b[38;5;34m64\u001b[0m)             │           \u001b[38;5;34m576\u001b[0m │\n",
              "├─────────────────────────────────┼────────────────────────┼───────────────┤\n",
              "│ dropout_6 (\u001b[38;5;33mDropout\u001b[0m)             │ (\u001b[38;5;45mNone\u001b[0m, \u001b[38;5;34m64\u001b[0m)             │             \u001b[38;5;34m0\u001b[0m │\n",
              "├─────────────────────────────────┼────────────────────────┼───────────────┤\n",
              "│ dense_17 (\u001b[38;5;33mDense\u001b[0m)                │ (\u001b[38;5;45mNone\u001b[0m, \u001b[38;5;34m32\u001b[0m)             │         \u001b[38;5;34m2,080\u001b[0m │\n",
              "├─────────────────────────────────┼────────────────────────┼───────────────┤\n",
              "│ dropout_7 (\u001b[38;5;33mDropout\u001b[0m)             │ (\u001b[38;5;45mNone\u001b[0m, \u001b[38;5;34m32\u001b[0m)             │             \u001b[38;5;34m0\u001b[0m │\n",
              "├─────────────────────────────────┼────────────────────────┼───────────────┤\n",
              "│ dense_18 (\u001b[38;5;33mDense\u001b[0m)                │ (\u001b[38;5;45mNone\u001b[0m, \u001b[38;5;34m16\u001b[0m)             │           \u001b[38;5;34m528\u001b[0m │\n",
              "├─────────────────────────────────┼────────────────────────┼───────────────┤\n",
              "│ dense_19 (\u001b[38;5;33mDense\u001b[0m)                │ (\u001b[38;5;45mNone\u001b[0m, \u001b[38;5;34m1\u001b[0m)              │            \u001b[38;5;34m17\u001b[0m │\n",
              "└─────────────────────────────────┴────────────────────────┴───────────────┘\n"
            ],
            "text/html": [
              "<pre style=\"white-space:pre;overflow-x:auto;line-height:normal;font-family:Menlo,'DejaVu Sans Mono',consolas,'Courier New',monospace\">┏━━━━━━━━━━━━━━━━━━━━━━━━━━━━━━━━━┳━━━━━━━━━━━━━━━━━━━━━━━━┳━━━━━━━━━━━━━━━┓\n",
              "┃<span style=\"font-weight: bold\"> Layer (type)                    </span>┃<span style=\"font-weight: bold\"> Output Shape           </span>┃<span style=\"font-weight: bold\">       Param # </span>┃\n",
              "┡━━━━━━━━━━━━━━━━━━━━━━━━━━━━━━━━━╇━━━━━━━━━━━━━━━━━━━━━━━━╇━━━━━━━━━━━━━━━┩\n",
              "│ dense_16 (<span style=\"color: #0087ff; text-decoration-color: #0087ff\">Dense</span>)                │ (<span style=\"color: #00d7ff; text-decoration-color: #00d7ff\">None</span>, <span style=\"color: #00af00; text-decoration-color: #00af00\">64</span>)             │           <span style=\"color: #00af00; text-decoration-color: #00af00\">576</span> │\n",
              "├─────────────────────────────────┼────────────────────────┼───────────────┤\n",
              "│ dropout_6 (<span style=\"color: #0087ff; text-decoration-color: #0087ff\">Dropout</span>)             │ (<span style=\"color: #00d7ff; text-decoration-color: #00d7ff\">None</span>, <span style=\"color: #00af00; text-decoration-color: #00af00\">64</span>)             │             <span style=\"color: #00af00; text-decoration-color: #00af00\">0</span> │\n",
              "├─────────────────────────────────┼────────────────────────┼───────────────┤\n",
              "│ dense_17 (<span style=\"color: #0087ff; text-decoration-color: #0087ff\">Dense</span>)                │ (<span style=\"color: #00d7ff; text-decoration-color: #00d7ff\">None</span>, <span style=\"color: #00af00; text-decoration-color: #00af00\">32</span>)             │         <span style=\"color: #00af00; text-decoration-color: #00af00\">2,080</span> │\n",
              "├─────────────────────────────────┼────────────────────────┼───────────────┤\n",
              "│ dropout_7 (<span style=\"color: #0087ff; text-decoration-color: #0087ff\">Dropout</span>)             │ (<span style=\"color: #00d7ff; text-decoration-color: #00d7ff\">None</span>, <span style=\"color: #00af00; text-decoration-color: #00af00\">32</span>)             │             <span style=\"color: #00af00; text-decoration-color: #00af00\">0</span> │\n",
              "├─────────────────────────────────┼────────────────────────┼───────────────┤\n",
              "│ dense_18 (<span style=\"color: #0087ff; text-decoration-color: #0087ff\">Dense</span>)                │ (<span style=\"color: #00d7ff; text-decoration-color: #00d7ff\">None</span>, <span style=\"color: #00af00; text-decoration-color: #00af00\">16</span>)             │           <span style=\"color: #00af00; text-decoration-color: #00af00\">528</span> │\n",
              "├─────────────────────────────────┼────────────────────────┼───────────────┤\n",
              "│ dense_19 (<span style=\"color: #0087ff; text-decoration-color: #0087ff\">Dense</span>)                │ (<span style=\"color: #00d7ff; text-decoration-color: #00d7ff\">None</span>, <span style=\"color: #00af00; text-decoration-color: #00af00\">1</span>)              │            <span style=\"color: #00af00; text-decoration-color: #00af00\">17</span> │\n",
              "└─────────────────────────────────┴────────────────────────┴───────────────┘\n",
              "</pre>\n"
            ]
          },
          "metadata": {}
        },
        {
          "output_type": "display_data",
          "data": {
            "text/plain": [
              "\u001b[1m Total params: \u001b[0m\u001b[38;5;34m9,605\u001b[0m (37.52 KB)\n"
            ],
            "text/html": [
              "<pre style=\"white-space:pre;overflow-x:auto;line-height:normal;font-family:Menlo,'DejaVu Sans Mono',consolas,'Courier New',monospace\"><span style=\"font-weight: bold\"> Total params: </span><span style=\"color: #00af00; text-decoration-color: #00af00\">9,605</span> (37.52 KB)\n",
              "</pre>\n"
            ]
          },
          "metadata": {}
        },
        {
          "output_type": "display_data",
          "data": {
            "text/plain": [
              "\u001b[1m Trainable params: \u001b[0m\u001b[38;5;34m3,201\u001b[0m (12.50 KB)\n"
            ],
            "text/html": [
              "<pre style=\"white-space:pre;overflow-x:auto;line-height:normal;font-family:Menlo,'DejaVu Sans Mono',consolas,'Courier New',monospace\"><span style=\"font-weight: bold\"> Trainable params: </span><span style=\"color: #00af00; text-decoration-color: #00af00\">3,201</span> (12.50 KB)\n",
              "</pre>\n"
            ]
          },
          "metadata": {}
        },
        {
          "output_type": "display_data",
          "data": {
            "text/plain": [
              "\u001b[1m Non-trainable params: \u001b[0m\u001b[38;5;34m0\u001b[0m (0.00 B)\n"
            ],
            "text/html": [
              "<pre style=\"white-space:pre;overflow-x:auto;line-height:normal;font-family:Menlo,'DejaVu Sans Mono',consolas,'Courier New',monospace\"><span style=\"font-weight: bold\"> Non-trainable params: </span><span style=\"color: #00af00; text-decoration-color: #00af00\">0</span> (0.00 B)\n",
              "</pre>\n"
            ]
          },
          "metadata": {}
        },
        {
          "output_type": "display_data",
          "data": {
            "text/plain": [
              "\u001b[1m Optimizer params: \u001b[0m\u001b[38;5;34m6,404\u001b[0m (25.02 KB)\n"
            ],
            "text/html": [
              "<pre style=\"white-space:pre;overflow-x:auto;line-height:normal;font-family:Menlo,'DejaVu Sans Mono',consolas,'Courier New',monospace\"><span style=\"font-weight: bold\"> Optimizer params: </span><span style=\"color: #00af00; text-decoration-color: #00af00\">6,404</span> (25.02 KB)\n",
              "</pre>\n"
            ]
          },
          "metadata": {}
        },
        {
          "output_type": "display_data",
          "data": {
            "text/plain": [
              "<Figure size 1000x600 with 1 Axes>"
            ],
            "image/png": "[encoded data removed]"
          },
          "metadata": {}
        }
      ]
    },
    {
      "cell_type": "markdown",
      "source": [
        "#Task 4\n"
      ],
      "metadata": {
        "id": "O11tYD3paoa-"
      }
    },
    {
      "cell_type": "code",
      "source": [
        "from sklearn import datasets\n",
        "\n",
        "iris = datasets.load_iris(as_frame=True)"
      ],
      "metadata": {
        "id": "iRyOEkpDubF6"
      },
      "execution_count": 45,
      "outputs": []
    },
    {
      "cell_type": "code",
      "source": [
        "iris"
      ],
      "metadata": {
        "colab": {
          "base_uri": "https://localhost:8080/"
        },
        "id": "BFQ-0wcXa8aT",
        "outputId": "504dc858-c7ba-4399-b16f-65982dd42f89"
      },
      "execution_count": 46,
      "outputs": [
        {
          "output_type": "execute_result",
          "data": {
            "text/plain": [
              "{'data':      sepal length (cm)  sepal width (cm)  petal length (cm)  petal width (cm)\n",
              " 0                  5.1               3.5                1.4               0.2\n",
              " 1                  4.9               3.0                1.4               0.2\n",
              " 2                  4.7               3.2                1.3               0.2\n",
              " 3                  4.6               3.1                1.5               0.2\n",
              " 4                  5.0               3.6                1.4               0.2\n",
              " ..                 ...               ...                ...               ...\n",
              " 145                6.7               3.0                5.2               2.3\n",
              " 146                6.3               2.5                5.0               1.9\n",
              " 147                6.5               3.0                5.2               2.0\n",
              " 148                6.2               3.4                5.4               2.3\n",
              " 149                5.9               3.0                5.1               1.8\n",
              " \n",
              " [150 rows x 4 columns],\n",
              " 'target': 0      0\n",
              " 1      0\n",
              " 2      0\n",
              " 3      0\n",
              " 4      0\n",
              "       ..\n",
              " 145    2\n",
              " 146    2\n",
              " 147    2\n",
              " 148    2\n",
              " 149    2\n",
              " Name: target, Length: 150, dtype: int64,\n",
              " 'frame':      sepal length (cm)  sepal width (cm)  petal length (cm)  petal width (cm)  \\\n",
              " 0                  5.1               3.5                1.4               0.2   \n",
              " 1                  4.9               3.0                1.4               0.2   \n",
              " 2                  4.7               3.2                1.3               0.2   \n",
              " 3                  4.6               3.1                1.5               0.2   \n",
              " 4                  5.0               3.6                1.4               0.2   \n",
              " ..                 ...               ...                ...               ...   \n",
              " 145                6.7               3.0                5.2               2.3   \n",
              " 146                6.3               2.5                5.0               1.9   \n",
              " 147                6.5               3.0                5.2               2.0   \n",
              " 148                6.2               3.4                5.4               2.3   \n",
              " 149                5.9               3.0                5.1               1.8   \n",
              " \n",
              "      target  \n",
              " 0         0  \n",
              " 1         0  \n",
              " 2         0  \n",
              " 3         0  \n",
              " 4         0  \n",
              " ..      ...  \n",
              " 145       2  \n",
              " 146       2  \n",
              " 147       2  \n",
              " 148       2  \n",
              " 149       2  \n",
              " \n",
              " [150 rows x 5 columns],\n",
              " 'target_names': array(['setosa', 'versicolor', 'virginica'], dtype='<U10'),\n",
              " 'DESCR': '.. _iris_dataset:\\n\\nIris plants dataset\\n--------------------\\n\\n**Data Set Characteristics:**\\n\\n:Number of Instances: 150 (50 in each of three classes)\\n:Number of Attributes: 4 numeric, predictive attributes and the class\\n:Attribute Information:\\n    - sepal length in cm\\n    - sepal width in cm\\n    - petal length in cm\\n    - petal width in cm\\n    - class:\\n            - Iris-Setosa\\n            - Iris-Versicolour\\n            - Iris-Virginica\\n\\n:Summary Statistics:\\n\\n============== ==== ==== ======= ===== ====================\\n                Min  Max   Mean    SD   Class Correlation\\n============== ==== ==== ======= ===== ====================\\nsepal length:   4.3  7.9   5.84   0.83    0.7826\\nsepal width:    2.0  4.4   3.05   0.43   -0.4194\\npetal length:   1.0  6.9   3.76   1.76    0.9490  (high!)\\npetal width:    0.1  2.5   1.20   0.76    0.9565  (high!)\\n============== ==== ==== ======= ===== ====================\\n\\n:Missing Attribute Values: None\\n:Class Distribution: 33.3% for each of 3 classes.\\n:Creator: R.A. Fisher\\n:Donor: Michael Marshall (MARSHALL%PLU@io.arc.nasa.gov)\\n:Date: July, 1988\\n\\nThe famous Iris database, first used by Sir R.A. Fisher. The dataset is taken\\nfrom Fisher\\'s paper. Note that it\\'s the same as in R, but not as in the UCI\\nMachine Learning Repository, which has two wrong data points.\\n\\nThis is perhaps the best known database to be found in the\\npattern recognition literature.  Fisher\\'s paper is a classic in the field and\\nis referenced frequently to this day.  (See Duda & Hart, for example.)  The\\ndata set contains 3 classes of 50 instances each, where each class refers to a\\ntype of iris plant.  One class is linearly separable from the other 2; the\\nlatter are NOT linearly separable from each other.\\n\\n.. dropdown:: References\\n\\n  - Fisher, R.A. \"The use of multiple measurements in taxonomic problems\"\\n    Annual Eugenics, 7, Part II, 179-188 (1936); also in \"Contributions to\\n    Mathematical Statistics\" (John Wiley, NY, 1950).\\n  - Duda, R.O., & Hart, P.E. (1973) Pattern Classification and Scene Analysis.\\n    (Q327.D83) John Wiley & Sons.  ISBN 0-471-22361-1.  See page 218.\\n  - Dasarathy, B.V. (1980) \"Nosing Around the Neighborhood: A New System\\n    Structure and Classification Rule for Recognition in Partially Exposed\\n    Environments\".  IEEE Transactions on Pattern Analysis and Machine\\n    Intelligence, Vol. PAMI-2, No. 1, 67-71.\\n  - Gates, G.W. (1972) \"The Reduced Nearest Neighbor Rule\".  IEEE Transactions\\n    on Information Theory, May 1972, 431-433.\\n  - See also: 1988 MLC Proceedings, 54-64.  Cheeseman et al\"s AUTOCLASS II\\n    conceptual clustering system finds 3 classes in the data.\\n  - Many, many more ...\\n',\n",
              " 'feature_names': ['sepal length (cm)',\n",
              "  'sepal width (cm)',\n",
              "  'petal length (cm)',\n",
              "  'petal width (cm)'],\n",
              " 'filename': 'iris.csv',\n",
              " 'data_module': 'sklearn.datasets.data'}"
            ]
          },
          "metadata": {},
          "execution_count": 46
        }
      ]
    },
    {
      "cell_type": "code",
      "source": [
        "X_iris = iris['data']\n",
        "y_iris = iris['target']\n"
      ],
      "metadata": {
        "id": "x0b3vBNsa8Y9"
      },
      "execution_count": 47,
      "outputs": []
    },
    {
      "cell_type": "markdown",
      "source": [],
      "metadata": {
        "id": "Qw6gXSQkcK4o"
      }
    },
    {
      "cell_type": "markdown",
      "source": [],
      "metadata": {
        "id": "VpiwfBHxcK3q"
      }
    },
    {
      "cell_type": "code",
      "source": [
        "print(X_iris['sepal length (cm)'].isnull().sum())\n",
        "print(X_iris['sepal width (cm)'].isnull().sum())\n",
        "print(X_iris['petal length (cm)'].isnull().sum())\n",
        "print(X_iris['petal width (cm)'].isnull().sum())"
      ],
      "metadata": {
        "colab": {
          "base_uri": "https://localhost:8080/"
        },
        "id": "23wE7S0Kb8Yi",
        "outputId": "bbc3aff2-d210-444d-e0ab-e9044593a484"
      },
      "execution_count": 48,
      "outputs": [
        {
          "output_type": "stream",
          "name": "stdout",
          "text": [
            "0\n",
            "0\n",
            "0\n",
            "0\n"
          ]
        }
      ]
    },
    {
      "cell_type": "code",
      "source": [
        "X_train_iris, X_test_iris, y_train_iris, y_test_iris = train_test_split(X_iris, y_iris, train_size= 0.8, random_state=42)"
      ],
      "metadata": {
        "id": "dXximzMCb8Xt"
      },
      "execution_count": 49,
      "outputs": []
    },
    {
      "cell_type": "code",
      "source": [
        "model_4 = Sequential()\n",
        "\n",
        "#hidden layer 1\n",
        "model_4.add(Dense(64, activation='relu', input_shape=(X_train_iris.shape[1],)))\n",
        "model_4.add(Dropout(0.2))\n",
        "\n",
        "#hidden layer 2\n",
        "model_4.add(Dense(32, activation='relu'))\n",
        "model_4.add(Dropout(0.2))\n",
        "\n",
        "#hidden layer 3\n",
        "model_4.add(Dense(16, activation='relu'))\n",
        "\n",
        "model_4.add(Dense(1, activation='softmax'))\n",
        "\n",
        "model_4.compile(optimizer='adam', loss='categorical_crossentropy', metrics=['accuracy'])\n",
        "\n",
        "history_4= model_4.fit(\n",
        "    X_train_iris, y_train_iris,\n",
        "    validation_data=(X_test_iris, y_test_iris),\n",
        "    epochs=200,\n",
        "    verbose=1\n",
        ")\n"
      ],
      "metadata": {
        "id": "bmvIBHtvcc-l",
        "colab": {
          "base_uri": "https://localhost:8080/"
        },
        "outputId": "cf87d541-166b-49af-eb14-0795b9ac51c0"
      },
      "execution_count": 50,
      "outputs": [
        {
          "output_type": "stream",
          "name": "stdout",
          "text": [
            "Epoch 1/200\n"
          ]
        },
        {
          "output_type": "stream",
          "name": "stderr",
          "text": [
            "/usr/local/lib/python3.11/dist-packages/keras/src/layers/core/dense.py:87: UserWarning: Do not pass an `input_shape`/`input_dim` argument to a layer. When using Sequential models, prefer using an `Input(shape)` object as the first layer in the model instead.\n",
            "  super().__init__(activity_regularizer=activity_regularizer, **kwargs)\n",
            "/usr/local/lib/python3.11/dist-packages/keras/src/ops/nn.py:907: UserWarning: You are using a softmax over axis -1 of a tensor of shape (None, 1). This axis has size 1. The softmax operation will always return the value 1, which is likely not what you intended. Did you mean to use a sigmoid instead?\n",
            "  warnings.warn(\n",
            "/usr/local/lib/python3.11/dist-packages/keras/src/losses/losses.py:33: SyntaxWarning: In loss categorical_crossentropy, expected y_pred.shape to be (batch_size, num_classes) with num_classes > 1. Received: y_pred.shape=(None, 1). Consider using 'binary_crossentropy' if you only have 2 classes.\n",
            "  return self.fn(y_true, y_pred, **self._fn_kwargs)\n"
          ]
        },
        {
          "output_type": "stream",
          "name": "stdout",
          "text": [
            "\u001b[1m4/4\u001b[0m \u001b[32m━━━━━━━━━━━━━━━━━━━━\u001b[0m\u001b[37m\u001b[0m \u001b[1m2s\u001b[0m 99ms/step - accuracy: 0.3106 - loss: 0.0000e+00 - val_accuracy: 0.3000 - val_loss: 0.0000e+00\n",
            "Epoch 2/200\n"
          ]
        },
        {
          "output_type": "stream",
          "name": "stderr",
          "text": [
            "/usr/local/lib/python3.11/dist-packages/keras/src/ops/nn.py:907: UserWarning: You are using a softmax over axis -1 of a tensor of shape (None, 1). This axis has size 1. The softmax operation will always return the value 1, which is likely not what you intended. Did you mean to use a sigmoid instead?\n",
            "  warnings.warn(\n",
            "/usr/local/lib/python3.11/dist-packages/keras/src/losses/losses.py:33: SyntaxWarning: In loss categorical_crossentropy, expected y_pred.shape to be (batch_size, num_classes) with num_classes > 1. Received: y_pred.shape=(None, 1). Consider using 'binary_crossentropy' if you only have 2 classes.\n",
            "  return self.fn(y_true, y_pred, **self._fn_kwargs)\n"
          ]
        },
        {
          "output_type": "stream",
          "name": "stdout",
          "text": [
            "\u001b[1m4/4\u001b[0m \u001b[32m━━━━━━━━━━━━━━━━━━━━\u001b[0m\u001b[37m\u001b[0m \u001b[1m0s\u001b[0m 46ms/step - accuracy: 0.3606 - loss: 0.0000e+00 - val_accuracy: 0.3000 - val_loss: 0.0000e+00\n",
            "Epoch 3/200\n",
            "\u001b[1m4/4\u001b[0m \u001b[32m━━━━━━━━━━━━━━━━━━━━\u001b[0m\u001b[37m\u001b[0m \u001b[1m0s\u001b[0m 43ms/step - accuracy: 0.3565 - loss: 0.0000e+00 - val_accuracy: 0.3000 - val_loss: 0.0000e+00\n",
            "Epoch 4/200\n",
            "\u001b[1m4/4\u001b[0m \u001b[32m━━━━━━━━━━━━━━━━━━━━\u001b[0m\u001b[37m\u001b[0m \u001b[1m0s\u001b[0m 45ms/step - accuracy: 0.3262 - loss: 0.0000e+00 - val_accuracy: 0.3000 - val_loss: 0.0000e+00\n",
            "Epoch 5/200\n",
            "\u001b[1m4/4\u001b[0m \u001b[32m━━━━━━━━━━━━━━━━━━━━\u001b[0m\u001b[37m\u001b[0m \u001b[1m0s\u001b[0m 54ms/step - accuracy: 0.3450 - loss: 0.0000e+00 - val_accuracy: 0.3000 - val_loss: 0.0000e+00\n",
            "Epoch 6/200\n",
            "\u001b[1m4/4\u001b[0m \u001b[32m━━━━━━━━━━━━━━━━━━━━\u001b[0m\u001b[37m\u001b[0m \u001b[1m0s\u001b[0m 43ms/step - accuracy: 0.3356 - loss: 0.0000e+00 - val_accuracy: 0.3000 - val_loss: 0.0000e+00\n",
            "Epoch 7/200\n",
            "\u001b[1m4/4\u001b[0m \u001b[32m━━━━━━━━━━━━━━━━━━━━\u001b[0m\u001b[37m\u001b[0m \u001b[1m0s\u001b[0m 47ms/step - accuracy: 0.3773 - loss: 0.0000e+00 - val_accuracy: 0.3000 - val_loss: 0.0000e+00\n",
            "Epoch 8/200\n",
            "\u001b[1m4/4\u001b[0m \u001b[32m━━━━━━━━━━━━━━━━━━━━\u001b[0m\u001b[37m\u001b[0m \u001b[1m0s\u001b[0m 45ms/step - accuracy: 0.3200 - loss: 0.0000e+00 - val_accuracy: 0.3000 - val_loss: 0.0000e+00\n",
            "Epoch 9/200\n",
            "\u001b[1m4/4\u001b[0m \u001b[32m━━━━━━━━━━━━━━━━━━━━\u001b[0m\u001b[37m\u001b[0m \u001b[1m0s\u001b[0m 25ms/step - accuracy: 0.2971 - loss: 0.0000e+00 - val_accuracy: 0.3000 - val_loss: 0.0000e+00\n",
            "Epoch 10/200\n",
            "\u001b[1m4/4\u001b[0m \u001b[32m━━━━━━━━━━━━━━━━━━━━\u001b[0m\u001b[37m\u001b[0m \u001b[1m0s\u001b[0m 24ms/step - accuracy: 0.3283 - loss: 0.0000e+00 - val_accuracy: 0.3000 - val_loss: 0.0000e+00\n",
            "Epoch 11/200\n",
            "\u001b[1m4/4\u001b[0m \u001b[32m━━━━━━━━━━━━━━━━━━━━\u001b[0m\u001b[37m\u001b[0m \u001b[1m0s\u001b[0m 23ms/step - accuracy: 0.3908 - loss: 0.0000e+00 - val_accuracy: 0.3000 - val_loss: 0.0000e+00\n",
            "Epoch 12/200\n",
            "\u001b[1m4/4\u001b[0m \u001b[32m━━━━━━━━━━━━━━━━━━━━\u001b[0m\u001b[37m\u001b[0m \u001b[1m0s\u001b[0m 23ms/step - accuracy: 0.3335 - loss: 0.0000e+00 - val_accuracy: 0.3000 - val_loss: 0.0000e+00\n",
            "Epoch 13/200\n",
            "\u001b[1m4/4\u001b[0m \u001b[32m━━━━━━━━━━━━━━━━━━━━\u001b[0m\u001b[37m\u001b[0m \u001b[1m0s\u001b[0m 23ms/step - accuracy: 0.3492 - loss: 0.0000e+00 - val_accuracy: 0.3000 - val_loss: 0.0000e+00\n",
            "Epoch 14/200\n",
            "\u001b[1m4/4\u001b[0m \u001b[32m━━━━━━━━━━━━━━━━━━━━\u001b[0m\u001b[37m\u001b[0m \u001b[1m0s\u001b[0m 24ms/step - accuracy: 0.3408 - loss: 0.0000e+00 - val_accuracy: 0.3000 - val_loss: 0.0000e+00\n",
            "Epoch 15/200\n",
            "\u001b[1m4/4\u001b[0m \u001b[32m━━━━━━━━━━━━━━━━━━━━\u001b[0m\u001b[37m\u001b[0m \u001b[1m0s\u001b[0m 23ms/step - accuracy: 0.3169 - loss: 0.0000e+00 - val_accuracy: 0.3000 - val_loss: 0.0000e+00\n",
            "Epoch 16/200\n",
            "\u001b[1m4/4\u001b[0m \u001b[32m━━━━━━━━━━━━━━━━━━━━\u001b[0m\u001b[37m\u001b[0m \u001b[1m0s\u001b[0m 24ms/step - accuracy: 0.3075 - loss: 0.0000e+00 - val_accuracy: 0.3000 - val_loss: 0.0000e+00\n",
            "Epoch 17/200\n",
            "\u001b[1m4/4\u001b[0m \u001b[32m━━━━━━━━━━━━━━━━━━━━\u001b[0m\u001b[37m\u001b[0m \u001b[1m0s\u001b[0m 25ms/step - accuracy: 0.3502 - loss: 0.0000e+00 - val_accuracy: 0.3000 - val_loss: 0.0000e+00\n",
            "Epoch 18/200\n",
            "\u001b[1m4/4\u001b[0m \u001b[32m━━━━━━━━━━━━━━━━━━━━\u001b[0m\u001b[37m\u001b[0m \u001b[1m0s\u001b[0m 24ms/step - accuracy: 0.3544 - loss: 0.0000e+00 - val_accuracy: 0.3000 - val_loss: 0.0000e+00\n",
            "Epoch 19/200\n",
            "\u001b[1m4/4\u001b[0m \u001b[32m━━━━━━━━━━━━━━━━━━━━\u001b[0m\u001b[37m\u001b[0m \u001b[1m0s\u001b[0m 25ms/step - accuracy: 0.2950 - loss: 0.0000e+00 - val_accuracy: 0.3000 - val_loss: 0.0000e+00\n",
            "Epoch 20/200\n",
            "\u001b[1m4/4\u001b[0m \u001b[32m━━━━━━━━━━━━━━━━━━━━\u001b[0m\u001b[37m\u001b[0m \u001b[1m0s\u001b[0m 25ms/step - accuracy: 0.3492 - loss: 0.0000e+00 - val_accuracy: 0.3000 - val_loss: 0.0000e+00\n",
            "Epoch 21/200\n",
            "\u001b[1m4/4\u001b[0m \u001b[32m━━━━━━━━━━━━━━━━━━━━\u001b[0m\u001b[37m\u001b[0m \u001b[1m0s\u001b[0m 24ms/step - accuracy: 0.3908 - loss: 0.0000e+00 - val_accuracy: 0.3000 - val_loss: 0.0000e+00\n",
            "Epoch 22/200\n",
            "\u001b[1m4/4\u001b[0m \u001b[32m━━━━━━━━━━━━━━━━━━━━\u001b[0m\u001b[37m\u001b[0m \u001b[1m0s\u001b[0m 24ms/step - accuracy: 0.3002 - loss: 0.0000e+00 - val_accuracy: 0.3000 - val_loss: 0.0000e+00\n",
            "Epoch 23/200\n",
            "\u001b[1m4/4\u001b[0m \u001b[32m━━━━━━━━━━━━━━━━━━━━\u001b[0m\u001b[37m\u001b[0m \u001b[1m0s\u001b[0m 24ms/step - accuracy: 0.3575 - loss: 0.0000e+00 - val_accuracy: 0.3000 - val_loss: 0.0000e+00\n",
            "Epoch 24/200\n",
            "\u001b[1m4/4\u001b[0m \u001b[32m━━━━━━━━━━━━━━━━━━━━\u001b[0m\u001b[37m\u001b[0m \u001b[1m0s\u001b[0m 24ms/step - accuracy: 0.3179 - loss: 0.0000e+00 - val_accuracy: 0.3000 - val_loss: 0.0000e+00\n",
            "Epoch 25/200\n",
            "\u001b[1m4/4\u001b[0m \u001b[32m━━━━━━━━━━━━━━━━━━━━\u001b[0m\u001b[37m\u001b[0m \u001b[1m0s\u001b[0m 30ms/step - accuracy: 0.3200 - loss: 0.0000e+00 - val_accuracy: 0.3000 - val_loss: 0.0000e+00\n",
            "Epoch 26/200\n",
            "\u001b[1m4/4\u001b[0m \u001b[32m━━━━━━━━━━━━━━━━━━━━\u001b[0m\u001b[37m\u001b[0m \u001b[1m0s\u001b[0m 24ms/step - accuracy: 0.3721 - loss: 0.0000e+00 - val_accuracy: 0.3000 - val_loss: 0.0000e+00\n",
            "Epoch 27/200\n",
            "\u001b[1m4/4\u001b[0m \u001b[32m━━━━━━━━━━━━━━━━━━━━\u001b[0m\u001b[37m\u001b[0m \u001b[1m0s\u001b[0m 24ms/step - accuracy: 0.3794 - loss: 0.0000e+00 - val_accuracy: 0.3000 - val_loss: 0.0000e+00\n",
            "Epoch 28/200\n",
            "\u001b[1m4/4\u001b[0m \u001b[32m━━━━━━━━━━━━━━━━━━━━\u001b[0m\u001b[37m\u001b[0m \u001b[1m0s\u001b[0m 24ms/step - accuracy: 0.3221 - loss: 0.0000e+00 - val_accuracy: 0.3000 - val_loss: 0.0000e+00\n",
            "Epoch 29/200\n",
            "\u001b[1m4/4\u001b[0m \u001b[32m━━━━━━━━━━━━━━━━━━━━\u001b[0m\u001b[37m\u001b[0m \u001b[1m0s\u001b[0m 26ms/step - accuracy: 0.3533 - loss: 0.0000e+00 - val_accuracy: 0.3000 - val_loss: 0.0000e+00\n",
            "Epoch 30/200\n",
            "\u001b[1m4/4\u001b[0m \u001b[32m━━━━━━━━━━━━━━━━━━━━\u001b[0m\u001b[37m\u001b[0m \u001b[1m0s\u001b[0m 27ms/step - accuracy: 0.3512 - loss: 0.0000e+00 - val_accuracy: 0.3000 - val_loss: 0.0000e+00\n",
            "Epoch 31/200\n",
            "\u001b[1m4/4\u001b[0m \u001b[32m━━━━━━━━━━━━━━━━━━━━\u001b[0m\u001b[37m\u001b[0m \u001b[1m0s\u001b[0m 25ms/step - accuracy: 0.3346 - loss: 0.0000e+00 - val_accuracy: 0.3000 - val_loss: 0.0000e+00\n",
            "Epoch 32/200\n",
            "\u001b[1m4/4\u001b[0m \u001b[32m━━━━━━━━━━━━━━━━━━━━\u001b[0m\u001b[37m\u001b[0m \u001b[1m0s\u001b[0m 40ms/step - accuracy: 0.3554 - loss: 0.0000e+00 - val_accuracy: 0.3000 - val_loss: 0.0000e+00\n",
            "Epoch 33/200\n",
            "\u001b[1m4/4\u001b[0m \u001b[32m━━━━━━━━━━━━━━━━━━━━\u001b[0m\u001b[37m\u001b[0m \u001b[1m0s\u001b[0m 29ms/step - accuracy: 0.3377 - loss: 0.0000e+00 - val_accuracy: 0.3000 - val_loss: 0.0000e+00\n",
            "Epoch 34/200\n",
            "\u001b[1m4/4\u001b[0m \u001b[32m━━━━━━━━━━━━━━━━━━━━\u001b[0m\u001b[37m\u001b[0m \u001b[1m0s\u001b[0m 25ms/step - accuracy: 0.3523 - loss: 0.0000e+00 - val_accuracy: 0.3000 - val_loss: 0.0000e+00\n",
            "Epoch 35/200\n",
            "\u001b[1m4/4\u001b[0m \u001b[32m━━━━━━━━━━━━━━━━━━━━\u001b[0m\u001b[37m\u001b[0m \u001b[1m0s\u001b[0m 27ms/step - accuracy: 0.3460 - loss: 0.0000e+00 - val_accuracy: 0.3000 - val_loss: 0.0000e+00\n",
            "Epoch 36/200\n",
            "\u001b[1m4/4\u001b[0m \u001b[32m━━━━━━━━━━━━━━━━━━━━\u001b[0m\u001b[37m\u001b[0m \u001b[1m0s\u001b[0m 39ms/step - accuracy: 0.3304 - loss: 0.0000e+00 - val_accuracy: 0.3000 - val_loss: 0.0000e+00\n",
            "Epoch 37/200\n",
            "\u001b[1m4/4\u001b[0m \u001b[32m━━━━━━━━━━━━━━━━━━━━\u001b[0m\u001b[37m\u001b[0m \u001b[1m0s\u001b[0m 27ms/step - accuracy: 0.3106 - loss: 0.0000e+00 - val_accuracy: 0.3000 - val_loss: 0.0000e+00\n",
            "Epoch 38/200\n",
            "\u001b[1m4/4\u001b[0m \u001b[32m━━━━━━━━━━━━━━━━━━━━\u001b[0m\u001b[37m\u001b[0m \u001b[1m0s\u001b[0m 29ms/step - accuracy: 0.3752 - loss: 0.0000e+00 - val_accuracy: 0.3000 - val_loss: 0.0000e+00\n",
            "Epoch 39/200\n",
            "\u001b[1m4/4\u001b[0m \u001b[32m━━━━━━━━━━━━━━━━━━━━\u001b[0m\u001b[37m\u001b[0m \u001b[1m0s\u001b[0m 24ms/step - accuracy: 0.3190 - loss: 0.0000e+00 - val_accuracy: 0.3000 - val_loss: 0.0000e+00\n",
            "Epoch 40/200\n",
            "\u001b[1m4/4\u001b[0m \u001b[32m━━━━━━━━━━━━━━━━━━━━\u001b[0m\u001b[37m\u001b[0m \u001b[1m0s\u001b[0m 23ms/step - accuracy: 0.3190 - loss: 0.0000e+00 - val_accuracy: 0.3000 - val_loss: 0.0000e+00\n",
            "Epoch 41/200\n",
            "\u001b[1m4/4\u001b[0m \u001b[32m━━━━━━━━━━━━━━━━━━━━\u001b[0m\u001b[37m\u001b[0m \u001b[1m0s\u001b[0m 29ms/step - accuracy: 0.3669 - loss: 0.0000e+00 - val_accuracy: 0.3000 - val_loss: 0.0000e+00\n",
            "Epoch 42/200\n",
            "\u001b[1m4/4\u001b[0m \u001b[32m━━━━━━━━━━━━━━━━━━━━\u001b[0m\u001b[37m\u001b[0m \u001b[1m0s\u001b[0m 23ms/step - accuracy: 0.3762 - loss: 0.0000e+00 - val_accuracy: 0.3000 - val_loss: 0.0000e+00\n",
            "Epoch 43/200\n",
            "\u001b[1m4/4\u001b[0m \u001b[32m━━━━━━━━━━━━━━━━━━━━\u001b[0m\u001b[37m\u001b[0m \u001b[1m0s\u001b[0m 24ms/step - accuracy: 0.3252 - loss: 0.0000e+00 - val_accuracy: 0.3000 - val_loss: 0.0000e+00\n",
            "Epoch 44/200\n",
            "\u001b[1m4/4\u001b[0m \u001b[32m━━━━━━━━━━━━━━━━━━━━\u001b[0m\u001b[37m\u001b[0m \u001b[1m0s\u001b[0m 23ms/step - accuracy: 0.3429 - loss: 0.0000e+00 - val_accuracy: 0.3000 - val_loss: 0.0000e+00\n",
            "Epoch 45/200\n",
            "\u001b[1m4/4\u001b[0m \u001b[32m━━━━━━━━━━━━━━━━━━━━\u001b[0m\u001b[37m\u001b[0m \u001b[1m0s\u001b[0m 25ms/step - accuracy: 0.3346 - loss: 0.0000e+00 - val_accuracy: 0.3000 - val_loss: 0.0000e+00\n",
            "Epoch 46/200\n",
            "\u001b[1m4/4\u001b[0m \u001b[32m━━━━━━━━━━━━━━━━━━━━\u001b[0m\u001b[37m\u001b[0m \u001b[1m0s\u001b[0m 24ms/step - accuracy: 0.3106 - loss: 0.0000e+00 - val_accuracy: 0.3000 - val_loss: 0.0000e+00\n",
            "Epoch 47/200\n",
            "\u001b[1m4/4\u001b[0m \u001b[32m━━━━━━━━━━━━━━━━━━━━\u001b[0m\u001b[37m\u001b[0m \u001b[1m0s\u001b[0m 24ms/step - accuracy: 0.3190 - loss: 0.0000e+00 - val_accuracy: 0.3000 - val_loss: 0.0000e+00\n",
            "Epoch 48/200\n",
            "\u001b[1m4/4\u001b[0m \u001b[32m━━━━━━━━━━━━━━━━━━━━\u001b[0m\u001b[37m\u001b[0m \u001b[1m0s\u001b[0m 24ms/step - accuracy: 0.3190 - loss: 0.0000e+00 - val_accuracy: 0.3000 - val_loss: 0.0000e+00\n",
            "Epoch 49/200\n",
            "\u001b[1m4/4\u001b[0m \u001b[32m━━━━━━━━━━━━━━━━━━━━\u001b[0m\u001b[37m\u001b[0m \u001b[1m0s\u001b[0m 27ms/step - accuracy: 0.3460 - loss: 0.0000e+00 - val_accuracy: 0.3000 - val_loss: 0.0000e+00\n",
            "Epoch 50/200\n",
            "\u001b[1m4/4\u001b[0m \u001b[32m━━━━━━━━━━━━━━━━━━━━\u001b[0m\u001b[37m\u001b[0m \u001b[1m0s\u001b[0m 23ms/step - accuracy: 0.3335 - loss: 0.0000e+00 - val_accuracy: 0.3000 - val_loss: 0.0000e+00\n",
            "Epoch 51/200\n",
            "\u001b[1m4/4\u001b[0m \u001b[32m━━━━━━━━━━━━━━━━━━━━\u001b[0m\u001b[37m\u001b[0m \u001b[1m0s\u001b[0m 23ms/step - accuracy: 0.3179 - loss: 0.0000e+00 - val_accuracy: 0.3000 - val_loss: 0.0000e+00\n",
            "Epoch 52/200\n",
            "\u001b[1m4/4\u001b[0m \u001b[32m━━━━━━━━━━━━━━━━━━━━\u001b[0m\u001b[37m\u001b[0m \u001b[1m0s\u001b[0m 25ms/step - accuracy: 0.3158 - loss: 0.0000e+00 - val_accuracy: 0.3000 - val_loss: 0.0000e+00\n",
            "Epoch 53/200\n",
            "\u001b[1m4/4\u001b[0m \u001b[32m━━━━━━━━━━━━━━━━━━━━\u001b[0m\u001b[37m\u001b[0m \u001b[1m0s\u001b[0m 23ms/step - accuracy: 0.3315 - loss: 0.0000e+00 - val_accuracy: 0.3000 - val_loss: 0.0000e+00\n",
            "Epoch 54/200\n",
            "\u001b[1m4/4\u001b[0m \u001b[32m━━━━━━━━━━━━━━━━━━━━\u001b[0m\u001b[37m\u001b[0m \u001b[1m0s\u001b[0m 37ms/step - accuracy: 0.3158 - loss: 0.0000e+00 - val_accuracy: 0.3000 - val_loss: 0.0000e+00\n",
            "Epoch 55/200\n",
            "\u001b[1m4/4\u001b[0m \u001b[32m━━━━━━━━━━━━━━━━━━━━\u001b[0m\u001b[37m\u001b[0m \u001b[1m0s\u001b[0m 24ms/step - accuracy: 0.3367 - loss: 0.0000e+00 - val_accuracy: 0.3000 - val_loss: 0.0000e+00\n",
            "Epoch 56/200\n",
            "\u001b[1m4/4\u001b[0m \u001b[32m━━━━━━━━━━━━━━━━━━━━\u001b[0m\u001b[37m\u001b[0m \u001b[1m0s\u001b[0m 23ms/step - accuracy: 0.3523 - loss: 0.0000e+00 - val_accuracy: 0.3000 - val_loss: 0.0000e+00\n",
            "Epoch 57/200\n",
            "\u001b[1m4/4\u001b[0m \u001b[32m━━━━━━━━━━━━━━━━━━━━\u001b[0m\u001b[37m\u001b[0m \u001b[1m0s\u001b[0m 29ms/step - accuracy: 0.3346 - loss: 0.0000e+00 - val_accuracy: 0.3000 - val_loss: 0.0000e+00\n",
            "Epoch 58/200\n",
            "\u001b[1m4/4\u001b[0m \u001b[32m━━━━━━━━━━━━━━━━━━━━\u001b[0m\u001b[37m\u001b[0m \u001b[1m0s\u001b[0m 24ms/step - accuracy: 0.3158 - loss: 0.0000e+00 - val_accuracy: 0.3000 - val_loss: 0.0000e+00\n",
            "Epoch 59/200\n",
            "\u001b[1m4/4\u001b[0m \u001b[32m━━━━━━━━━━━━━━━━━━━━\u001b[0m\u001b[37m\u001b[0m \u001b[1m0s\u001b[0m 23ms/step - accuracy: 0.3804 - loss: 0.0000e+00 - val_accuracy: 0.3000 - val_loss: 0.0000e+00\n",
            "Epoch 60/200\n",
            "\u001b[1m4/4\u001b[0m \u001b[32m━━━━━━━━━━━━━━━━━━━━\u001b[0m\u001b[37m\u001b[0m \u001b[1m0s\u001b[0m 24ms/step - accuracy: 0.3398 - loss: 0.0000e+00 - val_accuracy: 0.3000 - val_loss: 0.0000e+00\n",
            "Epoch 61/200\n",
            "\u001b[1m4/4\u001b[0m \u001b[32m━━━━━━━━━━━━━━━━━━━━\u001b[0m\u001b[37m\u001b[0m \u001b[1m0s\u001b[0m 25ms/step - accuracy: 0.3585 - loss: 0.0000e+00 - val_accuracy: 0.3000 - val_loss: 0.0000e+00\n",
            "Epoch 62/200\n",
            "\u001b[1m4/4\u001b[0m \u001b[32m━━━━━━━━━━━━━━━━━━━━\u001b[0m\u001b[37m\u001b[0m \u001b[1m0s\u001b[0m 23ms/step - accuracy: 0.3304 - loss: 0.0000e+00 - val_accuracy: 0.3000 - val_loss: 0.0000e+00\n",
            "Epoch 63/200\n",
            "\u001b[1m4/4\u001b[0m \u001b[32m━━━━━━━━━━━━━━━━━━━━\u001b[0m\u001b[37m\u001b[0m \u001b[1m0s\u001b[0m 23ms/step - accuracy: 0.3158 - loss: 0.0000e+00 - val_accuracy: 0.3000 - val_loss: 0.0000e+00\n",
            "Epoch 64/200\n",
            "\u001b[1m4/4\u001b[0m \u001b[32m━━━━━━━━━━━━━━━━━━━━\u001b[0m\u001b[37m\u001b[0m \u001b[1m0s\u001b[0m 24ms/step - accuracy: 0.3856 - loss: 0.0000e+00 - val_accuracy: 0.3000 - val_loss: 0.0000e+00\n",
            "Epoch 65/200\n",
            "\u001b[1m4/4\u001b[0m \u001b[32m━━━━━━━━━━━━━━━━━━━━\u001b[0m\u001b[37m\u001b[0m \u001b[1m0s\u001b[0m 28ms/step - accuracy: 0.3408 - loss: 0.0000e+00 - val_accuracy: 0.3000 - val_loss: 0.0000e+00\n",
            "Epoch 66/200\n",
            "\u001b[1m4/4\u001b[0m \u001b[32m━━━━━━━━━━━━━━━━━━━━\u001b[0m\u001b[37m\u001b[0m \u001b[1m0s\u001b[0m 24ms/step - accuracy: 0.3512 - loss: 0.0000e+00 - val_accuracy: 0.3000 - val_loss: 0.0000e+00\n",
            "Epoch 67/200\n",
            "\u001b[1m4/4\u001b[0m \u001b[32m━━━━━━━━━━━━━━━━━━━━\u001b[0m\u001b[37m\u001b[0m \u001b[1m0s\u001b[0m 23ms/step - accuracy: 0.3283 - loss: 0.0000e+00 - val_accuracy: 0.3000 - val_loss: 0.0000e+00\n",
            "Epoch 68/200\n",
            "\u001b[1m4/4\u001b[0m \u001b[32m━━━━━━━━━━━━━━━━━━━━\u001b[0m\u001b[37m\u001b[0m \u001b[1m0s\u001b[0m 25ms/step - accuracy: 0.3450 - loss: 0.0000e+00 - val_accuracy: 0.3000 - val_loss: 0.0000e+00\n",
            "Epoch 69/200\n",
            "\u001b[1m4/4\u001b[0m \u001b[32m━━━━━━━━━━━━━━━━━━━━\u001b[0m\u001b[37m\u001b[0m \u001b[1m0s\u001b[0m 22ms/step - accuracy: 0.3950 - loss: 0.0000e+00 - val_accuracy: 0.3000 - val_loss: 0.0000e+00\n",
            "Epoch 70/200\n",
            "\u001b[1m4/4\u001b[0m \u001b[32m━━━━━━━━━━━━━━━━━━━━\u001b[0m\u001b[37m\u001b[0m \u001b[1m0s\u001b[0m 23ms/step - accuracy: 0.3377 - loss: 0.0000e+00 - val_accuracy: 0.3000 - val_loss: 0.0000e+00\n",
            "Epoch 71/200\n",
            "\u001b[1m4/4\u001b[0m \u001b[32m━━━━━━━━━━━━━━━━━━━━\u001b[0m\u001b[37m\u001b[0m \u001b[1m0s\u001b[0m 24ms/step - accuracy: 0.3356 - loss: 0.0000e+00 - val_accuracy: 0.3000 - val_loss: 0.0000e+00\n",
            "Epoch 72/200\n",
            "\u001b[1m4/4\u001b[0m \u001b[32m━━━━━━━━━━━━━━━━━━━━\u001b[0m\u001b[37m\u001b[0m \u001b[1m0s\u001b[0m 24ms/step - accuracy: 0.3606 - loss: 0.0000e+00 - val_accuracy: 0.3000 - val_loss: 0.0000e+00\n",
            "Epoch 73/200\n",
            "\u001b[1m4/4\u001b[0m \u001b[32m━━━━━━━━━━━━━━━━━━━━\u001b[0m\u001b[37m\u001b[0m \u001b[1m0s\u001b[0m 23ms/step - accuracy: 0.3981 - loss: 0.0000e+00 - val_accuracy: 0.3000 - val_loss: 0.0000e+00\n",
            "Epoch 74/200\n",
            "\u001b[1m4/4\u001b[0m \u001b[32m━━━━━━━━━━━━━━━━━━━━\u001b[0m\u001b[37m\u001b[0m \u001b[1m0s\u001b[0m 24ms/step - accuracy: 0.3398 - loss: 0.0000e+00 - val_accuracy: 0.3000 - val_loss: 0.0000e+00\n",
            "Epoch 75/200\n",
            "\u001b[1m4/4\u001b[0m \u001b[32m━━━━━━━━━━━━━━━━━━━━\u001b[0m\u001b[37m\u001b[0m \u001b[1m0s\u001b[0m 22ms/step - accuracy: 0.3450 - loss: 0.0000e+00 - val_accuracy: 0.3000 - val_loss: 0.0000e+00\n",
            "Epoch 76/200\n",
            "\u001b[1m4/4\u001b[0m \u001b[32m━━━━━━━━━━━━━━━━━━━━\u001b[0m\u001b[37m\u001b[0m \u001b[1m0s\u001b[0m 22ms/step - accuracy: 0.3544 - loss: 0.0000e+00 - val_accuracy: 0.3000 - val_loss: 0.0000e+00\n",
            "Epoch 77/200\n",
            "\u001b[1m4/4\u001b[0m \u001b[32m━━━━━━━━━━━━━━━━━━━━\u001b[0m\u001b[37m\u001b[0m \u001b[1m0s\u001b[0m 24ms/step - accuracy: 0.3065 - loss: 0.0000e+00 - val_accuracy: 0.3000 - val_loss: 0.0000e+00\n",
            "Epoch 78/200\n",
            "\u001b[1m4/4\u001b[0m \u001b[32m━━━━━━━━━━━━━━━━━━━━\u001b[0m\u001b[37m\u001b[0m \u001b[1m0s\u001b[0m 22ms/step - accuracy: 0.3262 - loss: 0.0000e+00 - val_accuracy: 0.3000 - val_loss: 0.0000e+00\n",
            "Epoch 79/200\n",
            "\u001b[1m4/4\u001b[0m \u001b[32m━━━━━━━━━━━━━━━━━━━━\u001b[0m\u001b[37m\u001b[0m \u001b[1m0s\u001b[0m 24ms/step - accuracy: 0.3367 - loss: 0.0000e+00 - val_accuracy: 0.3000 - val_loss: 0.0000e+00\n",
            "Epoch 80/200\n",
            "\u001b[1m4/4\u001b[0m \u001b[32m━━━━━━━━━━━━━━━━━━━━\u001b[0m\u001b[37m\u001b[0m \u001b[1m0s\u001b[0m 25ms/step - accuracy: 0.3731 - loss: 0.0000e+00 - val_accuracy: 0.3000 - val_loss: 0.0000e+00\n",
            "Epoch 81/200\n",
            "\u001b[1m4/4\u001b[0m \u001b[32m━━━━━━━━━━━━━━━━━━━━\u001b[0m\u001b[37m\u001b[0m \u001b[1m0s\u001b[0m 24ms/step - accuracy: 0.3440 - loss: 0.0000e+00 - val_accuracy: 0.3000 - val_loss: 0.0000e+00\n",
            "Epoch 82/200\n",
            "\u001b[1m4/4\u001b[0m \u001b[32m━━━━━━━━━━━━━━━━━━━━\u001b[0m\u001b[37m\u001b[0m \u001b[1m0s\u001b[0m 26ms/step - accuracy: 0.3877 - loss: 0.0000e+00 - val_accuracy: 0.3000 - val_loss: 0.0000e+00\n",
            "Epoch 83/200\n",
            "\u001b[1m4/4\u001b[0m \u001b[32m━━━━━━━━━━━━━━━━━━━━\u001b[0m\u001b[37m\u001b[0m \u001b[1m0s\u001b[0m 23ms/step - accuracy: 0.3606 - loss: 0.0000e+00 - val_accuracy: 0.3000 - val_loss: 0.0000e+00\n",
            "Epoch 84/200\n",
            "\u001b[1m4/4\u001b[0m \u001b[32m━━━━━━━━━━━━━━━━━━━━\u001b[0m\u001b[37m\u001b[0m \u001b[1m0s\u001b[0m 23ms/step - accuracy: 0.3044 - loss: 0.0000e+00 - val_accuracy: 0.3000 - val_loss: 0.0000e+00\n",
            "Epoch 85/200\n",
            "\u001b[1m4/4\u001b[0m \u001b[32m━━━━━━━━━━━━━━━━━━━━\u001b[0m\u001b[37m\u001b[0m \u001b[1m0s\u001b[0m 24ms/step - accuracy: 0.3398 - loss: 0.0000e+00 - val_accuracy: 0.3000 - val_loss: 0.0000e+00\n",
            "Epoch 86/200\n",
            "\u001b[1m4/4\u001b[0m \u001b[32m━━━━━━━━━━━━━━━━━━━━\u001b[0m\u001b[37m\u001b[0m \u001b[1m0s\u001b[0m 23ms/step - accuracy: 0.3867 - loss: 0.0000e+00 - val_accuracy: 0.3000 - val_loss: 0.0000e+00\n",
            "Epoch 87/200\n",
            "\u001b[1m4/4\u001b[0m \u001b[32m━━━━━━━━━━━━━━━━━━━━\u001b[0m\u001b[37m\u001b[0m \u001b[1m0s\u001b[0m 23ms/step - accuracy: 0.3137 - loss: 0.0000e+00 - val_accuracy: 0.3000 - val_loss: 0.0000e+00\n",
            "Epoch 88/200\n",
            "\u001b[1m4/4\u001b[0m \u001b[32m━━━━━━━━━━━━━━━━━━━━\u001b[0m\u001b[37m\u001b[0m \u001b[1m0s\u001b[0m 37ms/step - accuracy: 0.3190 - loss: 0.0000e+00 - val_accuracy: 0.3000 - val_loss: 0.0000e+00\n",
            "Epoch 89/200\n",
            "\u001b[1m4/4\u001b[0m \u001b[32m━━━━━━━━━━━━━━━━━━━━\u001b[0m\u001b[37m\u001b[0m \u001b[1m0s\u001b[0m 50ms/step - accuracy: 0.3388 - loss: 0.0000e+00 - val_accuracy: 0.3000 - val_loss: 0.0000e+00\n",
            "Epoch 90/200\n",
            "\u001b[1m4/4\u001b[0m \u001b[32m━━━━━━━━━━━━━━━━━━━━\u001b[0m\u001b[37m\u001b[0m \u001b[1m0s\u001b[0m 57ms/step - accuracy: 0.3721 - loss: 0.0000e+00 - val_accuracy: 0.3000 - val_loss: 0.0000e+00\n",
            "Epoch 91/200\n",
            "\u001b[1m4/4\u001b[0m \u001b[32m━━━━━━━━━━━━━━━━━━━━\u001b[0m\u001b[37m\u001b[0m \u001b[1m0s\u001b[0m 48ms/step - accuracy: 0.2742 - loss: 0.0000e+00 - val_accuracy: 0.3000 - val_loss: 0.0000e+00\n",
            "Epoch 92/200\n",
            "\u001b[1m4/4\u001b[0m \u001b[32m━━━━━━━━━━━━━━━━━━━━\u001b[0m\u001b[37m\u001b[0m \u001b[1m0s\u001b[0m 38ms/step - accuracy: 0.3502 - loss: 0.0000e+00 - val_accuracy: 0.3000 - val_loss: 0.0000e+00\n",
            "Epoch 93/200\n",
            "\u001b[1m4/4\u001b[0m \u001b[32m━━━━━━━━━━━━━━━━━━━━\u001b[0m\u001b[37m\u001b[0m \u001b[1m0s\u001b[0m 34ms/step - accuracy: 0.3481 - loss: 0.0000e+00 - val_accuracy: 0.3000 - val_loss: 0.0000e+00\n",
            "Epoch 94/200\n",
            "\u001b[1m4/4\u001b[0m \u001b[32m━━━━━━━━━━━━━━━━━━━━\u001b[0m\u001b[37m\u001b[0m \u001b[1m0s\u001b[0m 43ms/step - accuracy: 0.3252 - loss: 0.0000e+00 - val_accuracy: 0.3000 - val_loss: 0.0000e+00\n",
            "Epoch 95/200\n",
            "\u001b[1m4/4\u001b[0m \u001b[32m━━━━━━━━━━━━━━━━━━━━\u001b[0m\u001b[37m\u001b[0m \u001b[1m0s\u001b[0m 47ms/step - accuracy: 0.3502 - loss: 0.0000e+00 - val_accuracy: 0.3000 - val_loss: 0.0000e+00\n",
            "Epoch 96/200\n",
            "\u001b[1m4/4\u001b[0m \u001b[32m━━━━━━━━━━━━━━━━━━━━\u001b[0m\u001b[37m\u001b[0m \u001b[1m0s\u001b[0m 38ms/step - accuracy: 0.3773 - loss: 0.0000e+00 - val_accuracy: 0.3000 - val_loss: 0.0000e+00\n",
            "Epoch 97/200\n",
            "\u001b[1m4/4\u001b[0m \u001b[32m━━━━━━━━━━━━━━━━━━━━\u001b[0m\u001b[37m\u001b[0m \u001b[1m0s\u001b[0m 29ms/step - accuracy: 0.3679 - loss: 0.0000e+00 - val_accuracy: 0.3000 - val_loss: 0.0000e+00\n",
            "Epoch 98/200\n",
            "\u001b[1m4/4\u001b[0m \u001b[32m━━━━━━━━━━━━━━━━━━━━\u001b[0m\u001b[37m\u001b[0m \u001b[1m0s\u001b[0m 26ms/step - accuracy: 0.3762 - loss: 0.0000e+00 - val_accuracy: 0.3000 - val_loss: 0.0000e+00\n",
            "Epoch 99/200\n",
            "\u001b[1m4/4\u001b[0m \u001b[32m━━━━━━━━━━━━━━━━━━━━\u001b[0m\u001b[37m\u001b[0m \u001b[1m0s\u001b[0m 26ms/step - accuracy: 0.3408 - loss: 0.0000e+00 - val_accuracy: 0.3000 - val_loss: 0.0000e+00\n",
            "Epoch 100/200\n",
            "\u001b[1m4/4\u001b[0m \u001b[32m━━━━━━━━━━━━━━━━━━━━\u001b[0m\u001b[37m\u001b[0m \u001b[1m0s\u001b[0m 27ms/step - accuracy: 0.3367 - loss: 0.0000e+00 - val_accuracy: 0.3000 - val_loss: 0.0000e+00\n",
            "Epoch 101/200\n",
            "\u001b[1m4/4\u001b[0m \u001b[32m━━━━━━━━━━━━━━━━━━━━\u001b[0m\u001b[37m\u001b[0m \u001b[1m0s\u001b[0m 28ms/step - accuracy: 0.3700 - loss: 0.0000e+00 - val_accuracy: 0.3000 - val_loss: 0.0000e+00\n",
            "Epoch 102/200\n",
            "\u001b[1m4/4\u001b[0m \u001b[32m━━━━━━━━━━━━━━━━━━━━\u001b[0m\u001b[37m\u001b[0m \u001b[1m0s\u001b[0m 27ms/step - accuracy: 0.3419 - loss: 0.0000e+00 - val_accuracy: 0.3000 - val_loss: 0.0000e+00\n",
            "Epoch 103/200\n",
            "\u001b[1m4/4\u001b[0m \u001b[32m━━━━━━━━━━━━━━━━━━━━\u001b[0m\u001b[37m\u001b[0m \u001b[1m0s\u001b[0m 28ms/step - accuracy: 0.3700 - loss: 0.0000e+00 - val_accuracy: 0.3000 - val_loss: 0.0000e+00\n",
            "Epoch 104/200\n",
            "\u001b[1m4/4\u001b[0m \u001b[32m━━━━━━━━━━━━━━━━━━━━\u001b[0m\u001b[37m\u001b[0m \u001b[1m0s\u001b[0m 38ms/step - accuracy: 0.3596 - loss: 0.0000e+00 - val_accuracy: 0.3000 - val_loss: 0.0000e+00\n",
            "Epoch 105/200\n",
            "\u001b[1m4/4\u001b[0m \u001b[32m━━━━━━━━━━━━━━━━━━━━\u001b[0m\u001b[37m\u001b[0m \u001b[1m0s\u001b[0m 38ms/step - accuracy: 0.3492 - loss: 0.0000e+00 - val_accuracy: 0.3000 - val_loss: 0.0000e+00\n",
            "Epoch 106/200\n",
            "\u001b[1m4/4\u001b[0m \u001b[32m━━━━━━━━━━━━━━━━━━━━\u001b[0m\u001b[37m\u001b[0m \u001b[1m0s\u001b[0m 24ms/step - accuracy: 0.3273 - loss: 0.0000e+00 - val_accuracy: 0.3000 - val_loss: 0.0000e+00\n",
            "Epoch 107/200\n",
            "\u001b[1m4/4\u001b[0m \u001b[32m━━━━━━━━━━━━━━━━━━━━\u001b[0m\u001b[37m\u001b[0m \u001b[1m0s\u001b[0m 30ms/step - accuracy: 0.3429 - loss: 0.0000e+00 - val_accuracy: 0.3000 - val_loss: 0.0000e+00\n",
            "Epoch 108/200\n",
            "\u001b[1m4/4\u001b[0m \u001b[32m━━━━━━━━━━━━━━━━━━━━\u001b[0m\u001b[37m\u001b[0m \u001b[1m0s\u001b[0m 25ms/step - accuracy: 0.3023 - loss: 0.0000e+00 - val_accuracy: 0.3000 - val_loss: 0.0000e+00\n",
            "Epoch 109/200\n",
            "\u001b[1m4/4\u001b[0m \u001b[32m━━━━━━━━━━━━━━━━━━━━\u001b[0m\u001b[37m\u001b[0m \u001b[1m0s\u001b[0m 24ms/step - accuracy: 0.3200 - loss: 0.0000e+00 - val_accuracy: 0.3000 - val_loss: 0.0000e+00\n",
            "Epoch 110/200\n",
            "\u001b[1m4/4\u001b[0m \u001b[32m━━━━━━━━━━━━━━━━━━━━\u001b[0m\u001b[37m\u001b[0m \u001b[1m0s\u001b[0m 25ms/step - accuracy: 0.3710 - loss: 0.0000e+00 - val_accuracy: 0.3000 - val_loss: 0.0000e+00\n",
            "Epoch 111/200\n",
            "\u001b[1m4/4\u001b[0m \u001b[32m━━━━━━━━━━━━━━━━━━━━\u001b[0m\u001b[37m\u001b[0m \u001b[1m0s\u001b[0m 24ms/step - accuracy: 0.3252 - loss: 0.0000e+00 - val_accuracy: 0.3000 - val_loss: 0.0000e+00\n",
            "Epoch 112/200\n",
            "\u001b[1m4/4\u001b[0m \u001b[32m━━━━━━━━━━━━━━━━━━━━\u001b[0m\u001b[37m\u001b[0m \u001b[1m0s\u001b[0m 25ms/step - accuracy: 0.3335 - loss: 0.0000e+00 - val_accuracy: 0.3000 - val_loss: 0.0000e+00\n",
            "Epoch 113/200\n",
            "\u001b[1m4/4\u001b[0m \u001b[32m━━━━━━━━━━━━━━━━━━━━\u001b[0m\u001b[37m\u001b[0m \u001b[1m0s\u001b[0m 24ms/step - accuracy: 0.3283 - loss: 0.0000e+00 - val_accuracy: 0.3000 - val_loss: 0.0000e+00\n",
            "Epoch 114/200\n",
            "\u001b[1m4/4\u001b[0m \u001b[32m━━━━━━━━━━━━━━━━━━━━\u001b[0m\u001b[37m\u001b[0m \u001b[1m0s\u001b[0m 26ms/step - accuracy: 0.3471 - loss: 0.0000e+00 - val_accuracy: 0.3000 - val_loss: 0.0000e+00\n",
            "Epoch 115/200\n",
            "\u001b[1m4/4\u001b[0m \u001b[32m━━━━━━━━━━━━━━━━━━━━\u001b[0m\u001b[37m\u001b[0m \u001b[1m0s\u001b[0m 28ms/step - accuracy: 0.3721 - loss: 0.0000e+00 - val_accuracy: 0.3000 - val_loss: 0.0000e+00\n",
            "Epoch 116/200\n",
            "\u001b[1m4/4\u001b[0m \u001b[32m━━━━━━━━━━━━━━━━━━━━\u001b[0m\u001b[37m\u001b[0m \u001b[1m0s\u001b[0m 25ms/step - accuracy: 0.3190 - loss: 0.0000e+00 - val_accuracy: 0.3000 - val_loss: 0.0000e+00\n",
            "Epoch 117/200\n",
            "\u001b[1m4/4\u001b[0m \u001b[32m━━━━━━━━━━━━━━━━━━━━\u001b[0m\u001b[37m\u001b[0m \u001b[1m0s\u001b[0m 24ms/step - accuracy: 0.3408 - loss: 0.0000e+00 - val_accuracy: 0.3000 - val_loss: 0.0000e+00\n",
            "Epoch 118/200\n",
            "\u001b[1m4/4\u001b[0m \u001b[32m━━━━━━━━━━━━━━━━━━━━\u001b[0m\u001b[37m\u001b[0m \u001b[1m0s\u001b[0m 24ms/step - accuracy: 0.3523 - loss: 0.0000e+00 - val_accuracy: 0.3000 - val_loss: 0.0000e+00\n",
            "Epoch 119/200\n",
            "\u001b[1m4/4\u001b[0m \u001b[32m━━━━━━━━━━━━━━━━━━━━\u001b[0m\u001b[37m\u001b[0m \u001b[1m0s\u001b[0m 25ms/step - accuracy: 0.3606 - loss: 0.0000e+00 - val_accuracy: 0.3000 - val_loss: 0.0000e+00\n",
            "Epoch 120/200\n",
            "\u001b[1m4/4\u001b[0m \u001b[32m━━━━━━━━━━━━━━━━━━━━\u001b[0m\u001b[37m\u001b[0m \u001b[1m0s\u001b[0m 27ms/step - accuracy: 0.3825 - loss: 0.0000e+00 - val_accuracy: 0.3000 - val_loss: 0.0000e+00\n",
            "Epoch 121/200\n",
            "\u001b[1m4/4\u001b[0m \u001b[32m━━━━━━━━━━━━━━━━━━━━\u001b[0m\u001b[37m\u001b[0m \u001b[1m0s\u001b[0m 27ms/step - accuracy: 0.3294 - loss: 0.0000e+00 - val_accuracy: 0.3000 - val_loss: 0.0000e+00\n",
            "Epoch 122/200\n",
            "\u001b[1m4/4\u001b[0m \u001b[32m━━━━━━━━━━━━━━━━━━━━\u001b[0m\u001b[37m\u001b[0m \u001b[1m0s\u001b[0m 26ms/step - accuracy: 0.3648 - loss: 0.0000e+00 - val_accuracy: 0.3000 - val_loss: 0.0000e+00\n",
            "Epoch 123/200\n",
            "\u001b[1m4/4\u001b[0m \u001b[32m━━━━━━━━━━━━━━━━━━━━\u001b[0m\u001b[37m\u001b[0m \u001b[1m0s\u001b[0m 41ms/step - accuracy: 0.3606 - loss: 0.0000e+00 - val_accuracy: 0.3000 - val_loss: 0.0000e+00\n",
            "Epoch 124/200\n",
            "\u001b[1m4/4\u001b[0m \u001b[32m━━━━━━━━━━━━━━━━━━━━\u001b[0m\u001b[37m\u001b[0m \u001b[1m0s\u001b[0m 27ms/step - accuracy: 0.4158 - loss: 0.0000e+00 - val_accuracy: 0.3000 - val_loss: 0.0000e+00\n",
            "Epoch 125/200\n",
            "\u001b[1m4/4\u001b[0m \u001b[32m━━━━━━━━━━━━━━━━━━━━\u001b[0m\u001b[37m\u001b[0m \u001b[1m0s\u001b[0m 27ms/step - accuracy: 0.3575 - loss: 0.0000e+00 - val_accuracy: 0.3000 - val_loss: 0.0000e+00\n",
            "Epoch 126/200\n",
            "\u001b[1m4/4\u001b[0m \u001b[32m━━━━━━━━━━━━━━━━━━━━\u001b[0m\u001b[37m\u001b[0m \u001b[1m0s\u001b[0m 26ms/step - accuracy: 0.3158 - loss: 0.0000e+00 - val_accuracy: 0.3000 - val_loss: 0.0000e+00\n",
            "Epoch 127/200\n",
            "\u001b[1m4/4\u001b[0m \u001b[32m━━━━━━━━━━━━━━━━━━━━\u001b[0m\u001b[37m\u001b[0m \u001b[1m0s\u001b[0m 34ms/step - accuracy: 0.3335 - loss: 0.0000e+00 - val_accuracy: 0.3000 - val_loss: 0.0000e+00\n",
            "Epoch 128/200\n",
            "\u001b[1m4/4\u001b[0m \u001b[32m━━━━━━━━━━━━━━━━━━━━\u001b[0m\u001b[37m\u001b[0m \u001b[1m0s\u001b[0m 27ms/step - accuracy: 0.3721 - loss: 0.0000e+00 - val_accuracy: 0.3000 - val_loss: 0.0000e+00\n",
            "Epoch 129/200\n",
            "\u001b[1m4/4\u001b[0m \u001b[32m━━━━━━━━━━━━━━━━━━━━\u001b[0m\u001b[37m\u001b[0m \u001b[1m0s\u001b[0m 30ms/step - accuracy: 0.3471 - loss: 0.0000e+00 - val_accuracy: 0.3000 - val_loss: 0.0000e+00\n",
            "Epoch 130/200\n",
            "\u001b[1m4/4\u001b[0m \u001b[32m━━━━━━━━━━━━━━━━━━━━\u001b[0m\u001b[37m\u001b[0m \u001b[1m0s\u001b[0m 29ms/step - accuracy: 0.3398 - loss: 0.0000e+00 - val_accuracy: 0.3000 - val_loss: 0.0000e+00\n",
            "Epoch 131/200\n",
            "\u001b[1m4/4\u001b[0m \u001b[32m━━━━━━━━━━━━━━━━━━━━\u001b[0m\u001b[37m\u001b[0m \u001b[1m0s\u001b[0m 34ms/step - accuracy: 0.3460 - loss: 0.0000e+00 - val_accuracy: 0.3000 - val_loss: 0.0000e+00\n",
            "Epoch 132/200\n",
            "\u001b[1m4/4\u001b[0m \u001b[32m━━━━━━━━━━━━━━━━━━━━\u001b[0m\u001b[37m\u001b[0m \u001b[1m0s\u001b[0m 26ms/step - accuracy: 0.3408 - loss: 0.0000e+00 - val_accuracy: 0.3000 - val_loss: 0.0000e+00\n",
            "Epoch 133/200\n",
            "\u001b[1m4/4\u001b[0m \u001b[32m━━━━━━━━━━━━━━━━━━━━\u001b[0m\u001b[37m\u001b[0m \u001b[1m0s\u001b[0m 26ms/step - accuracy: 0.3377 - loss: 0.0000e+00 - val_accuracy: 0.3000 - val_loss: 0.0000e+00\n",
            "Epoch 134/200\n",
            "\u001b[1m4/4\u001b[0m \u001b[32m━━━━━━━━━━━━━━━━━━━━\u001b[0m\u001b[37m\u001b[0m \u001b[1m0s\u001b[0m 30ms/step - accuracy: 0.3440 - loss: 0.0000e+00 - val_accuracy: 0.3000 - val_loss: 0.0000e+00\n",
            "Epoch 135/200\n",
            "\u001b[1m4/4\u001b[0m \u001b[32m━━━━━━━━━━━━━━━━━━━━\u001b[0m\u001b[37m\u001b[0m \u001b[1m0s\u001b[0m 27ms/step - accuracy: 0.3523 - loss: 0.0000e+00 - val_accuracy: 0.3000 - val_loss: 0.0000e+00\n",
            "Epoch 136/200\n",
            "\u001b[1m4/4\u001b[0m \u001b[32m━━━━━━━━━━━━━━━━━━━━\u001b[0m\u001b[37m\u001b[0m \u001b[1m0s\u001b[0m 27ms/step - accuracy: 0.3377 - loss: 0.0000e+00 - val_accuracy: 0.3000 - val_loss: 0.0000e+00\n",
            "Epoch 137/200\n",
            "\u001b[1m4/4\u001b[0m \u001b[32m━━━━━━━━━━━━━━━━━━━━\u001b[0m\u001b[37m\u001b[0m \u001b[1m0s\u001b[0m 30ms/step - accuracy: 0.3512 - loss: 0.0000e+00 - val_accuracy: 0.3000 - val_loss: 0.0000e+00\n",
            "Epoch 138/200\n",
            "\u001b[1m4/4\u001b[0m \u001b[32m━━━━━━━━━━━━━━━━━━━━\u001b[0m\u001b[37m\u001b[0m \u001b[1m0s\u001b[0m 28ms/step - accuracy: 0.3388 - loss: 0.0000e+00 - val_accuracy: 0.3000 - val_loss: 0.0000e+00\n",
            "Epoch 139/200\n",
            "\u001b[1m4/4\u001b[0m \u001b[32m━━━━━━━━━━━━━━━━━━━━\u001b[0m\u001b[37m\u001b[0m \u001b[1m0s\u001b[0m 29ms/step - accuracy: 0.3408 - loss: 0.0000e+00 - val_accuracy: 0.3000 - val_loss: 0.0000e+00\n",
            "Epoch 140/200\n",
            "\u001b[1m4/4\u001b[0m \u001b[32m━━━━━━━━━━━━━━━━━━━━\u001b[0m\u001b[37m\u001b[0m \u001b[1m0s\u001b[0m 28ms/step - accuracy: 0.3304 - loss: 0.0000e+00 - val_accuracy: 0.3000 - val_loss: 0.0000e+00\n",
            "Epoch 141/200\n",
            "\u001b[1m4/4\u001b[0m \u001b[32m━━━━━━━━━━━━━━━━━━━━\u001b[0m\u001b[37m\u001b[0m \u001b[1m0s\u001b[0m 29ms/step - accuracy: 0.3440 - loss: 0.0000e+00 - val_accuracy: 0.3000 - val_loss: 0.0000e+00\n",
            "Epoch 142/200\n",
            "\u001b[1m4/4\u001b[0m \u001b[32m━━━━━━━━━━━━━━━━━━━━\u001b[0m\u001b[37m\u001b[0m \u001b[1m0s\u001b[0m 27ms/step - accuracy: 0.3440 - loss: 0.0000e+00 - val_accuracy: 0.3000 - val_loss: 0.0000e+00\n",
            "Epoch 143/200\n",
            "\u001b[1m4/4\u001b[0m \u001b[32m━━━━━━━━━━━━━━━━━━━━\u001b[0m\u001b[37m\u001b[0m \u001b[1m0s\u001b[0m 28ms/step - accuracy: 0.2846 - loss: 0.0000e+00 - val_accuracy: 0.3000 - val_loss: 0.0000e+00\n",
            "Epoch 144/200\n",
            "\u001b[1m4/4\u001b[0m \u001b[32m━━━━━━━━━━━━━━━━━━━━\u001b[0m\u001b[37m\u001b[0m \u001b[1m0s\u001b[0m 27ms/step - accuracy: 0.3554 - loss: 0.0000e+00 - val_accuracy: 0.3000 - val_loss: 0.0000e+00\n",
            "Epoch 145/200\n",
            "\u001b[1m4/4\u001b[0m \u001b[32m━━━━━━━━━━━━━━━━━━━━\u001b[0m\u001b[37m\u001b[0m \u001b[1m0s\u001b[0m 28ms/step - accuracy: 0.3002 - loss: 0.0000e+00 - val_accuracy: 0.3000 - val_loss: 0.0000e+00\n",
            "Epoch 146/200\n",
            "\u001b[1m4/4\u001b[0m \u001b[32m━━━━━━━━━━━━━━━━━━━━\u001b[0m\u001b[37m\u001b[0m \u001b[1m0s\u001b[0m 27ms/step - accuracy: 0.2835 - loss: 0.0000e+00 - val_accuracy: 0.3000 - val_loss: 0.0000e+00\n",
            "Epoch 147/200\n",
            "\u001b[1m4/4\u001b[0m \u001b[32m━━━━━━━━━━━━━━━━━━━━\u001b[0m\u001b[37m\u001b[0m \u001b[1m0s\u001b[0m 30ms/step - accuracy: 0.3617 - loss: 0.0000e+00 - val_accuracy: 0.3000 - val_loss: 0.0000e+00\n",
            "Epoch 148/200\n",
            "\u001b[1m4/4\u001b[0m \u001b[32m━━━━━━━━━━━━━━━━━━━━\u001b[0m\u001b[37m\u001b[0m \u001b[1m0s\u001b[0m 41ms/step - accuracy: 0.3429 - loss: 0.0000e+00 - val_accuracy: 0.3000 - val_loss: 0.0000e+00\n",
            "Epoch 149/200\n",
            "\u001b[1m4/4\u001b[0m \u001b[32m━━━━━━━━━━━━━━━━━━━━\u001b[0m\u001b[37m\u001b[0m \u001b[1m0s\u001b[0m 29ms/step - accuracy: 0.3013 - loss: 0.0000e+00 - val_accuracy: 0.3000 - val_loss: 0.0000e+00\n",
            "Epoch 150/200\n",
            "\u001b[1m4/4\u001b[0m \u001b[32m━━━━━━━━━━━━━━━━━━━━\u001b[0m\u001b[37m\u001b[0m \u001b[1m0s\u001b[0m 26ms/step - accuracy: 0.3429 - loss: 0.0000e+00 - val_accuracy: 0.3000 - val_loss: 0.0000e+00\n",
            "Epoch 151/200\n",
            "\u001b[1m4/4\u001b[0m \u001b[32m━━━━━━━━━━━━━━━━━━━━\u001b[0m\u001b[37m\u001b[0m \u001b[1m0s\u001b[0m 25ms/step - accuracy: 0.3158 - loss: 0.0000e+00 - val_accuracy: 0.3000 - val_loss: 0.0000e+00\n",
            "Epoch 152/200\n",
            "\u001b[1m4/4\u001b[0m \u001b[32m━━━━━━━━━━━━━━━━━━━━\u001b[0m\u001b[37m\u001b[0m \u001b[1m0s\u001b[0m 24ms/step - accuracy: 0.3877 - loss: 0.0000e+00 - val_accuracy: 0.3000 - val_loss: 0.0000e+00\n",
            "Epoch 153/200\n",
            "\u001b[1m4/4\u001b[0m \u001b[32m━━━━━━━━━━━━━━━━━━━━\u001b[0m\u001b[37m\u001b[0m \u001b[1m0s\u001b[0m 25ms/step - accuracy: 0.3429 - loss: 0.0000e+00 - val_accuracy: 0.3000 - val_loss: 0.0000e+00\n",
            "Epoch 154/200\n",
            "\u001b[1m4/4\u001b[0m \u001b[32m━━━━━━━━━━━━━━━━━━━━\u001b[0m\u001b[37m\u001b[0m \u001b[1m0s\u001b[0m 25ms/step - accuracy: 0.3450 - loss: 0.0000e+00 - val_accuracy: 0.3000 - val_loss: 0.0000e+00\n",
            "Epoch 155/200\n",
            "\u001b[1m4/4\u001b[0m \u001b[32m━━━━━━━━━━━━━━━━━━━━\u001b[0m\u001b[37m\u001b[0m \u001b[1m0s\u001b[0m 27ms/step - accuracy: 0.3606 - loss: 0.0000e+00 - val_accuracy: 0.3000 - val_loss: 0.0000e+00\n",
            "Epoch 156/200\n",
            "\u001b[1m4/4\u001b[0m \u001b[32m━━━━━━━━━━━━━━━━━━━━\u001b[0m\u001b[37m\u001b[0m \u001b[1m0s\u001b[0m 27ms/step - accuracy: 0.3596 - loss: 0.0000e+00 - val_accuracy: 0.3000 - val_loss: 0.0000e+00\n",
            "Epoch 157/200\n",
            "\u001b[1m4/4\u001b[0m \u001b[32m━━━━━━━━━━━━━━━━━━━━\u001b[0m\u001b[37m\u001b[0m \u001b[1m0s\u001b[0m 24ms/step - accuracy: 0.3033 - loss: 0.0000e+00 - val_accuracy: 0.3000 - val_loss: 0.0000e+00\n",
            "Epoch 158/200\n",
            "\u001b[1m4/4\u001b[0m \u001b[32m━━━━━━━━━━━━━━━━━━━━\u001b[0m\u001b[37m\u001b[0m \u001b[1m0s\u001b[0m 24ms/step - accuracy: 0.3346 - loss: 0.0000e+00 - val_accuracy: 0.3000 - val_loss: 0.0000e+00\n",
            "Epoch 159/200\n",
            "\u001b[1m4/4\u001b[0m \u001b[32m━━━━━━━━━━━━━━━━━━━━\u001b[0m\u001b[37m\u001b[0m \u001b[1m0s\u001b[0m 28ms/step - accuracy: 0.3179 - loss: 0.0000e+00 - val_accuracy: 0.3000 - val_loss: 0.0000e+00\n",
            "Epoch 160/200\n",
            "\u001b[1m4/4\u001b[0m \u001b[32m━━━━━━━━━━━━━━━━━━━━\u001b[0m\u001b[37m\u001b[0m \u001b[1m0s\u001b[0m 26ms/step - accuracy: 0.3565 - loss: 0.0000e+00 - val_accuracy: 0.3000 - val_loss: 0.0000e+00\n",
            "Epoch 161/200\n",
            "\u001b[1m4/4\u001b[0m \u001b[32m━━━━━━━━━━━━━━━━━━━━\u001b[0m\u001b[37m\u001b[0m \u001b[1m0s\u001b[0m 27ms/step - accuracy: 0.3242 - loss: 0.0000e+00 - val_accuracy: 0.3000 - val_loss: 0.0000e+00\n",
            "Epoch 162/200\n",
            "\u001b[1m4/4\u001b[0m \u001b[32m━━━━━━━━━━━━━━━━━━━━\u001b[0m\u001b[37m\u001b[0m \u001b[1m0s\u001b[0m 26ms/step - accuracy: 0.3710 - loss: 0.0000e+00 - val_accuracy: 0.3000 - val_loss: 0.0000e+00\n",
            "Epoch 163/200\n",
            "\u001b[1m4/4\u001b[0m \u001b[32m━━━━━━━━━━━━━━━━━━━━\u001b[0m\u001b[37m\u001b[0m \u001b[1m0s\u001b[0m 31ms/step - accuracy: 0.3585 - loss: 0.0000e+00 - val_accuracy: 0.3000 - val_loss: 0.0000e+00\n",
            "Epoch 164/200\n",
            "\u001b[1m4/4\u001b[0m \u001b[32m━━━━━━━━━━━━━━━━━━━━\u001b[0m\u001b[37m\u001b[0m \u001b[1m0s\u001b[0m 27ms/step - accuracy: 0.3294 - loss: 0.0000e+00 - val_accuracy: 0.3000 - val_loss: 0.0000e+00\n",
            "Epoch 165/200\n",
            "\u001b[1m4/4\u001b[0m \u001b[32m━━━━━━━━━━━━━━━━━━━━\u001b[0m\u001b[37m\u001b[0m \u001b[1m0s\u001b[0m 27ms/step - accuracy: 0.3408 - loss: 0.0000e+00 - val_accuracy: 0.3000 - val_loss: 0.0000e+00\n",
            "Epoch 166/200\n",
            "\u001b[1m4/4\u001b[0m \u001b[32m━━━━━━━━━━━━━━━━━━━━\u001b[0m\u001b[37m\u001b[0m \u001b[1m0s\u001b[0m 26ms/step - accuracy: 0.3617 - loss: 0.0000e+00 - val_accuracy: 0.3000 - val_loss: 0.0000e+00\n",
            "Epoch 167/200\n",
            "\u001b[1m4/4\u001b[0m \u001b[32m━━━━━━━━━━━━━━━━━━━━\u001b[0m\u001b[37m\u001b[0m \u001b[1m0s\u001b[0m 23ms/step - accuracy: 0.3346 - loss: 0.0000e+00 - val_accuracy: 0.3000 - val_loss: 0.0000e+00\n",
            "Epoch 168/200\n",
            "\u001b[1m4/4\u001b[0m \u001b[32m━━━━━━━━━━━━━━━━━━━━\u001b[0m\u001b[37m\u001b[0m \u001b[1m0s\u001b[0m 24ms/step - accuracy: 0.3200 - loss: 0.0000e+00 - val_accuracy: 0.3000 - val_loss: 0.0000e+00\n",
            "Epoch 169/200\n",
            "\u001b[1m4/4\u001b[0m \u001b[32m━━━━━━━━━━━━━━━━━━━━\u001b[0m\u001b[37m\u001b[0m \u001b[1m0s\u001b[0m 24ms/step - accuracy: 0.3658 - loss: 0.0000e+00 - val_accuracy: 0.3000 - val_loss: 0.0000e+00\n",
            "Epoch 170/200\n",
            "\u001b[1m4/4\u001b[0m \u001b[32m━━━━━━━━━━━━━━━━━━━━\u001b[0m\u001b[37m\u001b[0m \u001b[1m0s\u001b[0m 24ms/step - accuracy: 0.3721 - loss: 0.0000e+00 - val_accuracy: 0.3000 - val_loss: 0.0000e+00\n",
            "Epoch 171/200\n",
            "\u001b[1m4/4\u001b[0m \u001b[32m━━━━━━━━━━━━━━━━━━━━\u001b[0m\u001b[37m\u001b[0m \u001b[1m0s\u001b[0m 28ms/step - accuracy: 0.3335 - loss: 0.0000e+00 - val_accuracy: 0.3000 - val_loss: 0.0000e+00\n",
            "Epoch 172/200\n",
            "\u001b[1m4/4\u001b[0m \u001b[32m━━━━━━━━━━━━━━━━━━━━\u001b[0m\u001b[37m\u001b[0m \u001b[1m0s\u001b[0m 24ms/step - accuracy: 0.3617 - loss: 0.0000e+00 - val_accuracy: 0.3000 - val_loss: 0.0000e+00\n",
            "Epoch 173/200\n",
            "\u001b[1m4/4\u001b[0m \u001b[32m━━━━━━━━━━━━━━━━━━━━\u001b[0m\u001b[37m\u001b[0m \u001b[1m0s\u001b[0m 24ms/step - accuracy: 0.3669 - loss: 0.0000e+00 - val_accuracy: 0.3000 - val_loss: 0.0000e+00\n",
            "Epoch 174/200\n",
            "\u001b[1m4/4\u001b[0m \u001b[32m━━━━━━━━━━━━━━━━━━━━\u001b[0m\u001b[37m\u001b[0m \u001b[1m0s\u001b[0m 39ms/step - accuracy: 0.3054 - loss: 0.0000e+00 - val_accuracy: 0.3000 - val_loss: 0.0000e+00\n",
            "Epoch 175/200\n",
            "\u001b[1m4/4\u001b[0m \u001b[32m━━━━━━━━━━━━━━━━━━━━\u001b[0m\u001b[37m\u001b[0m \u001b[1m0s\u001b[0m 50ms/step - accuracy: 0.3283 - loss: 0.0000e+00 - val_accuracy: 0.3000 - val_loss: 0.0000e+00\n",
            "Epoch 176/200\n",
            "\u001b[1m4/4\u001b[0m \u001b[32m━━━━━━━━━━━━━━━━━━━━\u001b[0m\u001b[37m\u001b[0m \u001b[1m0s\u001b[0m 51ms/step - accuracy: 0.3294 - loss: 0.0000e+00 - val_accuracy: 0.3000 - val_loss: 0.0000e+00\n",
            "Epoch 177/200\n",
            "\u001b[1m4/4\u001b[0m \u001b[32m━━━━━━━━━━━━━━━━━━━━\u001b[0m\u001b[37m\u001b[0m \u001b[1m0s\u001b[0m 41ms/step - accuracy: 0.3013 - loss: 0.0000e+00 - val_accuracy: 0.3000 - val_loss: 0.0000e+00\n",
            "Epoch 178/200\n",
            "\u001b[1m4/4\u001b[0m \u001b[32m━━━━━━━━━━━━━━━━━━━━\u001b[0m\u001b[37m\u001b[0m \u001b[1m0s\u001b[0m 36ms/step - accuracy: 0.3679 - loss: 0.0000e+00 - val_accuracy: 0.3000 - val_loss: 0.0000e+00\n",
            "Epoch 179/200\n",
            "\u001b[1m4/4\u001b[0m \u001b[32m━━━━━━━━━━━━━━━━━━━━\u001b[0m\u001b[37m\u001b[0m \u001b[1m0s\u001b[0m 33ms/step - accuracy: 0.3544 - loss: 0.0000e+00 - val_accuracy: 0.3000 - val_loss: 0.0000e+00\n",
            "Epoch 180/200\n",
            "\u001b[1m4/4\u001b[0m \u001b[32m━━━━━━━━━━━━━━━━━━━━\u001b[0m\u001b[37m\u001b[0m \u001b[1m0s\u001b[0m 32ms/step - accuracy: 0.3346 - loss: 0.0000e+00 - val_accuracy: 0.3000 - val_loss: 0.0000e+00\n",
            "Epoch 181/200\n",
            "\u001b[1m4/4\u001b[0m \u001b[32m━━━━━━━━━━━━━━━━━━━━\u001b[0m\u001b[37m\u001b[0m \u001b[1m0s\u001b[0m 32ms/step - accuracy: 0.3408 - loss: 0.0000e+00 - val_accuracy: 0.3000 - val_loss: 0.0000e+00\n",
            "Epoch 182/200\n",
            "\u001b[1m4/4\u001b[0m \u001b[32m━━━━━━━━━━━━━━━━━━━━\u001b[0m\u001b[37m\u001b[0m \u001b[1m0s\u001b[0m 46ms/step - accuracy: 0.3690 - loss: 0.0000e+00 - val_accuracy: 0.3000 - val_loss: 0.0000e+00\n",
            "Epoch 183/200\n",
            "\u001b[1m4/4\u001b[0m \u001b[32m━━━━━━━━━━━━━━━━━━━━\u001b[0m\u001b[37m\u001b[0m \u001b[1m0s\u001b[0m 48ms/step - accuracy: 0.3388 - loss: 0.0000e+00 - val_accuracy: 0.3000 - val_loss: 0.0000e+00\n",
            "Epoch 184/200\n",
            "\u001b[1m4/4\u001b[0m \u001b[32m━━━━━━━━━━━━━━━━━━━━\u001b[0m\u001b[37m\u001b[0m \u001b[1m0s\u001b[0m 52ms/step - accuracy: 0.3679 - loss: 0.0000e+00 - val_accuracy: 0.3000 - val_loss: 0.0000e+00\n",
            "Epoch 185/200\n",
            "\u001b[1m4/4\u001b[0m \u001b[32m━━━━━━━━━━━━━━━━━━━━\u001b[0m\u001b[37m\u001b[0m \u001b[1m0s\u001b[0m 27ms/step - accuracy: 0.3273 - loss: 0.0000e+00 - val_accuracy: 0.3000 - val_loss: 0.0000e+00\n",
            "Epoch 186/200\n",
            "\u001b[1m4/4\u001b[0m \u001b[32m━━━━━━━━━━━━━━━━━━━━\u001b[0m\u001b[37m\u001b[0m \u001b[1m0s\u001b[0m 27ms/step - accuracy: 0.3106 - loss: 0.0000e+00 - val_accuracy: 0.3000 - val_loss: 0.0000e+00\n",
            "Epoch 187/200\n",
            "\u001b[1m4/4\u001b[0m \u001b[32m━━━━━━━━━━━━━━━━━━━━\u001b[0m\u001b[37m\u001b[0m \u001b[1m0s\u001b[0m 39ms/step - accuracy: 0.3669 - loss: 0.0000e+00 - val_accuracy: 0.3000 - val_loss: 0.0000e+00\n",
            "Epoch 188/200\n",
            "\u001b[1m4/4\u001b[0m \u001b[32m━━━━━━━━━━━━━━━━━━━━\u001b[0m\u001b[37m\u001b[0m \u001b[1m0s\u001b[0m 27ms/step - accuracy: 0.3085 - loss: 0.0000e+00 - val_accuracy: 0.3000 - val_loss: 0.0000e+00\n",
            "Epoch 189/200\n",
            "\u001b[1m4/4\u001b[0m \u001b[32m━━━━━━━━━━━━━━━━━━━━\u001b[0m\u001b[37m\u001b[0m \u001b[1m0s\u001b[0m 25ms/step - accuracy: 0.3398 - loss: 0.0000e+00 - val_accuracy: 0.3000 - val_loss: 0.0000e+00\n",
            "Epoch 190/200\n",
            "\u001b[1m4/4\u001b[0m \u001b[32m━━━━━━━━━━━━━━━━━━━━\u001b[0m\u001b[37m\u001b[0m \u001b[1m0s\u001b[0m 24ms/step - accuracy: 0.3440 - loss: 0.0000e+00 - val_accuracy: 0.3000 - val_loss: 0.0000e+00\n",
            "Epoch 191/200\n",
            "\u001b[1m4/4\u001b[0m \u001b[32m━━━━━━━━━━━━━━━━━━━━\u001b[0m\u001b[37m\u001b[0m \u001b[1m0s\u001b[0m 25ms/step - accuracy: 0.3648 - loss: 0.0000e+00 - val_accuracy: 0.3000 - val_loss: 0.0000e+00\n",
            "Epoch 192/200\n",
            "\u001b[1m4/4\u001b[0m \u001b[32m━━━━━━━━━━━━━━━━━━━━\u001b[0m\u001b[37m\u001b[0m \u001b[1m0s\u001b[0m 24ms/step - accuracy: 0.3231 - loss: 0.0000e+00 - val_accuracy: 0.3000 - val_loss: 0.0000e+00\n",
            "Epoch 193/200\n",
            "\u001b[1m4/4\u001b[0m \u001b[32m━━━━━━━━━━━━━━━━━━━━\u001b[0m\u001b[37m\u001b[0m \u001b[1m0s\u001b[0m 24ms/step - accuracy: 0.3804 - loss: 0.0000e+00 - val_accuracy: 0.3000 - val_loss: 0.0000e+00\n",
            "Epoch 194/200\n",
            "\u001b[1m4/4\u001b[0m \u001b[32m━━━━━━━━━━━━━━━━━━━━\u001b[0m\u001b[37m\u001b[0m \u001b[1m0s\u001b[0m 26ms/step - accuracy: 0.3440 - loss: 0.0000e+00 - val_accuracy: 0.3000 - val_loss: 0.0000e+00\n",
            "Epoch 195/200\n",
            "\u001b[1m4/4\u001b[0m \u001b[32m━━━━━━━━━━━━━━━━━━━━\u001b[0m\u001b[37m\u001b[0m \u001b[1m0s\u001b[0m 23ms/step - accuracy: 0.3492 - loss: 0.0000e+00 - val_accuracy: 0.3000 - val_loss: 0.0000e+00\n",
            "Epoch 196/200\n",
            "\u001b[1m4/4\u001b[0m \u001b[32m━━━━━━━━━━━━━━━━━━━━\u001b[0m\u001b[37m\u001b[0m \u001b[1m0s\u001b[0m 23ms/step - accuracy: 0.3731 - loss: 0.0000e+00 - val_accuracy: 0.3000 - val_loss: 0.0000e+00\n",
            "Epoch 197/200\n",
            "\u001b[1m4/4\u001b[0m \u001b[32m━━━━━━━━━━━━━━━━━━━━\u001b[0m\u001b[37m\u001b[0m \u001b[1m0s\u001b[0m 27ms/step - accuracy: 0.3533 - loss: 0.0000e+00 - val_accuracy: 0.3000 - val_loss: 0.0000e+00\n",
            "Epoch 198/200\n",
            "\u001b[1m4/4\u001b[0m \u001b[32m━━━━━━━━━━━━━━━━━━━━\u001b[0m\u001b[37m\u001b[0m \u001b[1m0s\u001b[0m 28ms/step - accuracy: 0.3492 - loss: 0.0000e+00 - val_accuracy: 0.3000 - val_loss: 0.0000e+00\n",
            "Epoch 199/200\n",
            "\u001b[1m4/4\u001b[0m \u001b[32m━━━━━━━━━━━━━━━━━━━━\u001b[0m\u001b[37m\u001b[0m \u001b[1m0s\u001b[0m 30ms/step - accuracy: 0.3565 - loss: 0.0000e+00 - val_accuracy: 0.3000 - val_loss: 0.0000e+00\n",
            "Epoch 200/200\n",
            "\u001b[1m4/4\u001b[0m \u001b[32m━━━━━━━━━━━━━━━━━━━━\u001b[0m\u001b[37m\u001b[0m \u001b[1m0s\u001b[0m 27ms/step - accuracy: 0.3377 - loss: 0.0000e+00 - val_accuracy: 0.3000 - val_loss: 0.0000e+00\n"
          ]
        }
      ]
    },
    {
      "cell_type": "code",
      "source": [
        "print(history_4.history.keys())"
      ],
      "metadata": {
        "colab": {
          "base_uri": "https://localhost:8080/"
        },
        "id": "dO1cPn7srsu1",
        "outputId": "39a0f8e4-0479-4386-b82f-58435a66ba1b"
      },
      "execution_count": 51,
      "outputs": [
        {
          "output_type": "stream",
          "name": "stdout",
          "text": [
            "dict_keys(['accuracy', 'loss', 'val_accuracy', 'val_loss'])\n"
          ]
        }
      ]
    },
    {
      "cell_type": "code",
      "source": [
        "test_loss, acc = model_4.evaluate(X_test_iris, y_test_iris, verbose=2)\n",
        "print(f\"\\nTest Categorical Entropy-Loss: {test_loss:.4f}, Test accuracy: {acc:.4f}\")\n",
        "\n",
        "# Model summary\n",
        "print(\"\\nModel Summary:\")\n",
        "model_4.summary()\n",
        "\n",
        "plt.figure(figsize=(10, 6))\n",
        "plt.plot(history_4.history['loss'], label='Training Loss (Categorical Cross-Entropy)')\n",
        "plt.plot(history_4.history['val_loss'], label='Test Loss (Categorical Cross-Entropy)')\n",
        "plt.title('Training vs Validation Loss')\n",
        "plt.xlabel('Epoch')\n",
        "plt.ylabel('Categorical Cross-Entropy')\n",
        "plt.legend()\n",
        "plt.grid(True)\n",
        "plt.show()"
      ],
      "metadata": {
        "colab": {
          "base_uri": "https://localhost:8080/",
          "height": 962
        },
        "id": "Sr6Kkmn4qckO",
        "outputId": "8161c715-13c9-484f-b29d-ebe2e55caf6f"
      },
      "execution_count": 53,
      "outputs": [
        {
          "output_type": "stream",
          "name": "stdout",
          "text": [
            "1/1 - 0s - 44ms/step - accuracy: 0.3000 - loss: 0.0000e+00\n",
            "\n",
            "Test Categorical Entropy-Loss: 0.0000, Test accuracy: 0.3000\n",
            "\n",
            "Model Summary:\n"
          ]
        },
        {
          "output_type": "display_data",
          "data": {
            "text/plain": [
              "\u001b[1mModel: \"sequential_6\"\u001b[0m\n"
            ],
            "text/html": [
              "<pre style=\"white-space:pre;overflow-x:auto;line-height:normal;font-family:Menlo,'DejaVu Sans Mono',consolas,'Courier New',monospace\"><span style=\"font-weight: bold\">Model: \"sequential_6\"</span>\n",
              "</pre>\n"
            ]
          },
          "metadata": {}
        },
        {
          "output_type": "display_data",
          "data": {
            "text/plain": [
              "┏━━━━━━━━━━━━━━━━━━━━━━━━━━━━━━━━━┳━━━━━━━━━━━━━━━━━━━━━━━━┳━━━━━━━━━━━━━━━┓\n",
              "┃\u001b[1m \u001b[0m\u001b[1mLayer (type)                   \u001b[0m\u001b[1m \u001b[0m┃\u001b[1m \u001b[0m\u001b[1mOutput Shape          \u001b[0m\u001b[1m \u001b[0m┃\u001b[1m \u001b[0m\u001b[1m      Param #\u001b[0m\u001b[1m \u001b[0m┃\n",
              "┡━━━━━━━━━━━━━━━━━━━━━━━━━━━━━━━━━╇━━━━━━━━━━━━━━━━━━━━━━━━╇━━━━━━━━━━━━━━━┩\n",
              "│ dense_20 (\u001b[38;5;33mDense\u001b[0m)                │ (\u001b[38;5;45mNone\u001b[0m, \u001b[38;5;34m64\u001b[0m)             │           \u001b[38;5;34m320\u001b[0m │\n",
              "├─────────────────────────────────┼────────────────────────┼───────────────┤\n",
              "│ dropout_8 (\u001b[38;5;33mDropout\u001b[0m)             │ (\u001b[38;5;45mNone\u001b[0m, \u001b[38;5;34m64\u001b[0m)             │             \u001b[38;5;34m0\u001b[0m │\n",
              "├─────────────────────────────────┼────────────────────────┼───────────────┤\n",
              "│ dense_21 (\u001b[38;5;33mDense\u001b[0m)                │ (\u001b[38;5;45mNone\u001b[0m, \u001b[38;5;34m32\u001b[0m)             │         \u001b[38;5;34m2,080\u001b[0m │\n",
              "├─────────────────────────────────┼────────────────────────┼───────────────┤\n",
              "│ dropout_9 (\u001b[38;5;33mDropout\u001b[0m)             │ (\u001b[38;5;45mNone\u001b[0m, \u001b[38;5;34m32\u001b[0m)             │             \u001b[38;5;34m0\u001b[0m │\n",
              "├─────────────────────────────────┼────────────────────────┼───────────────┤\n",
              "│ dense_22 (\u001b[38;5;33mDense\u001b[0m)                │ (\u001b[38;5;45mNone\u001b[0m, \u001b[38;5;34m16\u001b[0m)             │           \u001b[38;5;34m528\u001b[0m │\n",
              "├─────────────────────────────────┼────────────────────────┼───────────────┤\n",
              "│ dense_23 (\u001b[38;5;33mDense\u001b[0m)                │ (\u001b[38;5;45mNone\u001b[0m, \u001b[38;5;34m1\u001b[0m)              │            \u001b[38;5;34m17\u001b[0m │\n",
              "└─────────────────────────────────┴────────────────────────┴───────────────┘\n"
            ],
            "text/html": [
              "<pre style=\"white-space:pre;overflow-x:auto;line-height:normal;font-family:Menlo,'DejaVu Sans Mono',consolas,'Courier New',monospace\">┏━━━━━━━━━━━━━━━━━━━━━━━━━━━━━━━━━┳━━━━━━━━━━━━━━━━━━━━━━━━┳━━━━━━━━━━━━━━━┓\n",
              "┃<span style=\"font-weight: bold\"> Layer (type)                    </span>┃<span style=\"font-weight: bold\"> Output Shape           </span>┃<span style=\"font-weight: bold\">       Param # </span>┃\n",
              "┡━━━━━━━━━━━━━━━━━━━━━━━━━━━━━━━━━╇━━━━━━━━━━━━━━━━━━━━━━━━╇━━━━━━━━━━━━━━━┩\n",
              "│ dense_20 (<span style=\"color: #0087ff; text-decoration-color: #0087ff\">Dense</span>)                │ (<span style=\"color: #00d7ff; text-decoration-color: #00d7ff\">None</span>, <span style=\"color: #00af00; text-decoration-color: #00af00\">64</span>)             │           <span style=\"color: #00af00; text-decoration-color: #00af00\">320</span> │\n",
              "├─────────────────────────────────┼────────────────────────┼───────────────┤\n",
              "│ dropout_8 (<span style=\"color: #0087ff; text-decoration-color: #0087ff\">Dropout</span>)             │ (<span style=\"color: #00d7ff; text-decoration-color: #00d7ff\">None</span>, <span style=\"color: #00af00; text-decoration-color: #00af00\">64</span>)             │             <span style=\"color: #00af00; text-decoration-color: #00af00\">0</span> │\n",
              "├─────────────────────────────────┼────────────────────────┼───────────────┤\n",
              "│ dense_21 (<span style=\"color: #0087ff; text-decoration-color: #0087ff\">Dense</span>)                │ (<span style=\"color: #00d7ff; text-decoration-color: #00d7ff\">None</span>, <span style=\"color: #00af00; text-decoration-color: #00af00\">32</span>)             │         <span style=\"color: #00af00; text-decoration-color: #00af00\">2,080</span> │\n",
              "├─────────────────────────────────┼────────────────────────┼───────────────┤\n",
              "│ dropout_9 (<span style=\"color: #0087ff; text-decoration-color: #0087ff\">Dropout</span>)             │ (<span style=\"color: #00d7ff; text-decoration-color: #00d7ff\">None</span>, <span style=\"color: #00af00; text-decoration-color: #00af00\">32</span>)             │             <span style=\"color: #00af00; text-decoration-color: #00af00\">0</span> │\n",
              "├─────────────────────────────────┼────────────────────────┼───────────────┤\n",
              "│ dense_22 (<span style=\"color: #0087ff; text-decoration-color: #0087ff\">Dense</span>)                │ (<span style=\"color: #00d7ff; text-decoration-color: #00d7ff\">None</span>, <span style=\"color: #00af00; text-decoration-color: #00af00\">16</span>)             │           <span style=\"color: #00af00; text-decoration-color: #00af00\">528</span> │\n",
              "├─────────────────────────────────┼────────────────────────┼───────────────┤\n",
              "│ dense_23 (<span style=\"color: #0087ff; text-decoration-color: #0087ff\">Dense</span>)                │ (<span style=\"color: #00d7ff; text-decoration-color: #00d7ff\">None</span>, <span style=\"color: #00af00; text-decoration-color: #00af00\">1</span>)              │            <span style=\"color: #00af00; text-decoration-color: #00af00\">17</span> │\n",
              "└─────────────────────────────────┴────────────────────────┴───────────────┘\n",
              "</pre>\n"
            ]
          },
          "metadata": {}
        },
        {
          "output_type": "display_data",
          "data": {
            "text/plain": [
              "\u001b[1m Total params: \u001b[0m\u001b[38;5;34m8,837\u001b[0m (34.52 KB)\n"
            ],
            "text/html": [
              "<pre style=\"white-space:pre;overflow-x:auto;line-height:normal;font-family:Menlo,'DejaVu Sans Mono',consolas,'Courier New',monospace\"><span style=\"font-weight: bold\"> Total params: </span><span style=\"color: #00af00; text-decoration-color: #00af00\">8,837</span> (34.52 KB)\n",
              "</pre>\n"
            ]
          },
          "metadata": {}
        },
        {
          "output_type": "display_data",
          "data": {
            "text/plain": [
              "\u001b[1m Trainable params: \u001b[0m\u001b[38;5;34m2,945\u001b[0m (11.50 KB)\n"
            ],
            "text/html": [
              "<pre style=\"white-space:pre;overflow-x:auto;line-height:normal;font-family:Menlo,'DejaVu Sans Mono',consolas,'Courier New',monospace\"><span style=\"font-weight: bold\"> Trainable params: </span><span style=\"color: #00af00; text-decoration-color: #00af00\">2,945</span> (11.50 KB)\n",
              "</pre>\n"
            ]
          },
          "metadata": {}
        },
        {
          "output_type": "display_data",
          "data": {
            "text/plain": [
              "\u001b[1m Non-trainable params: \u001b[0m\u001b[38;5;34m0\u001b[0m (0.00 B)\n"
            ],
            "text/html": [
              "<pre style=\"white-space:pre;overflow-x:auto;line-height:normal;font-family:Menlo,'DejaVu Sans Mono',consolas,'Courier New',monospace\"><span style=\"font-weight: bold\"> Non-trainable params: </span><span style=\"color: #00af00; text-decoration-color: #00af00\">0</span> (0.00 B)\n",
              "</pre>\n"
            ]
          },
          "metadata": {}
        },
        {
          "output_type": "display_data",
          "data": {
            "text/plain": [
              "\u001b[1m Optimizer params: \u001b[0m\u001b[38;5;34m5,892\u001b[0m (23.02 KB)\n"
            ],
            "text/html": [
              "<pre style=\"white-space:pre;overflow-x:auto;line-height:normal;font-family:Menlo,'DejaVu Sans Mono',consolas,'Courier New',monospace\"><span style=\"font-weight: bold\"> Optimizer params: </span><span style=\"color: #00af00; text-decoration-color: #00af00\">5,892</span> (23.02 KB)\n",
              "</pre>\n"
            ]
          },
          "metadata": {}
        },
        {
          "output_type": "display_data",
          "data": {
            "text/plain": [
              "<Figure size 1000x600 with 1 Axes>"
            ],
            "image/png": "[encoded data removed]"
          },
          "metadata": {}
        }
      ]
    },
    {
      "cell_type": "code",
      "source": [],
      "metadata": {
        "id": "vJD2F7dyrYYy"
      },
      "execution_count": 52,
      "outputs": []
    }
  ]
}