{
  "nbformat": 4,
  "nbformat_minor": 0,
  "metadata": {
    "colab": {
      "provenance": [],
      "authorship_tag": "ABX9TyP+BJJdRsTdlzyIIuVm1dAL",
      "include_colab_link": true
    },
    "kernelspec": {
      "name": "python3",
      "display_name": "Python 3"
    },
    "language_info": {
      "name": "python"
    }
  },
  "cells": [
    {
      "cell_type": "markdown",
      "metadata": {
        "id": "view-in-github",
        "colab_type": "text"
      },
      "source": [
        "<a href=\"https://colab.research.google.com/github/Riasat38/CSE440-Natural-Language-Processing-/blob/main/CSE440_LAB3.ipynb\" target=\"_parent\"><img src=\"https://colab.research.google.com/assets/colab-badge.svg\" alt=\"Open In Colab\"/></a>"
      ]
    },
    {
      "cell_type": "code",
      "source": [
        "!pip install keras"
      ],
      "metadata": {
        "colab": {
          "base_uri": "https://localhost:8080/"
        },
        "id": "Mh5xK7p0ck1Z",
        "outputId": "51eadf08-a6a4-4fc7-fee0-87d98a183501"
      },
      "execution_count": null,
      "outputs": [
        {
          "output_type": "stream",
          "name": "stdout",
          "text": [
            "Requirement already satisfied: keras in /usr/local/lib/python3.11/dist-packages (3.8.0)\n",
            "Requirement already satisfied: absl-py in /usr/local/lib/python3.11/dist-packages (from keras) (1.4.0)\n",
            "Requirement already satisfied: numpy in /usr/local/lib/python3.11/dist-packages (from keras) (2.0.2)\n",
            "Requirement already satisfied: rich in /usr/local/lib/python3.11/dist-packages (from keras) (13.9.4)\n",
            "Requirement already satisfied: namex in /usr/local/lib/python3.11/dist-packages (from keras) (0.0.9)\n",
            "Requirement already satisfied: h5py in /usr/local/lib/python3.11/dist-packages (from keras) (3.13.0)\n",
            "Requirement already satisfied: optree in /usr/local/lib/python3.11/dist-packages (from keras) (0.15.0)\n",
            "Requirement already satisfied: ml-dtypes in /usr/local/lib/python3.11/dist-packages (from keras) (0.4.1)\n",
            "Requirement already satisfied: packaging in /usr/local/lib/python3.11/dist-packages (from keras) (24.2)\n",
            "Requirement already satisfied: typing-extensions>=4.5.0 in /usr/local/lib/python3.11/dist-packages (from optree->keras) (4.13.2)\n",
            "Requirement already satisfied: markdown-it-py>=2.2.0 in /usr/local/lib/python3.11/dist-packages (from rich->keras) (3.0.0)\n",
            "Requirement already satisfied: pygments<3.0.0,>=2.13.0 in /usr/local/lib/python3.11/dist-packages (from rich->keras) (2.18.0)\n",
            "Requirement already satisfied: mdurl~=0.1 in /usr/local/lib/python3.11/dist-packages (from markdown-it-py>=2.2.0->rich->keras) (0.1.2)\n"
          ]
        }
      ]
    },
    {
      "cell_type": "code",
      "source": [
        "import pandas as pd\n",
        "import numpy as np\n",
        "import matplotlib.pyplot as plt\n",
        "import sympy as sp\n",
        "from keras.models import Sequential\n",
        "from keras.layers import Dense, Dropout\n",
        "from sklearn.model_selection import train_test_split\n",
        "from sklearn.preprocessing import normalize\n"
      ],
      "metadata": {
        "id": "ZFMR9QfYcqxg"
      },
      "execution_count": 1,
      "outputs": []
    },
    {
      "cell_type": "code",
      "source": [
        "data = {\n",
        "    'X': [1.0, 2.0, 3.0, 4.0, 5.0],\n",
        "    'Y': [9.9, 8.0, 6.1, 3.9, 2.0]\n",
        "}\n",
        "df = pd.DataFrame(data)\n",
        "print(df.head())"
      ],
      "metadata": {
        "colab": {
          "base_uri": "https://localhost:8080/"
        },
        "id": "GLu8zL95Xp8X",
        "outputId": "b3d41bdb-43c2-4f10-dbc6-a3a676983617"
      },
      "execution_count": 2,
      "outputs": [
        {
          "output_type": "stream",
          "name": "stdout",
          "text": [
            "     X    Y\n",
            "0  1.0  9.9\n",
            "1  2.0  8.0\n",
            "2  3.0  6.1\n",
            "3  4.0  3.9\n",
            "4  5.0  2.0\n"
          ]
        }
      ]
    },
    {
      "cell_type": "markdown",
      "source": [
        "$$ax^2 + bx + c$$"
      ],
      "metadata": {
        "id": "Ww48CFplYES4"
      }
    },
    {
      "cell_type": "code",
      "source": [
        "def gradient_descent_poly(a_val, b_val, c_val, X, Y, learning_rate, epochs):\n",
        "\n",
        "    # Define x and y as mathematical symbols\n",
        "    vars = sp.symbols('a b c x y n')\n",
        "    a, b, c, x, y, n  = vars\n",
        "    n_val = float(len(X))\n",
        "\n",
        "    error_function = ((1/(2*n)) * ((y - (a*(x**2) + b*x+c))**2))\n",
        "\n",
        "    for j in range(epochs):\n",
        "        c_gradient = 0\n",
        "        b_gradient = 0\n",
        "        a_gradient = 0\n",
        "        for i in range(0, len(X)):\n",
        "            #print(b)\n",
        "            c_gradient += sp.diff(error_function, c).subs({x:X[i], y: Y[i], b:b_val, a: a_val, c:c_val, n:n_val})\n",
        "            b_gradient += sp.diff(error_function, b).subs({x:X[i], y: Y[i], b:b_val, a: a_val, c:c_val, n:n_val})\n",
        "            a_gradient += sp.diff(error_function, a).subs({x:X[i], y: Y[i], b:b_val, a: a_val, c:c_val, n:n_val})\n",
        "\n",
        "        c_val -= (learning_rate * c_gradient)\n",
        "        b_val -= (learning_rate * b_gradient)\n",
        "        a_val -= (learning_rate * a_gradient)\n",
        "\n",
        "    return [a_val, b_val, c_val]"
      ],
      "metadata": {
        "id": "KKXCJdMAXsI4"
      },
      "execution_count": 3,
      "outputs": []
    },
    {
      "cell_type": "code",
      "source": [
        "X_data = df['X'].values\n",
        "Y_data = df['Y'].values"
      ],
      "metadata": {
        "id": "69by9rzzaQVZ"
      },
      "execution_count": 4,
      "outputs": []
    },
    {
      "cell_type": "code",
      "source": [
        "vals = gradient_descent_poly(a_val = 0, b_val = 0, c_val = 0, X = X_data, Y = Y_data, learning_rate=0.0001, epochs = 1000)\n",
        "\n",
        "a_val = vals[0]\n",
        "b_val = vals[1]\n",
        "c_val = vals[2]\n",
        "\n",
        "predictions = [(a_val * (X_data[i]**2)) + (b_val * X_data[i]) + c_val for i in range(len(X_data))]\n",
        "plt.scatter(X_data, Y_data)\n",
        "plt.plot(X_data, predictions, color='r')"
      ],
      "metadata": {
        "colab": {
          "base_uri": "https://localhost:8080/",
          "height": 447
        },
        "id": "nJoW-xv8aAcS",
        "outputId": "90a68723-908e-405a-83d0-f23c7bc01d91"
      },
      "execution_count": 5,
      "outputs": [
        {
          "output_type": "execute_result",
          "data": {
            "text/plain": [
              "[<matplotlib.lines.Line2D at 0x7f4d6bca9910>]"
            ]
          },
          "metadata": {},
          "execution_count": 5
        },
        {
          "output_type": "display_data",
          "data": {
            "text/plain": [
              "<Figure size 640x480 with 1 Axes>"
            ],
            "image/png": "[encoded data removed]"
          },
          "metadata": {}
        }
      ]
    },
    {
      "cell_type": "markdown",
      "source": [
        "## Task 2"
      ],
      "metadata": {
        "id": "Q_1BobusgCOt"
      }
    },
    {
      "cell_type": "code",
      "source": [
        "from sklearn.datasets import fetch_california_housing\n",
        "dataset = fetch_california_housing(as_frame=True)\n",
        "dataset"
      ],
      "metadata": {
        "colab": {
          "base_uri": "https://localhost:8080/"
        },
        "id": "_v8UNEdwdjm0",
        "outputId": "7fdf4f43-1b86-44d0-9a99-f0caf8d71896"
      },
      "execution_count": 6,
      "outputs": [
        {
          "output_type": "execute_result",
          "data": {
            "text/plain": [
              "{'data':        MedInc  HouseAge  AveRooms  AveBedrms  Population  AveOccup  Latitude  \\\n",
              " 0      8.3252      41.0  6.984127   1.023810       322.0  2.555556     37.88   \n",
              " 1      8.3014      21.0  6.238137   0.971880      2401.0  2.109842     37.86   \n",
              " 2      7.2574      52.0  8.288136   1.073446       496.0  2.802260     37.85   \n",
              " 3      5.6431      52.0  5.817352   1.073059       558.0  2.547945     37.85   \n",
              " 4      3.8462      52.0  6.281853   1.081081       565.0  2.181467     37.85   \n",
              " ...       ...       ...       ...        ...         ...       ...       ...   \n",
              " 20635  1.5603      25.0  5.045455   1.133333       845.0  2.560606     39.48   \n",
              " 20636  2.5568      18.0  6.114035   1.315789       356.0  3.122807     39.49   \n",
              " 20637  1.7000      17.0  5.205543   1.120092      1007.0  2.325635     39.43   \n",
              " 20638  1.8672      18.0  5.329513   1.171920       741.0  2.123209     39.43   \n",
              " 20639  2.3886      16.0  5.254717   1.162264      1387.0  2.616981     39.37   \n",
              " \n",
              "        Longitude  \n",
              " 0        -122.23  \n",
              " 1        -122.22  \n",
              " 2        -122.24  \n",
              " 3        -122.25  \n",
              " 4        -122.25  \n",
              " ...          ...  \n",
              " 20635    -121.09  \n",
              " 20636    -121.21  \n",
              " 20637    -121.22  \n",
              " 20638    -121.32  \n",
              " 20639    -121.24  \n",
              " \n",
              " [20640 rows x 8 columns],\n",
              " 'target': 0        4.526\n",
              " 1        3.585\n",
              " 2        3.521\n",
              " 3        3.413\n",
              " 4        3.422\n",
              "          ...  \n",
              " 20635    0.781\n",
              " 20636    0.771\n",
              " 20637    0.923\n",
              " 20638    0.847\n",
              " 20639    0.894\n",
              " Name: MedHouseVal, Length: 20640, dtype: float64,\n",
              " 'frame':        MedInc  HouseAge  AveRooms  AveBedrms  Population  AveOccup  Latitude  \\\n",
              " 0      8.3252      41.0  6.984127   1.023810       322.0  2.555556     37.88   \n",
              " 1      8.3014      21.0  6.238137   0.971880      2401.0  2.109842     37.86   \n",
              " 2      7.2574      52.0  8.288136   1.073446       496.0  2.802260     37.85   \n",
              " 3      5.6431      52.0  5.817352   1.073059       558.0  2.547945     37.85   \n",
              " 4      3.8462      52.0  6.281853   1.081081       565.0  2.181467     37.85   \n",
              " ...       ...       ...       ...        ...         ...       ...       ...   \n",
              " 20635  1.5603      25.0  5.045455   1.133333       845.0  2.560606     39.48   \n",
              " 20636  2.5568      18.0  6.114035   1.315789       356.0  3.122807     39.49   \n",
              " 20637  1.7000      17.0  5.205543   1.120092      1007.0  2.325635     39.43   \n",
              " 20638  1.8672      18.0  5.329513   1.171920       741.0  2.123209     39.43   \n",
              " 20639  2.3886      16.0  5.254717   1.162264      1387.0  2.616981     39.37   \n",
              " \n",
              "        Longitude  MedHouseVal  \n",
              " 0        -122.23        4.526  \n",
              " 1        -122.22        3.585  \n",
              " 2        -122.24        3.521  \n",
              " 3        -122.25        3.413  \n",
              " 4        -122.25        3.422  \n",
              " ...          ...          ...  \n",
              " 20635    -121.09        0.781  \n",
              " 20636    -121.21        0.771  \n",
              " 20637    -121.22        0.923  \n",
              " 20638    -121.32        0.847  \n",
              " 20639    -121.24        0.894  \n",
              " \n",
              " [20640 rows x 9 columns],\n",
              " 'target_names': ['MedHouseVal'],\n",
              " 'feature_names': ['MedInc',\n",
              "  'HouseAge',\n",
              "  'AveRooms',\n",
              "  'AveBedrms',\n",
              "  'Population',\n",
              "  'AveOccup',\n",
              "  'Latitude',\n",
              "  'Longitude'],\n",
              " 'DESCR': '.. _california_housing_dataset:\\n\\nCalifornia Housing dataset\\n--------------------------\\n\\n**Data Set Characteristics:**\\n\\n:Number of Instances: 20640\\n\\n:Number of Attributes: 8 numeric, predictive attributes and the target\\n\\n:Attribute Information:\\n    - MedInc        median income in block group\\n    - HouseAge      median house age in block group\\n    - AveRooms      average number of rooms per household\\n    - AveBedrms     average number of bedrooms per household\\n    - Population    block group population\\n    - AveOccup      average number of household members\\n    - Latitude      block group latitude\\n    - Longitude     block group longitude\\n\\n:Missing Attribute Values: None\\n\\nThis dataset was obtained from the StatLib repository.\\nhttps://www.dcc.fc.up.pt/~ltorgo/Regression/cal_housing.html\\n\\nThe target variable is the median house value for California districts,\\nexpressed in hundreds of thousands of dollars ($100,000).\\n\\nThis dataset was derived from the 1990 U.S. census, using one row per census\\nblock group. A block group is the smallest geographical unit for which the U.S.\\nCensus Bureau publishes sample data (a block group typically has a population\\nof 600 to 3,000 people).\\n\\nA household is a group of people residing within a home. Since the average\\nnumber of rooms and bedrooms in this dataset are provided per household, these\\ncolumns may take surprisingly large values for block groups with few households\\nand many empty houses, such as vacation resorts.\\n\\nIt can be downloaded/loaded using the\\n:func:`sklearn.datasets.fetch_california_housing` function.\\n\\n.. rubric:: References\\n\\n- Pace, R. Kelley and Ronald Barry, Sparse Spatial Autoregressions,\\n  Statistics and Probability Letters, 33 (1997) 291-297\\n'}"
            ]
          },
          "metadata": {},
          "execution_count": 6
        }
      ]
    },
    {
      "cell_type": "code",
      "source": [
        "X = dataset.data\n",
        "y = dataset.target"
      ],
      "metadata": {
        "id": "LM_-rs9Ldc9J"
      },
      "execution_count": 7,
      "outputs": []
    },
    {
      "cell_type": "code",
      "source": [
        "print(X['MedInc'].isnull().sum())\n",
        "print(X['HouseAge'].isnull().sum())\n",
        "print(X['AveRooms'].isnull().sum())\n",
        "print(X['AveBedrms'].isnull().sum())\n",
        "print(X['Population'].isnull().sum())\n",
        "print(X['AveOccup'].isnull().sum())"
      ],
      "metadata": {
        "colab": {
          "base_uri": "https://localhost:8080/"
        },
        "id": "mvFa4k-ffRUY",
        "outputId": "d1b9bfff-c5b6-4492-8aee-d28e378751d4"
      },
      "execution_count": 8,
      "outputs": [
        {
          "output_type": "stream",
          "name": "stdout",
          "text": [
            "0\n",
            "0\n",
            "0\n",
            "0\n",
            "0\n",
            "0\n"
          ]
        }
      ]
    },
    {
      "cell_type": "code",
      "source": [
        "\n",
        "X_normalized = normalize(X, axis=0)\n",
        "X_normalized = pd.DataFrame(X_normalized, columns=X.columns)\n",
        "\n",
        "\n",
        "X_train, X_test, y_train, y_test = train_test_split(X_normalized, y, test_size=0.2, random_state=42)\n"
      ],
      "metadata": {
        "id": "-6xqWpJHfdUy"
      },
      "execution_count": 9,
      "outputs": []
    },
    {
      "cell_type": "code",
      "source": [
        "\n",
        "model = Sequential()\n",
        "model.add(Dense(31, activation='relu', input_shape=(X_train.shape[1],)))\n",
        "model.add(Dense(1))  # Output layer for regression\n",
        "model.compile(optimizer='adam', loss='mse', metrics=['accuracy'])\n",
        "\n",
        "history = model.fit(\n",
        "    X_train, y_train,\n",
        "    epochs=250,\n",
        "    validation_data=(X_test, y_test),\n",
        "    verbose=1\n",
        ")\n"
      ],
      "metadata": {
        "colab": {
          "base_uri": "https://localhost:8080/"
        },
        "id": "2xKA0ar2kD4m",
        "outputId": "4c49d842-e4cd-42e8-c10b-3f2557c2e395"
      },
      "execution_count": 10,
      "outputs": [
        {
          "output_type": "stream",
          "name": "stdout",
          "text": [
            "Epoch 1/250\n"
          ]
        },
        {
          "output_type": "stream",
          "name": "stderr",
          "text": [
            "/usr/local/lib/python3.11/dist-packages/keras/src/layers/core/dense.py:87: UserWarning: Do not pass an `input_shape`/`input_dim` argument to a layer. When using Sequential models, prefer using an `Input(shape)` object as the first layer in the model instead.\n",
            "  super().__init__(activity_regularizer=activity_regularizer, **kwargs)\n"
          ]
        },
        {
          "output_type": "stream",
          "name": "stdout",
          "text": [
            "\u001b[1m516/516\u001b[0m \u001b[32m━━━━━━━━━━━━━━━━━━━━\u001b[0m\u001b[37m\u001b[0m \u001b[1m2s\u001b[0m 3ms/step - accuracy: 0.0016 - loss: 3.3983 - val_accuracy: 0.0022 - val_loss: 1.2921\n",
            "Epoch 2/250\n",
            "\u001b[1m516/516\u001b[0m \u001b[32m━━━━━━━━━━━━━━━━━━━━\u001b[0m\u001b[37m\u001b[0m \u001b[1m3s\u001b[0m 3ms/step - accuracy: 0.0035 - loss: 1.3306 - val_accuracy: 0.0022 - val_loss: 1.2706\n",
            "Epoch 3/250\n",
            "\u001b[1m516/516\u001b[0m \u001b[32m━━━━━━━━━━━━━━━━━━━━\u001b[0m\u001b[37m\u001b[0m \u001b[1m1s\u001b[0m 2ms/step - accuracy: 0.0033 - loss: 1.3017 - val_accuracy: 0.0022 - val_loss: 1.2383\n",
            "Epoch 4/250\n",
            "\u001b[1m516/516\u001b[0m \u001b[32m━━━━━━━━━━━━━━━━━━━━\u001b[0m\u001b[37m\u001b[0m \u001b[1m1s\u001b[0m 2ms/step - accuracy: 0.0025 - loss: 1.2587 - val_accuracy: 0.0022 - val_loss: 1.1970\n",
            "Epoch 5/250\n",
            "\u001b[1m516/516\u001b[0m \u001b[32m━━━━━━━━━━━━━━━━━━━━\u001b[0m\u001b[37m\u001b[0m \u001b[1m1s\u001b[0m 2ms/step - accuracy: 0.0043 - loss: 1.1983 - val_accuracy: 0.0022 - val_loss: 1.1543\n",
            "Epoch 6/250\n",
            "\u001b[1m516/516\u001b[0m \u001b[32m━━━━━━━━━━━━━━━━━━━━\u001b[0m\u001b[37m\u001b[0m \u001b[1m1s\u001b[0m 2ms/step - accuracy: 0.0027 - loss: 1.1541 - val_accuracy: 0.0022 - val_loss: 1.0925\n",
            "Epoch 7/250\n",
            "\u001b[1m516/516\u001b[0m \u001b[32m━━━━━━━━━━━━━━━━━━━━\u001b[0m\u001b[37m\u001b[0m \u001b[1m1s\u001b[0m 2ms/step - accuracy: 0.0040 - loss: 1.1082 - val_accuracy: 0.0022 - val_loss: 1.0369\n",
            "Epoch 8/250\n",
            "\u001b[1m516/516\u001b[0m \u001b[32m━━━━━━━━━━━━━━━━━━━━\u001b[0m\u001b[37m\u001b[0m \u001b[1m1s\u001b[0m 2ms/step - accuracy: 0.0037 - loss: 1.0287 - val_accuracy: 0.0022 - val_loss: 0.9762\n",
            "Epoch 9/250\n",
            "\u001b[1m516/516\u001b[0m \u001b[32m━━━━━━━━━━━━━━━━━━━━\u001b[0m\u001b[37m\u001b[0m \u001b[1m1s\u001b[0m 2ms/step - accuracy: 0.0031 - loss: 0.9733 - val_accuracy: 0.0022 - val_loss: 0.9148\n",
            "Epoch 10/250\n",
            "\u001b[1m516/516\u001b[0m \u001b[32m━━━━━━━━━━━━━━━━━━━━\u001b[0m\u001b[37m\u001b[0m \u001b[1m2s\u001b[0m 3ms/step - accuracy: 0.0033 - loss: 0.9138 - val_accuracy: 0.0022 - val_loss: 0.8641\n",
            "Epoch 11/250\n",
            "\u001b[1m516/516\u001b[0m \u001b[32m━━━━━━━━━━━━━━━━━━━━\u001b[0m\u001b[37m\u001b[0m \u001b[1m2s\u001b[0m 2ms/step - accuracy: 0.0036 - loss: 0.8663 - val_accuracy: 0.0022 - val_loss: 0.8100\n",
            "Epoch 12/250\n",
            "\u001b[1m516/516\u001b[0m \u001b[32m━━━━━━━━━━━━━━━━━━━━\u001b[0m\u001b[37m\u001b[0m \u001b[1m1s\u001b[0m 2ms/step - accuracy: 0.0032 - loss: 0.8130 - val_accuracy: 0.0022 - val_loss: 0.7694\n",
            "Epoch 13/250\n",
            "\u001b[1m516/516\u001b[0m \u001b[32m━━━━━━━━━━━━━━━━━━━━\u001b[0m\u001b[37m\u001b[0m \u001b[1m1s\u001b[0m 2ms/step - accuracy: 0.0031 - loss: 0.7610 - val_accuracy: 0.0022 - val_loss: 0.7352\n",
            "Epoch 14/250\n",
            "\u001b[1m516/516\u001b[0m \u001b[32m━━━━━━━━━━━━━━━━━━━━\u001b[0m\u001b[37m\u001b[0m \u001b[1m1s\u001b[0m 2ms/step - accuracy: 0.0027 - loss: 0.7166 - val_accuracy: 0.0022 - val_loss: 0.7116\n",
            "Epoch 15/250\n",
            "\u001b[1m516/516\u001b[0m \u001b[32m━━━━━━━━━━━━━━━━━━━━\u001b[0m\u001b[37m\u001b[0m \u001b[1m1s\u001b[0m 2ms/step - accuracy: 0.0036 - loss: 0.7328 - val_accuracy: 0.0022 - val_loss: 0.6940\n",
            "Epoch 16/250\n",
            "\u001b[1m516/516\u001b[0m \u001b[32m━━━━━━━━━━━━━━━━━━━━\u001b[0m\u001b[37m\u001b[0m \u001b[1m1s\u001b[0m 2ms/step - accuracy: 0.0034 - loss: 0.6715 - val_accuracy: 0.0022 - val_loss: 0.6847\n",
            "Epoch 17/250\n",
            "\u001b[1m516/516\u001b[0m \u001b[32m━━━━━━━━━━━━━━━━━━━━\u001b[0m\u001b[37m\u001b[0m \u001b[1m1s\u001b[0m 2ms/step - accuracy: 0.0030 - loss: 0.6793 - val_accuracy: 0.0022 - val_loss: 0.6769\n",
            "Epoch 18/250\n",
            "\u001b[1m516/516\u001b[0m \u001b[32m━━━━━━━━━━━━━━━━━━━━\u001b[0m\u001b[37m\u001b[0m \u001b[1m2s\u001b[0m 4ms/step - accuracy: 0.0035 - loss: 0.6687 - val_accuracy: 0.0022 - val_loss: 0.6730\n",
            "Epoch 19/250\n",
            "\u001b[1m516/516\u001b[0m \u001b[32m━━━━━━━━━━━━━━━━━━━━\u001b[0m\u001b[37m\u001b[0m \u001b[1m2s\u001b[0m 3ms/step - accuracy: 0.0029 - loss: 0.6419 - val_accuracy: 0.0022 - val_loss: 0.6610\n",
            "Epoch 20/250\n",
            "\u001b[1m516/516\u001b[0m \u001b[32m━━━━━━━━━━━━━━━━━━━━\u001b[0m\u001b[37m\u001b[0m \u001b[1m2s\u001b[0m 2ms/step - accuracy: 0.0031 - loss: 0.6527 - val_accuracy: 0.0022 - val_loss: 0.6574\n",
            "Epoch 21/250\n",
            "\u001b[1m516/516\u001b[0m \u001b[32m━━━━━━━━━━━━━━━━━━━━\u001b[0m\u001b[37m\u001b[0m \u001b[1m1s\u001b[0m 2ms/step - accuracy: 0.0035 - loss: 0.6349 - val_accuracy: 0.0022 - val_loss: 0.6562\n",
            "Epoch 22/250\n",
            "\u001b[1m516/516\u001b[0m \u001b[32m━━━━━━━━━━━━━━━━━━━━\u001b[0m\u001b[37m\u001b[0m \u001b[1m1s\u001b[0m 2ms/step - accuracy: 0.0026 - loss: 0.6419 - val_accuracy: 0.0022 - val_loss: 0.6566\n",
            "Epoch 23/250\n",
            "\u001b[1m516/516\u001b[0m \u001b[32m━━━━━━━━━━━━━━━━━━━━\u001b[0m\u001b[37m\u001b[0m \u001b[1m1s\u001b[0m 2ms/step - accuracy: 0.0039 - loss: 0.6378 - val_accuracy: 0.0022 - val_loss: 0.6584\n",
            "Epoch 24/250\n",
            "\u001b[1m516/516\u001b[0m \u001b[32m━━━━━━━━━━━━━━━━━━━━\u001b[0m\u001b[37m\u001b[0m \u001b[1m1s\u001b[0m 2ms/step - accuracy: 0.0030 - loss: 0.6485 - val_accuracy: 0.0022 - val_loss: 0.6489\n",
            "Epoch 25/250\n",
            "\u001b[1m516/516\u001b[0m \u001b[32m━━━━━━━━━━━━━━━━━━━━\u001b[0m\u001b[37m\u001b[0m \u001b[1m1s\u001b[0m 2ms/step - accuracy: 0.0037 - loss: 0.6180 - val_accuracy: 0.0022 - val_loss: 0.6663\n",
            "Epoch 26/250\n",
            "\u001b[1m516/516\u001b[0m \u001b[32m━━━━━━━━━━━━━━━━━━━━\u001b[0m\u001b[37m\u001b[0m \u001b[1m1s\u001b[0m 2ms/step - accuracy: 0.0030 - loss: 0.6330 - val_accuracy: 0.0022 - val_loss: 0.6501\n",
            "Epoch 27/250\n",
            "\u001b[1m516/516\u001b[0m \u001b[32m━━━━━━━━━━━━━━━━━━━━\u001b[0m\u001b[37m\u001b[0m \u001b[1m2s\u001b[0m 3ms/step - accuracy: 0.0032 - loss: 0.6176 - val_accuracy: 0.0022 - val_loss: 0.6485\n",
            "Epoch 28/250\n",
            "\u001b[1m516/516\u001b[0m \u001b[32m━━━━━━━━━━━━━━━━━━━━\u001b[0m\u001b[37m\u001b[0m \u001b[1m2s\u001b[0m 2ms/step - accuracy: 0.0033 - loss: 0.6475 - val_accuracy: 0.0022 - val_loss: 0.6447\n",
            "Epoch 29/250\n",
            "\u001b[1m516/516\u001b[0m \u001b[32m━━━━━━━━━━━━━━━━━━━━\u001b[0m\u001b[37m\u001b[0m \u001b[1m1s\u001b[0m 2ms/step - accuracy: 0.0031 - loss: 0.6262 - val_accuracy: 0.0022 - val_loss: 0.6447\n",
            "Epoch 30/250\n",
            "\u001b[1m516/516\u001b[0m \u001b[32m━━━━━━━━━━━━━━━━━━━━\u001b[0m\u001b[37m\u001b[0m \u001b[1m1s\u001b[0m 2ms/step - accuracy: 0.0032 - loss: 0.6192 - val_accuracy: 0.0022 - val_loss: 0.6425\n",
            "Epoch 31/250\n",
            "\u001b[1m516/516\u001b[0m \u001b[32m━━━━━━━━━━━━━━━━━━━━\u001b[0m\u001b[37m\u001b[0m \u001b[1m1s\u001b[0m 2ms/step - accuracy: 0.0033 - loss: 0.6176 - val_accuracy: 0.0022 - val_loss: 0.6545\n",
            "Epoch 32/250\n",
            "\u001b[1m516/516\u001b[0m \u001b[32m━━━━━━━━━━━━━━━━━━━━\u001b[0m\u001b[37m\u001b[0m \u001b[1m1s\u001b[0m 2ms/step - accuracy: 0.0031 - loss: 0.6199 - val_accuracy: 0.0022 - val_loss: 0.6385\n",
            "Epoch 33/250\n",
            "\u001b[1m516/516\u001b[0m \u001b[32m━━━━━━━━━━━━━━━━━━━━\u001b[0m\u001b[37m\u001b[0m \u001b[1m1s\u001b[0m 2ms/step - accuracy: 0.0026 - loss: 0.6122 - val_accuracy: 0.0022 - val_loss: 0.6405\n",
            "Epoch 34/250\n",
            "\u001b[1m516/516\u001b[0m \u001b[32m━━━━━━━━━━━━━━━━━━━━\u001b[0m\u001b[37m\u001b[0m \u001b[1m1s\u001b[0m 2ms/step - accuracy: 0.0036 - loss: 0.6348 - val_accuracy: 0.0022 - val_loss: 0.6361\n",
            "Epoch 35/250\n",
            "\u001b[1m516/516\u001b[0m \u001b[32m━━━━━━━━━━━━━━━━━━━━\u001b[0m\u001b[37m\u001b[0m \u001b[1m1s\u001b[0m 2ms/step - accuracy: 0.0032 - loss: 0.6337 - val_accuracy: 0.0022 - val_loss: 0.6361\n",
            "Epoch 36/250\n",
            "\u001b[1m516/516\u001b[0m \u001b[32m━━━━━━━━━━━━━━━━━━━━\u001b[0m\u001b[37m\u001b[0m \u001b[1m2s\u001b[0m 3ms/step - accuracy: 0.0029 - loss: 0.6216 - val_accuracy: 0.0022 - val_loss: 0.6348\n",
            "Epoch 37/250\n",
            "\u001b[1m516/516\u001b[0m \u001b[32m━━━━━━━━━━━━━━━━━━━━\u001b[0m\u001b[37m\u001b[0m \u001b[1m2s\u001b[0m 2ms/step - accuracy: 0.0030 - loss: 0.6200 - val_accuracy: 0.0022 - val_loss: 0.6424\n",
            "Epoch 38/250\n",
            "\u001b[1m516/516\u001b[0m \u001b[32m━━━━━━━━━━━━━━━━━━━━\u001b[0m\u001b[37m\u001b[0m \u001b[1m1s\u001b[0m 2ms/step - accuracy: 0.0030 - loss: 0.6339 - val_accuracy: 0.0022 - val_loss: 0.6334\n",
            "Epoch 39/250\n",
            "\u001b[1m516/516\u001b[0m \u001b[32m━━━━━━━━━━━━━━━━━━━━\u001b[0m\u001b[37m\u001b[0m \u001b[1m1s\u001b[0m 2ms/step - accuracy: 0.0036 - loss: 0.6313 - val_accuracy: 0.0022 - val_loss: 0.6338\n",
            "Epoch 40/250\n",
            "\u001b[1m516/516\u001b[0m \u001b[32m━━━━━━━━━━━━━━━━━━━━\u001b[0m\u001b[37m\u001b[0m \u001b[1m1s\u001b[0m 2ms/step - accuracy: 0.0029 - loss: 0.6143 - val_accuracy: 0.0022 - val_loss: 0.6485\n",
            "Epoch 41/250\n",
            "\u001b[1m516/516\u001b[0m \u001b[32m━━━━━━━━━━━━━━━━━━━━\u001b[0m\u001b[37m\u001b[0m \u001b[1m1s\u001b[0m 2ms/step - accuracy: 0.0027 - loss: 0.5954 - val_accuracy: 0.0022 - val_loss: 0.6283\n",
            "Epoch 42/250\n",
            "\u001b[1m516/516\u001b[0m \u001b[32m━━━━━━━━━━━━━━━━━━━━\u001b[0m\u001b[37m\u001b[0m \u001b[1m1s\u001b[0m 2ms/step - accuracy: 0.0026 - loss: 0.6000 - val_accuracy: 0.0022 - val_loss: 0.6274\n",
            "Epoch 43/250\n",
            "\u001b[1m516/516\u001b[0m \u001b[32m━━━━━━━━━━━━━━━━━━━━\u001b[0m\u001b[37m\u001b[0m \u001b[1m1s\u001b[0m 2ms/step - accuracy: 0.0027 - loss: 0.5949 - val_accuracy: 0.0022 - val_loss: 0.6264\n",
            "Epoch 44/250\n",
            "\u001b[1m516/516\u001b[0m \u001b[32m━━━━━━━━━━━━━━━━━━━━\u001b[0m\u001b[37m\u001b[0m \u001b[1m1s\u001b[0m 2ms/step - accuracy: 0.0034 - loss: 0.6025 - val_accuracy: 0.0022 - val_loss: 0.6286\n",
            "Epoch 45/250\n",
            "\u001b[1m516/516\u001b[0m \u001b[32m━━━━━━━━━━━━━━━━━━━━\u001b[0m\u001b[37m\u001b[0m \u001b[1m2s\u001b[0m 3ms/step - accuracy: 0.0026 - loss: 0.6204 - val_accuracy: 0.0022 - val_loss: 0.6269\n",
            "Epoch 46/250\n",
            "\u001b[1m516/516\u001b[0m \u001b[32m━━━━━━━━━━━━━━━━━━━━\u001b[0m\u001b[37m\u001b[0m \u001b[1m2s\u001b[0m 2ms/step - accuracy: 0.0030 - loss: 0.6203 - val_accuracy: 0.0022 - val_loss: 0.6230\n",
            "Epoch 47/250\n",
            "\u001b[1m516/516\u001b[0m \u001b[32m━━━━━━━━━━━━━━━━━━━━\u001b[0m\u001b[37m\u001b[0m \u001b[1m1s\u001b[0m 2ms/step - accuracy: 0.0030 - loss: 0.5951 - val_accuracy: 0.0022 - val_loss: 0.6226\n",
            "Epoch 48/250\n",
            "\u001b[1m516/516\u001b[0m \u001b[32m━━━━━━━━━━━━━━━━━━━━\u001b[0m\u001b[37m\u001b[0m \u001b[1m1s\u001b[0m 2ms/step - accuracy: 0.0033 - loss: 0.6116 - val_accuracy: 0.0022 - val_loss: 0.6211\n",
            "Epoch 49/250\n",
            "\u001b[1m516/516\u001b[0m \u001b[32m━━━━━━━━━━━━━━━━━━━━\u001b[0m\u001b[37m\u001b[0m \u001b[1m1s\u001b[0m 2ms/step - accuracy: 0.0032 - loss: 0.6161 - val_accuracy: 0.0022 - val_loss: 0.6239\n",
            "Epoch 50/250\n",
            "\u001b[1m516/516\u001b[0m \u001b[32m━━━━━━━━━━━━━━━━━━━━\u001b[0m\u001b[37m\u001b[0m \u001b[1m1s\u001b[0m 2ms/step - accuracy: 0.0031 - loss: 0.6095 - val_accuracy: 0.0022 - val_loss: 0.6185\n",
            "Epoch 51/250\n",
            "\u001b[1m516/516\u001b[0m \u001b[32m━━━━━━━━━━━━━━━━━━━━\u001b[0m\u001b[37m\u001b[0m \u001b[1m1s\u001b[0m 2ms/step - accuracy: 0.0032 - loss: 0.6049 - val_accuracy: 0.0022 - val_loss: 0.6187\n",
            "Epoch 52/250\n",
            "\u001b[1m516/516\u001b[0m \u001b[32m━━━━━━━━━━━━━━━━━━━━\u001b[0m\u001b[37m\u001b[0m \u001b[1m1s\u001b[0m 2ms/step - accuracy: 0.0033 - loss: 0.6017 - val_accuracy: 0.0022 - val_loss: 0.6175\n",
            "Epoch 53/250\n",
            "\u001b[1m516/516\u001b[0m \u001b[32m━━━━━━━━━━━━━━━━━━━━\u001b[0m\u001b[37m\u001b[0m \u001b[1m1s\u001b[0m 2ms/step - accuracy: 0.0030 - loss: 0.5944 - val_accuracy: 0.0022 - val_loss: 0.6180\n",
            "Epoch 54/250\n",
            "\u001b[1m516/516\u001b[0m \u001b[32m━━━━━━━━━━━━━━━━━━━━\u001b[0m\u001b[37m\u001b[0m \u001b[1m2s\u001b[0m 3ms/step - accuracy: 0.0034 - loss: 0.6099 - val_accuracy: 0.0022 - val_loss: 0.6255\n",
            "Epoch 55/250\n",
            "\u001b[1m516/516\u001b[0m \u001b[32m━━━━━━━━━━━━━━━━━━━━\u001b[0m\u001b[37m\u001b[0m \u001b[1m2s\u001b[0m 2ms/step - accuracy: 0.0030 - loss: 0.5886 - val_accuracy: 0.0022 - val_loss: 0.6125\n",
            "Epoch 56/250\n",
            "\u001b[1m516/516\u001b[0m \u001b[32m━━━━━━━━━━━━━━━━━━━━\u001b[0m\u001b[37m\u001b[0m \u001b[1m1s\u001b[0m 2ms/step - accuracy: 0.0032 - loss: 0.5839 - val_accuracy: 0.0022 - val_loss: 0.6151\n",
            "Epoch 57/250\n",
            "\u001b[1m516/516\u001b[0m \u001b[32m━━━━━━━━━━━━━━━━━━━━\u001b[0m\u001b[37m\u001b[0m \u001b[1m1s\u001b[0m 2ms/step - accuracy: 0.0036 - loss: 0.6029 - val_accuracy: 0.0022 - val_loss: 0.6111\n",
            "Epoch 58/250\n",
            "\u001b[1m516/516\u001b[0m \u001b[32m━━━━━━━━━━━━━━━━━━━━\u001b[0m\u001b[37m\u001b[0m \u001b[1m1s\u001b[0m 2ms/step - accuracy: 0.0033 - loss: 0.5903 - val_accuracy: 0.0022 - val_loss: 0.6093\n",
            "Epoch 59/250\n",
            "\u001b[1m516/516\u001b[0m \u001b[32m━━━━━━━━━━━━━━━━━━━━\u001b[0m\u001b[37m\u001b[0m \u001b[1m1s\u001b[0m 2ms/step - accuracy: 0.0034 - loss: 0.5794 - val_accuracy: 0.0022 - val_loss: 0.6124\n",
            "Epoch 60/250\n",
            "\u001b[1m516/516\u001b[0m \u001b[32m━━━━━━━━━━━━━━━━━━━━\u001b[0m\u001b[37m\u001b[0m \u001b[1m1s\u001b[0m 2ms/step - accuracy: 0.0040 - loss: 0.5886 - val_accuracy: 0.0022 - val_loss: 0.6078\n",
            "Epoch 61/250\n",
            "\u001b[1m516/516\u001b[0m \u001b[32m━━━━━━━━━━━━━━━━━━━━\u001b[0m\u001b[37m\u001b[0m \u001b[1m1s\u001b[0m 2ms/step - accuracy: 0.0038 - loss: 0.5901 - val_accuracy: 0.0022 - val_loss: 0.6114\n",
            "Epoch 62/250\n",
            "\u001b[1m516/516\u001b[0m \u001b[32m━━━━━━━━━━━━━━━━━━━━\u001b[0m\u001b[37m\u001b[0m \u001b[1m1s\u001b[0m 3ms/step - accuracy: 0.0032 - loss: 0.5856 - val_accuracy: 0.0022 - val_loss: 0.6120\n",
            "Epoch 63/250\n",
            "\u001b[1m516/516\u001b[0m \u001b[32m━━━━━━━━━━━━━━━━━━━━\u001b[0m\u001b[37m\u001b[0m \u001b[1m2s\u001b[0m 2ms/step - accuracy: 0.0029 - loss: 0.5901 - val_accuracy: 0.0022 - val_loss: 0.6098\n",
            "Epoch 64/250\n",
            "\u001b[1m516/516\u001b[0m \u001b[32m━━━━━━━━━━━━━━━━━━━━\u001b[0m\u001b[37m\u001b[0m \u001b[1m1s\u001b[0m 2ms/step - accuracy: 0.0044 - loss: 0.5818 - val_accuracy: 0.0022 - val_loss: 0.6062\n",
            "Epoch 65/250\n",
            "\u001b[1m516/516\u001b[0m \u001b[32m━━━━━━━━━━━━━━━━━━━━\u001b[0m\u001b[37m\u001b[0m \u001b[1m1s\u001b[0m 2ms/step - accuracy: 0.0033 - loss: 0.6071 - val_accuracy: 0.0022 - val_loss: 0.6007\n",
            "Epoch 66/250\n",
            "\u001b[1m516/516\u001b[0m \u001b[32m━━━━━━━━━━━━━━━━━━━━\u001b[0m\u001b[37m\u001b[0m \u001b[1m1s\u001b[0m 2ms/step - accuracy: 0.0025 - loss: 0.6059 - val_accuracy: 0.0022 - val_loss: 0.5992\n",
            "Epoch 67/250\n",
            "\u001b[1m516/516\u001b[0m \u001b[32m━━━━━━━━━━━━━━━━━━━━\u001b[0m\u001b[37m\u001b[0m \u001b[1m1s\u001b[0m 2ms/step - accuracy: 0.0037 - loss: 0.5790 - val_accuracy: 0.0022 - val_loss: 0.5979\n",
            "Epoch 68/250\n",
            "\u001b[1m516/516\u001b[0m \u001b[32m━━━━━━━━━━━━━━━━━━━━\u001b[0m\u001b[37m\u001b[0m \u001b[1m1s\u001b[0m 2ms/step - accuracy: 0.0033 - loss: 0.5686 - val_accuracy: 0.0022 - val_loss: 0.5988\n",
            "Epoch 69/250\n",
            "\u001b[1m516/516\u001b[0m \u001b[32m━━━━━━━━━━━━━━━━━━━━\u001b[0m\u001b[37m\u001b[0m \u001b[1m1s\u001b[0m 2ms/step - accuracy: 0.0034 - loss: 0.5904 - val_accuracy: 0.0022 - val_loss: 0.5948\n",
            "Epoch 70/250\n",
            "\u001b[1m516/516\u001b[0m \u001b[32m━━━━━━━━━━━━━━━━━━━━\u001b[0m\u001b[37m\u001b[0m \u001b[1m1s\u001b[0m 2ms/step - accuracy: 0.0024 - loss: 0.5727 - val_accuracy: 0.0022 - val_loss: 0.5962\n",
            "Epoch 71/250\n",
            "\u001b[1m516/516\u001b[0m \u001b[32m━━━━━━━━━━━━━━━━━━━━\u001b[0m\u001b[37m\u001b[0m \u001b[1m2s\u001b[0m 3ms/step - accuracy: 0.0027 - loss: 0.5903 - val_accuracy: 0.0022 - val_loss: 0.5923\n",
            "Epoch 72/250\n",
            "\u001b[1m516/516\u001b[0m \u001b[32m━━━━━━━━━━━━━━━━━━━━\u001b[0m\u001b[37m\u001b[0m \u001b[1m2s\u001b[0m 2ms/step - accuracy: 0.0032 - loss: 0.5918 - val_accuracy: 0.0022 - val_loss: 0.5929\n",
            "Epoch 73/250\n",
            "\u001b[1m516/516\u001b[0m \u001b[32m━━━━━━━━━━━━━━━━━━━━\u001b[0m\u001b[37m\u001b[0m \u001b[1m1s\u001b[0m 2ms/step - accuracy: 0.0030 - loss: 0.5845 - val_accuracy: 0.0022 - val_loss: 0.5889\n",
            "Epoch 74/250\n",
            "\u001b[1m516/516\u001b[0m \u001b[32m━━━━━━━━━━━━━━━━━━━━\u001b[0m\u001b[37m\u001b[0m \u001b[1m1s\u001b[0m 2ms/step - accuracy: 0.0036 - loss: 0.5614 - val_accuracy: 0.0022 - val_loss: 0.5909\n",
            "Epoch 75/250\n",
            "\u001b[1m516/516\u001b[0m \u001b[32m━━━━━━━━━━━━━━━━━━━━\u001b[0m\u001b[37m\u001b[0m \u001b[1m1s\u001b[0m 2ms/step - accuracy: 0.0036 - loss: 0.5907 - val_accuracy: 0.0022 - val_loss: 0.5890\n",
            "Epoch 76/250\n",
            "\u001b[1m516/516\u001b[0m \u001b[32m━━━━━━━━━━━━━━━━━━━━\u001b[0m\u001b[37m\u001b[0m \u001b[1m1s\u001b[0m 2ms/step - accuracy: 0.0037 - loss: 0.5746 - val_accuracy: 0.0022 - val_loss: 0.5832\n",
            "Epoch 77/250\n",
            "\u001b[1m516/516\u001b[0m \u001b[32m━━━━━━━━━━━━━━━━━━━━\u001b[0m\u001b[37m\u001b[0m \u001b[1m1s\u001b[0m 2ms/step - accuracy: 0.0031 - loss: 0.5544 - val_accuracy: 0.0022 - val_loss: 0.5918\n",
            "Epoch 78/250\n",
            "\u001b[1m516/516\u001b[0m \u001b[32m━━━━━━━━━━━━━━━━━━━━\u001b[0m\u001b[37m\u001b[0m \u001b[1m1s\u001b[0m 2ms/step - accuracy: 0.0038 - loss: 0.5788 - val_accuracy: 0.0022 - val_loss: 0.5816\n",
            "Epoch 79/250\n",
            "\u001b[1m516/516\u001b[0m \u001b[32m━━━━━━━━━━━━━━━━━━━━\u001b[0m\u001b[37m\u001b[0m \u001b[1m1s\u001b[0m 2ms/step - accuracy: 0.0028 - loss: 0.5697 - val_accuracy: 0.0022 - val_loss: 0.5950\n",
            "Epoch 80/250\n",
            "\u001b[1m516/516\u001b[0m \u001b[32m━━━━━━━━━━━━━━━━━━━━\u001b[0m\u001b[37m\u001b[0m \u001b[1m2s\u001b[0m 3ms/step - accuracy: 0.0034 - loss: 0.5663 - val_accuracy: 0.0022 - val_loss: 0.5893\n",
            "Epoch 81/250\n",
            "\u001b[1m516/516\u001b[0m \u001b[32m━━━━━━━━━━━━━━━━━━━━\u001b[0m\u001b[37m\u001b[0m \u001b[1m2s\u001b[0m 2ms/step - accuracy: 0.0032 - loss: 0.5650 - val_accuracy: 0.0022 - val_loss: 0.5769\n",
            "Epoch 82/250\n",
            "\u001b[1m516/516\u001b[0m \u001b[32m━━━━━━━━━━━━━━━━━━━━\u001b[0m\u001b[37m\u001b[0m \u001b[1m1s\u001b[0m 2ms/step - accuracy: 0.0039 - loss: 0.5501 - val_accuracy: 0.0022 - val_loss: 0.5732\n",
            "Epoch 83/250\n",
            "\u001b[1m516/516\u001b[0m \u001b[32m━━━━━━━━━━━━━━━━━━━━\u001b[0m\u001b[37m\u001b[0m \u001b[1m1s\u001b[0m 2ms/step - accuracy: 0.0044 - loss: 0.5574 - val_accuracy: 0.0022 - val_loss: 0.5713\n",
            "Epoch 84/250\n",
            "\u001b[1m516/516\u001b[0m \u001b[32m━━━━━━━━━━━━━━━━━━━━\u001b[0m\u001b[37m\u001b[0m \u001b[1m1s\u001b[0m 2ms/step - accuracy: 0.0036 - loss: 0.5480 - val_accuracy: 0.0022 - val_loss: 0.5683\n",
            "Epoch 85/250\n",
            "\u001b[1m516/516\u001b[0m \u001b[32m━━━━━━━━━━━━━━━━━━━━\u001b[0m\u001b[37m\u001b[0m \u001b[1m1s\u001b[0m 2ms/step - accuracy: 0.0029 - loss: 0.5718 - val_accuracy: 0.0022 - val_loss: 0.5671\n",
            "Epoch 86/250\n",
            "\u001b[1m516/516\u001b[0m \u001b[32m━━━━━━━━━━━━━━━━━━━━\u001b[0m\u001b[37m\u001b[0m \u001b[1m1s\u001b[0m 2ms/step - accuracy: 0.0041 - loss: 0.5576 - val_accuracy: 0.0022 - val_loss: 0.5769\n",
            "Epoch 87/250\n",
            "\u001b[1m516/516\u001b[0m \u001b[32m━━━━━━━━━━━━━━━━━━━━\u001b[0m\u001b[37m\u001b[0m \u001b[1m1s\u001b[0m 2ms/step - accuracy: 0.0039 - loss: 0.5498 - val_accuracy: 0.0022 - val_loss: 0.5630\n",
            "Epoch 88/250\n",
            "\u001b[1m516/516\u001b[0m \u001b[32m━━━━━━━━━━━━━━━━━━━━\u001b[0m\u001b[37m\u001b[0m \u001b[1m1s\u001b[0m 2ms/step - accuracy: 0.0030 - loss: 0.5389 - val_accuracy: 0.0022 - val_loss: 0.5620\n",
            "Epoch 89/250\n",
            "\u001b[1m516/516\u001b[0m \u001b[32m━━━━━━━━━━━━━━━━━━━━\u001b[0m\u001b[37m\u001b[0m \u001b[1m2s\u001b[0m 3ms/step - accuracy: 0.0030 - loss: 0.5365 - val_accuracy: 0.0022 - val_loss: 0.5598\n",
            "Epoch 90/250\n",
            "\u001b[1m516/516\u001b[0m \u001b[32m━━━━━━━━━━━━━━━━━━━━\u001b[0m\u001b[37m\u001b[0m \u001b[1m2s\u001b[0m 2ms/step - accuracy: 0.0036 - loss: 0.5443 - val_accuracy: 0.0022 - val_loss: 0.5579\n",
            "Epoch 91/250\n",
            "\u001b[1m516/516\u001b[0m \u001b[32m━━━━━━━━━━━━━━━━━━━━\u001b[0m\u001b[37m\u001b[0m \u001b[1m1s\u001b[0m 2ms/step - accuracy: 0.0035 - loss: 0.5348 - val_accuracy: 0.0022 - val_loss: 0.5571\n",
            "Epoch 92/250\n",
            "\u001b[1m516/516\u001b[0m \u001b[32m━━━━━━━━━━━━━━━━━━━━\u001b[0m\u001b[37m\u001b[0m \u001b[1m1s\u001b[0m 2ms/step - accuracy: 0.0028 - loss: 0.5284 - val_accuracy: 0.0022 - val_loss: 0.5540\n",
            "Epoch 93/250\n",
            "\u001b[1m516/516\u001b[0m \u001b[32m━━━━━━━━━━━━━━━━━━━━\u001b[0m\u001b[37m\u001b[0m \u001b[1m1s\u001b[0m 2ms/step - accuracy: 0.0028 - loss: 0.5430 - val_accuracy: 0.0022 - val_loss: 0.5684\n",
            "Epoch 94/250\n",
            "\u001b[1m516/516\u001b[0m \u001b[32m━━━━━━━━━━━━━━━━━━━━\u001b[0m\u001b[37m\u001b[0m \u001b[1m1s\u001b[0m 2ms/step - accuracy: 0.0031 - loss: 0.5188 - val_accuracy: 0.0022 - val_loss: 0.5538\n",
            "Epoch 95/250\n",
            "\u001b[1m516/516\u001b[0m \u001b[32m━━━━━━━━━━━━━━━━━━━━\u001b[0m\u001b[37m\u001b[0m \u001b[1m1s\u001b[0m 2ms/step - accuracy: 0.0037 - loss: 0.5434 - val_accuracy: 0.0022 - val_loss: 0.5545\n",
            "Epoch 96/250\n",
            "\u001b[1m516/516\u001b[0m \u001b[32m━━━━━━━━━━━━━━━━━━━━\u001b[0m\u001b[37m\u001b[0m \u001b[1m1s\u001b[0m 2ms/step - accuracy: 0.0028 - loss: 0.5234 - val_accuracy: 0.0022 - val_loss: 0.5484\n",
            "Epoch 97/250\n",
            "\u001b[1m516/516\u001b[0m \u001b[32m━━━━━━━━━━━━━━━━━━━━\u001b[0m\u001b[37m\u001b[0m \u001b[1m1s\u001b[0m 2ms/step - accuracy: 0.0026 - loss: 0.5208 - val_accuracy: 0.0022 - val_loss: 0.5508\n",
            "Epoch 98/250\n",
            "\u001b[1m516/516\u001b[0m \u001b[32m━━━━━━━━━━━━━━━━━━━━\u001b[0m\u001b[37m\u001b[0m \u001b[1m2s\u001b[0m 3ms/step - accuracy: 0.0025 - loss: 0.5384 - val_accuracy: 0.0022 - val_loss: 0.5439\n",
            "Epoch 99/250\n",
            "\u001b[1m516/516\u001b[0m \u001b[32m━━━━━━━━━━━━━━━━━━━━\u001b[0m\u001b[37m\u001b[0m \u001b[1m2s\u001b[0m 2ms/step - accuracy: 0.0032 - loss: 0.5340 - val_accuracy: 0.0022 - val_loss: 0.5446\n",
            "Epoch 100/250\n",
            "\u001b[1m516/516\u001b[0m \u001b[32m━━━━━━━━━━━━━━━━━━━━\u001b[0m\u001b[37m\u001b[0m \u001b[1m1s\u001b[0m 2ms/step - accuracy: 0.0033 - loss: 0.5161 - val_accuracy: 0.0022 - val_loss: 0.5480\n",
            "Epoch 101/250\n",
            "\u001b[1m516/516\u001b[0m \u001b[32m━━━━━━━━━━━━━━━━━━━━\u001b[0m\u001b[37m\u001b[0m \u001b[1m1s\u001b[0m 2ms/step - accuracy: 0.0030 - loss: 0.5251 - val_accuracy: 0.0022 - val_loss: 0.5438\n",
            "Epoch 102/250\n",
            "\u001b[1m516/516\u001b[0m \u001b[32m━━━━━━━━━━━━━━━━━━━━\u001b[0m\u001b[37m\u001b[0m \u001b[1m1s\u001b[0m 2ms/step - accuracy: 0.0033 - loss: 0.5144 - val_accuracy: 0.0022 - val_loss: 0.5419\n",
            "Epoch 103/250\n",
            "\u001b[1m516/516\u001b[0m \u001b[32m━━━━━━━━━━━━━━━━━━━━\u001b[0m\u001b[37m\u001b[0m \u001b[1m1s\u001b[0m 2ms/step - accuracy: 0.0028 - loss: 0.5239 - val_accuracy: 0.0022 - val_loss: 0.5485\n",
            "Epoch 104/250\n",
            "\u001b[1m516/516\u001b[0m \u001b[32m━━━━━━━━━━━━━━━━━━━━\u001b[0m\u001b[37m\u001b[0m \u001b[1m1s\u001b[0m 2ms/step - accuracy: 0.0031 - loss: 0.5229 - val_accuracy: 0.0022 - val_loss: 0.5431\n",
            "Epoch 105/250\n",
            "\u001b[1m516/516\u001b[0m \u001b[32m━━━━━━━━━━━━━━━━━━━━\u001b[0m\u001b[37m\u001b[0m \u001b[1m1s\u001b[0m 2ms/step - accuracy: 0.0030 - loss: 0.5228 - val_accuracy: 0.0022 - val_loss: 0.5343\n",
            "Epoch 106/250\n",
            "\u001b[1m516/516\u001b[0m \u001b[32m━━━━━━━━━━━━━━━━━━━━\u001b[0m\u001b[37m\u001b[0m \u001b[1m1s\u001b[0m 2ms/step - accuracy: 0.0030 - loss: 0.5213 - val_accuracy: 0.0022 - val_loss: 0.5324\n",
            "Epoch 107/250\n",
            "\u001b[1m516/516\u001b[0m \u001b[32m━━━━━━━━━━━━━━━━━━━━\u001b[0m\u001b[37m\u001b[0m \u001b[1m2s\u001b[0m 3ms/step - accuracy: 0.0035 - loss: 0.5030 - val_accuracy: 0.0022 - val_loss: 0.5323\n",
            "Epoch 108/250\n",
            "\u001b[1m516/516\u001b[0m \u001b[32m━━━━━━━━━━━━━━━━━━━━\u001b[0m\u001b[37m\u001b[0m \u001b[1m2s\u001b[0m 2ms/step - accuracy: 0.0030 - loss: 0.5177 - val_accuracy: 0.0022 - val_loss: 0.5340\n",
            "Epoch 109/250\n",
            "\u001b[1m516/516\u001b[0m \u001b[32m━━━━━━━━━━━━━━━━━━━━\u001b[0m\u001b[37m\u001b[0m \u001b[1m1s\u001b[0m 2ms/step - accuracy: 0.0039 - loss: 0.5169 - val_accuracy: 0.0022 - val_loss: 0.5297\n",
            "Epoch 110/250\n",
            "\u001b[1m516/516\u001b[0m \u001b[32m━━━━━━━━━━━━━━━━━━━━\u001b[0m\u001b[37m\u001b[0m \u001b[1m1s\u001b[0m 2ms/step - accuracy: 0.0028 - loss: 0.5167 - val_accuracy: 0.0022 - val_loss: 0.5287\n",
            "Epoch 111/250\n",
            "\u001b[1m516/516\u001b[0m \u001b[32m━━━━━━━━━━━━━━━━━━━━\u001b[0m\u001b[37m\u001b[0m \u001b[1m1s\u001b[0m 2ms/step - accuracy: 0.0033 - loss: 0.5144 - val_accuracy: 0.0022 - val_loss: 0.5293\n",
            "Epoch 112/250\n",
            "\u001b[1m516/516\u001b[0m \u001b[32m━━━━━━━━━━━━━━━━━━━━\u001b[0m\u001b[37m\u001b[0m \u001b[1m1s\u001b[0m 2ms/step - accuracy: 0.0026 - loss: 0.5136 - val_accuracy: 0.0022 - val_loss: 0.5283\n",
            "Epoch 113/250\n",
            "\u001b[1m516/516\u001b[0m \u001b[32m━━━━━━━━━━━━━━━━━━━━\u001b[0m\u001b[37m\u001b[0m \u001b[1m1s\u001b[0m 2ms/step - accuracy: 0.0030 - loss: 0.4994 - val_accuracy: 0.0022 - val_loss: 0.5269\n",
            "Epoch 114/250\n",
            "\u001b[1m516/516\u001b[0m \u001b[32m━━━━━━━━━━━━━━━━━━━━\u001b[0m\u001b[37m\u001b[0m \u001b[1m1s\u001b[0m 2ms/step - accuracy: 0.0024 - loss: 0.5087 - val_accuracy: 0.0022 - val_loss: 0.5257\n",
            "Epoch 115/250\n",
            "\u001b[1m516/516\u001b[0m \u001b[32m━━━━━━━━━━━━━━━━━━━━\u001b[0m\u001b[37m\u001b[0m \u001b[1m1s\u001b[0m 2ms/step - accuracy: 0.0031 - loss: 0.5137 - val_accuracy: 0.0022 - val_loss: 0.5227\n",
            "Epoch 116/250\n",
            "\u001b[1m516/516\u001b[0m \u001b[32m━━━━━━━━━━━━━━━━━━━━\u001b[0m\u001b[37m\u001b[0m \u001b[1m2s\u001b[0m 3ms/step - accuracy: 0.0043 - loss: 0.5027 - val_accuracy: 0.0022 - val_loss: 0.5232\n",
            "Epoch 117/250\n",
            "\u001b[1m516/516\u001b[0m \u001b[32m━━━━━━━━━━━━━━━━━━━━\u001b[0m\u001b[37m\u001b[0m \u001b[1m2s\u001b[0m 2ms/step - accuracy: 0.0034 - loss: 0.5140 - val_accuracy: 0.0022 - val_loss: 0.5235\n",
            "Epoch 118/250\n",
            "\u001b[1m516/516\u001b[0m \u001b[32m━━━━━━━━━━━━━━━━━━━━\u001b[0m\u001b[37m\u001b[0m \u001b[1m1s\u001b[0m 2ms/step - accuracy: 0.0029 - loss: 0.4941 - val_accuracy: 0.0022 - val_loss: 0.5258\n",
            "Epoch 119/250\n",
            "\u001b[1m516/516\u001b[0m \u001b[32m━━━━━━━━━━━━━━━━━━━━\u001b[0m\u001b[37m\u001b[0m \u001b[1m1s\u001b[0m 2ms/step - accuracy: 0.0031 - loss: 0.5140 - val_accuracy: 0.0022 - val_loss: 0.5215\n",
            "Epoch 120/250\n",
            "\u001b[1m516/516\u001b[0m \u001b[32m━━━━━━━━━━━━━━━━━━━━\u001b[0m\u001b[37m\u001b[0m \u001b[1m1s\u001b[0m 2ms/step - accuracy: 0.0027 - loss: 0.4883 - val_accuracy: 0.0022 - val_loss: 0.5284\n",
            "Epoch 121/250\n",
            "\u001b[1m516/516\u001b[0m \u001b[32m━━━━━━━━━━━━━━━━━━━━\u001b[0m\u001b[37m\u001b[0m \u001b[1m1s\u001b[0m 2ms/step - accuracy: 0.0028 - loss: 0.5108 - val_accuracy: 0.0022 - val_loss: 0.5301\n",
            "Epoch 122/250\n",
            "\u001b[1m516/516\u001b[0m \u001b[32m━━━━━━━━━━━━━━━━━━━━\u001b[0m\u001b[37m\u001b[0m \u001b[1m1s\u001b[0m 2ms/step - accuracy: 0.0037 - loss: 0.5019 - val_accuracy: 0.0022 - val_loss: 0.5166\n",
            "Epoch 123/250\n",
            "\u001b[1m516/516\u001b[0m \u001b[32m━━━━━━━━━━━━━━━━━━━━\u001b[0m\u001b[37m\u001b[0m \u001b[1m1s\u001b[0m 2ms/step - accuracy: 0.0031 - loss: 0.4854 - val_accuracy: 0.0022 - val_loss: 0.5221\n",
            "Epoch 124/250\n",
            "\u001b[1m516/516\u001b[0m \u001b[32m━━━━━━━━━━━━━━━━━━━━\u001b[0m\u001b[37m\u001b[0m \u001b[1m1s\u001b[0m 2ms/step - accuracy: 0.0040 - loss: 0.4958 - val_accuracy: 0.0022 - val_loss: 0.5177\n",
            "Epoch 125/250\n",
            "\u001b[1m516/516\u001b[0m \u001b[32m━━━━━━━━━━━━━━━━━━━━\u001b[0m\u001b[37m\u001b[0m \u001b[1m2s\u001b[0m 3ms/step - accuracy: 0.0036 - loss: 0.4949 - val_accuracy: 0.0022 - val_loss: 0.5223\n",
            "Epoch 126/250\n",
            "\u001b[1m516/516\u001b[0m \u001b[32m━━━━━━━━━━━━━━━━━━━━\u001b[0m\u001b[37m\u001b[0m \u001b[1m2s\u001b[0m 2ms/step - accuracy: 0.0034 - loss: 0.4999 - val_accuracy: 0.0022 - val_loss: 0.5165\n",
            "Epoch 127/250\n",
            "\u001b[1m516/516\u001b[0m \u001b[32m━━━━━━━━━━━━━━━━━━━━\u001b[0m\u001b[37m\u001b[0m \u001b[1m1s\u001b[0m 2ms/step - accuracy: 0.0034 - loss: 0.4883 - val_accuracy: 0.0022 - val_loss: 0.5119\n",
            "Epoch 128/250\n",
            "\u001b[1m516/516\u001b[0m \u001b[32m━━━━━━━━━━━━━━━━━━━━\u001b[0m\u001b[37m\u001b[0m \u001b[1m1s\u001b[0m 2ms/step - accuracy: 0.0033 - loss: 0.5121 - val_accuracy: 0.0022 - val_loss: 0.5129\n",
            "Epoch 129/250\n",
            "\u001b[1m516/516\u001b[0m \u001b[32m━━━━━━━━━━━━━━━━━━━━\u001b[0m\u001b[37m\u001b[0m \u001b[1m1s\u001b[0m 2ms/step - accuracy: 0.0030 - loss: 0.4842 - val_accuracy: 0.0022 - val_loss: 0.5143\n",
            "Epoch 130/250\n",
            "\u001b[1m516/516\u001b[0m \u001b[32m━━━━━━━━━━━━━━━━━━━━\u001b[0m\u001b[37m\u001b[0m \u001b[1m1s\u001b[0m 2ms/step - accuracy: 0.0031 - loss: 0.4885 - val_accuracy: 0.0022 - val_loss: 0.5109\n",
            "Epoch 131/250\n",
            "\u001b[1m516/516\u001b[0m \u001b[32m━━━━━━━━━━━━━━━━━━━━\u001b[0m\u001b[37m\u001b[0m \u001b[1m1s\u001b[0m 2ms/step - accuracy: 0.0035 - loss: 0.4896 - val_accuracy: 0.0022 - val_loss: 0.5141\n",
            "Epoch 132/250\n",
            "\u001b[1m516/516\u001b[0m \u001b[32m━━━━━━━━━━━━━━━━━━━━\u001b[0m\u001b[37m\u001b[0m \u001b[1m1s\u001b[0m 2ms/step - accuracy: 0.0033 - loss: 0.5029 - val_accuracy: 0.0022 - val_loss: 0.5089\n",
            "Epoch 133/250\n",
            "\u001b[1m516/516\u001b[0m \u001b[32m━━━━━━━━━━━━━━━━━━━━\u001b[0m\u001b[37m\u001b[0m \u001b[1m1s\u001b[0m 2ms/step - accuracy: 0.0028 - loss: 0.4769 - val_accuracy: 0.0022 - val_loss: 0.5112\n",
            "Epoch 134/250\n",
            "\u001b[1m516/516\u001b[0m \u001b[32m━━━━━━━━━━━━━━━━━━━━\u001b[0m\u001b[37m\u001b[0m \u001b[1m2s\u001b[0m 3ms/step - accuracy: 0.0035 - loss: 0.4843 - val_accuracy: 0.0022 - val_loss: 0.5113\n",
            "Epoch 135/250\n",
            "\u001b[1m516/516\u001b[0m \u001b[32m━━━━━━━━━━━━━━━━━━━━\u001b[0m\u001b[37m\u001b[0m \u001b[1m2s\u001b[0m 2ms/step - accuracy: 0.0030 - loss: 0.4841 - val_accuracy: 0.0022 - val_loss: 0.5103\n",
            "Epoch 136/250\n",
            "\u001b[1m516/516\u001b[0m \u001b[32m━━━━━━━━━━━━━━━━━━━━\u001b[0m\u001b[37m\u001b[0m \u001b[1m1s\u001b[0m 2ms/step - accuracy: 0.0038 - loss: 0.4945 - val_accuracy: 0.0022 - val_loss: 0.5058\n",
            "Epoch 137/250\n",
            "\u001b[1m516/516\u001b[0m \u001b[32m━━━━━━━━━━━━━━━━━━━━\u001b[0m\u001b[37m\u001b[0m \u001b[1m1s\u001b[0m 2ms/step - accuracy: 0.0029 - loss: 0.4893 - val_accuracy: 0.0022 - val_loss: 0.5054\n",
            "Epoch 138/250\n",
            "\u001b[1m516/516\u001b[0m \u001b[32m━━━━━━━━━━━━━━━━━━━━\u001b[0m\u001b[37m\u001b[0m \u001b[1m1s\u001b[0m 2ms/step - accuracy: 0.0035 - loss: 0.5062 - val_accuracy: 0.0022 - val_loss: 0.5096\n",
            "Epoch 139/250\n",
            "\u001b[1m516/516\u001b[0m \u001b[32m━━━━━━━━━━━━━━━━━━━━\u001b[0m\u001b[37m\u001b[0m \u001b[1m1s\u001b[0m 2ms/step - accuracy: 0.0028 - loss: 0.4861 - val_accuracy: 0.0022 - val_loss: 0.5092\n",
            "Epoch 140/250\n",
            "\u001b[1m516/516\u001b[0m \u001b[32m━━━━━━━━━━━━━━━━━━━━\u001b[0m\u001b[37m\u001b[0m \u001b[1m1s\u001b[0m 2ms/step - accuracy: 0.0026 - loss: 0.4847 - val_accuracy: 0.0022 - val_loss: 0.5063\n",
            "Epoch 141/250\n",
            "\u001b[1m516/516\u001b[0m \u001b[32m━━━━━━━━━━━━━━━━━━━━\u001b[0m\u001b[37m\u001b[0m \u001b[1m1s\u001b[0m 2ms/step - accuracy: 0.0032 - loss: 0.4749 - val_accuracy: 0.0022 - val_loss: 0.5043\n",
            "Epoch 142/250\n",
            "\u001b[1m516/516\u001b[0m \u001b[32m━━━━━━━━━━━━━━━━━━━━\u001b[0m\u001b[37m\u001b[0m \u001b[1m1s\u001b[0m 2ms/step - accuracy: 0.0038 - loss: 0.4687 - val_accuracy: 0.0022 - val_loss: 0.5044\n",
            "Epoch 143/250\n",
            "\u001b[1m516/516\u001b[0m \u001b[32m━━━━━━━━━━━━━━━━━━━━\u001b[0m\u001b[37m\u001b[0m \u001b[1m3s\u001b[0m 2ms/step - accuracy: 0.0033 - loss: 0.4830 - val_accuracy: 0.0022 - val_loss: 0.5246\n",
            "Epoch 144/250\n",
            "\u001b[1m516/516\u001b[0m \u001b[32m━━━━━━━━━━━━━━━━━━━━\u001b[0m\u001b[37m\u001b[0m \u001b[1m1s\u001b[0m 2ms/step - accuracy: 0.0028 - loss: 0.4726 - val_accuracy: 0.0022 - val_loss: 0.5127\n",
            "Epoch 145/250\n",
            "\u001b[1m516/516\u001b[0m \u001b[32m━━━━━━━━━━━━━━━━━━━━\u001b[0m\u001b[37m\u001b[0m \u001b[1m1s\u001b[0m 2ms/step - accuracy: 0.0030 - loss: 0.4819 - val_accuracy: 0.0022 - val_loss: 0.5082\n",
            "Epoch 146/250\n",
            "\u001b[1m516/516\u001b[0m \u001b[32m━━━━━━━━━━━━━━━━━━━━\u001b[0m\u001b[37m\u001b[0m \u001b[1m1s\u001b[0m 2ms/step - accuracy: 0.0033 - loss: 0.4843 - val_accuracy: 0.0022 - val_loss: 0.5024\n",
            "Epoch 147/250\n",
            "\u001b[1m516/516\u001b[0m \u001b[32m━━━━━━━━━━━━━━━━━━━━\u001b[0m\u001b[37m\u001b[0m \u001b[1m1s\u001b[0m 2ms/step - accuracy: 0.0030 - loss: 0.4753 - val_accuracy: 0.0022 - val_loss: 0.5078\n",
            "Epoch 148/250\n",
            "\u001b[1m516/516\u001b[0m \u001b[32m━━━━━━━━━━━━━━━━━━━━\u001b[0m\u001b[37m\u001b[0m \u001b[1m1s\u001b[0m 2ms/step - accuracy: 0.0030 - loss: 0.4877 - val_accuracy: 0.0022 - val_loss: 0.5003\n",
            "Epoch 149/250\n",
            "\u001b[1m516/516\u001b[0m \u001b[32m━━━━━━━━━━━━━━━━━━━━\u001b[0m\u001b[37m\u001b[0m \u001b[1m1s\u001b[0m 2ms/step - accuracy: 0.0028 - loss: 0.4852 - val_accuracy: 0.0022 - val_loss: 0.4998\n",
            "Epoch 150/250\n",
            "\u001b[1m516/516\u001b[0m \u001b[32m━━━━━━━━━━━━━━━━━━━━\u001b[0m\u001b[37m\u001b[0m \u001b[1m1s\u001b[0m 2ms/step - accuracy: 0.0029 - loss: 0.4827 - val_accuracy: 0.0022 - val_loss: 0.5041\n",
            "Epoch 151/250\n",
            "\u001b[1m516/516\u001b[0m \u001b[32m━━━━━━━━━━━━━━━━━━━━\u001b[0m\u001b[37m\u001b[0m \u001b[1m1s\u001b[0m 2ms/step - accuracy: 0.0038 - loss: 0.4922 - val_accuracy: 0.0022 - val_loss: 0.4986\n",
            "Epoch 152/250\n",
            "\u001b[1m516/516\u001b[0m \u001b[32m━━━━━━━━━━━━━━━━━━━━\u001b[0m\u001b[37m\u001b[0m \u001b[1m2s\u001b[0m 3ms/step - accuracy: 0.0030 - loss: 0.4843 - val_accuracy: 0.0022 - val_loss: 0.5196\n",
            "Epoch 153/250\n",
            "\u001b[1m516/516\u001b[0m \u001b[32m━━━━━━━━━━━━━━━━━━━━\u001b[0m\u001b[37m\u001b[0m \u001b[1m2s\u001b[0m 2ms/step - accuracy: 0.0032 - loss: 0.4905 - val_accuracy: 0.0022 - val_loss: 0.5014\n",
            "Epoch 154/250\n",
            "\u001b[1m516/516\u001b[0m \u001b[32m━━━━━━━━━━━━━━━━━━━━\u001b[0m\u001b[37m\u001b[0m \u001b[1m1s\u001b[0m 2ms/step - accuracy: 0.0028 - loss: 0.4978 - val_accuracy: 0.0022 - val_loss: 0.4995\n",
            "Epoch 155/250\n",
            "\u001b[1m516/516\u001b[0m \u001b[32m━━━━━━━━━━━━━━━━━━━━\u001b[0m\u001b[37m\u001b[0m \u001b[1m1s\u001b[0m 2ms/step - accuracy: 0.0032 - loss: 0.4970 - val_accuracy: 0.0022 - val_loss: 0.4981\n",
            "Epoch 156/250\n",
            "\u001b[1m516/516\u001b[0m \u001b[32m━━━━━━━━━━━━━━━━━━━━\u001b[0m\u001b[37m\u001b[0m \u001b[1m1s\u001b[0m 2ms/step - accuracy: 0.0038 - loss: 0.4789 - val_accuracy: 0.0022 - val_loss: 0.4967\n",
            "Epoch 157/250\n",
            "\u001b[1m516/516\u001b[0m \u001b[32m━━━━━━━━━━━━━━━━━━━━\u001b[0m\u001b[37m\u001b[0m \u001b[1m1s\u001b[0m 2ms/step - accuracy: 0.0036 - loss: 0.4817 - val_accuracy: 0.0022 - val_loss: 0.5012\n",
            "Epoch 158/250\n",
            "\u001b[1m516/516\u001b[0m \u001b[32m━━━━━━━━━━━━━━━━━━━━\u001b[0m\u001b[37m\u001b[0m \u001b[1m1s\u001b[0m 2ms/step - accuracy: 0.0033 - loss: 0.4685 - val_accuracy: 0.0022 - val_loss: 0.4982\n",
            "Epoch 159/250\n",
            "\u001b[1m516/516\u001b[0m \u001b[32m━━━━━━━━━━━━━━━━━━━━\u001b[0m\u001b[37m\u001b[0m \u001b[1m1s\u001b[0m 2ms/step - accuracy: 0.0031 - loss: 0.4726 - val_accuracy: 0.0022 - val_loss: 0.4980\n",
            "Epoch 160/250\n",
            "\u001b[1m516/516\u001b[0m \u001b[32m━━━━━━━━━━━━━━━━━━━━\u001b[0m\u001b[37m\u001b[0m \u001b[1m1s\u001b[0m 2ms/step - accuracy: 0.0036 - loss: 0.4716 - val_accuracy: 0.0022 - val_loss: 0.5043\n",
            "Epoch 161/250\n",
            "\u001b[1m516/516\u001b[0m \u001b[32m━━━━━━━━━━━━━━━━━━━━\u001b[0m\u001b[37m\u001b[0m \u001b[1m2s\u001b[0m 3ms/step - accuracy: 0.0036 - loss: 0.4703 - val_accuracy: 0.0022 - val_loss: 0.5103\n",
            "Epoch 162/250\n",
            "\u001b[1m516/516\u001b[0m \u001b[32m━━━━━━━━━━━━━━━━━━━━\u001b[0m\u001b[37m\u001b[0m \u001b[1m2s\u001b[0m 2ms/step - accuracy: 0.0028 - loss: 0.4749 - val_accuracy: 0.0022 - val_loss: 0.4948\n",
            "Epoch 163/250\n",
            "\u001b[1m516/516\u001b[0m \u001b[32m━━━━━━━━━━━━━━━━━━━━\u001b[0m\u001b[37m\u001b[0m \u001b[1m1s\u001b[0m 2ms/step - accuracy: 0.0032 - loss: 0.4872 - val_accuracy: 0.0022 - val_loss: 0.4961\n",
            "Epoch 164/250\n",
            "\u001b[1m516/516\u001b[0m \u001b[32m━━━━━━━━━━━━━━━━━━━━\u001b[0m\u001b[37m\u001b[0m \u001b[1m1s\u001b[0m 2ms/step - accuracy: 0.0030 - loss: 0.4889 - val_accuracy: 0.0022 - val_loss: 0.4940\n",
            "Epoch 165/250\n",
            "\u001b[1m516/516\u001b[0m \u001b[32m━━━━━━━━━━━━━━━━━━━━\u001b[0m\u001b[37m\u001b[0m \u001b[1m1s\u001b[0m 2ms/step - accuracy: 0.0041 - loss: 0.4683 - val_accuracy: 0.0022 - val_loss: 0.4989\n",
            "Epoch 166/250\n",
            "\u001b[1m516/516\u001b[0m \u001b[32m━━━━━━━━━━━━━━━━━━━━\u001b[0m\u001b[37m\u001b[0m \u001b[1m1s\u001b[0m 2ms/step - accuracy: 0.0028 - loss: 0.4954 - val_accuracy: 0.0022 - val_loss: 0.4927\n",
            "Epoch 167/250\n",
            "\u001b[1m516/516\u001b[0m \u001b[32m━━━━━━━━━━━━━━━━━━━━\u001b[0m\u001b[37m\u001b[0m \u001b[1m1s\u001b[0m 2ms/step - accuracy: 0.0030 - loss: 0.4799 - val_accuracy: 0.0022 - val_loss: 0.4968\n",
            "Epoch 168/250\n",
            "\u001b[1m516/516\u001b[0m \u001b[32m━━━━━━━━━━━━━━━━━━━━\u001b[0m\u001b[37m\u001b[0m \u001b[1m1s\u001b[0m 2ms/step - accuracy: 0.0038 - loss: 0.4806 - val_accuracy: 0.0022 - val_loss: 0.4989\n",
            "Epoch 169/250\n",
            "\u001b[1m516/516\u001b[0m \u001b[32m━━━━━━━━━━━━━━━━━━━━\u001b[0m\u001b[37m\u001b[0m \u001b[1m1s\u001b[0m 2ms/step - accuracy: 0.0040 - loss: 0.4830 - val_accuracy: 0.0022 - val_loss: 0.4921\n",
            "Epoch 170/250\n",
            "\u001b[1m516/516\u001b[0m \u001b[32m━━━━━━━━━━━━━━━━━━━━\u001b[0m\u001b[37m\u001b[0m \u001b[1m2s\u001b[0m 3ms/step - accuracy: 0.0029 - loss: 0.4744 - val_accuracy: 0.0022 - val_loss: 0.5007\n",
            "Epoch 171/250\n",
            "\u001b[1m516/516\u001b[0m \u001b[32m━━━━━━━━━━━━━━━━━━━━\u001b[0m\u001b[37m\u001b[0m \u001b[1m2s\u001b[0m 2ms/step - accuracy: 0.0031 - loss: 0.4808 - val_accuracy: 0.0022 - val_loss: 0.4917\n",
            "Epoch 172/250\n",
            "\u001b[1m516/516\u001b[0m \u001b[32m━━━━━━━━━━━━━━━━━━━━\u001b[0m\u001b[37m\u001b[0m \u001b[1m1s\u001b[0m 2ms/step - accuracy: 0.0029 - loss: 0.4774 - val_accuracy: 0.0022 - val_loss: 0.4909\n",
            "Epoch 173/250\n",
            "\u001b[1m516/516\u001b[0m \u001b[32m━━━━━━━━━━━━━━━━━━━━\u001b[0m\u001b[37m\u001b[0m \u001b[1m1s\u001b[0m 2ms/step - accuracy: 0.0028 - loss: 0.4803 - val_accuracy: 0.0022 - val_loss: 0.5119\n",
            "Epoch 174/250\n",
            "\u001b[1m516/516\u001b[0m \u001b[32m━━━━━━━━━━━━━━━━━━━━\u001b[0m\u001b[37m\u001b[0m \u001b[1m1s\u001b[0m 2ms/step - accuracy: 0.0033 - loss: 0.4925 - val_accuracy: 0.0022 - val_loss: 0.4923\n",
            "Epoch 175/250\n",
            "\u001b[1m516/516\u001b[0m \u001b[32m━━━━━━━━━━━━━━━━━━━━\u001b[0m\u001b[37m\u001b[0m \u001b[1m1s\u001b[0m 2ms/step - accuracy: 0.0036 - loss: 0.4805 - val_accuracy: 0.0022 - val_loss: 0.4965\n",
            "Epoch 176/250\n",
            "\u001b[1m516/516\u001b[0m \u001b[32m━━━━━━━━━━━━━━━━━━━━\u001b[0m\u001b[37m\u001b[0m \u001b[1m1s\u001b[0m 2ms/step - accuracy: 0.0036 - loss: 0.4680 - val_accuracy: 0.0022 - val_loss: 0.4898\n",
            "Epoch 177/250\n",
            "\u001b[1m516/516\u001b[0m \u001b[32m━━━━━━━━━━━━━━━━━━━━\u001b[0m\u001b[37m\u001b[0m \u001b[1m1s\u001b[0m 2ms/step - accuracy: 0.0035 - loss: 0.4614 - val_accuracy: 0.0022 - val_loss: 0.5021\n",
            "Epoch 178/250\n",
            "\u001b[1m516/516\u001b[0m \u001b[32m━━━━━━━━━━━━━━━━━━━━\u001b[0m\u001b[37m\u001b[0m \u001b[1m1s\u001b[0m 2ms/step - accuracy: 0.0030 - loss: 0.4691 - val_accuracy: 0.0022 - val_loss: 0.4946\n",
            "Epoch 179/250\n",
            "\u001b[1m516/516\u001b[0m \u001b[32m━━━━━━━━━━━━━━━━━━━━\u001b[0m\u001b[37m\u001b[0m \u001b[1m2s\u001b[0m 3ms/step - accuracy: 0.0029 - loss: 0.4837 - val_accuracy: 0.0022 - val_loss: 0.4898\n",
            "Epoch 180/250\n",
            "\u001b[1m516/516\u001b[0m \u001b[32m━━━━━━━━━━━━━━━━━━━━\u001b[0m\u001b[37m\u001b[0m \u001b[1m2s\u001b[0m 2ms/step - accuracy: 0.0030 - loss: 0.4691 - val_accuracy: 0.0022 - val_loss: 0.4892\n",
            "Epoch 181/250\n",
            "\u001b[1m516/516\u001b[0m \u001b[32m━━━━━━━━━━━━━━━━━━━━\u001b[0m\u001b[37m\u001b[0m \u001b[1m1s\u001b[0m 2ms/step - accuracy: 0.0039 - loss: 0.4778 - val_accuracy: 0.0022 - val_loss: 0.5087\n",
            "Epoch 182/250\n",
            "\u001b[1m516/516\u001b[0m \u001b[32m━━━━━━━━━━━━━━━━━━━━\u001b[0m\u001b[37m\u001b[0m \u001b[1m1s\u001b[0m 2ms/step - accuracy: 0.0027 - loss: 0.4723 - val_accuracy: 0.0022 - val_loss: 0.4923\n",
            "Epoch 183/250\n",
            "\u001b[1m516/516\u001b[0m \u001b[32m━━━━━━━━━━━━━━━━━━━━\u001b[0m\u001b[37m\u001b[0m \u001b[1m1s\u001b[0m 2ms/step - accuracy: 0.0030 - loss: 0.4692 - val_accuracy: 0.0022 - val_loss: 0.5132\n",
            "Epoch 184/250\n",
            "\u001b[1m516/516\u001b[0m \u001b[32m━━━━━━━━━━━━━━━━━━━━\u001b[0m\u001b[37m\u001b[0m \u001b[1m1s\u001b[0m 2ms/step - accuracy: 0.0035 - loss: 0.4709 - val_accuracy: 0.0022 - val_loss: 0.4981\n",
            "Epoch 185/250\n",
            "\u001b[1m516/516\u001b[0m \u001b[32m━━━━━━━━━━━━━━━━━━━━\u001b[0m\u001b[37m\u001b[0m \u001b[1m1s\u001b[0m 2ms/step - accuracy: 0.0040 - loss: 0.4617 - val_accuracy: 0.0022 - val_loss: 0.4878\n",
            "Epoch 186/250\n",
            "\u001b[1m516/516\u001b[0m \u001b[32m━━━━━━━━━━━━━━━━━━━━\u001b[0m\u001b[37m\u001b[0m \u001b[1m1s\u001b[0m 2ms/step - accuracy: 0.0037 - loss: 0.4619 - val_accuracy: 0.0022 - val_loss: 0.4900\n",
            "Epoch 187/250\n",
            "\u001b[1m516/516\u001b[0m \u001b[32m━━━━━━━━━━━━━━━━━━━━\u001b[0m\u001b[37m\u001b[0m \u001b[1m1s\u001b[0m 2ms/step - accuracy: 0.0033 - loss: 0.4628 - val_accuracy: 0.0022 - val_loss: 0.4879\n",
            "Epoch 188/250\n",
            "\u001b[1m516/516\u001b[0m \u001b[32m━━━━━━━━━━━━━━━━━━━━\u001b[0m\u001b[37m\u001b[0m \u001b[1m2s\u001b[0m 3ms/step - accuracy: 0.0028 - loss: 0.4868 - val_accuracy: 0.0022 - val_loss: 0.4881\n",
            "Epoch 189/250\n",
            "\u001b[1m516/516\u001b[0m \u001b[32m━━━━━━━━━━━━━━━━━━━━\u001b[0m\u001b[37m\u001b[0m \u001b[1m2s\u001b[0m 2ms/step - accuracy: 0.0032 - loss: 0.4755 - val_accuracy: 0.0022 - val_loss: 0.4948\n",
            "Epoch 190/250\n",
            "\u001b[1m516/516\u001b[0m \u001b[32m━━━━━━━━━━━━━━━━━━━━\u001b[0m\u001b[37m\u001b[0m \u001b[1m1s\u001b[0m 2ms/step - accuracy: 0.0033 - loss: 0.4708 - val_accuracy: 0.0022 - val_loss: 0.4865\n",
            "Epoch 191/250\n",
            "\u001b[1m516/516\u001b[0m \u001b[32m━━━━━━━━━━━━━━━━━━━━\u001b[0m\u001b[37m\u001b[0m \u001b[1m1s\u001b[0m 2ms/step - accuracy: 0.0033 - loss: 0.4757 - val_accuracy: 0.0022 - val_loss: 0.4858\n",
            "Epoch 192/250\n",
            "\u001b[1m516/516\u001b[0m \u001b[32m━━━━━━━━━━━━━━━━━━━━\u001b[0m\u001b[37m\u001b[0m \u001b[1m1s\u001b[0m 2ms/step - accuracy: 0.0030 - loss: 0.4692 - val_accuracy: 0.0022 - val_loss: 0.4999\n",
            "Epoch 193/250\n",
            "\u001b[1m516/516\u001b[0m \u001b[32m━━━━━━━━━━━━━━━━━━━━\u001b[0m\u001b[37m\u001b[0m \u001b[1m1s\u001b[0m 2ms/step - accuracy: 0.0025 - loss: 0.4743 - val_accuracy: 0.0022 - val_loss: 0.5046\n",
            "Epoch 194/250\n",
            "\u001b[1m516/516\u001b[0m \u001b[32m━━━━━━━━━━━━━━━━━━━━\u001b[0m\u001b[37m\u001b[0m \u001b[1m1s\u001b[0m 2ms/step - accuracy: 0.0033 - loss: 0.4654 - val_accuracy: 0.0022 - val_loss: 0.4907\n",
            "Epoch 195/250\n",
            "\u001b[1m516/516\u001b[0m \u001b[32m━━━━━━━━━━━━━━━━━━━━\u001b[0m\u001b[37m\u001b[0m \u001b[1m1s\u001b[0m 2ms/step - accuracy: 0.0030 - loss: 0.4644 - val_accuracy: 0.0022 - val_loss: 0.4838\n",
            "Epoch 196/250\n",
            "\u001b[1m516/516\u001b[0m \u001b[32m━━━━━━━━━━━━━━━━━━━━\u001b[0m\u001b[37m\u001b[0m \u001b[1m1s\u001b[0m 2ms/step - accuracy: 0.0033 - loss: 0.4724 - val_accuracy: 0.0022 - val_loss: 0.4895\n",
            "Epoch 197/250\n",
            "\u001b[1m516/516\u001b[0m \u001b[32m━━━━━━━━━━━━━━━━━━━━\u001b[0m\u001b[37m\u001b[0m \u001b[1m2s\u001b[0m 3ms/step - accuracy: 0.0032 - loss: 0.4744 - val_accuracy: 0.0022 - val_loss: 0.4848\n",
            "Epoch 198/250\n",
            "\u001b[1m516/516\u001b[0m \u001b[32m━━━━━━━━━━━━━━━━━━━━\u001b[0m\u001b[37m\u001b[0m \u001b[1m2s\u001b[0m 2ms/step - accuracy: 0.0029 - loss: 0.4614 - val_accuracy: 0.0022 - val_loss: 0.4844\n",
            "Epoch 199/250\n",
            "\u001b[1m516/516\u001b[0m \u001b[32m━━━━━━━━━━━━━━━━━━━━\u001b[0m\u001b[37m\u001b[0m \u001b[1m1s\u001b[0m 2ms/step - accuracy: 0.0031 - loss: 0.4737 - val_accuracy: 0.0022 - val_loss: 0.4838\n",
            "Epoch 200/250\n",
            "\u001b[1m516/516\u001b[0m \u001b[32m━━━━━━━━━━━━━━━━━━━━\u001b[0m\u001b[37m\u001b[0m \u001b[1m1s\u001b[0m 2ms/step - accuracy: 0.0034 - loss: 0.4730 - val_accuracy: 0.0022 - val_loss: 0.4829\n",
            "Epoch 201/250\n",
            "\u001b[1m516/516\u001b[0m \u001b[32m━━━━━━━━━━━━━━━━━━━━\u001b[0m\u001b[37m\u001b[0m \u001b[1m1s\u001b[0m 2ms/step - accuracy: 0.0029 - loss: 0.4678 - val_accuracy: 0.0022 - val_loss: 0.4834\n",
            "Epoch 202/250\n",
            "\u001b[1m516/516\u001b[0m \u001b[32m━━━━━━━━━━━━━━━━━━━━\u001b[0m\u001b[37m\u001b[0m \u001b[1m1s\u001b[0m 2ms/step - accuracy: 0.0024 - loss: 0.4672 - val_accuracy: 0.0022 - val_loss: 0.4818\n",
            "Epoch 203/250\n",
            "\u001b[1m516/516\u001b[0m \u001b[32m━━━━━━━━━━━━━━━━━━━━\u001b[0m\u001b[37m\u001b[0m \u001b[1m1s\u001b[0m 2ms/step - accuracy: 0.0035 - loss: 0.4639 - val_accuracy: 0.0022 - val_loss: 0.4811\n",
            "Epoch 204/250\n",
            "\u001b[1m516/516\u001b[0m \u001b[32m━━━━━━━━━━━━━━━━━━━━\u001b[0m\u001b[37m\u001b[0m \u001b[1m1s\u001b[0m 2ms/step - accuracy: 0.0027 - loss: 0.4687 - val_accuracy: 0.0022 - val_loss: 0.4861\n",
            "Epoch 205/250\n",
            "\u001b[1m516/516\u001b[0m \u001b[32m━━━━━━━━━━━━━━━━━━━━\u001b[0m\u001b[37m\u001b[0m \u001b[1m1s\u001b[0m 2ms/step - accuracy: 0.0029 - loss: 0.4644 - val_accuracy: 0.0022 - val_loss: 0.4827\n",
            "Epoch 206/250\n",
            "\u001b[1m516/516\u001b[0m \u001b[32m━━━━━━━━━━━━━━━━━━━━\u001b[0m\u001b[37m\u001b[0m \u001b[1m2s\u001b[0m 3ms/step - accuracy: 0.0027 - loss: 0.4684 - val_accuracy: 0.0022 - val_loss: 0.4922\n",
            "Epoch 207/250\n",
            "\u001b[1m516/516\u001b[0m \u001b[32m━━━━━━━━━━━━━━━━━━━━\u001b[0m\u001b[37m\u001b[0m \u001b[1m2s\u001b[0m 2ms/step - accuracy: 0.0031 - loss: 0.4927 - val_accuracy: 0.0022 - val_loss: 0.4809\n",
            "Epoch 208/250\n",
            "\u001b[1m516/516\u001b[0m \u001b[32m━━━━━━━━━━━━━━━━━━━━\u001b[0m\u001b[37m\u001b[0m \u001b[1m1s\u001b[0m 2ms/step - accuracy: 0.0041 - loss: 0.4629 - val_accuracy: 0.0022 - val_loss: 0.4804\n",
            "Epoch 209/250\n",
            "\u001b[1m516/516\u001b[0m \u001b[32m━━━━━━━━━━━━━━━━━━━━\u001b[0m\u001b[37m\u001b[0m \u001b[1m1s\u001b[0m 2ms/step - accuracy: 0.0032 - loss: 0.4643 - val_accuracy: 0.0022 - val_loss: 0.4913\n",
            "Epoch 210/250\n",
            "\u001b[1m516/516\u001b[0m \u001b[32m━━━━━━━━━━━━━━━━━━━━\u001b[0m\u001b[37m\u001b[0m \u001b[1m1s\u001b[0m 2ms/step - accuracy: 0.0035 - loss: 0.4674 - val_accuracy: 0.0022 - val_loss: 0.4843\n",
            "Epoch 211/250\n",
            "\u001b[1m516/516\u001b[0m \u001b[32m━━━━━━━━━━━━━━━━━━━━\u001b[0m\u001b[37m\u001b[0m \u001b[1m1s\u001b[0m 2ms/step - accuracy: 0.0026 - loss: 0.4513 - val_accuracy: 0.0022 - val_loss: 0.4813\n",
            "Epoch 212/250\n",
            "\u001b[1m516/516\u001b[0m \u001b[32m━━━━━━━━━━━━━━━━━━━━\u001b[0m\u001b[37m\u001b[0m \u001b[1m1s\u001b[0m 2ms/step - accuracy: 0.0034 - loss: 0.4714 - val_accuracy: 0.0022 - val_loss: 0.4809\n",
            "Epoch 213/250\n",
            "\u001b[1m516/516\u001b[0m \u001b[32m━━━━━━━━━━━━━━━━━━━━\u001b[0m\u001b[37m\u001b[0m \u001b[1m1s\u001b[0m 2ms/step - accuracy: 0.0031 - loss: 0.4709 - val_accuracy: 0.0022 - val_loss: 0.4803\n",
            "Epoch 214/250\n",
            "\u001b[1m516/516\u001b[0m \u001b[32m━━━━━━━━━━━━━━━━━━━━\u001b[0m\u001b[37m\u001b[0m \u001b[1m1s\u001b[0m 2ms/step - accuracy: 0.0037 - loss: 0.4585 - val_accuracy: 0.0022 - val_loss: 0.4793\n",
            "Epoch 215/250\n",
            "\u001b[1m516/516\u001b[0m \u001b[32m━━━━━━━━━━━━━━━━━━━━\u001b[0m\u001b[37m\u001b[0m \u001b[1m3s\u001b[0m 3ms/step - accuracy: 0.0044 - loss: 0.4702 - val_accuracy: 0.0022 - val_loss: 0.4830\n",
            "Epoch 216/250\n",
            "\u001b[1m516/516\u001b[0m \u001b[32m━━━━━━━━━━━━━━━━━━━━\u001b[0m\u001b[37m\u001b[0m \u001b[1m2s\u001b[0m 2ms/step - accuracy: 0.0023 - loss: 0.4706 - val_accuracy: 0.0022 - val_loss: 0.4821\n",
            "Epoch 217/250\n",
            "\u001b[1m516/516\u001b[0m \u001b[32m━━━━━━━━━━━━━━━━━━━━\u001b[0m\u001b[37m\u001b[0m \u001b[1m3s\u001b[0m 2ms/step - accuracy: 0.0045 - loss: 0.4757 - val_accuracy: 0.0022 - val_loss: 0.4800\n",
            "Epoch 218/250\n",
            "\u001b[1m516/516\u001b[0m \u001b[32m━━━━━━━━━━━━━━━━━━━━\u001b[0m\u001b[37m\u001b[0m \u001b[1m2s\u001b[0m 2ms/step - accuracy: 0.0025 - loss: 0.4795 - val_accuracy: 0.0022 - val_loss: 0.4828\n",
            "Epoch 219/250\n",
            "\u001b[1m516/516\u001b[0m \u001b[32m━━━━━━━━━━━━━━━━━━━━\u001b[0m\u001b[37m\u001b[0m \u001b[1m1s\u001b[0m 2ms/step - accuracy: 0.0025 - loss: 0.4544 - val_accuracy: 0.0022 - val_loss: 0.4799\n",
            "Epoch 220/250\n",
            "\u001b[1m516/516\u001b[0m \u001b[32m━━━━━━━━━━━━━━━━━━━━\u001b[0m\u001b[37m\u001b[0m \u001b[1m2s\u001b[0m 3ms/step - accuracy: 0.0033 - loss: 0.4662 - val_accuracy: 0.0022 - val_loss: 0.4957\n",
            "Epoch 221/250\n",
            "\u001b[1m516/516\u001b[0m \u001b[32m━━━━━━━━━━━━━━━━━━━━\u001b[0m\u001b[37m\u001b[0m \u001b[1m2s\u001b[0m 2ms/step - accuracy: 0.0032 - loss: 0.4449 - val_accuracy: 0.0022 - val_loss: 0.4778\n",
            "Epoch 222/250\n",
            "\u001b[1m516/516\u001b[0m \u001b[32m━━━━━━━━━━━━━━━━━━━━\u001b[0m\u001b[37m\u001b[0m \u001b[1m1s\u001b[0m 2ms/step - accuracy: 0.0035 - loss: 0.4647 - val_accuracy: 0.0022 - val_loss: 0.4932\n",
            "Epoch 223/250\n",
            "\u001b[1m516/516\u001b[0m \u001b[32m━━━━━━━━━━━━━━━━━━━━\u001b[0m\u001b[37m\u001b[0m \u001b[1m1s\u001b[0m 2ms/step - accuracy: 0.0032 - loss: 0.4624 - val_accuracy: 0.0022 - val_loss: 0.4790\n",
            "Epoch 224/250\n",
            "\u001b[1m516/516\u001b[0m \u001b[32m━━━━━━━━━━━━━━━━━━━━\u001b[0m\u001b[37m\u001b[0m \u001b[1m1s\u001b[0m 2ms/step - accuracy: 0.0032 - loss: 0.4826 - val_accuracy: 0.0022 - val_loss: 0.4781\n",
            "Epoch 225/250\n",
            "\u001b[1m516/516\u001b[0m \u001b[32m━━━━━━━━━━━━━━━━━━━━\u001b[0m\u001b[37m\u001b[0m \u001b[1m1s\u001b[0m 2ms/step - accuracy: 0.0029 - loss: 0.4653 - val_accuracy: 0.0022 - val_loss: 0.4775\n",
            "Epoch 226/250\n",
            "\u001b[1m516/516\u001b[0m \u001b[32m━━━━━━━━━━━━━━━━━━━━\u001b[0m\u001b[37m\u001b[0m \u001b[1m1s\u001b[0m 2ms/step - accuracy: 0.0029 - loss: 0.4775 - val_accuracy: 0.0022 - val_loss: 0.4783\n",
            "Epoch 227/250\n",
            "\u001b[1m516/516\u001b[0m \u001b[32m━━━━━━━━━━━━━━━━━━━━\u001b[0m\u001b[37m\u001b[0m \u001b[1m1s\u001b[0m 2ms/step - accuracy: 0.0028 - loss: 0.4666 - val_accuracy: 0.0022 - val_loss: 0.4763\n",
            "Epoch 228/250\n",
            "\u001b[1m516/516\u001b[0m \u001b[32m━━━━━━━━━━━━━━━━━━━━\u001b[0m\u001b[37m\u001b[0m \u001b[1m1s\u001b[0m 2ms/step - accuracy: 0.0032 - loss: 0.4479 - val_accuracy: 0.0022 - val_loss: 0.4815\n",
            "Epoch 229/250\n",
            "\u001b[1m516/516\u001b[0m \u001b[32m━━━━━━━━━━━━━━━━━━━━\u001b[0m\u001b[37m\u001b[0m \u001b[1m2s\u001b[0m 3ms/step - accuracy: 0.0033 - loss: 0.4594 - val_accuracy: 0.0022 - val_loss: 0.4769\n",
            "Epoch 230/250\n",
            "\u001b[1m516/516\u001b[0m \u001b[32m━━━━━━━━━━━━━━━━━━━━\u001b[0m\u001b[37m\u001b[0m \u001b[1m2s\u001b[0m 3ms/step - accuracy: 0.0042 - loss: 0.4471 - val_accuracy: 0.0022 - val_loss: 0.4777\n",
            "Epoch 231/250\n",
            "\u001b[1m516/516\u001b[0m \u001b[32m━━━━━━━━━━━━━━━━━━━━\u001b[0m\u001b[37m\u001b[0m \u001b[1m2s\u001b[0m 2ms/step - accuracy: 0.0029 - loss: 0.4655 - val_accuracy: 0.0022 - val_loss: 0.4773\n",
            "Epoch 232/250\n",
            "\u001b[1m516/516\u001b[0m \u001b[32m━━━━━━━━━━━━━━━━━━━━\u001b[0m\u001b[37m\u001b[0m \u001b[1m1s\u001b[0m 2ms/step - accuracy: 0.0023 - loss: 0.4508 - val_accuracy: 0.0022 - val_loss: 0.4767\n",
            "Epoch 233/250\n",
            "\u001b[1m516/516\u001b[0m \u001b[32m━━━━━━━━━━━━━━━━━━━━\u001b[0m\u001b[37m\u001b[0m \u001b[1m1s\u001b[0m 2ms/step - accuracy: 0.0033 - loss: 0.4453 - val_accuracy: 0.0022 - val_loss: 0.4773\n",
            "Epoch 234/250\n",
            "\u001b[1m516/516\u001b[0m \u001b[32m━━━━━━━━━━━━━━━━━━━━\u001b[0m\u001b[37m\u001b[0m \u001b[1m1s\u001b[0m 2ms/step - accuracy: 0.0033 - loss: 0.4501 - val_accuracy: 0.0022 - val_loss: 0.4759\n",
            "Epoch 235/250\n",
            "\u001b[1m516/516\u001b[0m \u001b[32m━━━━━━━━━━━━━━━━━━━━\u001b[0m\u001b[37m\u001b[0m \u001b[1m1s\u001b[0m 2ms/step - accuracy: 0.0034 - loss: 0.4525 - val_accuracy: 0.0022 - val_loss: 0.4777\n",
            "Epoch 236/250\n",
            "\u001b[1m516/516\u001b[0m \u001b[32m━━━━━━━━━━━━━━━━━━━━\u001b[0m\u001b[37m\u001b[0m \u001b[1m1s\u001b[0m 2ms/step - accuracy: 0.0028 - loss: 0.4551 - val_accuracy: 0.0022 - val_loss: 0.4816\n",
            "Epoch 237/250\n",
            "\u001b[1m516/516\u001b[0m \u001b[32m━━━━━━━━━━━━━━━━━━━━\u001b[0m\u001b[37m\u001b[0m \u001b[1m1s\u001b[0m 2ms/step - accuracy: 0.0035 - loss: 0.4440 - val_accuracy: 0.0022 - val_loss: 0.4871\n",
            "Epoch 238/250\n",
            "\u001b[1m516/516\u001b[0m \u001b[32m━━━━━━━━━━━━━━━━━━━━\u001b[0m\u001b[37m\u001b[0m \u001b[1m2s\u001b[0m 3ms/step - accuracy: 0.0033 - loss: 0.4519 - val_accuracy: 0.0022 - val_loss: 0.4816\n",
            "Epoch 239/250\n",
            "\u001b[1m516/516\u001b[0m \u001b[32m━━━━━━━━━━━━━━━━━━━━\u001b[0m\u001b[37m\u001b[0m \u001b[1m2s\u001b[0m 3ms/step - accuracy: 0.0035 - loss: 0.4697 - val_accuracy: 0.0022 - val_loss: 0.4752\n",
            "Epoch 240/250\n",
            "\u001b[1m516/516\u001b[0m \u001b[32m━━━━━━━━━━━━━━━━━━━━\u001b[0m\u001b[37m\u001b[0m \u001b[1m1s\u001b[0m 2ms/step - accuracy: 0.0030 - loss: 0.4621 - val_accuracy: 0.0022 - val_loss: 0.4762\n",
            "Epoch 241/250\n",
            "\u001b[1m516/516\u001b[0m \u001b[32m━━━━━━━━━━━━━━━━━━━━\u001b[0m\u001b[37m\u001b[0m \u001b[1m1s\u001b[0m 2ms/step - accuracy: 0.0029 - loss: 0.4622 - val_accuracy: 0.0022 - val_loss: 0.5031\n",
            "Epoch 242/250\n",
            "\u001b[1m516/516\u001b[0m \u001b[32m━━━━━━━━━━━━━━━━━━━━\u001b[0m\u001b[37m\u001b[0m \u001b[1m1s\u001b[0m 2ms/step - accuracy: 0.0028 - loss: 0.4641 - val_accuracy: 0.0022 - val_loss: 0.4732\n",
            "Epoch 243/250\n",
            "\u001b[1m516/516\u001b[0m \u001b[32m━━━━━━━━━━━━━━━━━━━━\u001b[0m\u001b[37m\u001b[0m \u001b[1m1s\u001b[0m 2ms/step - accuracy: 0.0043 - loss: 0.4554 - val_accuracy: 0.0022 - val_loss: 0.4772\n",
            "Epoch 244/250\n",
            "\u001b[1m516/516\u001b[0m \u001b[32m━━━━━━━━━━━━━━━━━━━━\u001b[0m\u001b[37m\u001b[0m \u001b[1m1s\u001b[0m 2ms/step - accuracy: 0.0034 - loss: 0.4629 - val_accuracy: 0.0022 - val_loss: 0.4735\n",
            "Epoch 245/250\n",
            "\u001b[1m516/516\u001b[0m \u001b[32m━━━━━━━━━━━━━━━━━━━━\u001b[0m\u001b[37m\u001b[0m \u001b[1m2s\u001b[0m 2ms/step - accuracy: 0.0030 - loss: 0.4560 - val_accuracy: 0.0022 - val_loss: 0.4738\n",
            "Epoch 246/250\n",
            "\u001b[1m516/516\u001b[0m \u001b[32m━━━━━━━━━━━━━━━━━━━━\u001b[0m\u001b[37m\u001b[0m \u001b[1m1s\u001b[0m 2ms/step - accuracy: 0.0033 - loss: 0.4662 - val_accuracy: 0.0022 - val_loss: 0.4726\n",
            "Epoch 247/250\n",
            "\u001b[1m516/516\u001b[0m \u001b[32m━━━━━━━━━━━━━━━━━━━━\u001b[0m\u001b[37m\u001b[0m \u001b[1m2s\u001b[0m 3ms/step - accuracy: 0.0034 - loss: 0.4539 - val_accuracy: 0.0022 - val_loss: 0.4748\n",
            "Epoch 248/250\n",
            "\u001b[1m516/516\u001b[0m \u001b[32m━━━━━━━━━━━━━━━━━━━━\u001b[0m\u001b[37m\u001b[0m \u001b[1m2s\u001b[0m 2ms/step - accuracy: 0.0035 - loss: 0.4576 - val_accuracy: 0.0022 - val_loss: 0.4743\n",
            "Epoch 249/250\n",
            "\u001b[1m516/516\u001b[0m \u001b[32m━━━━━━━━━━━━━━━━━━━━\u001b[0m\u001b[37m\u001b[0m \u001b[1m1s\u001b[0m 2ms/step - accuracy: 0.0036 - loss: 0.4470 - val_accuracy: 0.0022 - val_loss: 0.4858\n",
            "Epoch 250/250\n",
            "\u001b[1m516/516\u001b[0m \u001b[32m━━━━━━━━━━━━━━━━━━━━\u001b[0m\u001b[37m\u001b[0m \u001b[1m1s\u001b[0m 2ms/step - accuracy: 0.0037 - loss: 0.4569 - val_accuracy: 0.0022 - val_loss: 0.4776\n"
          ]
        }
      ]
    },
    {
      "cell_type": "code",
      "source": [
        "test_loss, test_accuracy = model.evaluate(X_test, y_test, verbose=0)\n",
        "print(f\"Model Summary:\")\n",
        "model.summary()\n",
        "print(f\"\\nTest MSE: {test_loss:.4f}, Test accuracy: {test_accuracy:.4f}%\")\n",
        "\n",
        "\n",
        "plt.figure(figsize=(12, 5))\n",
        "plt.plot(history.history['loss'], label='Training Loss')\n",
        "plt.plot(history.history['val_loss'], label='Test Loss')\n",
        "plt.title('Model Loss Progression')\n",
        "plt.ylabel('Mean Squared Error')\n",
        "plt.xlabel('Epoch')\n",
        "plt.legend()\n",
        "plt.grid(True)\n",
        "plt.show()"
      ],
      "metadata": {
        "id": "BlIwBwLjkD3t",
        "colab": {
          "base_uri": "https://localhost:8080/",
          "height": 726
        },
        "outputId": "8f4e9907-69c2-49e1-b519-b52c71fb3958"
      },
      "execution_count": 12,
      "outputs": [
        {
          "output_type": "stream",
          "name": "stdout",
          "text": [
            "Model Summary:\n"
          ]
        },
        {
          "output_type": "display_data",
          "data": {
            "text/plain": [
              "\u001b[1mModel: \"sequential\"\u001b[0m\n"
            ],
            "text/html": [
              "<pre style=\"white-space:pre;overflow-x:auto;line-height:normal;font-family:Menlo,'DejaVu Sans Mono',consolas,'Courier New',monospace\"><span style=\"font-weight: bold\">Model: \"sequential\"</span>\n",
              "</pre>\n"
            ]
          },
          "metadata": {}
        },
        {
          "output_type": "display_data",
          "data": {
            "text/plain": [
              "┏━━━━━━━━━━━━━━━━━━━━━━━━━━━━━━━━━┳━━━━━━━━━━━━━━━━━━━━━━━━┳━━━━━━━━━━━━━━━┓\n",
              "┃\u001b[1m \u001b[0m\u001b[1mLayer (type)                   \u001b[0m\u001b[1m \u001b[0m┃\u001b[1m \u001b[0m\u001b[1mOutput Shape          \u001b[0m\u001b[1m \u001b[0m┃\u001b[1m \u001b[0m\u001b[1m      Param #\u001b[0m\u001b[1m \u001b[0m┃\n",
              "┡━━━━━━━━━━━━━━━━━━━━━━━━━━━━━━━━━╇━━━━━━━━━━━━━━━━━━━━━━━━╇━━━━━━━━━━━━━━━┩\n",
              "│ dense (\u001b[38;5;33mDense\u001b[0m)                   │ (\u001b[38;5;45mNone\u001b[0m, \u001b[38;5;34m31\u001b[0m)             │           \u001b[38;5;34m279\u001b[0m │\n",
              "├─────────────────────────────────┼────────────────────────┼───────────────┤\n",
              "│ dense_1 (\u001b[38;5;33mDense\u001b[0m)                 │ (\u001b[38;5;45mNone\u001b[0m, \u001b[38;5;34m1\u001b[0m)              │            \u001b[38;5;34m32\u001b[0m │\n",
              "└─────────────────────────────────┴────────────────────────┴───────────────┘\n"
            ],
            "text/html": [
              "<pre style=\"white-space:pre;overflow-x:auto;line-height:normal;font-family:Menlo,'DejaVu Sans Mono',consolas,'Courier New',monospace\">┏━━━━━━━━━━━━━━━━━━━━━━━━━━━━━━━━━┳━━━━━━━━━━━━━━━━━━━━━━━━┳━━━━━━━━━━━━━━━┓\n",
              "┃<span style=\"font-weight: bold\"> Layer (type)                    </span>┃<span style=\"font-weight: bold\"> Output Shape           </span>┃<span style=\"font-weight: bold\">       Param # </span>┃\n",
              "┡━━━━━━━━━━━━━━━━━━━━━━━━━━━━━━━━━╇━━━━━━━━━━━━━━━━━━━━━━━━╇━━━━━━━━━━━━━━━┩\n",
              "│ dense (<span style=\"color: #0087ff; text-decoration-color: #0087ff\">Dense</span>)                   │ (<span style=\"color: #00d7ff; text-decoration-color: #00d7ff\">None</span>, <span style=\"color: #00af00; text-decoration-color: #00af00\">31</span>)             │           <span style=\"color: #00af00; text-decoration-color: #00af00\">279</span> │\n",
              "├─────────────────────────────────┼────────────────────────┼───────────────┤\n",
              "│ dense_1 (<span style=\"color: #0087ff; text-decoration-color: #0087ff\">Dense</span>)                 │ (<span style=\"color: #00d7ff; text-decoration-color: #00d7ff\">None</span>, <span style=\"color: #00af00; text-decoration-color: #00af00\">1</span>)              │            <span style=\"color: #00af00; text-decoration-color: #00af00\">32</span> │\n",
              "└─────────────────────────────────┴────────────────────────┴───────────────┘\n",
              "</pre>\n"
            ]
          },
          "metadata": {}
        },
        {
          "output_type": "display_data",
          "data": {
            "text/plain": [
              "\u001b[1m Total params: \u001b[0m\u001b[38;5;34m935\u001b[0m (3.66 KB)\n"
            ],
            "text/html": [
              "<pre style=\"white-space:pre;overflow-x:auto;line-height:normal;font-family:Menlo,'DejaVu Sans Mono',consolas,'Courier New',monospace\"><span style=\"font-weight: bold\"> Total params: </span><span style=\"color: #00af00; text-decoration-color: #00af00\">935</span> (3.66 KB)\n",
              "</pre>\n"
            ]
          },
          "metadata": {}
        },
        {
          "output_type": "display_data",
          "data": {
            "text/plain": [
              "\u001b[1m Trainable params: \u001b[0m\u001b[38;5;34m311\u001b[0m (1.21 KB)\n"
            ],
            "text/html": [
              "<pre style=\"white-space:pre;overflow-x:auto;line-height:normal;font-family:Menlo,'DejaVu Sans Mono',consolas,'Courier New',monospace\"><span style=\"font-weight: bold\"> Trainable params: </span><span style=\"color: #00af00; text-decoration-color: #00af00\">311</span> (1.21 KB)\n",
              "</pre>\n"
            ]
          },
          "metadata": {}
        },
        {
          "output_type": "display_data",
          "data": {
            "text/plain": [
              "\u001b[1m Non-trainable params: \u001b[0m\u001b[38;5;34m0\u001b[0m (0.00 B)\n"
            ],
            "text/html": [
              "<pre style=\"white-space:pre;overflow-x:auto;line-height:normal;font-family:Menlo,'DejaVu Sans Mono',consolas,'Courier New',monospace\"><span style=\"font-weight: bold\"> Non-trainable params: </span><span style=\"color: #00af00; text-decoration-color: #00af00\">0</span> (0.00 B)\n",
              "</pre>\n"
            ]
          },
          "metadata": {}
        },
        {
          "output_type": "display_data",
          "data": {
            "text/plain": [
              "\u001b[1m Optimizer params: \u001b[0m\u001b[38;5;34m624\u001b[0m (2.44 KB)\n"
            ],
            "text/html": [
              "<pre style=\"white-space:pre;overflow-x:auto;line-height:normal;font-family:Menlo,'DejaVu Sans Mono',consolas,'Courier New',monospace\"><span style=\"font-weight: bold\"> Optimizer params: </span><span style=\"color: #00af00; text-decoration-color: #00af00\">624</span> (2.44 KB)\n",
              "</pre>\n"
            ]
          },
          "metadata": {}
        },
        {
          "output_type": "stream",
          "name": "stdout",
          "text": [
            "\n",
            "Test MSE: 0.4776, Test accuracy: 0.0022%\n"
          ]
        },
        {
          "output_type": "display_data",
          "data": {
            "text/plain": [
              "<Figure size 1200x500 with 1 Axes>"
            ],
            "image/png": "[encoded data removed]"
          },
          "metadata": {}
        }
      ]
    },
    {
      "cell_type": "code",
      "source": [
        "\n",
        "model_2 = Sequential()\n",
        "\n",
        "# Hidden layer1\n",
        "model_2.add(Dense(64, activation='relu', input_shape=(X_train.shape[1],)))\n",
        "model_2.add(Dropout(0.2))\n",
        "\n",
        "# Hidden layer2\n",
        "model_2.add(Dense(32, activation='relu'))\n",
        "model_2.add(Dropout(0.2))\n",
        "\n",
        "# Hidden layer3\n",
        "model_2.add(Dense(16, activation='relu'))\n",
        "\n",
        "model_2.add(Dense(1))\n",
        "\n",
        "model_2.compile(optimizer='adam', loss='mse', metrics=['accuracy'])\n",
        "\n",
        "history = model_2.fit(\n",
        "    X_train, y_train,\n",
        "    validation_data=(X_test, y_test),\n",
        "    epochs=200,\n",
        "    verbose=1\n",
        ")\n",
        "\n"
      ],
      "metadata": {
        "colab": {
          "base_uri": "https://localhost:8080/"
        },
        "id": "mk0l1diNnNNt",
        "outputId": "7facc1a0-b5f0-4c90-b083-24d8e66b127b"
      },
      "execution_count": 13,
      "outputs": [
        {
          "output_type": "stream",
          "name": "stdout",
          "text": [
            "Epoch 1/200\n"
          ]
        },
        {
          "output_type": "stream",
          "name": "stderr",
          "text": [
            "/usr/local/lib/python3.11/dist-packages/keras/src/layers/core/dense.py:87: UserWarning: Do not pass an `input_shape`/`input_dim` argument to a layer. When using Sequential models, prefer using an `Input(shape)` object as the first layer in the model instead.\n",
            "  super().__init__(activity_regularizer=activity_regularizer, **kwargs)\n"
          ]
        },
        {
          "output_type": "stream",
          "name": "stdout",
          "text": [
            "\u001b[1m516/516\u001b[0m \u001b[32m━━━━━━━━━━━━━━━━━━━━\u001b[0m\u001b[37m\u001b[0m \u001b[1m4s\u001b[0m 3ms/step - accuracy: 0.0024 - loss: 2.4497 - val_accuracy: 0.0022 - val_loss: 1.2736\n",
            "Epoch 2/200\n",
            "\u001b[1m516/516\u001b[0m \u001b[32m━━━━━━━━━━━━━━━━━━━━\u001b[0m\u001b[37m\u001b[0m \u001b[1m2s\u001b[0m 2ms/step - accuracy: 0.0029 - loss: 1.3264 - val_accuracy: 0.0022 - val_loss: 1.0395\n",
            "Epoch 3/200\n",
            "\u001b[1m516/516\u001b[0m \u001b[32m━━━━━━━━━━━━━━━━━━━━\u001b[0m\u001b[37m\u001b[0m \u001b[1m1s\u001b[0m 3ms/step - accuracy: 0.0034 - loss: 0.9977 - val_accuracy: 0.0022 - val_loss: 0.7303\n",
            "Epoch 4/200\n",
            "\u001b[1m516/516\u001b[0m \u001b[32m━━━━━━━━━━━━━━━━━━━━\u001b[0m\u001b[37m\u001b[0m \u001b[1m3s\u001b[0m 3ms/step - accuracy: 0.0030 - loss: 0.6955 - val_accuracy: 0.0022 - val_loss: 0.6327\n",
            "Epoch 5/200\n",
            "\u001b[1m516/516\u001b[0m \u001b[32m━━━━━━━━━━━━━━━━━━━━\u001b[0m\u001b[37m\u001b[0m \u001b[1m2s\u001b[0m 2ms/step - accuracy: 0.0028 - loss: 0.6728 - val_accuracy: 0.0022 - val_loss: 0.6345\n",
            "Epoch 6/200\n",
            "\u001b[1m516/516\u001b[0m \u001b[32m━━━━━━━━━━━━━━━━━━━━\u001b[0m\u001b[37m\u001b[0m \u001b[1m3s\u001b[0m 3ms/step - accuracy: 0.0032 - loss: 0.6597 - val_accuracy: 0.0022 - val_loss: 0.6275\n",
            "Epoch 7/200\n",
            "\u001b[1m516/516\u001b[0m \u001b[32m━━━━━━━━━━━━━━━━━━━━\u001b[0m\u001b[37m\u001b[0m \u001b[1m1s\u001b[0m 2ms/step - accuracy: 0.0029 - loss: 0.6588 - val_accuracy: 0.0022 - val_loss: 0.6140\n",
            "Epoch 8/200\n",
            "\u001b[1m516/516\u001b[0m \u001b[32m━━━━━━━━━━━━━━━━━━━━\u001b[0m\u001b[37m\u001b[0m \u001b[1m3s\u001b[0m 3ms/step - accuracy: 0.0029 - loss: 0.6301 - val_accuracy: 0.0022 - val_loss: 0.7040\n",
            "Epoch 9/200\n",
            "\u001b[1m516/516\u001b[0m \u001b[32m━━━━━━━━━━━━━━━━━━━━\u001b[0m\u001b[37m\u001b[0m \u001b[1m2s\u001b[0m 2ms/step - accuracy: 0.0031 - loss: 0.6201 - val_accuracy: 0.0022 - val_loss: 0.5879\n",
            "Epoch 10/200\n",
            "\u001b[1m516/516\u001b[0m \u001b[32m━━━━━━━━━━━━━━━━━━━━\u001b[0m\u001b[37m\u001b[0m \u001b[1m1s\u001b[0m 2ms/step - accuracy: 0.0025 - loss: 0.6040 - val_accuracy: 0.0022 - val_loss: 0.5682\n",
            "Epoch 11/200\n",
            "\u001b[1m516/516\u001b[0m \u001b[32m━━━━━━━━━━━━━━━━━━━━\u001b[0m\u001b[37m\u001b[0m \u001b[1m1s\u001b[0m 2ms/step - accuracy: 0.0038 - loss: 0.6134 - val_accuracy: 0.0022 - val_loss: 0.6544\n",
            "Epoch 12/200\n",
            "\u001b[1m516/516\u001b[0m \u001b[32m━━━━━━━━━━━━━━━━━━━━\u001b[0m\u001b[37m\u001b[0m \u001b[1m2s\u001b[0m 3ms/step - accuracy: 0.0035 - loss: 0.5943 - val_accuracy: 0.0022 - val_loss: 0.6072\n",
            "Epoch 13/200\n",
            "\u001b[1m516/516\u001b[0m \u001b[32m━━━━━━━━━━━━━━━━━━━━\u001b[0m\u001b[37m\u001b[0m \u001b[1m2s\u001b[0m 3ms/step - accuracy: 0.0026 - loss: 0.5721 - val_accuracy: 0.0022 - val_loss: 0.5493\n",
            "Epoch 14/200\n",
            "\u001b[1m516/516\u001b[0m \u001b[32m━━━━━━━━━━━━━━━━━━━━\u001b[0m\u001b[37m\u001b[0m \u001b[1m2s\u001b[0m 2ms/step - accuracy: 0.0038 - loss: 0.5822 - val_accuracy: 0.0022 - val_loss: 0.5445\n",
            "Epoch 15/200\n",
            "\u001b[1m516/516\u001b[0m \u001b[32m━━━━━━━━━━━━━━━━━━━━\u001b[0m\u001b[37m\u001b[0m \u001b[1m3s\u001b[0m 3ms/step - accuracy: 0.0028 - loss: 0.5647 - val_accuracy: 0.0022 - val_loss: 0.5339\n",
            "Epoch 16/200\n",
            "\u001b[1m516/516\u001b[0m \u001b[32m━━━━━━━━━━━━━━━━━━━━\u001b[0m\u001b[37m\u001b[0m \u001b[1m1s\u001b[0m 3ms/step - accuracy: 0.0032 - loss: 0.5711 - val_accuracy: 0.0022 - val_loss: 0.5247\n",
            "Epoch 17/200\n",
            "\u001b[1m516/516\u001b[0m \u001b[32m━━━━━━━━━━━━━━━━━━━━\u001b[0m\u001b[37m\u001b[0m \u001b[1m3s\u001b[0m 3ms/step - accuracy: 0.0034 - loss: 0.5784 - val_accuracy: 0.0022 - val_loss: 0.5405\n",
            "Epoch 18/200\n",
            "\u001b[1m516/516\u001b[0m \u001b[32m━━━━━━━━━━━━━━━━━━━━\u001b[0m\u001b[37m\u001b[0m \u001b[1m3s\u001b[0m 4ms/step - accuracy: 0.0030 - loss: 0.5498 - val_accuracy: 0.0022 - val_loss: 0.5160\n",
            "Epoch 19/200\n",
            "\u001b[1m516/516\u001b[0m \u001b[32m━━━━━━━━━━━━━━━━━━━━\u001b[0m\u001b[37m\u001b[0m \u001b[1m2s\u001b[0m 3ms/step - accuracy: 0.0030 - loss: 0.5536 - val_accuracy: 0.0022 - val_loss: 0.5154\n",
            "Epoch 20/200\n",
            "\u001b[1m516/516\u001b[0m \u001b[32m━━━━━━━━━━━━━━━━━━━━\u001b[0m\u001b[37m\u001b[0m \u001b[1m3s\u001b[0m 2ms/step - accuracy: 0.0028 - loss: 0.5428 - val_accuracy: 0.0022 - val_loss: 0.5107\n",
            "Epoch 21/200\n",
            "\u001b[1m516/516\u001b[0m \u001b[32m━━━━━━━━━━━━━━━━━━━━\u001b[0m\u001b[37m\u001b[0m \u001b[1m3s\u001b[0m 3ms/step - accuracy: 0.0035 - loss: 0.5402 - val_accuracy: 0.0022 - val_loss: 0.5190\n",
            "Epoch 22/200\n",
            "\u001b[1m516/516\u001b[0m \u001b[32m━━━━━━━━━━━━━━━━━━━━\u001b[0m\u001b[37m\u001b[0m \u001b[1m3s\u001b[0m 3ms/step - accuracy: 0.0047 - loss: 0.5315 - val_accuracy: 0.0022 - val_loss: 0.5224\n",
            "Epoch 23/200\n",
            "\u001b[1m516/516\u001b[0m \u001b[32m━━━━━━━━━━━━━━━━━━━━\u001b[0m\u001b[37m\u001b[0m \u001b[1m2s\u001b[0m 3ms/step - accuracy: 0.0030 - loss: 0.5742 - val_accuracy: 0.0022 - val_loss: 0.5104\n",
            "Epoch 24/200\n",
            "\u001b[1m516/516\u001b[0m \u001b[32m━━━━━━━━━━━━━━━━━━━━\u001b[0m\u001b[37m\u001b[0m \u001b[1m2s\u001b[0m 4ms/step - accuracy: 0.0033 - loss: 0.5398 - val_accuracy: 0.0022 - val_loss: 0.5041\n",
            "Epoch 25/200\n",
            "\u001b[1m516/516\u001b[0m \u001b[32m━━━━━━━━━━━━━━━━━━━━\u001b[0m\u001b[37m\u001b[0m \u001b[1m1s\u001b[0m 3ms/step - accuracy: 0.0032 - loss: 0.5277 - val_accuracy: 0.0022 - val_loss: 0.5039\n",
            "Epoch 26/200\n",
            "\u001b[1m516/516\u001b[0m \u001b[32m━━━━━━━━━━━━━━━━━━━━\u001b[0m\u001b[37m\u001b[0m \u001b[1m3s\u001b[0m 3ms/step - accuracy: 0.0029 - loss: 0.5392 - val_accuracy: 0.0022 - val_loss: 0.5177\n",
            "Epoch 27/200\n",
            "\u001b[1m516/516\u001b[0m \u001b[32m━━━━━━━━━━━━━━━━━━━━\u001b[0m\u001b[37m\u001b[0m \u001b[1m2s\u001b[0m 3ms/step - accuracy: 0.0037 - loss: 0.5323 - val_accuracy: 0.0022 - val_loss: 0.5174\n",
            "Epoch 28/200\n",
            "\u001b[1m516/516\u001b[0m \u001b[32m━━━━━━━━━━━━━━━━━━━━\u001b[0m\u001b[37m\u001b[0m \u001b[1m2s\u001b[0m 2ms/step - accuracy: 0.0043 - loss: 0.5251 - val_accuracy: 0.0022 - val_loss: 0.5300\n",
            "Epoch 29/200\n",
            "\u001b[1m516/516\u001b[0m \u001b[32m━━━━━━━━━━━━━━━━━━━━\u001b[0m\u001b[37m\u001b[0m \u001b[1m2s\u001b[0m 4ms/step - accuracy: 0.0031 - loss: 0.5312 - val_accuracy: 0.0022 - val_loss: 0.4905\n",
            "Epoch 30/200\n",
            "\u001b[1m516/516\u001b[0m \u001b[32m━━━━━━━━━━━━━━━━━━━━\u001b[0m\u001b[37m\u001b[0m \u001b[1m2s\u001b[0m 4ms/step - accuracy: 0.0031 - loss: 0.5159 - val_accuracy: 0.0022 - val_loss: 0.5184\n",
            "Epoch 31/200\n",
            "\u001b[1m516/516\u001b[0m \u001b[32m━━━━━━━━━━━━━━━━━━━━\u001b[0m\u001b[37m\u001b[0m \u001b[1m1s\u001b[0m 3ms/step - accuracy: 0.0033 - loss: 0.5220 - val_accuracy: 0.0022 - val_loss: 0.5667\n",
            "Epoch 32/200\n",
            "\u001b[1m516/516\u001b[0m \u001b[32m━━━━━━━━━━━━━━━━━━━━\u001b[0m\u001b[37m\u001b[0m \u001b[1m1s\u001b[0m 2ms/step - accuracy: 0.0030 - loss: 0.5505 - val_accuracy: 0.0022 - val_loss: 0.5158\n",
            "Epoch 33/200\n",
            "\u001b[1m516/516\u001b[0m \u001b[32m━━━━━━━━━━━━━━━━━━━━\u001b[0m\u001b[37m\u001b[0m \u001b[1m1s\u001b[0m 3ms/step - accuracy: 0.0034 - loss: 0.5207 - val_accuracy: 0.0022 - val_loss: 0.4948\n",
            "Epoch 34/200\n",
            "\u001b[1m516/516\u001b[0m \u001b[32m━━━━━━━━━━━━━━━━━━━━\u001b[0m\u001b[37m\u001b[0m \u001b[1m2s\u001b[0m 2ms/step - accuracy: 0.0029 - loss: 0.5254 - val_accuracy: 0.0022 - val_loss: 0.4890\n",
            "Epoch 35/200\n",
            "\u001b[1m516/516\u001b[0m \u001b[32m━━━━━━━━━━━━━━━━━━━━\u001b[0m\u001b[37m\u001b[0m \u001b[1m1s\u001b[0m 3ms/step - accuracy: 0.0032 - loss: 0.5235 - val_accuracy: 0.0022 - val_loss: 0.4903\n",
            "Epoch 36/200\n",
            "\u001b[1m516/516\u001b[0m \u001b[32m━━━━━━━━━━━━━━━━━━━━\u001b[0m\u001b[37m\u001b[0m \u001b[1m3s\u001b[0m 4ms/step - accuracy: 0.0024 - loss: 0.5181 - val_accuracy: 0.0022 - val_loss: 0.4868\n",
            "Epoch 37/200\n",
            "\u001b[1m516/516\u001b[0m \u001b[32m━━━━━━━━━━━━━━━━━━━━\u001b[0m\u001b[37m\u001b[0m \u001b[1m2s\u001b[0m 3ms/step - accuracy: 0.0035 - loss: 0.5286 - val_accuracy: 0.0022 - val_loss: 0.4993\n",
            "Epoch 38/200\n",
            "\u001b[1m516/516\u001b[0m \u001b[32m━━━━━━━━━━━━━━━━━━━━\u001b[0m\u001b[37m\u001b[0m \u001b[1m3s\u001b[0m 3ms/step - accuracy: 0.0043 - loss: 0.5061 - val_accuracy: 0.0022 - val_loss: 0.4853\n",
            "Epoch 39/200\n",
            "\u001b[1m516/516\u001b[0m \u001b[32m━━━━━━━━━━━━━━━━━━━━\u001b[0m\u001b[37m\u001b[0m \u001b[1m3s\u001b[0m 3ms/step - accuracy: 0.0023 - loss: 0.4961 - val_accuracy: 0.0022 - val_loss: 0.5906\n",
            "Epoch 40/200\n",
            "\u001b[1m516/516\u001b[0m \u001b[32m━━━━━━━━━━━━━━━━━━━━\u001b[0m\u001b[37m\u001b[0m \u001b[1m1s\u001b[0m 2ms/step - accuracy: 0.0028 - loss: 0.5317 - val_accuracy: 0.0022 - val_loss: 0.5033\n",
            "Epoch 41/200\n",
            "\u001b[1m516/516\u001b[0m \u001b[32m━━━━━━━━━━━━━━━━━━━━\u001b[0m\u001b[37m\u001b[0m \u001b[1m1s\u001b[0m 3ms/step - accuracy: 0.0029 - loss: 0.5028 - val_accuracy: 0.0022 - val_loss: 0.5097\n",
            "Epoch 42/200\n",
            "\u001b[1m516/516\u001b[0m \u001b[32m━━━━━━━━━━━━━━━━━━━━\u001b[0m\u001b[37m\u001b[0m \u001b[1m3s\u001b[0m 4ms/step - accuracy: 0.0038 - loss: 0.5081 - val_accuracy: 0.0022 - val_loss: 0.4943\n",
            "Epoch 43/200\n",
            "\u001b[1m516/516\u001b[0m \u001b[32m━━━━━━━━━━━━━━━━━━━━\u001b[0m\u001b[37m\u001b[0m \u001b[1m1s\u001b[0m 3ms/step - accuracy: 0.0032 - loss: 0.5090 - val_accuracy: 0.0022 - val_loss: 0.4792\n",
            "Epoch 44/200\n",
            "\u001b[1m516/516\u001b[0m \u001b[32m━━━━━━━━━━━━━━━━━━━━\u001b[0m\u001b[37m\u001b[0m \u001b[1m1s\u001b[0m 2ms/step - accuracy: 0.0033 - loss: 0.5224 - val_accuracy: 0.0022 - val_loss: 0.4974\n",
            "Epoch 45/200\n",
            "\u001b[1m516/516\u001b[0m \u001b[32m━━━━━━━━━━━━━━━━━━━━\u001b[0m\u001b[37m\u001b[0m \u001b[1m3s\u001b[0m 3ms/step - accuracy: 0.0029 - loss: 0.5242 - val_accuracy: 0.0022 - val_loss: 0.5003\n",
            "Epoch 46/200\n",
            "\u001b[1m516/516\u001b[0m \u001b[32m━━━━━━━━━━━━━━━━━━━━\u001b[0m\u001b[37m\u001b[0m \u001b[1m1s\u001b[0m 2ms/step - accuracy: 0.0031 - loss: 0.5100 - val_accuracy: 0.0022 - val_loss: 0.4897\n",
            "Epoch 47/200\n",
            "\u001b[1m516/516\u001b[0m \u001b[32m━━━━━━━━━━━━━━━━━━━━\u001b[0m\u001b[37m\u001b[0m \u001b[1m1s\u001b[0m 3ms/step - accuracy: 0.0032 - loss: 0.5021 - val_accuracy: 0.0022 - val_loss: 0.4819\n",
            "Epoch 48/200\n",
            "\u001b[1m516/516\u001b[0m \u001b[32m━━━━━━━━━━━━━━━━━━━━\u001b[0m\u001b[37m\u001b[0m \u001b[1m3s\u001b[0m 3ms/step - accuracy: 0.0035 - loss: 0.5129 - val_accuracy: 0.0022 - val_loss: 0.4819\n",
            "Epoch 49/200\n",
            "\u001b[1m516/516\u001b[0m \u001b[32m━━━━━━━━━━━━━━━━━━━━\u001b[0m\u001b[37m\u001b[0m \u001b[1m2s\u001b[0m 3ms/step - accuracy: 0.0027 - loss: 0.5158 - val_accuracy: 0.0022 - val_loss: 0.4738\n",
            "Epoch 50/200\n",
            "\u001b[1m516/516\u001b[0m \u001b[32m━━━━━━━━━━━━━━━━━━━━\u001b[0m\u001b[37m\u001b[0m \u001b[1m1s\u001b[0m 2ms/step - accuracy: 0.0030 - loss: 0.5200 - val_accuracy: 0.0022 - val_loss: 0.5020\n",
            "Epoch 51/200\n",
            "\u001b[1m516/516\u001b[0m \u001b[32m━━━━━━━━━━━━━━━━━━━━\u001b[0m\u001b[37m\u001b[0m \u001b[1m1s\u001b[0m 2ms/step - accuracy: 0.0028 - loss: 0.4829 - val_accuracy: 0.0022 - val_loss: 0.4763\n",
            "Epoch 52/200\n",
            "\u001b[1m516/516\u001b[0m \u001b[32m━━━━━━━━━━━━━━━━━━━━\u001b[0m\u001b[37m\u001b[0m \u001b[1m1s\u001b[0m 2ms/step - accuracy: 0.0033 - loss: 0.5100 - val_accuracy: 0.0022 - val_loss: 0.4793\n",
            "Epoch 53/200\n",
            "\u001b[1m516/516\u001b[0m \u001b[32m━━━━━━━━━━━━━━━━━━━━\u001b[0m\u001b[37m\u001b[0m \u001b[1m1s\u001b[0m 3ms/step - accuracy: 0.0036 - loss: 0.5078 - val_accuracy: 0.0022 - val_loss: 0.5356\n",
            "Epoch 54/200\n",
            "\u001b[1m516/516\u001b[0m \u001b[32m━━━━━━━━━━━━━━━━━━━━\u001b[0m\u001b[37m\u001b[0m \u001b[1m2s\u001b[0m 2ms/step - accuracy: 0.0033 - loss: 0.5202 - val_accuracy: 0.0022 - val_loss: 0.5243\n",
            "Epoch 55/200\n",
            "\u001b[1m516/516\u001b[0m \u001b[32m━━━━━━━━━━━━━━━━━━━━\u001b[0m\u001b[37m\u001b[0m \u001b[1m1s\u001b[0m 3ms/step - accuracy: 0.0034 - loss: 0.5033 - val_accuracy: 0.0022 - val_loss: 0.4719\n",
            "Epoch 56/200\n",
            "\u001b[1m516/516\u001b[0m \u001b[32m━━━━━━━━━━━━━━━━━━━━\u001b[0m\u001b[37m\u001b[0m \u001b[1m3s\u001b[0m 3ms/step - accuracy: 0.0028 - loss: 0.4994 - val_accuracy: 0.0022 - val_loss: 0.4828\n",
            "Epoch 57/200\n",
            "\u001b[1m516/516\u001b[0m \u001b[32m━━━━━━━━━━━━━━━━━━━━\u001b[0m\u001b[37m\u001b[0m \u001b[1m2s\u001b[0m 3ms/step - accuracy: 0.0031 - loss: 0.4989 - val_accuracy: 0.0022 - val_loss: 0.4754\n",
            "Epoch 58/200\n",
            "\u001b[1m516/516\u001b[0m \u001b[32m━━━━━━━━━━━━━━━━━━━━\u001b[0m\u001b[37m\u001b[0m \u001b[1m2s\u001b[0m 2ms/step - accuracy: 0.0027 - loss: 0.5113 - val_accuracy: 0.0022 - val_loss: 0.5007\n",
            "Epoch 59/200\n",
            "\u001b[1m516/516\u001b[0m \u001b[32m━━━━━━━━━━━━━━━━━━━━\u001b[0m\u001b[37m\u001b[0m \u001b[1m1s\u001b[0m 3ms/step - accuracy: 0.0032 - loss: 0.4950 - val_accuracy: 0.0022 - val_loss: 0.4678\n",
            "Epoch 60/200\n",
            "\u001b[1m516/516\u001b[0m \u001b[32m━━━━━━━━━━━━━━━━━━━━\u001b[0m\u001b[37m\u001b[0m \u001b[1m1s\u001b[0m 2ms/step - accuracy: 0.0028 - loss: 0.5055 - val_accuracy: 0.0022 - val_loss: 0.4797\n",
            "Epoch 61/200\n",
            "\u001b[1m516/516\u001b[0m \u001b[32m━━━━━━━━━━━━━━━━━━━━\u001b[0m\u001b[37m\u001b[0m \u001b[1m1s\u001b[0m 2ms/step - accuracy: 0.0035 - loss: 0.4985 - val_accuracy: 0.0022 - val_loss: 0.4636\n",
            "Epoch 62/200\n",
            "\u001b[1m516/516\u001b[0m \u001b[32m━━━━━━━━━━━━━━━━━━━━\u001b[0m\u001b[37m\u001b[0m \u001b[1m3s\u001b[0m 3ms/step - accuracy: 0.0031 - loss: 0.5274 - val_accuracy: 0.0022 - val_loss: 0.4687\n",
            "Epoch 63/200\n",
            "\u001b[1m516/516\u001b[0m \u001b[32m━━━━━━━━━━━━━━━━━━━━\u001b[0m\u001b[37m\u001b[0m \u001b[1m2s\u001b[0m 2ms/step - accuracy: 0.0028 - loss: 0.5095 - val_accuracy: 0.0022 - val_loss: 0.4679\n",
            "Epoch 64/200\n",
            "\u001b[1m516/516\u001b[0m \u001b[32m━━━━━━━━━━━━━━━━━━━━\u001b[0m\u001b[37m\u001b[0m \u001b[1m1s\u001b[0m 2ms/step - accuracy: 0.0034 - loss: 0.4889 - val_accuracy: 0.0022 - val_loss: 0.4727\n",
            "Epoch 65/200\n",
            "\u001b[1m516/516\u001b[0m \u001b[32m━━━━━━━━━━━━━━━━━━━━\u001b[0m\u001b[37m\u001b[0m \u001b[1m1s\u001b[0m 2ms/step - accuracy: 0.0030 - loss: 0.5082 - val_accuracy: 0.0022 - val_loss: 0.4830\n",
            "Epoch 66/200\n",
            "\u001b[1m516/516\u001b[0m \u001b[32m━━━━━━━━━━━━━━━━━━━━\u001b[0m\u001b[37m\u001b[0m \u001b[1m1s\u001b[0m 2ms/step - accuracy: 0.0037 - loss: 0.5224 - val_accuracy: 0.0022 - val_loss: 0.4855\n",
            "Epoch 67/200\n",
            "\u001b[1m516/516\u001b[0m \u001b[32m━━━━━━━━━━━━━━━━━━━━\u001b[0m\u001b[37m\u001b[0m \u001b[1m1s\u001b[0m 3ms/step - accuracy: 0.0031 - loss: 0.5036 - val_accuracy: 0.0022 - val_loss: 0.4806\n",
            "Epoch 68/200\n",
            "\u001b[1m516/516\u001b[0m \u001b[32m━━━━━━━━━━━━━━━━━━━━\u001b[0m\u001b[37m\u001b[0m \u001b[1m3s\u001b[0m 3ms/step - accuracy: 0.0036 - loss: 0.5086 - val_accuracy: 0.0022 - val_loss: 0.4668\n",
            "Epoch 69/200\n",
            "\u001b[1m516/516\u001b[0m \u001b[32m━━━━━━━━━━━━━━━━━━━━\u001b[0m\u001b[37m\u001b[0m \u001b[1m2s\u001b[0m 3ms/step - accuracy: 0.0029 - loss: 0.4971 - val_accuracy: 0.0022 - val_loss: 0.4681\n",
            "Epoch 70/200\n",
            "\u001b[1m516/516\u001b[0m \u001b[32m━━━━━━━━━━━━━━━━━━━━\u001b[0m\u001b[37m\u001b[0m \u001b[1m1s\u001b[0m 2ms/step - accuracy: 0.0040 - loss: 0.4968 - val_accuracy: 0.0022 - val_loss: 0.4612\n",
            "Epoch 71/200\n",
            "\u001b[1m516/516\u001b[0m \u001b[32m━━━━━━━━━━━━━━━━━━━━\u001b[0m\u001b[37m\u001b[0m \u001b[1m1s\u001b[0m 2ms/step - accuracy: 0.0028 - loss: 0.4792 - val_accuracy: 0.0022 - val_loss: 0.4757\n",
            "Epoch 72/200\n",
            "\u001b[1m516/516\u001b[0m \u001b[32m━━━━━━━━━━━━━━━━━━━━\u001b[0m\u001b[37m\u001b[0m \u001b[1m1s\u001b[0m 3ms/step - accuracy: 0.0034 - loss: 0.5059 - val_accuracy: 0.0022 - val_loss: 0.4727\n",
            "Epoch 73/200\n",
            "\u001b[1m516/516\u001b[0m \u001b[32m━━━━━━━━━━━━━━━━━━━━\u001b[0m\u001b[37m\u001b[0m \u001b[1m1s\u001b[0m 2ms/step - accuracy: 0.0036 - loss: 0.5094 - val_accuracy: 0.0022 - val_loss: 0.4762\n",
            "Epoch 74/200\n",
            "\u001b[1m516/516\u001b[0m \u001b[32m━━━━━━━━━━━━━━━━━━━━\u001b[0m\u001b[37m\u001b[0m \u001b[1m1s\u001b[0m 2ms/step - accuracy: 0.0034 - loss: 0.4822 - val_accuracy: 0.0022 - val_loss: 0.4903\n",
            "Epoch 75/200\n",
            "\u001b[1m516/516\u001b[0m \u001b[32m━━━━━━━━━━━━━━━━━━━━\u001b[0m\u001b[37m\u001b[0m \u001b[1m1s\u001b[0m 2ms/step - accuracy: 0.0034 - loss: 0.5080 - val_accuracy: 0.0022 - val_loss: 0.4628\n",
            "Epoch 76/200\n",
            "\u001b[1m516/516\u001b[0m \u001b[32m━━━━━━━━━━━━━━━━━━━━\u001b[0m\u001b[37m\u001b[0m \u001b[1m1s\u001b[0m 3ms/step - accuracy: 0.0038 - loss: 0.4922 - val_accuracy: 0.0022 - val_loss: 0.4619\n",
            "Epoch 77/200\n",
            "\u001b[1m516/516\u001b[0m \u001b[32m━━━━━━━━━━━━━━━━━━━━\u001b[0m\u001b[37m\u001b[0m \u001b[1m3s\u001b[0m 3ms/step - accuracy: 0.0030 - loss: 0.4863 - val_accuracy: 0.0022 - val_loss: 0.4708\n",
            "Epoch 78/200\n",
            "\u001b[1m516/516\u001b[0m \u001b[32m━━━━━━━━━━━━━━━━━━━━\u001b[0m\u001b[37m\u001b[0m \u001b[1m2s\u001b[0m 3ms/step - accuracy: 0.0027 - loss: 0.4777 - val_accuracy: 0.0022 - val_loss: 0.4613\n",
            "Epoch 79/200\n",
            "\u001b[1m516/516\u001b[0m \u001b[32m━━━━━━━━━━━━━━━━━━━━\u001b[0m\u001b[37m\u001b[0m \u001b[1m3s\u001b[0m 3ms/step - accuracy: 0.0030 - loss: 0.4723 - val_accuracy: 0.0022 - val_loss: 0.4996\n",
            "Epoch 80/200\n",
            "\u001b[1m516/516\u001b[0m \u001b[32m━━━━━━━━━━━━━━━━━━━━\u001b[0m\u001b[37m\u001b[0m \u001b[1m1s\u001b[0m 3ms/step - accuracy: 0.0028 - loss: 0.4719 - val_accuracy: 0.0022 - val_loss: 0.4962\n",
            "Epoch 81/200\n",
            "\u001b[1m516/516\u001b[0m \u001b[32m━━━━━━━━━━━━━━━━━━━━\u001b[0m\u001b[37m\u001b[0m \u001b[1m1s\u001b[0m 3ms/step - accuracy: 0.0033 - loss: 0.4877 - val_accuracy: 0.0022 - val_loss: 0.5775\n",
            "Epoch 82/200\n",
            "\u001b[1m516/516\u001b[0m \u001b[32m━━━━━━━━━━━━━━━━━━━━\u001b[0m\u001b[37m\u001b[0m \u001b[1m1s\u001b[0m 3ms/step - accuracy: 0.0032 - loss: 0.4938 - val_accuracy: 0.0022 - val_loss: 0.4754\n",
            "Epoch 83/200\n",
            "\u001b[1m516/516\u001b[0m \u001b[32m━━━━━━━━━━━━━━━━━━━━\u001b[0m\u001b[37m\u001b[0m \u001b[1m2s\u001b[0m 3ms/step - accuracy: 0.0033 - loss: 0.4968 - val_accuracy: 0.0022 - val_loss: 0.4642\n",
            "Epoch 84/200\n",
            "\u001b[1m516/516\u001b[0m \u001b[32m━━━━━━━━━━━━━━━━━━━━\u001b[0m\u001b[37m\u001b[0m \u001b[1m2s\u001b[0m 3ms/step - accuracy: 0.0038 - loss: 0.4815 - val_accuracy: 0.0022 - val_loss: 0.4578\n",
            "Epoch 85/200\n",
            "\u001b[1m516/516\u001b[0m \u001b[32m━━━━━━━━━━━━━━━━━━━━\u001b[0m\u001b[37m\u001b[0m \u001b[1m2s\u001b[0m 3ms/step - accuracy: 0.0034 - loss: 0.4747 - val_accuracy: 0.0022 - val_loss: 0.4742\n",
            "Epoch 86/200\n",
            "\u001b[1m516/516\u001b[0m \u001b[32m━━━━━━━━━━━━━━━━━━━━\u001b[0m\u001b[37m\u001b[0m \u001b[1m1s\u001b[0m 2ms/step - accuracy: 0.0033 - loss: 0.4802 - val_accuracy: 0.0022 - val_loss: 0.4708\n",
            "Epoch 87/200\n",
            "\u001b[1m516/516\u001b[0m \u001b[32m━━━━━━━━━━━━━━━━━━━━\u001b[0m\u001b[37m\u001b[0m \u001b[1m1s\u001b[0m 2ms/step - accuracy: 0.0032 - loss: 0.4745 - val_accuracy: 0.0022 - val_loss: 0.4580\n",
            "Epoch 88/200\n",
            "\u001b[1m516/516\u001b[0m \u001b[32m━━━━━━━━━━━━━━━━━━━━\u001b[0m\u001b[37m\u001b[0m \u001b[1m1s\u001b[0m 3ms/step - accuracy: 0.0030 - loss: 0.4759 - val_accuracy: 0.0022 - val_loss: 0.4499\n",
            "Epoch 89/200\n",
            "\u001b[1m516/516\u001b[0m \u001b[32m━━━━━━━━━━━━━━━━━━━━\u001b[0m\u001b[37m\u001b[0m \u001b[1m1s\u001b[0m 2ms/step - accuracy: 0.0032 - loss: 0.4821 - val_accuracy: 0.0022 - val_loss: 0.4945\n",
            "Epoch 90/200\n",
            "\u001b[1m516/516\u001b[0m \u001b[32m━━━━━━━━━━━━━━━━━━━━\u001b[0m\u001b[37m\u001b[0m \u001b[1m1s\u001b[0m 3ms/step - accuracy: 0.0028 - loss: 0.4883 - val_accuracy: 0.0022 - val_loss: 0.4575\n",
            "Epoch 91/200\n",
            "\u001b[1m516/516\u001b[0m \u001b[32m━━━━━━━━━━━━━━━━━━━━\u001b[0m\u001b[37m\u001b[0m \u001b[1m3s\u001b[0m 3ms/step - accuracy: 0.0038 - loss: 0.4981 - val_accuracy: 0.0022 - val_loss: 0.4566\n",
            "Epoch 92/200\n",
            "\u001b[1m516/516\u001b[0m \u001b[32m━━━━━━━━━━━━━━━━━━━━\u001b[0m\u001b[37m\u001b[0m \u001b[1m2s\u001b[0m 3ms/step - accuracy: 0.0033 - loss: 0.4799 - val_accuracy: 0.0022 - val_loss: 0.4756\n",
            "Epoch 93/200\n",
            "\u001b[1m516/516\u001b[0m \u001b[32m━━━━━━━━━━━━━━━━━━━━\u001b[0m\u001b[37m\u001b[0m \u001b[1m2s\u001b[0m 2ms/step - accuracy: 0.0031 - loss: 0.4867 - val_accuracy: 0.0022 - val_loss: 0.4558\n",
            "Epoch 94/200\n",
            "\u001b[1m516/516\u001b[0m \u001b[32m━━━━━━━━━━━━━━━━━━━━\u001b[0m\u001b[37m\u001b[0m \u001b[1m1s\u001b[0m 2ms/step - accuracy: 0.0022 - loss: 0.4919 - val_accuracy: 0.0022 - val_loss: 0.4582\n",
            "Epoch 95/200\n",
            "\u001b[1m516/516\u001b[0m \u001b[32m━━━━━━━━━━━━━━━━━━━━\u001b[0m\u001b[37m\u001b[0m \u001b[1m1s\u001b[0m 3ms/step - accuracy: 0.0029 - loss: 0.4862 - val_accuracy: 0.0022 - val_loss: 0.4721\n",
            "Epoch 96/200\n",
            "\u001b[1m516/516\u001b[0m \u001b[32m━━━━━━━━━━━━━━━━━━━━\u001b[0m\u001b[37m\u001b[0m \u001b[1m3s\u001b[0m 3ms/step - accuracy: 0.0026 - loss: 0.4786 - val_accuracy: 0.0022 - val_loss: 0.5324\n",
            "Epoch 97/200\n",
            "\u001b[1m516/516\u001b[0m \u001b[32m━━━━━━━━━━━━━━━━━━━━\u001b[0m\u001b[37m\u001b[0m \u001b[1m2s\u001b[0m 3ms/step - accuracy: 0.0033 - loss: 0.4840 - val_accuracy: 0.0022 - val_loss: 0.4712\n",
            "Epoch 98/200\n",
            "\u001b[1m516/516\u001b[0m \u001b[32m━━━━━━━━━━━━━━━━━━━━\u001b[0m\u001b[37m\u001b[0m \u001b[1m1s\u001b[0m 2ms/step - accuracy: 0.0036 - loss: 0.4919 - val_accuracy: 0.0022 - val_loss: 0.4723\n",
            "Epoch 99/200\n",
            "\u001b[1m516/516\u001b[0m \u001b[32m━━━━━━━━━━━━━━━━━━━━\u001b[0m\u001b[37m\u001b[0m \u001b[1m1s\u001b[0m 3ms/step - accuracy: 0.0029 - loss: 0.4935 - val_accuracy: 0.0022 - val_loss: 0.4603\n",
            "Epoch 100/200\n",
            "\u001b[1m516/516\u001b[0m \u001b[32m━━━━━━━━━━━━━━━━━━━━\u001b[0m\u001b[37m\u001b[0m \u001b[1m1s\u001b[0m 3ms/step - accuracy: 0.0034 - loss: 0.4897 - val_accuracy: 0.0022 - val_loss: 0.4934\n",
            "Epoch 101/200\n",
            "\u001b[1m516/516\u001b[0m \u001b[32m━━━━━━━━━━━━━━━━━━━━\u001b[0m\u001b[37m\u001b[0m \u001b[1m3s\u001b[0m 3ms/step - accuracy: 0.0034 - loss: 0.4768 - val_accuracy: 0.0022 - val_loss: 0.4562\n",
            "Epoch 102/200\n",
            "\u001b[1m516/516\u001b[0m \u001b[32m━━━━━━━━━━━━━━━━━━━━\u001b[0m\u001b[37m\u001b[0m \u001b[1m1s\u001b[0m 2ms/step - accuracy: 0.0038 - loss: 0.4746 - val_accuracy: 0.0022 - val_loss: 0.4695\n",
            "Epoch 103/200\n",
            "\u001b[1m516/516\u001b[0m \u001b[32m━━━━━━━━━━━━━━━━━━━━\u001b[0m\u001b[37m\u001b[0m \u001b[1m1s\u001b[0m 2ms/step - accuracy: 0.0029 - loss: 0.4802 - val_accuracy: 0.0022 - val_loss: 0.4809\n",
            "Epoch 104/200\n",
            "\u001b[1m516/516\u001b[0m \u001b[32m━━━━━━━━━━━━━━━━━━━━\u001b[0m\u001b[37m\u001b[0m \u001b[1m2s\u001b[0m 3ms/step - accuracy: 0.0029 - loss: 0.4851 - val_accuracy: 0.0022 - val_loss: 0.4536\n",
            "Epoch 105/200\n",
            "\u001b[1m516/516\u001b[0m \u001b[32m━━━━━━━━━━━━━━━━━━━━\u001b[0m\u001b[37m\u001b[0m \u001b[1m2s\u001b[0m 4ms/step - accuracy: 0.0034 - loss: 0.4833 - val_accuracy: 0.0022 - val_loss: 0.4674\n",
            "Epoch 106/200\n",
            "\u001b[1m516/516\u001b[0m \u001b[32m━━━━━━━━━━━━━━━━━━━━\u001b[0m\u001b[37m\u001b[0m \u001b[1m1s\u001b[0m 3ms/step - accuracy: 0.0027 - loss: 0.4665 - val_accuracy: 0.0022 - val_loss: 0.4759\n",
            "Epoch 107/200\n",
            "\u001b[1m516/516\u001b[0m \u001b[32m━━━━━━━━━━━━━━━━━━━━\u001b[0m\u001b[37m\u001b[0m \u001b[1m1s\u001b[0m 2ms/step - accuracy: 0.0028 - loss: 0.4850 - val_accuracy: 0.0022 - val_loss: 0.4689\n",
            "Epoch 108/200\n",
            "\u001b[1m516/516\u001b[0m \u001b[32m━━━━━━━━━━━━━━━━━━━━\u001b[0m\u001b[37m\u001b[0m \u001b[1m2s\u001b[0m 2ms/step - accuracy: 0.0035 - loss: 0.4766 - val_accuracy: 0.0022 - val_loss: 0.4530\n",
            "Epoch 109/200\n",
            "\u001b[1m516/516\u001b[0m \u001b[32m━━━━━━━━━━━━━━━━━━━━\u001b[0m\u001b[37m\u001b[0m \u001b[1m1s\u001b[0m 2ms/step - accuracy: 0.0036 - loss: 0.4873 - val_accuracy: 0.0022 - val_loss: 0.5030\n",
            "Epoch 110/200\n",
            "\u001b[1m516/516\u001b[0m \u001b[32m━━━━━━━━━━━━━━━━━━━━\u001b[0m\u001b[37m\u001b[0m \u001b[1m1s\u001b[0m 3ms/step - accuracy: 0.0025 - loss: 0.5079 - val_accuracy: 0.0022 - val_loss: 0.4622\n",
            "Epoch 111/200\n",
            "\u001b[1m516/516\u001b[0m \u001b[32m━━━━━━━━━━━━━━━━━━━━\u001b[0m\u001b[37m\u001b[0m \u001b[1m1s\u001b[0m 3ms/step - accuracy: 0.0040 - loss: 0.4837 - val_accuracy: 0.0022 - val_loss: 0.4764\n",
            "Epoch 112/200\n",
            "\u001b[1m516/516\u001b[0m \u001b[32m━━━━━━━━━━━━━━━━━━━━\u001b[0m\u001b[37m\u001b[0m \u001b[1m3s\u001b[0m 3ms/step - accuracy: 0.0041 - loss: 0.4910 - val_accuracy: 0.0022 - val_loss: 0.4607\n",
            "Epoch 113/200\n",
            "\u001b[1m516/516\u001b[0m \u001b[32m━━━━━━━━━━━━━━━━━━━━\u001b[0m\u001b[37m\u001b[0m \u001b[1m2s\u001b[0m 3ms/step - accuracy: 0.0036 - loss: 0.4620 - val_accuracy: 0.0022 - val_loss: 0.4575\n",
            "Epoch 114/200\n",
            "\u001b[1m516/516\u001b[0m \u001b[32m━━━━━━━━━━━━━━━━━━━━\u001b[0m\u001b[37m\u001b[0m \u001b[1m3s\u001b[0m 3ms/step - accuracy: 0.0030 - loss: 0.4766 - val_accuracy: 0.0022 - val_loss: 0.4665\n",
            "Epoch 115/200\n",
            "\u001b[1m516/516\u001b[0m \u001b[32m━━━━━━━━━━━━━━━━━━━━\u001b[0m\u001b[37m\u001b[0m \u001b[1m1s\u001b[0m 2ms/step - accuracy: 0.0031 - loss: 0.4843 - val_accuracy: 0.0022 - val_loss: 0.4714\n",
            "Epoch 116/200\n",
            "\u001b[1m516/516\u001b[0m \u001b[32m━━━━━━━━━━━━━━━━━━━━\u001b[0m\u001b[37m\u001b[0m \u001b[1m3s\u001b[0m 3ms/step - accuracy: 0.0033 - loss: 0.4737 - val_accuracy: 0.0022 - val_loss: 0.4665\n",
            "Epoch 117/200\n",
            "\u001b[1m516/516\u001b[0m \u001b[32m━━━━━━━━━━━━━━━━━━━━\u001b[0m\u001b[37m\u001b[0m \u001b[1m3s\u001b[0m 3ms/step - accuracy: 0.0037 - loss: 0.4861 - val_accuracy: 0.0022 - val_loss: 0.4513\n",
            "Epoch 118/200\n",
            "\u001b[1m516/516\u001b[0m \u001b[32m━━━━━━━━━━━━━━━━━━━━\u001b[0m\u001b[37m\u001b[0m \u001b[1m2s\u001b[0m 3ms/step - accuracy: 0.0034 - loss: 0.4762 - val_accuracy: 0.0022 - val_loss: 0.4779\n",
            "Epoch 119/200\n",
            "\u001b[1m516/516\u001b[0m \u001b[32m━━━━━━━━━━━━━━━━━━━━\u001b[0m\u001b[37m\u001b[0m \u001b[1m2s\u001b[0m 3ms/step - accuracy: 0.0024 - loss: 0.4767 - val_accuracy: 0.0022 - val_loss: 0.4531\n",
            "Epoch 120/200\n",
            "\u001b[1m516/516\u001b[0m \u001b[32m━━━━━━━━━━━━━━━━━━━━\u001b[0m\u001b[37m\u001b[0m \u001b[1m3s\u001b[0m 3ms/step - accuracy: 0.0031 - loss: 0.4662 - val_accuracy: 0.0022 - val_loss: 0.4728\n",
            "Epoch 121/200\n",
            "\u001b[1m516/516\u001b[0m \u001b[32m━━━━━━━━━━━━━━━━━━━━\u001b[0m\u001b[37m\u001b[0m \u001b[1m3s\u001b[0m 3ms/step - accuracy: 0.0027 - loss: 0.4810 - val_accuracy: 0.0022 - val_loss: 0.4479\n",
            "Epoch 122/200\n",
            "\u001b[1m516/516\u001b[0m \u001b[32m━━━━━━━━━━━━━━━━━━━━\u001b[0m\u001b[37m\u001b[0m \u001b[1m3s\u001b[0m 3ms/step - accuracy: 0.0032 - loss: 0.4869 - val_accuracy: 0.0022 - val_loss: 0.4444\n",
            "Epoch 123/200\n",
            "\u001b[1m516/516\u001b[0m \u001b[32m━━━━━━━━━━━━━━━━━━━━\u001b[0m\u001b[37m\u001b[0m \u001b[1m3s\u001b[0m 3ms/step - accuracy: 0.0033 - loss: 0.4771 - val_accuracy: 0.0022 - val_loss: 0.4692\n",
            "Epoch 124/200\n",
            "\u001b[1m516/516\u001b[0m \u001b[32m━━━━━━━━━━━━━━━━━━━━\u001b[0m\u001b[37m\u001b[0m \u001b[1m2s\u001b[0m 3ms/step - accuracy: 0.0033 - loss: 0.4856 - val_accuracy: 0.0022 - val_loss: 0.4554\n",
            "Epoch 125/200\n",
            "\u001b[1m516/516\u001b[0m \u001b[32m━━━━━━━━━━━━━━━━━━━━\u001b[0m\u001b[37m\u001b[0m \u001b[1m2s\u001b[0m 2ms/step - accuracy: 0.0027 - loss: 0.4778 - val_accuracy: 0.0022 - val_loss: 0.4552\n",
            "Epoch 126/200\n",
            "\u001b[1m516/516\u001b[0m \u001b[32m━━━━━━━━━━━━━━━━━━━━\u001b[0m\u001b[37m\u001b[0m \u001b[1m1s\u001b[0m 3ms/step - accuracy: 0.0032 - loss: 0.4854 - val_accuracy: 0.0022 - val_loss: 0.4573\n",
            "Epoch 127/200\n",
            "\u001b[1m516/516\u001b[0m \u001b[32m━━━━━━━━━━━━━━━━━━━━\u001b[0m\u001b[37m\u001b[0m \u001b[1m1s\u001b[0m 3ms/step - accuracy: 0.0034 - loss: 0.4691 - val_accuracy: 0.0022 - val_loss: 0.4564\n",
            "Epoch 128/200\n",
            "\u001b[1m516/516\u001b[0m \u001b[32m━━━━━━━━━━━━━━━━━━━━\u001b[0m\u001b[37m\u001b[0m \u001b[1m3s\u001b[0m 3ms/step - accuracy: 0.0032 - loss: 0.4762 - val_accuracy: 0.0022 - val_loss: 0.4443\n",
            "Epoch 129/200\n",
            "\u001b[1m516/516\u001b[0m \u001b[32m━━━━━━━━━━━━━━━━━━━━\u001b[0m\u001b[37m\u001b[0m \u001b[1m2s\u001b[0m 2ms/step - accuracy: 0.0040 - loss: 0.4649 - val_accuracy: 0.0022 - val_loss: 0.4490\n",
            "Epoch 130/200\n",
            "\u001b[1m516/516\u001b[0m \u001b[32m━━━━━━━━━━━━━━━━━━━━\u001b[0m\u001b[37m\u001b[0m \u001b[1m1s\u001b[0m 3ms/step - accuracy: 0.0033 - loss: 0.4683 - val_accuracy: 0.0022 - val_loss: 0.4611\n",
            "Epoch 131/200\n",
            "\u001b[1m516/516\u001b[0m \u001b[32m━━━━━━━━━━━━━━━━━━━━\u001b[0m\u001b[37m\u001b[0m \u001b[1m3s\u001b[0m 3ms/step - accuracy: 0.0032 - loss: 0.4594 - val_accuracy: 0.0022 - val_loss: 0.4633\n",
            "Epoch 132/200\n",
            "\u001b[1m516/516\u001b[0m \u001b[32m━━━━━━━━━━━━━━━━━━━━\u001b[0m\u001b[37m\u001b[0m \u001b[1m1s\u001b[0m 3ms/step - accuracy: 0.0033 - loss: 0.4891 - val_accuracy: 0.0022 - val_loss: 0.4655\n",
            "Epoch 133/200\n",
            "\u001b[1m516/516\u001b[0m \u001b[32m━━━━━━━━━━━━━━━━━━━━\u001b[0m\u001b[37m\u001b[0m \u001b[1m3s\u001b[0m 3ms/step - accuracy: 0.0031 - loss: 0.4806 - val_accuracy: 0.0022 - val_loss: 0.4753\n",
            "Epoch 134/200\n",
            "\u001b[1m516/516\u001b[0m \u001b[32m━━━━━━━━━━━━━━━━━━━━\u001b[0m\u001b[37m\u001b[0m \u001b[1m3s\u001b[0m 4ms/step - accuracy: 0.0045 - loss: 0.4793 - val_accuracy: 0.0022 - val_loss: 0.4668\n",
            "Epoch 135/200\n",
            "\u001b[1m516/516\u001b[0m \u001b[32m━━━━━━━━━━━━━━━━━━━━\u001b[0m\u001b[37m\u001b[0m \u001b[1m1s\u001b[0m 3ms/step - accuracy: 0.0035 - loss: 0.4949 - val_accuracy: 0.0022 - val_loss: 0.4575\n",
            "Epoch 136/200\n",
            "\u001b[1m516/516\u001b[0m \u001b[32m━━━━━━━━━━━━━━━━━━━━\u001b[0m\u001b[37m\u001b[0m \u001b[1m1s\u001b[0m 3ms/step - accuracy: 0.0032 - loss: 0.4730 - val_accuracy: 0.0022 - val_loss: 0.4544\n",
            "Epoch 137/200\n",
            "\u001b[1m516/516\u001b[0m \u001b[32m━━━━━━━━━━━━━━━━━━━━\u001b[0m\u001b[37m\u001b[0m \u001b[1m1s\u001b[0m 3ms/step - accuracy: 0.0026 - loss: 0.4740 - val_accuracy: 0.0022 - val_loss: 0.4556\n",
            "Epoch 138/200\n",
            "\u001b[1m516/516\u001b[0m \u001b[32m━━━━━━━━━━━━━━━━━━━━\u001b[0m\u001b[37m\u001b[0m \u001b[1m3s\u001b[0m 3ms/step - accuracy: 0.0036 - loss: 0.4652 - val_accuracy: 0.0022 - val_loss: 0.4561\n",
            "Epoch 139/200\n",
            "\u001b[1m516/516\u001b[0m \u001b[32m━━━━━━━━━━━━━━━━━━━━\u001b[0m\u001b[37m\u001b[0m \u001b[1m1s\u001b[0m 3ms/step - accuracy: 0.0033 - loss: 0.4810 - val_accuracy: 0.0022 - val_loss: 0.4458\n",
            "Epoch 140/200\n",
            "\u001b[1m516/516\u001b[0m \u001b[32m━━━━━━━━━━━━━━━━━━━━\u001b[0m\u001b[37m\u001b[0m \u001b[1m1s\u001b[0m 3ms/step - accuracy: 0.0035 - loss: 0.4821 - val_accuracy: 0.0022 - val_loss: 0.4573\n",
            "Epoch 141/200\n",
            "\u001b[1m516/516\u001b[0m \u001b[32m━━━━━━━━━━━━━━━━━━━━\u001b[0m\u001b[37m\u001b[0m \u001b[1m3s\u001b[0m 4ms/step - accuracy: 0.0028 - loss: 0.4669 - val_accuracy: 0.0022 - val_loss: 0.4533\n",
            "Epoch 142/200\n",
            "\u001b[1m516/516\u001b[0m \u001b[32m━━━━━━━━━━━━━━━━━━━━\u001b[0m\u001b[37m\u001b[0m \u001b[1m1s\u001b[0m 2ms/step - accuracy: 0.0030 - loss: 0.4564 - val_accuracy: 0.0022 - val_loss: 0.4402\n",
            "Epoch 143/200\n",
            "\u001b[1m516/516\u001b[0m \u001b[32m━━━━━━━━━━━━━━━━━━━━\u001b[0m\u001b[37m\u001b[0m \u001b[1m1s\u001b[0m 3ms/step - accuracy: 0.0032 - loss: 0.4777 - val_accuracy: 0.0022 - val_loss: 0.4426\n",
            "Epoch 144/200\n",
            "\u001b[1m516/516\u001b[0m \u001b[32m━━━━━━━━━━━━━━━━━━━━\u001b[0m\u001b[37m\u001b[0m \u001b[1m3s\u001b[0m 3ms/step - accuracy: 0.0041 - loss: 0.4541 - val_accuracy: 0.0022 - val_loss: 0.4458\n",
            "Epoch 145/200\n",
            "\u001b[1m516/516\u001b[0m \u001b[32m━━━━━━━━━━━━━━━━━━━━\u001b[0m\u001b[37m\u001b[0m \u001b[1m3s\u001b[0m 3ms/step - accuracy: 0.0030 - loss: 0.4724 - val_accuracy: 0.0022 - val_loss: 0.4453\n",
            "Epoch 146/200\n",
            "\u001b[1m516/516\u001b[0m \u001b[32m━━━━━━━━━━━━━━━━━━━━\u001b[0m\u001b[37m\u001b[0m \u001b[1m3s\u001b[0m 3ms/step - accuracy: 0.0038 - loss: 0.4750 - val_accuracy: 0.0022 - val_loss: 0.4675\n",
            "Epoch 147/200\n",
            "\u001b[1m516/516\u001b[0m \u001b[32m━━━━━━━━━━━━━━━━━━━━\u001b[0m\u001b[37m\u001b[0m \u001b[1m2s\u001b[0m 3ms/step - accuracy: 0.0029 - loss: 0.4891 - val_accuracy: 0.0022 - val_loss: 0.4653\n",
            "Epoch 148/200\n",
            "\u001b[1m516/516\u001b[0m \u001b[32m━━━━━━━━━━━━━━━━━━━━\u001b[0m\u001b[37m\u001b[0m \u001b[1m1s\u001b[0m 3ms/step - accuracy: 0.0034 - loss: 0.4861 - val_accuracy: 0.0022 - val_loss: 0.4408\n",
            "Epoch 149/200\n",
            "\u001b[1m516/516\u001b[0m \u001b[32m━━━━━━━━━━━━━━━━━━━━\u001b[0m\u001b[37m\u001b[0m \u001b[1m2s\u001b[0m 2ms/step - accuracy: 0.0036 - loss: 0.4679 - val_accuracy: 0.0022 - val_loss: 0.4426\n",
            "Epoch 150/200\n",
            "\u001b[1m516/516\u001b[0m \u001b[32m━━━━━━━━━━━━━━━━━━━━\u001b[0m\u001b[37m\u001b[0m \u001b[1m3s\u001b[0m 3ms/step - accuracy: 0.0034 - loss: 0.4818 - val_accuracy: 0.0022 - val_loss: 0.4581\n",
            "Epoch 151/200\n",
            "\u001b[1m516/516\u001b[0m \u001b[32m━━━━━━━━━━━━━━━━━━━━\u001b[0m\u001b[37m\u001b[0m \u001b[1m1s\u001b[0m 2ms/step - accuracy: 0.0038 - loss: 0.4675 - val_accuracy: 0.0022 - val_loss: 0.4482\n",
            "Epoch 152/200\n",
            "\u001b[1m516/516\u001b[0m \u001b[32m━━━━━━━━━━━━━━━━━━━━\u001b[0m\u001b[37m\u001b[0m \u001b[1m1s\u001b[0m 2ms/step - accuracy: 0.0025 - loss: 0.4773 - val_accuracy: 0.0022 - val_loss: 0.4789\n",
            "Epoch 153/200\n",
            "\u001b[1m516/516\u001b[0m \u001b[32m━━━━━━━━━━━━━━━━━━━━\u001b[0m\u001b[37m\u001b[0m \u001b[1m1s\u001b[0m 3ms/step - accuracy: 0.0028 - loss: 0.4769 - val_accuracy: 0.0022 - val_loss: 0.4591\n",
            "Epoch 154/200\n",
            "\u001b[1m516/516\u001b[0m \u001b[32m━━━━━━━━━━━━━━━━━━━━\u001b[0m\u001b[37m\u001b[0m \u001b[1m3s\u001b[0m 3ms/step - accuracy: 0.0039 - loss: 0.4745 - val_accuracy: 0.0022 - val_loss: 0.4712\n",
            "Epoch 155/200\n",
            "\u001b[1m516/516\u001b[0m \u001b[32m━━━━━━━━━━━━━━━━━━━━\u001b[0m\u001b[37m\u001b[0m \u001b[1m2s\u001b[0m 3ms/step - accuracy: 0.0032 - loss: 0.4813 - val_accuracy: 0.0022 - val_loss: 0.4778\n",
            "Epoch 156/200\n",
            "\u001b[1m516/516\u001b[0m \u001b[32m━━━━━━━━━━━━━━━━━━━━\u001b[0m\u001b[37m\u001b[0m \u001b[1m1s\u001b[0m 3ms/step - accuracy: 0.0036 - loss: 0.4697 - val_accuracy: 0.0022 - val_loss: 0.4575\n",
            "Epoch 157/200\n",
            "\u001b[1m516/516\u001b[0m \u001b[32m━━━━━━━━━━━━━━━━━━━━\u001b[0m\u001b[37m\u001b[0m \u001b[1m1s\u001b[0m 2ms/step - accuracy: 0.0029 - loss: 0.4935 - val_accuracy: 0.0022 - val_loss: 0.4408\n",
            "Epoch 158/200\n",
            "\u001b[1m516/516\u001b[0m \u001b[32m━━━━━━━━━━━━━━━━━━━━\u001b[0m\u001b[37m\u001b[0m \u001b[1m3s\u001b[0m 3ms/step - accuracy: 0.0040 - loss: 0.4562 - val_accuracy: 0.0022 - val_loss: 0.5265\n",
            "Epoch 159/200\n",
            "\u001b[1m516/516\u001b[0m \u001b[32m━━━━━━━━━━━━━━━━━━━━\u001b[0m\u001b[37m\u001b[0m \u001b[1m3s\u001b[0m 3ms/step - accuracy: 0.0038 - loss: 0.4740 - val_accuracy: 0.0022 - val_loss: 0.4536\n",
            "Epoch 160/200\n",
            "\u001b[1m516/516\u001b[0m \u001b[32m━━━━━━━━━━━━━━━━━━━━\u001b[0m\u001b[37m\u001b[0m \u001b[1m2s\u001b[0m 4ms/step - accuracy: 0.0036 - loss: 0.4704 - val_accuracy: 0.0022 - val_loss: 0.4703\n",
            "Epoch 161/200\n",
            "\u001b[1m516/516\u001b[0m \u001b[32m━━━━━━━━━━━━━━━━━━━━\u001b[0m\u001b[37m\u001b[0m \u001b[1m1s\u001b[0m 3ms/step - accuracy: 0.0029 - loss: 0.4786 - val_accuracy: 0.0022 - val_loss: 0.4487\n",
            "Epoch 162/200\n",
            "\u001b[1m516/516\u001b[0m \u001b[32m━━━━━━━━━━━━━━━━━━━━\u001b[0m\u001b[37m\u001b[0m \u001b[1m2s\u001b[0m 2ms/step - accuracy: 0.0032 - loss: 0.4728 - val_accuracy: 0.0022 - val_loss: 0.4719\n",
            "Epoch 163/200\n",
            "\u001b[1m516/516\u001b[0m \u001b[32m━━━━━━━━━━━━━━━━━━━━\u001b[0m\u001b[37m\u001b[0m \u001b[1m1s\u001b[0m 3ms/step - accuracy: 0.0030 - loss: 0.4808 - val_accuracy: 0.0022 - val_loss: 0.4746\n",
            "Epoch 164/200\n",
            "\u001b[1m516/516\u001b[0m \u001b[32m━━━━━━━━━━━━━━━━━━━━\u001b[0m\u001b[37m\u001b[0m \u001b[1m1s\u001b[0m 2ms/step - accuracy: 0.0038 - loss: 0.4710 - val_accuracy: 0.0022 - val_loss: 0.4464\n",
            "Epoch 165/200\n",
            "\u001b[1m516/516\u001b[0m \u001b[32m━━━━━━━━━━━━━━━━━━━━\u001b[0m\u001b[37m\u001b[0m \u001b[1m1s\u001b[0m 3ms/step - accuracy: 0.0033 - loss: 0.4743 - val_accuracy: 0.0022 - val_loss: 0.4450\n",
            "Epoch 166/200\n",
            "\u001b[1m516/516\u001b[0m \u001b[32m━━━━━━━━━━━━━━━━━━━━\u001b[0m\u001b[37m\u001b[0m \u001b[1m3s\u001b[0m 3ms/step - accuracy: 0.0030 - loss: 0.4741 - val_accuracy: 0.0022 - val_loss: 0.4434\n",
            "Epoch 167/200\n",
            "\u001b[1m516/516\u001b[0m \u001b[32m━━━━━━━━━━━━━━━━━━━━\u001b[0m\u001b[37m\u001b[0m \u001b[1m2s\u001b[0m 4ms/step - accuracy: 0.0038 - loss: 0.4634 - val_accuracy: 0.0022 - val_loss: 0.4443\n",
            "Epoch 168/200\n",
            "\u001b[1m516/516\u001b[0m \u001b[32m━━━━━━━━━━━━━━━━━━━━\u001b[0m\u001b[37m\u001b[0m \u001b[1m2s\u001b[0m 3ms/step - accuracy: 0.0029 - loss: 0.4627 - val_accuracy: 0.0022 - val_loss: 0.4587\n",
            "Epoch 169/200\n",
            "\u001b[1m516/516\u001b[0m \u001b[32m━━━━━━━━━━━━━━━━━━━━\u001b[0m\u001b[37m\u001b[0m \u001b[1m1s\u001b[0m 2ms/step - accuracy: 0.0027 - loss: 0.4640 - val_accuracy: 0.0022 - val_loss: 0.4454\n",
            "Epoch 170/200\n",
            "\u001b[1m516/516\u001b[0m \u001b[32m━━━━━━━━━━━━━━━━━━━━\u001b[0m\u001b[37m\u001b[0m \u001b[1m1s\u001b[0m 3ms/step - accuracy: 0.0029 - loss: 0.4690 - val_accuracy: 0.0022 - val_loss: 0.4438\n",
            "Epoch 171/200\n",
            "\u001b[1m516/516\u001b[0m \u001b[32m━━━━━━━━━━━━━━━━━━━━\u001b[0m\u001b[37m\u001b[0m \u001b[1m3s\u001b[0m 3ms/step - accuracy: 0.0034 - loss: 0.4605 - val_accuracy: 0.0022 - val_loss: 0.4459\n",
            "Epoch 172/200\n",
            "\u001b[1m516/516\u001b[0m \u001b[32m━━━━━━━━━━━━━━━━━━━━\u001b[0m\u001b[37m\u001b[0m \u001b[1m3s\u001b[0m 3ms/step - accuracy: 0.0027 - loss: 0.4746 - val_accuracy: 0.0022 - val_loss: 0.5272\n",
            "Epoch 173/200\n",
            "\u001b[1m516/516\u001b[0m \u001b[32m━━━━━━━━━━━━━━━━━━━━\u001b[0m\u001b[37m\u001b[0m \u001b[1m2s\u001b[0m 3ms/step - accuracy: 0.0034 - loss: 0.4729 - val_accuracy: 0.0022 - val_loss: 0.4491\n",
            "Epoch 174/200\n",
            "\u001b[1m516/516\u001b[0m \u001b[32m━━━━━━━━━━━━━━━━━━━━\u001b[0m\u001b[37m\u001b[0m \u001b[1m2s\u001b[0m 4ms/step - accuracy: 0.0031 - loss: 0.4730 - val_accuracy: 0.0022 - val_loss: 0.4480\n",
            "Epoch 175/200\n",
            "\u001b[1m516/516\u001b[0m \u001b[32m━━━━━━━━━━━━━━━━━━━━\u001b[0m\u001b[37m\u001b[0m \u001b[1m1s\u001b[0m 3ms/step - accuracy: 0.0036 - loss: 0.4567 - val_accuracy: 0.0022 - val_loss: 0.4481\n",
            "Epoch 176/200\n",
            "\u001b[1m516/516\u001b[0m \u001b[32m━━━━━━━━━━━━━━━━━━━━\u001b[0m\u001b[37m\u001b[0m \u001b[1m1s\u001b[0m 3ms/step - accuracy: 0.0034 - loss: 0.4710 - val_accuracy: 0.0022 - val_loss: 0.4436\n",
            "Epoch 177/200\n",
            "\u001b[1m516/516\u001b[0m \u001b[32m━━━━━━━━━━━━━━━━━━━━\u001b[0m\u001b[37m\u001b[0m \u001b[1m1s\u001b[0m 2ms/step - accuracy: 0.0034 - loss: 0.4666 - val_accuracy: 0.0022 - val_loss: 0.4436\n",
            "Epoch 178/200\n",
            "\u001b[1m516/516\u001b[0m \u001b[32m━━━━━━━━━━━━━━━━━━━━\u001b[0m\u001b[37m\u001b[0m \u001b[1m1s\u001b[0m 3ms/step - accuracy: 0.0037 - loss: 0.4593 - val_accuracy: 0.0022 - val_loss: 0.4440\n",
            "Epoch 179/200\n",
            "\u001b[1m516/516\u001b[0m \u001b[32m━━━━━━━━━━━━━━━━━━━━\u001b[0m\u001b[37m\u001b[0m \u001b[1m1s\u001b[0m 2ms/step - accuracy: 0.0029 - loss: 0.4762 - val_accuracy: 0.0022 - val_loss: 0.4415\n",
            "Epoch 180/200\n",
            "\u001b[1m516/516\u001b[0m \u001b[32m━━━━━━━━━━━━━━━━━━━━\u001b[0m\u001b[37m\u001b[0m \u001b[1m1s\u001b[0m 3ms/step - accuracy: 0.0029 - loss: 0.4724 - val_accuracy: 0.0022 - val_loss: 0.4694\n",
            "Epoch 181/200\n",
            "\u001b[1m516/516\u001b[0m \u001b[32m━━━━━━━━━━━━━━━━━━━━\u001b[0m\u001b[37m\u001b[0m \u001b[1m3s\u001b[0m 3ms/step - accuracy: 0.0028 - loss: 0.4607 - val_accuracy: 0.0022 - val_loss: 0.4425\n",
            "Epoch 182/200\n",
            "\u001b[1m516/516\u001b[0m \u001b[32m━━━━━━━━━━━━━━━━━━━━\u001b[0m\u001b[37m\u001b[0m \u001b[1m2s\u001b[0m 2ms/step - accuracy: 0.0033 - loss: 0.4703 - val_accuracy: 0.0022 - val_loss: 0.4519\n",
            "Epoch 183/200\n",
            "\u001b[1m516/516\u001b[0m \u001b[32m━━━━━━━━━━━━━━━━━━━━\u001b[0m\u001b[37m\u001b[0m \u001b[1m1s\u001b[0m 2ms/step - accuracy: 0.0033 - loss: 0.4616 - val_accuracy: 0.0022 - val_loss: 0.4407\n",
            "Epoch 184/200\n",
            "\u001b[1m516/516\u001b[0m \u001b[32m━━━━━━━━━━━━━━━━━━━━\u001b[0m\u001b[37m\u001b[0m \u001b[1m1s\u001b[0m 3ms/step - accuracy: 0.0029 - loss: 0.4626 - val_accuracy: 0.0022 - val_loss: 0.4470\n",
            "Epoch 185/200\n",
            "\u001b[1m516/516\u001b[0m \u001b[32m━━━━━━━━━━━━━━━━━━━━\u001b[0m\u001b[37m\u001b[0m \u001b[1m1s\u001b[0m 3ms/step - accuracy: 0.0030 - loss: 0.4713 - val_accuracy: 0.0022 - val_loss: 0.4525\n",
            "Epoch 186/200\n",
            "\u001b[1m516/516\u001b[0m \u001b[32m━━━━━━━━━━━━━━━━━━━━\u001b[0m\u001b[37m\u001b[0m \u001b[1m3s\u001b[0m 3ms/step - accuracy: 0.0036 - loss: 0.4601 - val_accuracy: 0.0022 - val_loss: 0.4504\n",
            "Epoch 187/200\n",
            "\u001b[1m516/516\u001b[0m \u001b[32m━━━━━━━━━━━━━━━━━━━━\u001b[0m\u001b[37m\u001b[0m \u001b[1m3s\u001b[0m 3ms/step - accuracy: 0.0030 - loss: 0.4765 - val_accuracy: 0.0022 - val_loss: 0.4759\n",
            "Epoch 188/200\n",
            "\u001b[1m516/516\u001b[0m \u001b[32m━━━━━━━━━━━━━━━━━━━━\u001b[0m\u001b[37m\u001b[0m \u001b[1m2s\u001b[0m 3ms/step - accuracy: 0.0024 - loss: 0.4696 - val_accuracy: 0.0022 - val_loss: 0.4384\n",
            "Epoch 189/200\n",
            "\u001b[1m516/516\u001b[0m \u001b[32m━━━━━━━━━━━━━━━━━━━━\u001b[0m\u001b[37m\u001b[0m \u001b[1m2s\u001b[0m 3ms/step - accuracy: 0.0034 - loss: 0.4659 - val_accuracy: 0.0022 - val_loss: 0.4855\n",
            "Epoch 190/200\n",
            "\u001b[1m516/516\u001b[0m \u001b[32m━━━━━━━━━━━━━━━━━━━━\u001b[0m\u001b[37m\u001b[0m \u001b[1m2s\u001b[0m 3ms/step - accuracy: 0.0039 - loss: 0.4849 - val_accuracy: 0.0022 - val_loss: 0.4732\n",
            "Epoch 191/200\n",
            "\u001b[1m516/516\u001b[0m \u001b[32m━━━━━━━━━━━━━━━━━━━━\u001b[0m\u001b[37m\u001b[0m \u001b[1m3s\u001b[0m 3ms/step - accuracy: 0.0029 - loss: 0.4562 - val_accuracy: 0.0022 - val_loss: 0.4527\n",
            "Epoch 192/200\n",
            "\u001b[1m516/516\u001b[0m \u001b[32m━━━━━━━━━━━━━━━━━━━━\u001b[0m\u001b[37m\u001b[0m \u001b[1m2s\u001b[0m 3ms/step - accuracy: 0.0035 - loss: 0.4552 - val_accuracy: 0.0022 - val_loss: 0.4555\n",
            "Epoch 193/200\n",
            "\u001b[1m516/516\u001b[0m \u001b[32m━━━━━━━━━━━━━━━━━━━━\u001b[0m\u001b[37m\u001b[0m \u001b[1m3s\u001b[0m 4ms/step - accuracy: 0.0031 - loss: 0.4661 - val_accuracy: 0.0022 - val_loss: 0.4377\n",
            "Epoch 194/200\n",
            "\u001b[1m516/516\u001b[0m \u001b[32m━━━━━━━━━━━━━━━━━━━━\u001b[0m\u001b[37m\u001b[0m \u001b[1m1s\u001b[0m 3ms/step - accuracy: 0.0030 - loss: 0.4693 - val_accuracy: 0.0022 - val_loss: 0.4466\n",
            "Epoch 195/200\n",
            "\u001b[1m516/516\u001b[0m \u001b[32m━━━━━━━━━━━━━━━━━━━━\u001b[0m\u001b[37m\u001b[0m \u001b[1m1s\u001b[0m 3ms/step - accuracy: 0.0033 - loss: 0.4630 - val_accuracy: 0.0022 - val_loss: 0.4396\n",
            "Epoch 196/200\n",
            "\u001b[1m516/516\u001b[0m \u001b[32m━━━━━━━━━━━━━━━━━━━━\u001b[0m\u001b[37m\u001b[0m \u001b[1m3s\u001b[0m 3ms/step - accuracy: 0.0036 - loss: 0.4623 - val_accuracy: 0.0022 - val_loss: 0.4748\n",
            "Epoch 197/200\n",
            "\u001b[1m516/516\u001b[0m \u001b[32m━━━━━━━━━━━━━━━━━━━━\u001b[0m\u001b[37m\u001b[0m \u001b[1m2s\u001b[0m 3ms/step - accuracy: 0.0037 - loss: 0.4675 - val_accuracy: 0.0022 - val_loss: 0.4347\n",
            "Epoch 198/200\n",
            "\u001b[1m516/516\u001b[0m \u001b[32m━━━━━━━━━━━━━━━━━━━━\u001b[0m\u001b[37m\u001b[0m \u001b[1m1s\u001b[0m 3ms/step - accuracy: 0.0036 - loss: 0.4478 - val_accuracy: 0.0022 - val_loss: 0.4555\n",
            "Epoch 199/200\n",
            "\u001b[1m516/516\u001b[0m \u001b[32m━━━━━━━━━━━━━━━━━━━━\u001b[0m\u001b[37m\u001b[0m \u001b[1m3s\u001b[0m 4ms/step - accuracy: 0.0032 - loss: 0.4545 - val_accuracy: 0.0022 - val_loss: 0.4406\n",
            "Epoch 200/200\n",
            "\u001b[1m516/516\u001b[0m \u001b[32m━━━━━━━━━━━━━━━━━━━━\u001b[0m\u001b[37m\u001b[0m \u001b[1m2s\u001b[0m 3ms/step - accuracy: 0.0029 - loss: 0.4618 - val_accuracy: 0.0022 - val_loss: 0.4419\n"
          ]
        }
      ]
    },
    {
      "cell_type": "code",
      "source": [
        "print(history.history)"
      ],
      "metadata": {
        "colab": {
          "base_uri": "https://localhost:8080/"
        },
        "id": "p3uO_xSZr2fw",
        "outputId": "c6d44f8e-ab87-4ffa-f56b-ac7b544aec2a"
      },
      "execution_count": 14,
      "outputs": [
        {
          "output_type": "stream",
          "name": "stdout",
          "text": [
            "{'accuracy': [0.002846414688974619, 0.0032097867224365473, 0.0032097867224365473, 0.0032097867224365473, 0.0032097867224365473, 0.0032097867224365473, 0.0032097867224365473, 0.0032097867224365473, 0.0032097867224365473, 0.0032097867224365473, 0.0032097867224365473, 0.0032097867224365473, 0.0032097867224365473, 0.0032097867224365473, 0.0032097867224365473, 0.0032097867224365473, 0.0032097867224365473, 0.0032097867224365473, 0.0032097867224365473, 0.0032097867224365473, 0.0032097867224365473, 0.0032097867224365473, 0.0032097867224365473, 0.0032097867224365473, 0.0032097867224365473, 0.0032097867224365473, 0.0032097867224365473, 0.0032097867224365473, 0.0032097867224365473, 0.0032097867224365473, 0.0032097867224365473, 0.0032097867224365473, 0.0032097867224365473, 0.0032097867224365473, 0.0032097867224365473, 0.0032097867224365473, 0.0032097867224365473, 0.0032097867224365473, 0.0032097867224365473, 0.0032097867224365473, 0.0032097867224365473, 0.0032097867224365473, 0.0032097867224365473, 0.0032097867224365473, 0.0032097867224365473, 0.0032097867224365473, 0.0032097867224365473, 0.0032097867224365473, 0.0032097867224365473, 0.0032097867224365473, 0.0032097867224365473, 0.0032097867224365473, 0.0032097867224365473, 0.0032097867224365473, 0.0032097867224365473, 0.0032097867224365473, 0.0032097867224365473, 0.0032097867224365473, 0.0032097867224365473, 0.0032097867224365473, 0.0032097867224365473, 0.0032097867224365473, 0.0032097867224365473, 0.0032097867224365473, 0.0032097867224365473, 0.0032097867224365473, 0.0032097867224365473, 0.0032097867224365473, 0.0032097867224365473, 0.0032097867224365473, 0.0032097867224365473, 0.0032097867224365473, 0.0032097867224365473, 0.0032097867224365473, 0.0032097867224365473, 0.0032097867224365473, 0.0032097867224365473, 0.0032097867224365473, 0.0032097867224365473, 0.0032097867224365473, 0.0032097867224365473, 0.0032097867224365473, 0.0032097867224365473, 0.0032097867224365473, 0.0032097867224365473, 0.0032097867224365473, 0.0032097867224365473, 0.0032097867224365473, 0.0032097867224365473, 0.0032097867224365473, 0.0032097867224365473, 0.0032097867224365473, 0.0032097867224365473, 0.0032097867224365473, 0.0032097867224365473, 0.0032097867224365473, 0.0032097867224365473, 0.0032097867224365473, 0.0032097867224365473, 0.0032097867224365473, 0.0032097867224365473, 0.0032097867224365473, 0.0032097867224365473, 0.0032097867224365473, 0.0032097867224365473, 0.0032097867224365473, 0.0032097867224365473, 0.0032097867224365473, 0.0032097867224365473, 0.0032097867224365473, 0.0032097867224365473, 0.0032097867224365473, 0.0032097867224365473, 0.0032097867224365473, 0.0032097867224365473, 0.0032097867224365473, 0.0032097867224365473, 0.0032097867224365473, 0.0032097867224365473, 0.0032097867224365473, 0.0032097867224365473, 0.0032097867224365473, 0.0032097867224365473, 0.0032097867224365473, 0.0032097867224365473, 0.0032097867224365473, 0.0032097867224365473, 0.0032097867224365473, 0.0032097867224365473, 0.0032097867224365473, 0.0032097867224365473, 0.0032097867224365473, 0.0032097867224365473, 0.0032097867224365473, 0.0032097867224365473, 0.0032097867224365473, 0.0032097867224365473, 0.0032097867224365473, 0.0032097867224365473, 0.0032097867224365473, 0.0032097867224365473, 0.0032097867224365473, 0.0032097867224365473, 0.0032097867224365473, 0.0032097867224365473, 0.0032097867224365473, 0.0032097867224365473, 0.0032097867224365473, 0.0032097867224365473, 0.0032097867224365473, 0.0032097867224365473, 0.0032097867224365473, 0.0032097867224365473, 0.0032097867224365473, 0.0032097867224365473, 0.0032097867224365473, 0.0032097867224365473, 0.0032097867224365473, 0.0032097867224365473, 0.0032097867224365473, 0.0032097867224365473, 0.0032097867224365473, 0.0032097867224365473, 0.0032097867224365473, 0.0032097867224365473, 0.0032097867224365473, 0.0032097867224365473, 0.0032097867224365473, 0.0032097867224365473, 0.0032097867224365473, 0.0032097867224365473, 0.0032097867224365473, 0.0032097867224365473, 0.0032097867224365473, 0.0032097867224365473, 0.0032097867224365473, 0.0032097867224365473, 0.0032097867224365473, 0.0032097867224365473, 0.0032097867224365473, 0.0032097867224365473, 0.0032097867224365473, 0.0032097867224365473, 0.0032097867224365473, 0.0032097867224365473, 0.0032097867224365473, 0.0032097867224365473, 0.0032097867224365473, 0.0032097867224365473, 0.0032097867224365473, 0.0032097867224365473, 0.0032097867224365473, 0.0032097867224365473, 0.0032097867224365473, 0.0032097867224365473, 0.0032097867224365473, 0.0032097867224365473, 0.0032097867224365473, 0.0032097867224365473, 0.0032097867224365473], 'loss': [1.6860603094100952, 1.2676905393600464, 0.8651053309440613, 0.6935527920722961, 0.6683050990104675, 0.6541839241981506, 0.6476247906684875, 0.6324265003204346, 0.624260425567627, 0.6060570478439331, 0.6054266095161438, 0.5953247547149658, 0.588808000087738, 0.5831171870231628, 0.578159749507904, 0.5664706230163574, 0.5624630451202393, 0.5585692524909973, 0.5592430233955383, 0.5503707528114319, 0.5430585145950317, 0.5395246148109436, 0.5412774085998535, 0.5388054251670837, 0.5342925786972046, 0.5380114912986755, 0.5256441831588745, 0.5321052074432373, 0.5311397910118103, 0.5314491987228394, 0.5345613360404968, 0.534864604473114, 0.5245979428291321, 0.5243330597877502, 0.5196008086204529, 0.5190985202789307, 0.5177222490310669, 0.5134968757629395, 0.5101396441459656, 0.5157278776168823, 0.5131740570068359, 0.5117059946060181, 0.5176384449005127, 0.5136845111846924, 0.5204071402549744, 0.5101224780082703, 0.5158435702323914, 0.5095097422599792, 0.5108205080032349, 0.509734570980072, 0.5039923787117004, 0.5032165050506592, 0.5068276524543762, 0.5196574926376343, 0.503751277923584, 0.5024135708808899, 0.5015929937362671, 0.5117395520210266, 0.5030139088630676, 0.4989742934703827, 0.5049828886985779, 0.5048401355743408, 0.503762423992157, 0.49677854776382446, 0.49082568287849426, 0.4963681697845459, 0.4953884482383728, 0.4985039234161377, 0.49583929777145386, 0.4923340082168579, 0.49412915110588074, 0.4927021265029907, 0.5018642544746399, 0.49067452549934387, 0.4967145621776581, 0.4947347044944763, 0.48786672949790955, 0.48920032382011414, 0.49155598878860474, 0.48927751183509827, 0.4885847270488739, 0.49056896567344666, 0.4928094446659088, 0.49213850498199463, 0.4826364815235138, 0.4872979521751404, 0.4865659177303314, 0.4849883019924164, 0.4889414310455322, 0.48763301968574524, 0.48830363154411316, 0.490176796913147, 0.48908358812332153, 0.4857006371021271, 0.4872247278690338, 0.48430535197257996, 0.4857527017593384, 0.4845362901687622, 0.48606351017951965, 0.48245787620544434, 0.485119104385376, 0.47725796699523926, 0.4828553795814514, 0.4798182547092438, 0.47759926319122314, 0.481781929731369, 0.4896599352359772, 0.4730479419231415, 0.47795331478118896, 0.4843519330024719, 0.484361469745636, 0.48117393255233765, 0.4755619764328003, 0.47410711646080017, 0.4765951633453369, 0.4805126488208771, 0.4763406217098236, 0.47997671365737915, 0.4848916232585907, 0.4723110795021057, 0.47584232687950134, 0.47594302892684937, 0.4760046601295471, 0.4781421422958374, 0.4804363250732422, 0.477365106344223, 0.47864753007888794, 0.4721292555332184, 0.4766165614128113, 0.47535255551338196, 0.47197115421295166, 0.48035183548927307, 0.4782370626926422, 0.4763093888759613, 0.47311148047447205, 0.47207021713256836, 0.47542575001716614, 0.47520866990089417, 0.4752294719219208, 0.47447261214256287, 0.47205114364624023, 0.4713010787963867, 0.47315657138824463, 0.4694044888019562, 0.4763430953025818, 0.4746328294277191, 0.47106748819351196, 0.475745290517807, 0.4715576767921448, 0.47643065452575684, 0.47048047184944153, 0.47122570872306824, 0.4713898003101349, 0.4722856283187866, 0.4709893465042114, 0.4709978699684143, 0.4761351943016052, 0.4611072540283203, 0.4701237082481384, 0.46785464882850647, 0.4752711057662964, 0.47159698605537415, 0.46636295318603516, 0.46581923961639404, 0.47273415327072144, 0.4675922393798828, 0.4665813744068146, 0.4663856029510498, 0.46476268768310547, 0.4750361144542694, 0.4615006446838379, 0.4663480520248413, 0.471218079328537, 0.4679923951625824, 0.4661996066570282, 0.4655514061450958, 0.4687073528766632, 0.4691641330718994, 0.4664824903011322, 0.46468520164489746, 0.469654381275177, 0.4662511348724365, 0.45904943346977234, 0.46873417496681213, 0.46254053711891174, 0.4671509265899658, 0.46654313802719116, 0.465668261051178, 0.4642317593097687, 0.47264134883880615, 0.4643663167953491, 0.4617900252342224, 0.4671095013618469, 0.46589571237564087, 0.46668654680252075, 0.46173423528671265, 0.46542438864707947, 0.45415493845939636, 0.46321189403533936, 0.46149545907974243], 'val_accuracy': [0.0021802326664328575, 0.0021802326664328575, 0.0021802326664328575, 0.0021802326664328575, 0.0021802326664328575, 0.0021802326664328575, 0.0021802326664328575, 0.0021802326664328575, 0.0021802326664328575, 0.0021802326664328575, 0.0021802326664328575, 0.0021802326664328575, 0.0021802326664328575, 0.0021802326664328575, 0.0021802326664328575, 0.0021802326664328575, 0.0021802326664328575, 0.0021802326664328575, 0.0021802326664328575, 0.0021802326664328575, 0.0021802326664328575, 0.0021802326664328575, 0.0021802326664328575, 0.0021802326664328575, 0.0021802326664328575, 0.0021802326664328575, 0.0021802326664328575, 0.0021802326664328575, 0.0021802326664328575, 0.0021802326664328575, 0.0021802326664328575, 0.0021802326664328575, 0.0021802326664328575, 0.0021802326664328575, 0.0021802326664328575, 0.0021802326664328575, 0.0021802326664328575, 0.0021802326664328575, 0.0021802326664328575, 0.0021802326664328575, 0.0021802326664328575, 0.0021802326664328575, 0.0021802326664328575, 0.0021802326664328575, 0.0021802326664328575, 0.0021802326664328575, 0.0021802326664328575, 0.0021802326664328575, 0.0021802326664328575, 0.0021802326664328575, 0.0021802326664328575, 0.0021802326664328575, 0.0021802326664328575, 0.0021802326664328575, 0.0021802326664328575, 0.0021802326664328575, 0.0021802326664328575, 0.0021802326664328575, 0.0021802326664328575, 0.0021802326664328575, 0.0021802326664328575, 0.0021802326664328575, 0.0021802326664328575, 0.0021802326664328575, 0.0021802326664328575, 0.0021802326664328575, 0.0021802326664328575, 0.0021802326664328575, 0.0021802326664328575, 0.0021802326664328575, 0.0021802326664328575, 0.0021802326664328575, 0.0021802326664328575, 0.0021802326664328575, 0.0021802326664328575, 0.0021802326664328575, 0.0021802326664328575, 0.0021802326664328575, 0.0021802326664328575, 0.0021802326664328575, 0.0021802326664328575, 0.0021802326664328575, 0.0021802326664328575, 0.0021802326664328575, 0.0021802326664328575, 0.0021802326664328575, 0.0021802326664328575, 0.0021802326664328575, 0.0021802326664328575, 0.0021802326664328575, 0.0021802326664328575, 0.0021802326664328575, 0.0021802326664328575, 0.0021802326664328575, 0.0021802326664328575, 0.0021802326664328575, 0.0021802326664328575, 0.0021802326664328575, 0.0021802326664328575, 0.0021802326664328575, 0.0021802326664328575, 0.0021802326664328575, 0.0021802326664328575, 0.0021802326664328575, 0.0021802326664328575, 0.0021802326664328575, 0.0021802326664328575, 0.0021802326664328575, 0.0021802326664328575, 0.0021802326664328575, 0.0021802326664328575, 0.0021802326664328575, 0.0021802326664328575, 0.0021802326664328575, 0.0021802326664328575, 0.0021802326664328575, 0.0021802326664328575, 0.0021802326664328575, 0.0021802326664328575, 0.0021802326664328575, 0.0021802326664328575, 0.0021802326664328575, 0.0021802326664328575, 0.0021802326664328575, 0.0021802326664328575, 0.0021802326664328575, 0.0021802326664328575, 0.0021802326664328575, 0.0021802326664328575, 0.0021802326664328575, 0.0021802326664328575, 0.0021802326664328575, 0.0021802326664328575, 0.0021802326664328575, 0.0021802326664328575, 0.0021802326664328575, 0.0021802326664328575, 0.0021802326664328575, 0.0021802326664328575, 0.0021802326664328575, 0.0021802326664328575, 0.0021802326664328575, 0.0021802326664328575, 0.0021802326664328575, 0.0021802326664328575, 0.0021802326664328575, 0.0021802326664328575, 0.0021802326664328575, 0.0021802326664328575, 0.0021802326664328575, 0.0021802326664328575, 0.0021802326664328575, 0.0021802326664328575, 0.0021802326664328575, 0.0021802326664328575, 0.0021802326664328575, 0.0021802326664328575, 0.0021802326664328575, 0.0021802326664328575, 0.0021802326664328575, 0.0021802326664328575, 0.0021802326664328575, 0.0021802326664328575, 0.0021802326664328575, 0.0021802326664328575, 0.0021802326664328575, 0.0021802326664328575, 0.0021802326664328575, 0.0021802326664328575, 0.0021802326664328575, 0.0021802326664328575, 0.0021802326664328575, 0.0021802326664328575, 0.0021802326664328575, 0.0021802326664328575, 0.0021802326664328575, 0.0021802326664328575, 0.0021802326664328575, 0.0021802326664328575, 0.0021802326664328575, 0.0021802326664328575, 0.0021802326664328575, 0.0021802326664328575, 0.0021802326664328575, 0.0021802326664328575, 0.0021802326664328575, 0.0021802326664328575, 0.0021802326664328575, 0.0021802326664328575, 0.0021802326664328575, 0.0021802326664328575, 0.0021802326664328575, 0.0021802326664328575, 0.0021802326664328575, 0.0021802326664328575, 0.0021802326664328575, 0.0021802326664328575, 0.0021802326664328575, 0.0021802326664328575, 0.0021802326664328575], 'val_loss': [1.273601770401001, 1.039541482925415, 0.7303005456924438, 0.6327282190322876, 0.6344555616378784, 0.6275112628936768, 0.6140100955963135, 0.7040334939956665, 0.5878985524177551, 0.5682099461555481, 0.6543712615966797, 0.6072028279304504, 0.5493409037590027, 0.5445425510406494, 0.5338906645774841, 0.5246754288673401, 0.5405415296554565, 0.5160255432128906, 0.5153896808624268, 0.5107100009918213, 0.519008994102478, 0.5224472284317017, 0.5103901624679565, 0.5040653944015503, 0.5038506984710693, 0.5176630616188049, 0.5174439549446106, 0.5299758911132812, 0.4905258119106293, 0.5184385180473328, 0.566693127155304, 0.5157737731933594, 0.49481409788131714, 0.4890454411506653, 0.49031680822372437, 0.48682013154029846, 0.4992902874946594, 0.48529741168022156, 0.5905503034591675, 0.5033432841300964, 0.5096954107284546, 0.4943107068538666, 0.47920534014701843, 0.49740883708000183, 0.5002864599227905, 0.48967137932777405, 0.4818578362464905, 0.48186469078063965, 0.47377246618270874, 0.5020104050636292, 0.47634321451187134, 0.4793252944946289, 0.5355655550956726, 0.5243330001831055, 0.4719485342502594, 0.48280489444732666, 0.4753569960594177, 0.5007326006889343, 0.46781784296035767, 0.47966527938842773, 0.4635942578315735, 0.4686550199985504, 0.4679051339626312, 0.4726993143558502, 0.483024001121521, 0.48547813296318054, 0.48063215613365173, 0.4668097496032715, 0.4681175649166107, 0.4611835777759552, 0.47573593258857727, 0.47271469235420227, 0.4761885404586792, 0.490332692861557, 0.4628157913684845, 0.46185219287872314, 0.47079142928123474, 0.46126365661621094, 0.49964407086372375, 0.49619245529174805, 0.577466607093811, 0.47544217109680176, 0.4642246961593628, 0.4577711820602417, 0.474176287651062, 0.47079408168792725, 0.4579949975013733, 0.44987282156944275, 0.4944746196269989, 0.4574969410896301, 0.45655882358551025, 0.47558486461639404, 0.4558180272579193, 0.4581766724586487, 0.47208330035209656, 0.5323843359947205, 0.4711604714393616, 0.4723101854324341, 0.4603186547756195, 0.4933600127696991, 0.4562387466430664, 0.4694538712501526, 0.4808516502380371, 0.4535825848579407, 0.46740442514419556, 0.47586217522621155, 0.4689083397388458, 0.453017920255661, 0.5029662847518921, 0.4622272849082947, 0.47639185190200806, 0.46069300174713135, 0.45752421021461487, 0.4664808511734009, 0.47141915559768677, 0.46653297543525696, 0.4513125717639923, 0.47785571217536926, 0.45308780670166016, 0.4728248417377472, 0.44787365198135376, 0.44444549083709717, 0.4691731035709381, 0.45540615916252136, 0.4551621675491333, 0.4572846591472626, 0.4564266502857208, 0.44432464241981506, 0.4490107297897339, 0.4610706567764282, 0.4632677137851715, 0.46545183658599854, 0.4753437936306, 0.466825008392334, 0.4575190842151642, 0.45444315671920776, 0.455644816160202, 0.45613959431648254, 0.4457886219024658, 0.4572884440422058, 0.4532681703567505, 0.4401520788669586, 0.44261929392814636, 0.4458368718624115, 0.44533228874206543, 0.46748676896095276, 0.4653068780899048, 0.4408130645751953, 0.4425925612449646, 0.4581143856048584, 0.4481891989707947, 0.47888508439064026, 0.45907971262931824, 0.4712262451648712, 0.47777867317199707, 0.45751893520355225, 0.4407886862754822, 0.526520311832428, 0.45357730984687805, 0.4702962636947632, 0.448690801858902, 0.47186821699142456, 0.47456076741218567, 0.44636714458465576, 0.4449894428253174, 0.4434305429458618, 0.4442732632160187, 0.45874080061912537, 0.4454214572906494, 0.4437667727470398, 0.44592219591140747, 0.5272371172904968, 0.44908931851387024, 0.4479833245277405, 0.44809287786483765, 0.44356244802474976, 0.4436350464820862, 0.44402801990509033, 0.4414813816547394, 0.4694255590438843, 0.4424971044063568, 0.45186668634414673, 0.44066205620765686, 0.44695788621902466, 0.4524890184402466, 0.45035815238952637, 0.47585198283195496, 0.4384031593799591, 0.4854632616043091, 0.4732379913330078, 0.45271068811416626, 0.4554673135280609, 0.43767794966697693, 0.44657468795776367, 0.43955299258232117, 0.4747556447982788, 0.4346568286418915, 0.45552051067352295, 0.440616250038147, 0.44190359115600586]}\n"
          ]
        }
      ]
    },
    {
      "cell_type": "code",
      "source": [
        "# Evaluate on test set\n",
        "test_loss, accuracy = model_2.evaluate(X_test, y_test, verbose=2)\n",
        "print(f\"\\nTest MSE: {test_loss:.4f}, Test accuracy: {accuracy:.4f}\")\n",
        "\n",
        "# Model summary\n",
        "print(\"\\nModel Summary:\")\n",
        "model_2.summary()\n",
        "\n",
        "plt.figure(figsize=(10, 6))\n",
        "plt.plot(history.history['loss'], label='Training Loss (MSE)')\n",
        "plt.plot(history.history['val_loss'], label='Validation Loss (MSE)')\n",
        "plt.title('Training vs Validation Loss')\n",
        "plt.xlabel('Epoch')\n",
        "plt.ylabel('Mean Squared Error')\n",
        "plt.legend()\n",
        "plt.grid(True)\n",
        "plt.show()"
      ],
      "metadata": {
        "colab": {
          "base_uri": "https://localhost:8080/",
          "height": 962
        },
        "id": "UR8O5mKoqVew",
        "outputId": "6e5e1440-a124-4046-a82b-fd5c447889b1"
      },
      "execution_count": 15,
      "outputs": [
        {
          "output_type": "stream",
          "name": "stdout",
          "text": [
            "129/129 - 0s - 2ms/step - accuracy: 0.0022 - loss: 0.4419\n",
            "\n",
            "Test MSE: 0.4419, Test accuracy: 0.0022\n",
            "\n",
            "Model Summary:\n"
          ]
        },
        {
          "output_type": "display_data",
          "data": {
            "text/plain": [
              "\u001b[1mModel: \"sequential_1\"\u001b[0m\n"
            ],
            "text/html": [
              "<pre style=\"white-space:pre;overflow-x:auto;line-height:normal;font-family:Menlo,'DejaVu Sans Mono',consolas,'Courier New',monospace\"><span style=\"font-weight: bold\">Model: \"sequential_1\"</span>\n",
              "</pre>\n"
            ]
          },
          "metadata": {}
        },
        {
          "output_type": "display_data",
          "data": {
            "text/plain": [
              "┏━━━━━━━━━━━━━━━━━━━━━━━━━━━━━━━━━┳━━━━━━━━━━━━━━━━━━━━━━━━┳━━━━━━━━━━━━━━━┓\n",
              "┃\u001b[1m \u001b[0m\u001b[1mLayer (type)                   \u001b[0m\u001b[1m \u001b[0m┃\u001b[1m \u001b[0m\u001b[1mOutput Shape          \u001b[0m\u001b[1m \u001b[0m┃\u001b[1m \u001b[0m\u001b[1m      Param #\u001b[0m\u001b[1m \u001b[0m┃\n",
              "┡━━━━━━━━━━━━━━━━━━━━━━━━━━━━━━━━━╇━━━━━━━━━━━━━━━━━━━━━━━━╇━━━━━━━━━━━━━━━┩\n",
              "│ dense_2 (\u001b[38;5;33mDense\u001b[0m)                 │ (\u001b[38;5;45mNone\u001b[0m, \u001b[38;5;34m64\u001b[0m)             │           \u001b[38;5;34m576\u001b[0m │\n",
              "├─────────────────────────────────┼────────────────────────┼───────────────┤\n",
              "│ dropout (\u001b[38;5;33mDropout\u001b[0m)               │ (\u001b[38;5;45mNone\u001b[0m, \u001b[38;5;34m64\u001b[0m)             │             \u001b[38;5;34m0\u001b[0m │\n",
              "├─────────────────────────────────┼────────────────────────┼───────────────┤\n",
              "│ dense_3 (\u001b[38;5;33mDense\u001b[0m)                 │ (\u001b[38;5;45mNone\u001b[0m, \u001b[38;5;34m32\u001b[0m)             │         \u001b[38;5;34m2,080\u001b[0m │\n",
              "├─────────────────────────────────┼────────────────────────┼───────────────┤\n",
              "│ dropout_1 (\u001b[38;5;33mDropout\u001b[0m)             │ (\u001b[38;5;45mNone\u001b[0m, \u001b[38;5;34m32\u001b[0m)             │             \u001b[38;5;34m0\u001b[0m │\n",
              "├─────────────────────────────────┼────────────────────────┼───────────────┤\n",
              "│ dense_4 (\u001b[38;5;33mDense\u001b[0m)                 │ (\u001b[38;5;45mNone\u001b[0m, \u001b[38;5;34m16\u001b[0m)             │           \u001b[38;5;34m528\u001b[0m │\n",
              "├─────────────────────────────────┼────────────────────────┼───────────────┤\n",
              "│ dense_5 (\u001b[38;5;33mDense\u001b[0m)                 │ (\u001b[38;5;45mNone\u001b[0m, \u001b[38;5;34m1\u001b[0m)              │            \u001b[38;5;34m17\u001b[0m │\n",
              "└─────────────────────────────────┴────────────────────────┴───────────────┘\n"
            ],
            "text/html": [
              "<pre style=\"white-space:pre;overflow-x:auto;line-height:normal;font-family:Menlo,'DejaVu Sans Mono',consolas,'Courier New',monospace\">┏━━━━━━━━━━━━━━━━━━━━━━━━━━━━━━━━━┳━━━━━━━━━━━━━━━━━━━━━━━━┳━━━━━━━━━━━━━━━┓\n",
              "┃<span style=\"font-weight: bold\"> Layer (type)                    </span>┃<span style=\"font-weight: bold\"> Output Shape           </span>┃<span style=\"font-weight: bold\">       Param # </span>┃\n",
              "┡━━━━━━━━━━━━━━━━━━━━━━━━━━━━━━━━━╇━━━━━━━━━━━━━━━━━━━━━━━━╇━━━━━━━━━━━━━━━┩\n",
              "│ dense_2 (<span style=\"color: #0087ff; text-decoration-color: #0087ff\">Dense</span>)                 │ (<span style=\"color: #00d7ff; text-decoration-color: #00d7ff\">None</span>, <span style=\"color: #00af00; text-decoration-color: #00af00\">64</span>)             │           <span style=\"color: #00af00; text-decoration-color: #00af00\">576</span> │\n",
              "├─────────────────────────────────┼────────────────────────┼───────────────┤\n",
              "│ dropout (<span style=\"color: #0087ff; text-decoration-color: #0087ff\">Dropout</span>)               │ (<span style=\"color: #00d7ff; text-decoration-color: #00d7ff\">None</span>, <span style=\"color: #00af00; text-decoration-color: #00af00\">64</span>)             │             <span style=\"color: #00af00; text-decoration-color: #00af00\">0</span> │\n",
              "├─────────────────────────────────┼────────────────────────┼───────────────┤\n",
              "│ dense_3 (<span style=\"color: #0087ff; text-decoration-color: #0087ff\">Dense</span>)                 │ (<span style=\"color: #00d7ff; text-decoration-color: #00d7ff\">None</span>, <span style=\"color: #00af00; text-decoration-color: #00af00\">32</span>)             │         <span style=\"color: #00af00; text-decoration-color: #00af00\">2,080</span> │\n",
              "├─────────────────────────────────┼────────────────────────┼───────────────┤\n",
              "│ dropout_1 (<span style=\"color: #0087ff; text-decoration-color: #0087ff\">Dropout</span>)             │ (<span style=\"color: #00d7ff; text-decoration-color: #00d7ff\">None</span>, <span style=\"color: #00af00; text-decoration-color: #00af00\">32</span>)             │             <span style=\"color: #00af00; text-decoration-color: #00af00\">0</span> │\n",
              "├─────────────────────────────────┼────────────────────────┼───────────────┤\n",
              "│ dense_4 (<span style=\"color: #0087ff; text-decoration-color: #0087ff\">Dense</span>)                 │ (<span style=\"color: #00d7ff; text-decoration-color: #00d7ff\">None</span>, <span style=\"color: #00af00; text-decoration-color: #00af00\">16</span>)             │           <span style=\"color: #00af00; text-decoration-color: #00af00\">528</span> │\n",
              "├─────────────────────────────────┼────────────────────────┼───────────────┤\n",
              "│ dense_5 (<span style=\"color: #0087ff; text-decoration-color: #0087ff\">Dense</span>)                 │ (<span style=\"color: #00d7ff; text-decoration-color: #00d7ff\">None</span>, <span style=\"color: #00af00; text-decoration-color: #00af00\">1</span>)              │            <span style=\"color: #00af00; text-decoration-color: #00af00\">17</span> │\n",
              "└─────────────────────────────────┴────────────────────────┴───────────────┘\n",
              "</pre>\n"
            ]
          },
          "metadata": {}
        },
        {
          "output_type": "display_data",
          "data": {
            "text/plain": [
              "\u001b[1m Total params: \u001b[0m\u001b[38;5;34m9,605\u001b[0m (37.52 KB)\n"
            ],
            "text/html": [
              "<pre style=\"white-space:pre;overflow-x:auto;line-height:normal;font-family:Menlo,'DejaVu Sans Mono',consolas,'Courier New',monospace\"><span style=\"font-weight: bold\"> Total params: </span><span style=\"color: #00af00; text-decoration-color: #00af00\">9,605</span> (37.52 KB)\n",
              "</pre>\n"
            ]
          },
          "metadata": {}
        },
        {
          "output_type": "display_data",
          "data": {
            "text/plain": [
              "\u001b[1m Trainable params: \u001b[0m\u001b[38;5;34m3,201\u001b[0m (12.50 KB)\n"
            ],
            "text/html": [
              "<pre style=\"white-space:pre;overflow-x:auto;line-height:normal;font-family:Menlo,'DejaVu Sans Mono',consolas,'Courier New',monospace\"><span style=\"font-weight: bold\"> Trainable params: </span><span style=\"color: #00af00; text-decoration-color: #00af00\">3,201</span> (12.50 KB)\n",
              "</pre>\n"
            ]
          },
          "metadata": {}
        },
        {
          "output_type": "display_data",
          "data": {
            "text/plain": [
              "\u001b[1m Non-trainable params: \u001b[0m\u001b[38;5;34m0\u001b[0m (0.00 B)\n"
            ],
            "text/html": [
              "<pre style=\"white-space:pre;overflow-x:auto;line-height:normal;font-family:Menlo,'DejaVu Sans Mono',consolas,'Courier New',monospace\"><span style=\"font-weight: bold\"> Non-trainable params: </span><span style=\"color: #00af00; text-decoration-color: #00af00\">0</span> (0.00 B)\n",
              "</pre>\n"
            ]
          },
          "metadata": {}
        },
        {
          "output_type": "display_data",
          "data": {
            "text/plain": [
              "\u001b[1m Optimizer params: \u001b[0m\u001b[38;5;34m6,404\u001b[0m (25.02 KB)\n"
            ],
            "text/html": [
              "<pre style=\"white-space:pre;overflow-x:auto;line-height:normal;font-family:Menlo,'DejaVu Sans Mono',consolas,'Courier New',monospace\"><span style=\"font-weight: bold\"> Optimizer params: </span><span style=\"color: #00af00; text-decoration-color: #00af00\">6,404</span> (25.02 KB)\n",
              "</pre>\n"
            ]
          },
          "metadata": {}
        },
        {
          "output_type": "display_data",
          "data": {
            "text/plain": [
              "<Figure size 1000x600 with 1 Axes>"
            ],
            "image/png": "[encoded data removed]"
          },
          "metadata": {}
        }
      ]
    },
    {
      "cell_type": "markdown",
      "source": [
        "#Task 4\n"
      ],
      "metadata": {
        "id": "O11tYD3paoa-"
      }
    },
    {
      "cell_type": "code",
      "source": [
        "from sklearn import datasets\n",
        "\n",
        "iris = datasets.load_iris(as_frame=True)"
      ],
      "metadata": {
        "id": "iRyOEkpDubF6"
      },
      "execution_count": 16,
      "outputs": []
    },
    {
      "cell_type": "code",
      "source": [
        "iris"
      ],
      "metadata": {
        "colab": {
          "base_uri": "https://localhost:8080/"
        },
        "id": "BFQ-0wcXa8aT",
        "outputId": "580edac2-5e0c-41f7-9c93-dc8eee7569e4"
      },
      "execution_count": 17,
      "outputs": [
        {
          "output_type": "execute_result",
          "data": {
            "text/plain": [
              "{'data':      sepal length (cm)  sepal width (cm)  petal length (cm)  petal width (cm)\n",
              " 0                  5.1               3.5                1.4               0.2\n",
              " 1                  4.9               3.0                1.4               0.2\n",
              " 2                  4.7               3.2                1.3               0.2\n",
              " 3                  4.6               3.1                1.5               0.2\n",
              " 4                  5.0               3.6                1.4               0.2\n",
              " ..                 ...               ...                ...               ...\n",
              " 145                6.7               3.0                5.2               2.3\n",
              " 146                6.3               2.5                5.0               1.9\n",
              " 147                6.5               3.0                5.2               2.0\n",
              " 148                6.2               3.4                5.4               2.3\n",
              " 149                5.9               3.0                5.1               1.8\n",
              " \n",
              " [150 rows x 4 columns],\n",
              " 'target': 0      0\n",
              " 1      0\n",
              " 2      0\n",
              " 3      0\n",
              " 4      0\n",
              "       ..\n",
              " 145    2\n",
              " 146    2\n",
              " 147    2\n",
              " 148    2\n",
              " 149    2\n",
              " Name: target, Length: 150, dtype: int64,\n",
              " 'frame':      sepal length (cm)  sepal width (cm)  petal length (cm)  petal width (cm)  \\\n",
              " 0                  5.1               3.5                1.4               0.2   \n",
              " 1                  4.9               3.0                1.4               0.2   \n",
              " 2                  4.7               3.2                1.3               0.2   \n",
              " 3                  4.6               3.1                1.5               0.2   \n",
              " 4                  5.0               3.6                1.4               0.2   \n",
              " ..                 ...               ...                ...               ...   \n",
              " 145                6.7               3.0                5.2               2.3   \n",
              " 146                6.3               2.5                5.0               1.9   \n",
              " 147                6.5               3.0                5.2               2.0   \n",
              " 148                6.2               3.4                5.4               2.3   \n",
              " 149                5.9               3.0                5.1               1.8   \n",
              " \n",
              "      target  \n",
              " 0         0  \n",
              " 1         0  \n",
              " 2         0  \n",
              " 3         0  \n",
              " 4         0  \n",
              " ..      ...  \n",
              " 145       2  \n",
              " 146       2  \n",
              " 147       2  \n",
              " 148       2  \n",
              " 149       2  \n",
              " \n",
              " [150 rows x 5 columns],\n",
              " 'target_names': array(['setosa', 'versicolor', 'virginica'], dtype='<U10'),\n",
              " 'DESCR': '.. _iris_dataset:\\n\\nIris plants dataset\\n--------------------\\n\\n**Data Set Characteristics:**\\n\\n:Number of Instances: 150 (50 in each of three classes)\\n:Number of Attributes: 4 numeric, predictive attributes and the class\\n:Attribute Information:\\n    - sepal length in cm\\n    - sepal width in cm\\n    - petal length in cm\\n    - petal width in cm\\n    - class:\\n            - Iris-Setosa\\n            - Iris-Versicolour\\n            - Iris-Virginica\\n\\n:Summary Statistics:\\n\\n============== ==== ==== ======= ===== ====================\\n                Min  Max   Mean    SD   Class Correlation\\n============== ==== ==== ======= ===== ====================\\nsepal length:   4.3  7.9   5.84   0.83    0.7826\\nsepal width:    2.0  4.4   3.05   0.43   -0.4194\\npetal length:   1.0  6.9   3.76   1.76    0.9490  (high!)\\npetal width:    0.1  2.5   1.20   0.76    0.9565  (high!)\\n============== ==== ==== ======= ===== ====================\\n\\n:Missing Attribute Values: None\\n:Class Distribution: 33.3% for each of 3 classes.\\n:Creator: R.A. Fisher\\n:Donor: Michael Marshall (MARSHALL%PLU@io.arc.nasa.gov)\\n:Date: July, 1988\\n\\nThe famous Iris database, first used by Sir R.A. Fisher. The dataset is taken\\nfrom Fisher\\'s paper. Note that it\\'s the same as in R, but not as in the UCI\\nMachine Learning Repository, which has two wrong data points.\\n\\nThis is perhaps the best known database to be found in the\\npattern recognition literature.  Fisher\\'s paper is a classic in the field and\\nis referenced frequently to this day.  (See Duda & Hart, for example.)  The\\ndata set contains 3 classes of 50 instances each, where each class refers to a\\ntype of iris plant.  One class is linearly separable from the other 2; the\\nlatter are NOT linearly separable from each other.\\n\\n.. dropdown:: References\\n\\n  - Fisher, R.A. \"The use of multiple measurements in taxonomic problems\"\\n    Annual Eugenics, 7, Part II, 179-188 (1936); also in \"Contributions to\\n    Mathematical Statistics\" (John Wiley, NY, 1950).\\n  - Duda, R.O., & Hart, P.E. (1973) Pattern Classification and Scene Analysis.\\n    (Q327.D83) John Wiley & Sons.  ISBN 0-471-22361-1.  See page 218.\\n  - Dasarathy, B.V. (1980) \"Nosing Around the Neighborhood: A New System\\n    Structure and Classification Rule for Recognition in Partially Exposed\\n    Environments\".  IEEE Transactions on Pattern Analysis and Machine\\n    Intelligence, Vol. PAMI-2, No. 1, 67-71.\\n  - Gates, G.W. (1972) \"The Reduced Nearest Neighbor Rule\".  IEEE Transactions\\n    on Information Theory, May 1972, 431-433.\\n  - See also: 1988 MLC Proceedings, 54-64.  Cheeseman et al\"s AUTOCLASS II\\n    conceptual clustering system finds 3 classes in the data.\\n  - Many, many more ...\\n',\n",
              " 'feature_names': ['sepal length (cm)',\n",
              "  'sepal width (cm)',\n",
              "  'petal length (cm)',\n",
              "  'petal width (cm)'],\n",
              " 'filename': 'iris.csv',\n",
              " 'data_module': 'sklearn.datasets.data'}"
            ]
          },
          "metadata": {},
          "execution_count": 17
        }
      ]
    },
    {
      "cell_type": "code",
      "source": [
        "X_iris = iris['data']\n",
        "y_iris = iris['target']\n"
      ],
      "metadata": {
        "id": "x0b3vBNsa8Y9"
      },
      "execution_count": 18,
      "outputs": []
    },
    {
      "cell_type": "markdown",
      "source": [],
      "metadata": {
        "id": "Qw6gXSQkcK4o"
      }
    },
    {
      "cell_type": "markdown",
      "source": [],
      "metadata": {
        "id": "VpiwfBHxcK3q"
      }
    },
    {
      "cell_type": "code",
      "source": [
        "print(X_iris['sepal length (cm)'].isnull().sum())\n",
        "print(X_iris['sepal width (cm)'].isnull().sum())\n",
        "print(X_iris['petal length (cm)'].isnull().sum())\n",
        "print(X_iris['petal width (cm)'].isnull().sum())"
      ],
      "metadata": {
        "colab": {
          "base_uri": "https://localhost:8080/"
        },
        "id": "23wE7S0Kb8Yi",
        "outputId": "8cdee2cf-e731-4fde-9b1f-fd7f26bff6d7"
      },
      "execution_count": 19,
      "outputs": [
        {
          "output_type": "stream",
          "name": "stdout",
          "text": [
            "0\n",
            "0\n",
            "0\n",
            "0\n"
          ]
        }
      ]
    },
    {
      "cell_type": "code",
      "source": [
        "X_train_iris, X_test_iris, y_train_iris, y_test_iris = train_test_split(X_iris, y_iris, train_size= 0.8, random_state=42)"
      ],
      "metadata": {
        "id": "dXximzMCb8Xt"
      },
      "execution_count": 20,
      "outputs": []
    },
    {
      "cell_type": "code",
      "source": [
        "model_4 = Sequential()\n",
        "\n",
        "#hidden layer 1\n",
        "model_4.add(Dense(64, activation='relu', input_shape=(X_train_iris.shape[1],)))\n",
        "model_4.add(Dropout(0.2))\n",
        "\n",
        "#hidden layer 2\n",
        "model_4.add(Dense(32, activation='relu'))\n",
        "model_4.add(Dropout(0.2))\n",
        "\n",
        "#hidden layer 3\n",
        "model_4.add(Dense(16, activation='relu'))\n",
        "\n",
        "model_4.add(Dense(1, activation='softmax'))\n",
        "\n",
        "model_4.compile(optimizer='adam', loss='categorical_crossentropy', metrics=['accuracy'])\n",
        "\n",
        "history = model_4.fit(\n",
        "    X_train_iris, y_train_iris,\n",
        "    validation_data=(X_test_iris, y_test_iris),\n",
        "    epochs=200,\n",
        "    verbose=1\n",
        ")\n"
      ],
      "metadata": {
        "id": "bmvIBHtvcc-l",
        "colab": {
          "base_uri": "https://localhost:8080/"
        },
        "outputId": "48beeeaf-5eae-426e-86e4-9cab927a16e3"
      },
      "execution_count": 21,
      "outputs": [
        {
          "output_type": "stream",
          "name": "stdout",
          "text": [
            "Epoch 1/200\n"
          ]
        },
        {
          "output_type": "stream",
          "name": "stderr",
          "text": [
            "/usr/local/lib/python3.11/dist-packages/keras/src/layers/core/dense.py:87: UserWarning: Do not pass an `input_shape`/`input_dim` argument to a layer. When using Sequential models, prefer using an `Input(shape)` object as the first layer in the model instead.\n",
            "  super().__init__(activity_regularizer=activity_regularizer, **kwargs)\n",
            "/usr/local/lib/python3.11/dist-packages/keras/src/ops/nn.py:907: UserWarning: You are using a softmax over axis -1 of a tensor of shape (None, 1). This axis has size 1. The softmax operation will always return the value 1, which is likely not what you intended. Did you mean to use a sigmoid instead?\n",
            "  warnings.warn(\n",
            "/usr/local/lib/python3.11/dist-packages/keras/src/losses/losses.py:33: SyntaxWarning: In loss categorical_crossentropy, expected y_pred.shape to be (batch_size, num_classes) with num_classes > 1. Received: y_pred.shape=(None, 1). Consider using 'binary_crossentropy' if you only have 2 classes.\n",
            "  return self.fn(y_true, y_pred, **self._fn_kwargs)\n"
          ]
        },
        {
          "output_type": "stream",
          "name": "stdout",
          "text": [
            "\r\u001b[1m1/4\u001b[0m \u001b[32m━━━━━\u001b[0m\u001b[37m━━━━━━━━━━━━━━━\u001b[0m \u001b[1m5s\u001b[0m 2s/step - accuracy: 0.3438 - loss: 0.0000e+00"
          ]
        },
        {
          "output_type": "stream",
          "name": "stderr",
          "text": [
            "/usr/local/lib/python3.11/dist-packages/keras/src/ops/nn.py:907: UserWarning: You are using a softmax over axis -1 of a tensor of shape (None, 1). This axis has size 1. The softmax operation will always return the value 1, which is likely not what you intended. Did you mean to use a sigmoid instead?\n",
            "  warnings.warn(\n",
            "/usr/local/lib/python3.11/dist-packages/keras/src/losses/losses.py:33: SyntaxWarning: In loss categorical_crossentropy, expected y_pred.shape to be (batch_size, num_classes) with num_classes > 1. Received: y_pred.shape=(None, 1). Consider using 'binary_crossentropy' if you only have 2 classes.\n",
            "  return self.fn(y_true, y_pred, **self._fn_kwargs)\n"
          ]
        },
        {
          "output_type": "stream",
          "name": "stdout",
          "text": [
            "\b\b\b\b\b\b\b\b\b\b\b\b\b\b\b\b\b\b\b\b\b\b\b\b\b\b\b\b\b\b\b\b\b\b\b\b\b\b\b\b\b\b\b\b\b\b\b\b\b\b\b\b\b\b\b\b\b\b\b\b\b\b\b\b\b\b\b\b\b\b\b\b\b\r\u001b[1m4/4\u001b[0m \u001b[32m━━━━━━━━━━━━━━━━━━━━\u001b[0m\u001b[37m\u001b[0m \u001b[1m2s\u001b[0m 156ms/step - accuracy: 0.3367 - loss: 0.0000e+00 - val_accuracy: 0.3000 - val_loss: 0.0000e+00\n",
            "Epoch 2/200\n",
            "\u001b[1m4/4\u001b[0m \u001b[32m━━━━━━━━━━━━━━━━━━━━\u001b[0m\u001b[37m\u001b[0m \u001b[1m0s\u001b[0m 46ms/step - accuracy: 0.3638 - loss: 0.0000e+00 - val_accuracy: 0.3000 - val_loss: 0.0000e+00\n",
            "Epoch 3/200\n",
            "\u001b[1m4/4\u001b[0m \u001b[32m━━━━━━━━━━━━━━━━━━━━\u001b[0m\u001b[37m\u001b[0m \u001b[1m0s\u001b[0m 50ms/step - accuracy: 0.3554 - loss: 0.0000e+00 - val_accuracy: 0.3000 - val_loss: 0.0000e+00\n",
            "Epoch 4/200\n",
            "\u001b[1m4/4\u001b[0m \u001b[32m━━━━━━━━━━━━━━━━━━━━\u001b[0m\u001b[37m\u001b[0m \u001b[1m0s\u001b[0m 35ms/step - accuracy: 0.3242 - loss: 0.0000e+00 - val_accuracy: 0.3000 - val_loss: 0.0000e+00\n",
            "Epoch 5/200\n",
            "\u001b[1m4/4\u001b[0m \u001b[32m━━━━━━━━━━━━━━━━━━━━\u001b[0m\u001b[37m\u001b[0m \u001b[1m0s\u001b[0m 51ms/step - accuracy: 0.3502 - loss: 0.0000e+00 - val_accuracy: 0.3000 - val_loss: 0.0000e+00\n",
            "Epoch 6/200\n",
            "\u001b[1m4/4\u001b[0m \u001b[32m━━━━━━━━━━━━━━━━━━━━\u001b[0m\u001b[37m\u001b[0m \u001b[1m0s\u001b[0m 51ms/step - accuracy: 0.3512 - loss: 0.0000e+00 - val_accuracy: 0.3000 - val_loss: 0.0000e+00\n",
            "Epoch 7/200\n",
            "\u001b[1m4/4\u001b[0m \u001b[32m━━━━━━━━━━━━━━━━━━━━\u001b[0m\u001b[37m\u001b[0m \u001b[1m0s\u001b[0m 37ms/step - accuracy: 0.3794 - loss: 0.0000e+00 - val_accuracy: 0.3000 - val_loss: 0.0000e+00\n",
            "Epoch 8/200\n",
            "\u001b[1m4/4\u001b[0m \u001b[32m━━━━━━━━━━━━━━━━━━━━\u001b[0m\u001b[37m\u001b[0m \u001b[1m0s\u001b[0m 26ms/step - accuracy: 0.3585 - loss: 0.0000e+00 - val_accuracy: 0.3000 - val_loss: 0.0000e+00\n",
            "Epoch 9/200\n",
            "\u001b[1m4/4\u001b[0m \u001b[32m━━━━━━━━━━━━━━━━━━━━\u001b[0m\u001b[37m\u001b[0m \u001b[1m0s\u001b[0m 25ms/step - accuracy: 0.3565 - loss: 0.0000e+00 - val_accuracy: 0.3000 - val_loss: 0.0000e+00\n",
            "Epoch 10/200\n",
            "\u001b[1m4/4\u001b[0m \u001b[32m━━━━━━━━━━━━━━━━━━━━\u001b[0m\u001b[37m\u001b[0m \u001b[1m0s\u001b[0m 31ms/step - accuracy: 0.3554 - loss: 0.0000e+00 - val_accuracy: 0.3000 - val_loss: 0.0000e+00\n",
            "Epoch 11/200\n",
            "\u001b[1m4/4\u001b[0m \u001b[32m━━━━━━━━━━━━━━━━━━━━\u001b[0m\u001b[37m\u001b[0m \u001b[1m0s\u001b[0m 27ms/step - accuracy: 0.3429 - loss: 0.0000e+00 - val_accuracy: 0.3000 - val_loss: 0.0000e+00\n",
            "Epoch 12/200\n",
            "\u001b[1m4/4\u001b[0m \u001b[32m━━━━━━━━━━━━━━━━━━━━\u001b[0m\u001b[37m\u001b[0m \u001b[1m0s\u001b[0m 27ms/step - accuracy: 0.3367 - loss: 0.0000e+00 - val_accuracy: 0.3000 - val_loss: 0.0000e+00\n",
            "Epoch 13/200\n",
            "\u001b[1m4/4\u001b[0m \u001b[32m━━━━━━━━━━━━━━━━━━━━\u001b[0m\u001b[37m\u001b[0m \u001b[1m0s\u001b[0m 27ms/step - accuracy: 0.3315 - loss: 0.0000e+00 - val_accuracy: 0.3000 - val_loss: 0.0000e+00\n",
            "Epoch 14/200\n",
            "\u001b[1m4/4\u001b[0m \u001b[32m━━━━━━━━━━━━━━━━━━━━\u001b[0m\u001b[37m\u001b[0m \u001b[1m0s\u001b[0m 26ms/step - accuracy: 0.3429 - loss: 0.0000e+00 - val_accuracy: 0.3000 - val_loss: 0.0000e+00\n",
            "Epoch 15/200\n",
            "\u001b[1m4/4\u001b[0m \u001b[32m━━━━━━━━━━━━━━━━━━━━\u001b[0m\u001b[37m\u001b[0m \u001b[1m0s\u001b[0m 26ms/step - accuracy: 0.3512 - loss: 0.0000e+00 - val_accuracy: 0.3000 - val_loss: 0.0000e+00\n",
            "Epoch 16/200\n",
            "\u001b[1m4/4\u001b[0m \u001b[32m━━━━━━━━━━━━━━━━━━━━\u001b[0m\u001b[37m\u001b[0m \u001b[1m0s\u001b[0m 25ms/step - accuracy: 0.3606 - loss: 0.0000e+00 - val_accuracy: 0.3000 - val_loss: 0.0000e+00\n",
            "Epoch 17/200\n",
            "\u001b[1m4/4\u001b[0m \u001b[32m━━━━━━━━━━━━━━━━━━━━\u001b[0m\u001b[37m\u001b[0m \u001b[1m0s\u001b[0m 40ms/step - accuracy: 0.3440 - loss: 0.0000e+00 - val_accuracy: 0.3000 - val_loss: 0.0000e+00\n",
            "Epoch 18/200\n",
            "\u001b[1m4/4\u001b[0m \u001b[32m━━━━━━━━━━━━━━━━━━━━\u001b[0m\u001b[37m\u001b[0m \u001b[1m0s\u001b[0m 25ms/step - accuracy: 0.3596 - loss: 0.0000e+00 - val_accuracy: 0.3000 - val_loss: 0.0000e+00\n",
            "Epoch 19/200\n",
            "\u001b[1m4/4\u001b[0m \u001b[32m━━━━━━━━━━━━━━━━━━━━\u001b[0m\u001b[37m\u001b[0m \u001b[1m0s\u001b[0m 28ms/step - accuracy: 0.3200 - loss: 0.0000e+00 - val_accuracy: 0.3000 - val_loss: 0.0000e+00\n",
            "Epoch 20/200\n",
            "\u001b[1m4/4\u001b[0m \u001b[32m━━━━━━━━━━━━━━━━━━━━\u001b[0m\u001b[37m\u001b[0m \u001b[1m0s\u001b[0m 28ms/step - accuracy: 0.3148 - loss: 0.0000e+00 - val_accuracy: 0.3000 - val_loss: 0.0000e+00\n",
            "Epoch 21/200\n",
            "\u001b[1m4/4\u001b[0m \u001b[32m━━━━━━━━━━━━━━━━━━━━\u001b[0m\u001b[37m\u001b[0m \u001b[1m0s\u001b[0m 25ms/step - accuracy: 0.3471 - loss: 0.0000e+00 - val_accuracy: 0.3000 - val_loss: 0.0000e+00\n",
            "Epoch 22/200\n",
            "\u001b[1m4/4\u001b[0m \u001b[32m━━━━━━━━━━━━━━━━━━━━\u001b[0m\u001b[37m\u001b[0m \u001b[1m0s\u001b[0m 25ms/step - accuracy: 0.3315 - loss: 0.0000e+00 - val_accuracy: 0.3000 - val_loss: 0.0000e+00\n",
            "Epoch 23/200\n",
            "\u001b[1m4/4\u001b[0m \u001b[32m━━━━━━━━━━━━━━━━━━━━\u001b[0m\u001b[37m\u001b[0m \u001b[1m0s\u001b[0m 25ms/step - accuracy: 0.4002 - loss: 0.0000e+00 - val_accuracy: 0.3000 - val_loss: 0.0000e+00\n",
            "Epoch 24/200\n",
            "\u001b[1m4/4\u001b[0m \u001b[32m━━━━━━━━━━━━━━━━━━━━\u001b[0m\u001b[37m\u001b[0m \u001b[1m0s\u001b[0m 25ms/step - accuracy: 0.3127 - loss: 0.0000e+00 - val_accuracy: 0.3000 - val_loss: 0.0000e+00\n",
            "Epoch 25/200\n",
            "\u001b[1m4/4\u001b[0m \u001b[32m━━━━━━━━━━━━━━━━━━━━\u001b[0m\u001b[37m\u001b[0m \u001b[1m0s\u001b[0m 24ms/step - accuracy: 0.3617 - loss: 0.0000e+00 - val_accuracy: 0.3000 - val_loss: 0.0000e+00\n",
            "Epoch 26/200\n",
            "\u001b[1m4/4\u001b[0m \u001b[32m━━━━━━━━━━━━━━━━━━━━\u001b[0m\u001b[37m\u001b[0m \u001b[1m0s\u001b[0m 27ms/step - accuracy: 0.3054 - loss: 0.0000e+00 - val_accuracy: 0.3000 - val_loss: 0.0000e+00\n",
            "Epoch 27/200\n",
            "\u001b[1m4/4\u001b[0m \u001b[32m━━━━━━━━━━━━━━━━━━━━\u001b[0m\u001b[37m\u001b[0m \u001b[1m0s\u001b[0m 25ms/step - accuracy: 0.3533 - loss: 0.0000e+00 - val_accuracy: 0.3000 - val_loss: 0.0000e+00\n",
            "Epoch 28/200\n",
            "\u001b[1m4/4\u001b[0m \u001b[32m━━━━━━━━━━━━━━━━━━━━\u001b[0m\u001b[37m\u001b[0m \u001b[1m0s\u001b[0m 27ms/step - accuracy: 0.3512 - loss: 0.0000e+00 - val_accuracy: 0.3000 - val_loss: 0.0000e+00\n",
            "Epoch 29/200\n",
            "\u001b[1m4/4\u001b[0m \u001b[32m━━━━━━━━━━━━━━━━━━━━\u001b[0m\u001b[37m\u001b[0m \u001b[1m0s\u001b[0m 26ms/step - accuracy: 0.3408 - loss: 0.0000e+00 - val_accuracy: 0.3000 - val_loss: 0.0000e+00\n",
            "Epoch 30/200\n",
            "\u001b[1m4/4\u001b[0m \u001b[32m━━━━━━━━━━━━━━━━━━━━\u001b[0m\u001b[37m\u001b[0m \u001b[1m0s\u001b[0m 28ms/step - accuracy: 0.2752 - loss: 0.0000e+00 - val_accuracy: 0.3000 - val_loss: 0.0000e+00\n",
            "Epoch 31/200\n",
            "\u001b[1m4/4\u001b[0m \u001b[32m━━━━━━━━━━━━━━━━━━━━\u001b[0m\u001b[37m\u001b[0m \u001b[1m0s\u001b[0m 26ms/step - accuracy: 0.3544 - loss: 0.0000e+00 - val_accuracy: 0.3000 - val_loss: 0.0000e+00\n",
            "Epoch 32/200\n",
            "\u001b[1m4/4\u001b[0m \u001b[32m━━━━━━━━━━━━━━━━━━━━\u001b[0m\u001b[37m\u001b[0m \u001b[1m0s\u001b[0m 24ms/step - accuracy: 0.3356 - loss: 0.0000e+00 - val_accuracy: 0.3000 - val_loss: 0.0000e+00\n",
            "Epoch 33/200\n",
            "\u001b[1m4/4\u001b[0m \u001b[32m━━━━━━━━━━━━━━━━━━━━\u001b[0m\u001b[37m\u001b[0m \u001b[1m0s\u001b[0m 26ms/step - accuracy: 0.3544 - loss: 0.0000e+00 - val_accuracy: 0.3000 - val_loss: 0.0000e+00\n",
            "Epoch 34/200\n",
            "\u001b[1m4/4\u001b[0m \u001b[32m━━━━━━━━━━━━━━━━━━━━\u001b[0m\u001b[37m\u001b[0m \u001b[1m0s\u001b[0m 26ms/step - accuracy: 0.3304 - loss: 0.0000e+00 - val_accuracy: 0.3000 - val_loss: 0.0000e+00\n",
            "Epoch 35/200\n",
            "\u001b[1m4/4\u001b[0m \u001b[32m━━━━━━━━━━━━━━━━━━━━\u001b[0m\u001b[37m\u001b[0m \u001b[1m0s\u001b[0m 29ms/step - accuracy: 0.3710 - loss: 0.0000e+00 - val_accuracy: 0.3000 - val_loss: 0.0000e+00\n",
            "Epoch 36/200\n",
            "\u001b[1m4/4\u001b[0m \u001b[32m━━━━━━━━━━━━━━━━━━━━\u001b[0m\u001b[37m\u001b[0m \u001b[1m0s\u001b[0m 26ms/step - accuracy: 0.3179 - loss: 0.0000e+00 - val_accuracy: 0.3000 - val_loss: 0.0000e+00\n",
            "Epoch 37/200\n",
            "\u001b[1m4/4\u001b[0m \u001b[32m━━━━━━━━━━━━━━━━━━━━\u001b[0m\u001b[37m\u001b[0m \u001b[1m0s\u001b[0m 25ms/step - accuracy: 0.3908 - loss: 0.0000e+00 - val_accuracy: 0.3000 - val_loss: 0.0000e+00\n",
            "Epoch 38/200\n",
            "\u001b[1m4/4\u001b[0m \u001b[32m━━━━━━━━━━━━━━━━━━━━\u001b[0m\u001b[37m\u001b[0m \u001b[1m0s\u001b[0m 26ms/step - accuracy: 0.3273 - loss: 0.0000e+00 - val_accuracy: 0.3000 - val_loss: 0.0000e+00\n",
            "Epoch 39/200\n",
            "\u001b[1m4/4\u001b[0m \u001b[32m━━━━━━━━━━━━━━━━━━━━\u001b[0m\u001b[37m\u001b[0m \u001b[1m0s\u001b[0m 25ms/step - accuracy: 0.3252 - loss: 0.0000e+00 - val_accuracy: 0.3000 - val_loss: 0.0000e+00\n",
            "Epoch 40/200\n",
            "\u001b[1m4/4\u001b[0m \u001b[32m━━━━━━━━━━━━━━━━━━━━\u001b[0m\u001b[37m\u001b[0m \u001b[1m0s\u001b[0m 26ms/step - accuracy: 0.3388 - loss: 0.0000e+00 - val_accuracy: 0.3000 - val_loss: 0.0000e+00\n",
            "Epoch 41/200\n",
            "\u001b[1m4/4\u001b[0m \u001b[32m━━━━━━━━━━━━━━━━━━━━\u001b[0m\u001b[37m\u001b[0m \u001b[1m0s\u001b[0m 26ms/step - accuracy: 0.3075 - loss: 0.0000e+00 - val_accuracy: 0.3000 - val_loss: 0.0000e+00\n",
            "Epoch 42/200\n",
            "\u001b[1m4/4\u001b[0m \u001b[32m━━━━━━━━━━━━━━━━━━━━\u001b[0m\u001b[37m\u001b[0m \u001b[1m0s\u001b[0m 30ms/step - accuracy: 0.3304 - loss: 0.0000e+00 - val_accuracy: 0.3000 - val_loss: 0.0000e+00\n",
            "Epoch 43/200\n",
            "\u001b[1m4/4\u001b[0m \u001b[32m━━━━━━━━━━━━━━━━━━━━\u001b[0m\u001b[37m\u001b[0m \u001b[1m0s\u001b[0m 24ms/step - accuracy: 0.3554 - loss: 0.0000e+00 - val_accuracy: 0.3000 - val_loss: 0.0000e+00\n",
            "Epoch 44/200\n",
            "\u001b[1m4/4\u001b[0m \u001b[32m━━━━━━━━━━━━━━━━━━━━\u001b[0m\u001b[37m\u001b[0m \u001b[1m0s\u001b[0m 24ms/step - accuracy: 0.3231 - loss: 0.0000e+00 - val_accuracy: 0.3000 - val_loss: 0.0000e+00\n",
            "Epoch 45/200\n",
            "\u001b[1m4/4\u001b[0m \u001b[32m━━━━━━━━━━━━━━━━━━━━\u001b[0m\u001b[37m\u001b[0m \u001b[1m0s\u001b[0m 25ms/step - accuracy: 0.3179 - loss: 0.0000e+00 - val_accuracy: 0.3000 - val_loss: 0.0000e+00\n",
            "Epoch 46/200\n",
            "\u001b[1m4/4\u001b[0m \u001b[32m━━━━━━━━━━━━━━━━━━━━\u001b[0m\u001b[37m\u001b[0m \u001b[1m0s\u001b[0m 24ms/step - accuracy: 0.3367 - loss: 0.0000e+00 - val_accuracy: 0.3000 - val_loss: 0.0000e+00\n",
            "Epoch 47/200\n",
            "\u001b[1m4/4\u001b[0m \u001b[32m━━━━━━━━━━━━━━━━━━━━\u001b[0m\u001b[37m\u001b[0m \u001b[1m0s\u001b[0m 24ms/step - accuracy: 0.3815 - loss: 0.0000e+00 - val_accuracy: 0.3000 - val_loss: 0.0000e+00\n",
            "Epoch 48/200\n",
            "\u001b[1m4/4\u001b[0m \u001b[32m━━━━━━━━━━━━━━━━━━━━\u001b[0m\u001b[37m\u001b[0m \u001b[1m0s\u001b[0m 25ms/step - accuracy: 0.3335 - loss: 0.0000e+00 - val_accuracy: 0.3000 - val_loss: 0.0000e+00\n",
            "Epoch 49/200\n",
            "\u001b[1m4/4\u001b[0m \u001b[32m━━━━━━━━━━━━━━━━━━━━\u001b[0m\u001b[37m\u001b[0m \u001b[1m0s\u001b[0m 27ms/step - accuracy: 0.3617 - loss: 0.0000e+00 - val_accuracy: 0.3000 - val_loss: 0.0000e+00\n",
            "Epoch 50/200\n",
            "\u001b[1m4/4\u001b[0m \u001b[32m━━━━━━━━━━━━━━━━━━━━\u001b[0m\u001b[37m\u001b[0m \u001b[1m0s\u001b[0m 25ms/step - accuracy: 0.3200 - loss: 0.0000e+00 - val_accuracy: 0.3000 - val_loss: 0.0000e+00\n",
            "Epoch 51/200\n",
            "\u001b[1m4/4\u001b[0m \u001b[32m━━━━━━━━━━━━━━━━━━━━\u001b[0m\u001b[37m\u001b[0m \u001b[1m0s\u001b[0m 23ms/step - accuracy: 0.3690 - loss: 0.0000e+00 - val_accuracy: 0.3000 - val_loss: 0.0000e+00\n",
            "Epoch 52/200\n",
            "\u001b[1m4/4\u001b[0m \u001b[32m━━━━━━━━━━━━━━━━━━━━\u001b[0m\u001b[37m\u001b[0m \u001b[1m0s\u001b[0m 24ms/step - accuracy: 0.3408 - loss: 0.0000e+00 - val_accuracy: 0.3000 - val_loss: 0.0000e+00\n",
            "Epoch 53/200\n",
            "\u001b[1m4/4\u001b[0m \u001b[32m━━━━━━━━━━━━━━━━━━━━\u001b[0m\u001b[37m\u001b[0m \u001b[1m0s\u001b[0m 23ms/step - accuracy: 0.3388 - loss: 0.0000e+00 - val_accuracy: 0.3000 - val_loss: 0.0000e+00\n",
            "Epoch 54/200\n",
            "\u001b[1m4/4\u001b[0m \u001b[32m━━━━━━━━━━━━━━━━━━━━\u001b[0m\u001b[37m\u001b[0m \u001b[1m0s\u001b[0m 23ms/step - accuracy: 0.3356 - loss: 0.0000e+00 - val_accuracy: 0.3000 - val_loss: 0.0000e+00\n",
            "Epoch 55/200\n",
            "\u001b[1m4/4\u001b[0m \u001b[32m━━━━━━━━━━━━━━━━━━━━\u001b[0m\u001b[37m\u001b[0m \u001b[1m0s\u001b[0m 25ms/step - accuracy: 0.3169 - loss: 0.0000e+00 - val_accuracy: 0.3000 - val_loss: 0.0000e+00\n",
            "Epoch 56/200\n",
            "\u001b[1m4/4\u001b[0m \u001b[32m━━━━━━━━━━━━━━━━━━━━\u001b[0m\u001b[37m\u001b[0m \u001b[1m0s\u001b[0m 37ms/step - accuracy: 0.3179 - loss: 0.0000e+00 - val_accuracy: 0.3000 - val_loss: 0.0000e+00\n",
            "Epoch 57/200\n",
            "\u001b[1m4/4\u001b[0m \u001b[32m━━━━━━━━━━━━━━━━━━━━\u001b[0m\u001b[37m\u001b[0m \u001b[1m0s\u001b[0m 23ms/step - accuracy: 0.3575 - loss: 0.0000e+00 - val_accuracy: 0.3000 - val_loss: 0.0000e+00\n",
            "Epoch 58/200\n",
            "\u001b[1m4/4\u001b[0m \u001b[32m━━━━━━━━━━━━━━━━━━━━\u001b[0m\u001b[37m\u001b[0m \u001b[1m0s\u001b[0m 27ms/step - accuracy: 0.3283 - loss: 0.0000e+00 - val_accuracy: 0.3000 - val_loss: 0.0000e+00\n",
            "Epoch 59/200\n",
            "\u001b[1m4/4\u001b[0m \u001b[32m━━━━━━━━━━━━━━━━━━━━\u001b[0m\u001b[37m\u001b[0m \u001b[1m0s\u001b[0m 25ms/step - accuracy: 0.3398 - loss: 0.0000e+00 - val_accuracy: 0.3000 - val_loss: 0.0000e+00\n",
            "Epoch 60/200\n",
            "\u001b[1m4/4\u001b[0m \u001b[32m━━━━━━━━━━━━━━━━━━━━\u001b[0m\u001b[37m\u001b[0m \u001b[1m0s\u001b[0m 26ms/step - accuracy: 0.3471 - loss: 0.0000e+00 - val_accuracy: 0.3000 - val_loss: 0.0000e+00\n",
            "Epoch 61/200\n",
            "\u001b[1m4/4\u001b[0m \u001b[32m━━━━━━━━━━━━━━━━━━━━\u001b[0m\u001b[37m\u001b[0m \u001b[1m0s\u001b[0m 25ms/step - accuracy: 0.3388 - loss: 0.0000e+00 - val_accuracy: 0.3000 - val_loss: 0.0000e+00\n",
            "Epoch 62/200\n",
            "\u001b[1m4/4\u001b[0m \u001b[32m━━━━━━━━━━━━━━━━━━━━\u001b[0m\u001b[37m\u001b[0m \u001b[1m0s\u001b[0m 47ms/step - accuracy: 0.3231 - loss: 0.0000e+00 - val_accuracy: 0.3000 - val_loss: 0.0000e+00\n",
            "Epoch 63/200\n",
            "\u001b[1m4/4\u001b[0m \u001b[32m━━━━━━━━━━━━━━━━━━━━\u001b[0m\u001b[37m\u001b[0m \u001b[1m0s\u001b[0m 27ms/step - accuracy: 0.3450 - loss: 0.0000e+00 - val_accuracy: 0.3000 - val_loss: 0.0000e+00\n",
            "Epoch 64/200\n",
            "\u001b[1m4/4\u001b[0m \u001b[32m━━━━━━━━━━━━━━━━━━━━\u001b[0m\u001b[37m\u001b[0m \u001b[1m0s\u001b[0m 25ms/step - accuracy: 0.3304 - loss: 0.0000e+00 - val_accuracy: 0.3000 - val_loss: 0.0000e+00\n",
            "Epoch 65/200\n",
            "\u001b[1m4/4\u001b[0m \u001b[32m━━━━━━━━━━━━━━━━━━━━\u001b[0m\u001b[37m\u001b[0m \u001b[1m0s\u001b[0m 39ms/step - accuracy: 0.3512 - loss: 0.0000e+00 - val_accuracy: 0.3000 - val_loss: 0.0000e+00\n",
            "Epoch 66/200\n",
            "\u001b[1m4/4\u001b[0m \u001b[32m━━━━━━━━━━━━━━━━━━━━\u001b[0m\u001b[37m\u001b[0m \u001b[1m0s\u001b[0m 24ms/step - accuracy: 0.3252 - loss: 0.0000e+00 - val_accuracy: 0.3000 - val_loss: 0.0000e+00\n",
            "Epoch 67/200\n",
            "\u001b[1m4/4\u001b[0m \u001b[32m━━━━━━━━━━━━━━━━━━━━\u001b[0m\u001b[37m\u001b[0m \u001b[1m0s\u001b[0m 23ms/step - accuracy: 0.3335 - loss: 0.0000e+00 - val_accuracy: 0.3000 - val_loss: 0.0000e+00\n",
            "Epoch 68/200\n",
            "\u001b[1m4/4\u001b[0m \u001b[32m━━━━━━━━━━━━━━━━━━━━\u001b[0m\u001b[37m\u001b[0m \u001b[1m0s\u001b[0m 28ms/step - accuracy: 0.3440 - loss: 0.0000e+00 - val_accuracy: 0.3000 - val_loss: 0.0000e+00\n",
            "Epoch 69/200\n",
            "\u001b[1m4/4\u001b[0m \u001b[32m━━━━━━━━━━━━━━━━━━━━\u001b[0m\u001b[37m\u001b[0m \u001b[1m0s\u001b[0m 25ms/step - accuracy: 0.3533 - loss: 0.0000e+00 - val_accuracy: 0.3000 - val_loss: 0.0000e+00\n",
            "Epoch 70/200\n",
            "\u001b[1m4/4\u001b[0m \u001b[32m━━━━━━━━━━━━━━━━━━━━\u001b[0m\u001b[37m\u001b[0m \u001b[1m0s\u001b[0m 25ms/step - accuracy: 0.3210 - loss: 0.0000e+00 - val_accuracy: 0.3000 - val_loss: 0.0000e+00\n",
            "Epoch 71/200\n",
            "\u001b[1m4/4\u001b[0m \u001b[32m━━━━━━━━━━━━━━━━━━━━\u001b[0m\u001b[37m\u001b[0m \u001b[1m0s\u001b[0m 26ms/step - accuracy: 0.3533 - loss: 0.0000e+00 - val_accuracy: 0.3000 - val_loss: 0.0000e+00\n",
            "Epoch 72/200\n",
            "\u001b[1m4/4\u001b[0m \u001b[32m━━━━━━━━━━━━━━━━━━━━\u001b[0m\u001b[37m\u001b[0m \u001b[1m0s\u001b[0m 39ms/step - accuracy: 0.3033 - loss: 0.0000e+00 - val_accuracy: 0.3000 - val_loss: 0.0000e+00\n",
            "Epoch 73/200\n",
            "\u001b[1m4/4\u001b[0m \u001b[32m━━━━━━━━━━━━━━━━━━━━\u001b[0m\u001b[37m\u001b[0m \u001b[1m0s\u001b[0m 27ms/step - accuracy: 0.3460 - loss: 0.0000e+00 - val_accuracy: 0.3000 - val_loss: 0.0000e+00\n",
            "Epoch 74/200\n",
            "\u001b[1m4/4\u001b[0m \u001b[32m━━━━━━━━━━━━━━━━━━━━\u001b[0m\u001b[37m\u001b[0m \u001b[1m0s\u001b[0m 25ms/step - accuracy: 0.3523 - loss: 0.0000e+00 - val_accuracy: 0.3000 - val_loss: 0.0000e+00\n",
            "Epoch 75/200\n",
            "\u001b[1m4/4\u001b[0m \u001b[32m━━━━━━━━━━━━━━━━━━━━\u001b[0m\u001b[37m\u001b[0m \u001b[1m0s\u001b[0m 25ms/step - accuracy: 0.3304 - loss: 0.0000e+00 - val_accuracy: 0.3000 - val_loss: 0.0000e+00\n",
            "Epoch 76/200\n",
            "\u001b[1m4/4\u001b[0m \u001b[32m━━━━━━━━━━━━━━━━━━━━\u001b[0m\u001b[37m\u001b[0m \u001b[1m0s\u001b[0m 26ms/step - accuracy: 0.3325 - loss: 0.0000e+00 - val_accuracy: 0.3000 - val_loss: 0.0000e+00\n",
            "Epoch 77/200\n",
            "\u001b[1m4/4\u001b[0m \u001b[32m━━━━━━━━━━━━━━━━━━━━\u001b[0m\u001b[37m\u001b[0m \u001b[1m0s\u001b[0m 26ms/step - accuracy: 0.3679 - loss: 0.0000e+00 - val_accuracy: 0.3000 - val_loss: 0.0000e+00\n",
            "Epoch 78/200\n",
            "\u001b[1m4/4\u001b[0m \u001b[32m━━━━━━━━━━━━━━━━━━━━\u001b[0m\u001b[37m\u001b[0m \u001b[1m0s\u001b[0m 25ms/step - accuracy: 0.3262 - loss: 0.0000e+00 - val_accuracy: 0.3000 - val_loss: 0.0000e+00\n",
            "Epoch 79/200\n",
            "\u001b[1m4/4\u001b[0m \u001b[32m━━━━━━━━━━━━━━━━━━━━\u001b[0m\u001b[37m\u001b[0m \u001b[1m0s\u001b[0m 25ms/step - accuracy: 0.3554 - loss: 0.0000e+00 - val_accuracy: 0.3000 - val_loss: 0.0000e+00\n",
            "Epoch 80/200\n",
            "\u001b[1m4/4\u001b[0m \u001b[32m━━━━━━━━━━━━━━━━━━━━\u001b[0m\u001b[37m\u001b[0m \u001b[1m0s\u001b[0m 33ms/step - accuracy: 0.3388 - loss: 0.0000e+00 - val_accuracy: 0.3000 - val_loss: 0.0000e+00\n",
            "Epoch 81/200\n",
            "\u001b[1m4/4\u001b[0m \u001b[32m━━━━━━━━━━━━━━━━━━━━\u001b[0m\u001b[37m\u001b[0m \u001b[1m0s\u001b[0m 45ms/step - accuracy: 0.3648 - loss: 0.0000e+00 - val_accuracy: 0.3000 - val_loss: 0.0000e+00\n",
            "Epoch 82/200\n",
            "\u001b[1m4/4\u001b[0m \u001b[32m━━━━━━━━━━━━━━━━━━━━\u001b[0m\u001b[37m\u001b[0m \u001b[1m0s\u001b[0m 37ms/step - accuracy: 0.3398 - loss: 0.0000e+00 - val_accuracy: 0.3000 - val_loss: 0.0000e+00\n",
            "Epoch 83/200\n",
            "\u001b[1m4/4\u001b[0m \u001b[32m━━━━━━━━━━━━━━━━━━━━\u001b[0m\u001b[37m\u001b[0m \u001b[1m0s\u001b[0m 47ms/step - accuracy: 0.3346 - loss: 0.0000e+00 - val_accuracy: 0.3000 - val_loss: 0.0000e+00\n",
            "Epoch 84/200\n",
            "\u001b[1m4/4\u001b[0m \u001b[32m━━━━━━━━━━━━━━━━━━━━\u001b[0m\u001b[37m\u001b[0m \u001b[1m0s\u001b[0m 44ms/step - accuracy: 0.3367 - loss: 0.0000e+00 - val_accuracy: 0.3000 - val_loss: 0.0000e+00\n",
            "Epoch 85/200\n",
            "\u001b[1m4/4\u001b[0m \u001b[32m━━━━━━━━━━━━━━━━━━━━\u001b[0m\u001b[37m\u001b[0m \u001b[1m0s\u001b[0m 31ms/step - accuracy: 0.3283 - loss: 0.0000e+00 - val_accuracy: 0.3000 - val_loss: 0.0000e+00\n",
            "Epoch 86/200\n",
            "\u001b[1m4/4\u001b[0m \u001b[32m━━━━━━━━━━━━━━━━━━━━\u001b[0m\u001b[37m\u001b[0m \u001b[1m0s\u001b[0m 44ms/step - accuracy: 0.3304 - loss: 0.0000e+00 - val_accuracy: 0.3000 - val_loss: 0.0000e+00\n",
            "Epoch 87/200\n",
            "\u001b[1m4/4\u001b[0m \u001b[32m━━━━━━━━━━━━━━━━━━━━\u001b[0m\u001b[37m\u001b[0m \u001b[1m0s\u001b[0m 44ms/step - accuracy: 0.3273 - loss: 0.0000e+00 - val_accuracy: 0.3000 - val_loss: 0.0000e+00\n",
            "Epoch 88/200\n",
            "\u001b[1m4/4\u001b[0m \u001b[32m━━━━━━━━━━━━━━━━━━━━\u001b[0m\u001b[37m\u001b[0m \u001b[1m0s\u001b[0m 46ms/step - accuracy: 0.3523 - loss: 0.0000e+00 - val_accuracy: 0.3000 - val_loss: 0.0000e+00\n",
            "Epoch 89/200\n",
            "\u001b[1m4/4\u001b[0m \u001b[32m━━━━━━━━━━━━━━━━━━━━\u001b[0m\u001b[37m\u001b[0m \u001b[1m0s\u001b[0m 27ms/step - accuracy: 0.3388 - loss: 0.0000e+00 - val_accuracy: 0.3000 - val_loss: 0.0000e+00\n",
            "Epoch 90/200\n",
            "\u001b[1m4/4\u001b[0m \u001b[32m━━━━━━━━━━━━━━━━━━━━\u001b[0m\u001b[37m\u001b[0m \u001b[1m0s\u001b[0m 26ms/step - accuracy: 0.3638 - loss: 0.0000e+00 - val_accuracy: 0.3000 - val_loss: 0.0000e+00\n",
            "Epoch 91/200\n",
            "\u001b[1m4/4\u001b[0m \u001b[32m━━━━━━━━━━━━━━━━━━━━\u001b[0m\u001b[37m\u001b[0m \u001b[1m0s\u001b[0m 26ms/step - accuracy: 0.3304 - loss: 0.0000e+00 - val_accuracy: 0.3000 - val_loss: 0.0000e+00\n",
            "Epoch 92/200\n",
            "\u001b[1m4/4\u001b[0m \u001b[32m━━━━━━━━━━━━━━━━━━━━\u001b[0m\u001b[37m\u001b[0m \u001b[1m0s\u001b[0m 42ms/step - accuracy: 0.3294 - loss: 0.0000e+00 - val_accuracy: 0.3000 - val_loss: 0.0000e+00\n",
            "Epoch 93/200\n",
            "\u001b[1m4/4\u001b[0m \u001b[32m━━━━━━━━━━━━━━━━━━━━\u001b[0m\u001b[37m\u001b[0m \u001b[1m0s\u001b[0m 28ms/step - accuracy: 0.3575 - loss: 0.0000e+00 - val_accuracy: 0.3000 - val_loss: 0.0000e+00\n",
            "Epoch 94/200\n",
            "\u001b[1m4/4\u001b[0m \u001b[32m━━━━━━━━━━━━━━━━━━━━\u001b[0m\u001b[37m\u001b[0m \u001b[1m0s\u001b[0m 27ms/step - accuracy: 0.3471 - loss: 0.0000e+00 - val_accuracy: 0.3000 - val_loss: 0.0000e+00\n",
            "Epoch 95/200\n",
            "\u001b[1m4/4\u001b[0m \u001b[32m━━━━━━━━━━━━━━━━━━━━\u001b[0m\u001b[37m\u001b[0m \u001b[1m0s\u001b[0m 26ms/step - accuracy: 0.3512 - loss: 0.0000e+00 - val_accuracy: 0.3000 - val_loss: 0.0000e+00\n",
            "Epoch 96/200\n",
            "\u001b[1m4/4\u001b[0m \u001b[32m━━━━━━━━━━━━━━━━━━━━\u001b[0m\u001b[37m\u001b[0m \u001b[1m0s\u001b[0m 26ms/step - accuracy: 0.3450 - loss: 0.0000e+00 - val_accuracy: 0.3000 - val_loss: 0.0000e+00\n",
            "Epoch 97/200\n",
            "\u001b[1m4/4\u001b[0m \u001b[32m━━━━━━━━━━━━━━━━━━━━\u001b[0m\u001b[37m\u001b[0m \u001b[1m0s\u001b[0m 27ms/step - accuracy: 0.3408 - loss: 0.0000e+00 - val_accuracy: 0.3000 - val_loss: 0.0000e+00\n",
            "Epoch 98/200\n",
            "\u001b[1m4/4\u001b[0m \u001b[32m━━━━━━━━━━━━━━━━━━━━\u001b[0m\u001b[37m\u001b[0m \u001b[1m0s\u001b[0m 25ms/step - accuracy: 0.3679 - loss: 0.0000e+00 - val_accuracy: 0.3000 - val_loss: 0.0000e+00\n",
            "Epoch 99/200\n",
            "\u001b[1m4/4\u001b[0m \u001b[32m━━━━━━━━━━━━━━━━━━━━\u001b[0m\u001b[37m\u001b[0m \u001b[1m0s\u001b[0m 26ms/step - accuracy: 0.3190 - loss: 0.0000e+00 - val_accuracy: 0.3000 - val_loss: 0.0000e+00\n",
            "Epoch 100/200\n",
            "\u001b[1m4/4\u001b[0m \u001b[32m━━━━━━━━━━━━━━━━━━━━\u001b[0m\u001b[37m\u001b[0m \u001b[1m0s\u001b[0m 27ms/step - accuracy: 0.3460 - loss: 0.0000e+00 - val_accuracy: 0.3000 - val_loss: 0.0000e+00\n",
            "Epoch 101/200\n",
            "\u001b[1m4/4\u001b[0m \u001b[32m━━━━━━━━━━━━━━━━━━━━\u001b[0m\u001b[37m\u001b[0m \u001b[1m0s\u001b[0m 24ms/step - accuracy: 0.3565 - loss: 0.0000e+00 - val_accuracy: 0.3000 - val_loss: 0.0000e+00\n",
            "Epoch 102/200\n",
            "\u001b[1m4/4\u001b[0m \u001b[32m━━━━━━━━━━━━━━━━━━━━\u001b[0m\u001b[37m\u001b[0m \u001b[1m0s\u001b[0m 23ms/step - accuracy: 0.3544 - loss: 0.0000e+00 - val_accuracy: 0.3000 - val_loss: 0.0000e+00\n",
            "Epoch 103/200\n",
            "\u001b[1m4/4\u001b[0m \u001b[32m━━━━━━━━━━━━━━━━━━━━\u001b[0m\u001b[37m\u001b[0m \u001b[1m0s\u001b[0m 23ms/step - accuracy: 0.3127 - loss: 0.0000e+00 - val_accuracy: 0.3000 - val_loss: 0.0000e+00\n",
            "Epoch 104/200\n",
            "\u001b[1m4/4\u001b[0m \u001b[32m━━━━━━━━━━━━━━━━━━━━\u001b[0m\u001b[37m\u001b[0m \u001b[1m0s\u001b[0m 23ms/step - accuracy: 0.2960 - loss: 0.0000e+00 - val_accuracy: 0.3000 - val_loss: 0.0000e+00\n",
            "Epoch 105/200\n",
            "\u001b[1m4/4\u001b[0m \u001b[32m━━━━━━━━━━━━━━━━━━━━\u001b[0m\u001b[37m\u001b[0m \u001b[1m0s\u001b[0m 23ms/step - accuracy: 0.3304 - loss: 0.0000e+00 - val_accuracy: 0.3000 - val_loss: 0.0000e+00\n",
            "Epoch 106/200\n",
            "\u001b[1m4/4\u001b[0m \u001b[32m━━━━━━━━━━━━━━━━━━━━\u001b[0m\u001b[37m\u001b[0m \u001b[1m0s\u001b[0m 22ms/step - accuracy: 0.3565 - loss: 0.0000e+00 - val_accuracy: 0.3000 - val_loss: 0.0000e+00\n",
            "Epoch 107/200\n",
            "\u001b[1m4/4\u001b[0m \u001b[32m━━━━━━━━━━━━━━━━━━━━\u001b[0m\u001b[37m\u001b[0m \u001b[1m0s\u001b[0m 25ms/step - accuracy: 0.3627 - loss: 0.0000e+00 - val_accuracy: 0.3000 - val_loss: 0.0000e+00\n",
            "Epoch 108/200\n",
            "\u001b[1m4/4\u001b[0m \u001b[32m━━━━━━━━━━━━━━━━━━━━\u001b[0m\u001b[37m\u001b[0m \u001b[1m0s\u001b[0m 23ms/step - accuracy: 0.3627 - loss: 0.0000e+00 - val_accuracy: 0.3000 - val_loss: 0.0000e+00\n",
            "Epoch 109/200\n",
            "\u001b[1m4/4\u001b[0m \u001b[32m━━━━━━━━━━━━━━━━━━━━\u001b[0m\u001b[37m\u001b[0m \u001b[1m0s\u001b[0m 23ms/step - accuracy: 0.3325 - loss: 0.0000e+00 - val_accuracy: 0.3000 - val_loss: 0.0000e+00\n",
            "Epoch 110/200\n",
            "\u001b[1m4/4\u001b[0m \u001b[32m━━━━━━━━━━━━━━━━━━━━\u001b[0m\u001b[37m\u001b[0m \u001b[1m0s\u001b[0m 23ms/step - accuracy: 0.3585 - loss: 0.0000e+00 - val_accuracy: 0.3000 - val_loss: 0.0000e+00\n",
            "Epoch 111/200\n",
            "\u001b[1m4/4\u001b[0m \u001b[32m━━━━━━━━━━━━━━━━━━━━\u001b[0m\u001b[37m\u001b[0m \u001b[1m0s\u001b[0m 24ms/step - accuracy: 0.3158 - loss: 0.0000e+00 - val_accuracy: 0.3000 - val_loss: 0.0000e+00\n",
            "Epoch 112/200\n",
            "\u001b[1m4/4\u001b[0m \u001b[32m━━━━━━━━━━━━━━━━━━━━\u001b[0m\u001b[37m\u001b[0m \u001b[1m0s\u001b[0m 29ms/step - accuracy: 0.3512 - loss: 0.0000e+00 - val_accuracy: 0.3000 - val_loss: 0.0000e+00\n",
            "Epoch 113/200\n",
            "\u001b[1m4/4\u001b[0m \u001b[32m━━━━━━━━━━━━━━━━━━━━\u001b[0m\u001b[37m\u001b[0m \u001b[1m0s\u001b[0m 36ms/step - accuracy: 0.3679 - loss: 0.0000e+00 - val_accuracy: 0.3000 - val_loss: 0.0000e+00\n",
            "Epoch 114/200\n",
            "\u001b[1m4/4\u001b[0m \u001b[32m━━━━━━━━━━━━━━━━━━━━\u001b[0m\u001b[37m\u001b[0m \u001b[1m0s\u001b[0m 23ms/step - accuracy: 0.3742 - loss: 0.0000e+00 - val_accuracy: 0.3000 - val_loss: 0.0000e+00\n",
            "Epoch 115/200\n",
            "\u001b[1m4/4\u001b[0m \u001b[32m━━━━━━━━━━━━━━━━━━━━\u001b[0m\u001b[37m\u001b[0m \u001b[1m0s\u001b[0m 23ms/step - accuracy: 0.3450 - loss: 0.0000e+00 - val_accuracy: 0.3000 - val_loss: 0.0000e+00\n",
            "Epoch 116/200\n",
            "\u001b[1m4/4\u001b[0m \u001b[32m━━━━━━━━━━━━━━━━━━━━\u001b[0m\u001b[37m\u001b[0m \u001b[1m0s\u001b[0m 23ms/step - accuracy: 0.3408 - loss: 0.0000e+00 - val_accuracy: 0.3000 - val_loss: 0.0000e+00\n",
            "Epoch 117/200\n",
            "\u001b[1m4/4\u001b[0m \u001b[32m━━━━━━━━━━━━━━━━━━━━\u001b[0m\u001b[37m\u001b[0m \u001b[1m0s\u001b[0m 23ms/step - accuracy: 0.3169 - loss: 0.0000e+00 - val_accuracy: 0.3000 - val_loss: 0.0000e+00\n",
            "Epoch 118/200\n",
            "\u001b[1m4/4\u001b[0m \u001b[32m━━━━━━━━━━━━━━━━━━━━\u001b[0m\u001b[37m\u001b[0m \u001b[1m0s\u001b[0m 24ms/step - accuracy: 0.3419 - loss: 0.0000e+00 - val_accuracy: 0.3000 - val_loss: 0.0000e+00\n",
            "Epoch 119/200\n",
            "\u001b[1m4/4\u001b[0m \u001b[32m━━━━━━━━━━━━━━━━━━━━\u001b[0m\u001b[37m\u001b[0m \u001b[1m0s\u001b[0m 23ms/step - accuracy: 0.3606 - loss: 0.0000e+00 - val_accuracy: 0.3000 - val_loss: 0.0000e+00\n",
            "Epoch 120/200\n",
            "\u001b[1m4/4\u001b[0m \u001b[32m━━━━━━━━━━━━━━━━━━━━\u001b[0m\u001b[37m\u001b[0m \u001b[1m0s\u001b[0m 26ms/step - accuracy: 0.3210 - loss: 0.0000e+00 - val_accuracy: 0.3000 - val_loss: 0.0000e+00\n",
            "Epoch 121/200\n",
            "\u001b[1m4/4\u001b[0m \u001b[32m━━━━━━━━━━━━━━━━━━━━\u001b[0m\u001b[37m\u001b[0m \u001b[1m0s\u001b[0m 24ms/step - accuracy: 0.3783 - loss: 0.0000e+00 - val_accuracy: 0.3000 - val_loss: 0.0000e+00\n",
            "Epoch 122/200\n",
            "\u001b[1m4/4\u001b[0m \u001b[32m━━━━━━━━━━━━━━━━━━━━\u001b[0m\u001b[37m\u001b[0m \u001b[1m0s\u001b[0m 23ms/step - accuracy: 0.3294 - loss: 0.0000e+00 - val_accuracy: 0.3000 - val_loss: 0.0000e+00\n",
            "Epoch 123/200\n",
            "\u001b[1m4/4\u001b[0m \u001b[32m━━━━━━━━━━━━━━━━━━━━\u001b[0m\u001b[37m\u001b[0m \u001b[1m0s\u001b[0m 25ms/step - accuracy: 0.3450 - loss: 0.0000e+00 - val_accuracy: 0.3000 - val_loss: 0.0000e+00\n",
            "Epoch 124/200\n",
            "\u001b[1m4/4\u001b[0m \u001b[32m━━━━━━━━━━━━━━━━━━━━\u001b[0m\u001b[37m\u001b[0m \u001b[1m0s\u001b[0m 23ms/step - accuracy: 0.3440 - loss: 0.0000e+00 - val_accuracy: 0.3000 - val_loss: 0.0000e+00\n",
            "Epoch 125/200\n",
            "\u001b[1m4/4\u001b[0m \u001b[32m━━━━━━━━━━━━━━━━━━━━\u001b[0m\u001b[37m\u001b[0m \u001b[1m0s\u001b[0m 23ms/step - accuracy: 0.3002 - loss: 0.0000e+00 - val_accuracy: 0.3000 - val_loss: 0.0000e+00\n",
            "Epoch 126/200\n",
            "\u001b[1m4/4\u001b[0m \u001b[32m━━━━━━━━━━━━━━━━━━━━\u001b[0m\u001b[37m\u001b[0m \u001b[1m0s\u001b[0m 23ms/step - accuracy: 0.3502 - loss: 0.0000e+00 - val_accuracy: 0.3000 - val_loss: 0.0000e+00\n",
            "Epoch 127/200\n",
            "\u001b[1m4/4\u001b[0m \u001b[32m━━━━━━━━━━━━━━━━━━━━\u001b[0m\u001b[37m\u001b[0m \u001b[1m0s\u001b[0m 23ms/step - accuracy: 0.3346 - loss: 0.0000e+00 - val_accuracy: 0.3000 - val_loss: 0.0000e+00\n",
            "Epoch 128/200\n",
            "\u001b[1m4/4\u001b[0m \u001b[32m━━━━━━━━━━━━━━━━━━━━\u001b[0m\u001b[37m\u001b[0m \u001b[1m0s\u001b[0m 28ms/step - accuracy: 0.3440 - loss: 0.0000e+00 - val_accuracy: 0.3000 - val_loss: 0.0000e+00\n",
            "Epoch 129/200\n",
            "\u001b[1m4/4\u001b[0m \u001b[32m━━━━━━━━━━━━━━━━━━━━\u001b[0m\u001b[37m\u001b[0m \u001b[1m0s\u001b[0m 23ms/step - accuracy: 0.3158 - loss: 0.0000e+00 - val_accuracy: 0.3000 - val_loss: 0.0000e+00\n",
            "Epoch 130/200\n",
            "\u001b[1m4/4\u001b[0m \u001b[32m━━━━━━━━━━━━━━━━━━━━\u001b[0m\u001b[37m\u001b[0m \u001b[1m0s\u001b[0m 23ms/step - accuracy: 0.3169 - loss: 0.0000e+00 - val_accuracy: 0.3000 - val_loss: 0.0000e+00\n",
            "Epoch 131/200\n",
            "\u001b[1m4/4\u001b[0m \u001b[32m━━━━━━━━━━━━━━━━━━━━\u001b[0m\u001b[37m\u001b[0m \u001b[1m0s\u001b[0m 23ms/step - accuracy: 0.3440 - loss: 0.0000e+00 - val_accuracy: 0.3000 - val_loss: 0.0000e+00\n",
            "Epoch 132/200\n",
            "\u001b[1m4/4\u001b[0m \u001b[32m━━━━━━━━━━━━━━━━━━━━\u001b[0m\u001b[37m\u001b[0m \u001b[1m0s\u001b[0m 24ms/step - accuracy: 0.3304 - loss: 0.0000e+00 - val_accuracy: 0.3000 - val_loss: 0.0000e+00\n",
            "Epoch 133/200\n",
            "\u001b[1m4/4\u001b[0m \u001b[32m━━━━━━━━━━━━━━━━━━━━\u001b[0m\u001b[37m\u001b[0m \u001b[1m0s\u001b[0m 24ms/step - accuracy: 0.3388 - loss: 0.0000e+00 - val_accuracy: 0.3000 - val_loss: 0.0000e+00\n",
            "Epoch 134/200\n",
            "\u001b[1m4/4\u001b[0m \u001b[32m━━━━━━━━━━━━━━━━━━━━\u001b[0m\u001b[37m\u001b[0m \u001b[1m0s\u001b[0m 25ms/step - accuracy: 0.3315 - loss: 0.0000e+00 - val_accuracy: 0.3000 - val_loss: 0.0000e+00\n",
            "Epoch 135/200\n",
            "\u001b[1m4/4\u001b[0m \u001b[32m━━━━━━━━━━━━━━━━━━━━\u001b[0m\u001b[37m\u001b[0m \u001b[1m0s\u001b[0m 25ms/step - accuracy: 0.3388 - loss: 0.0000e+00 - val_accuracy: 0.3000 - val_loss: 0.0000e+00\n",
            "Epoch 136/200\n",
            "\u001b[1m4/4\u001b[0m \u001b[32m━━━━━━━━━━━━━━━━━━━━\u001b[0m\u001b[37m\u001b[0m \u001b[1m0s\u001b[0m 38ms/step - accuracy: 0.3075 - loss: 0.0000e+00 - val_accuracy: 0.3000 - val_loss: 0.0000e+00\n",
            "Epoch 137/200\n",
            "\u001b[1m4/4\u001b[0m \u001b[32m━━━━━━━━━━━━━━━━━━━━\u001b[0m\u001b[37m\u001b[0m \u001b[1m0s\u001b[0m 25ms/step - accuracy: 0.3731 - loss: 0.0000e+00 - val_accuracy: 0.3000 - val_loss: 0.0000e+00\n",
            "Epoch 138/200\n",
            "\u001b[1m4/4\u001b[0m \u001b[32m━━━━━━━━━━━━━━━━━━━━\u001b[0m\u001b[37m\u001b[0m \u001b[1m0s\u001b[0m 26ms/step - accuracy: 0.3346 - loss: 0.0000e+00 - val_accuracy: 0.3000 - val_loss: 0.0000e+00\n",
            "Epoch 139/200\n",
            "\u001b[1m4/4\u001b[0m \u001b[32m━━━━━━━━━━━━━━━━━━━━\u001b[0m\u001b[37m\u001b[0m \u001b[1m0s\u001b[0m 27ms/step - accuracy: 0.3273 - loss: 0.0000e+00 - val_accuracy: 0.3000 - val_loss: 0.0000e+00\n",
            "Epoch 140/200\n",
            "\u001b[1m4/4\u001b[0m \u001b[32m━━━━━━━━━━━━━━━━━━━━\u001b[0m\u001b[37m\u001b[0m \u001b[1m0s\u001b[0m 26ms/step - accuracy: 0.3596 - loss: 0.0000e+00 - val_accuracy: 0.3000 - val_loss: 0.0000e+00\n",
            "Epoch 141/200\n",
            "\u001b[1m4/4\u001b[0m \u001b[32m━━━━━━━━━━━━━━━━━━━━\u001b[0m\u001b[37m\u001b[0m \u001b[1m0s\u001b[0m 26ms/step - accuracy: 0.3565 - loss: 0.0000e+00 - val_accuracy: 0.3000 - val_loss: 0.0000e+00\n",
            "Epoch 142/200\n",
            "\u001b[1m4/4\u001b[0m \u001b[32m━━━━━━━━━━━━━━━━━━━━\u001b[0m\u001b[37m\u001b[0m \u001b[1m0s\u001b[0m 27ms/step - accuracy: 0.3200 - loss: 0.0000e+00 - val_accuracy: 0.3000 - val_loss: 0.0000e+00\n",
            "Epoch 143/200\n",
            "\u001b[1m4/4\u001b[0m \u001b[32m━━━━━━━━━━━━━━━━━━━━\u001b[0m\u001b[37m\u001b[0m \u001b[1m0s\u001b[0m 24ms/step - accuracy: 0.3262 - loss: 0.0000e+00 - val_accuracy: 0.3000 - val_loss: 0.0000e+00\n",
            "Epoch 144/200\n",
            "\u001b[1m4/4\u001b[0m \u001b[32m━━━━━━━━━━━━━━━━━━━━\u001b[0m\u001b[37m\u001b[0m \u001b[1m0s\u001b[0m 26ms/step - accuracy: 0.3221 - loss: 0.0000e+00 - val_accuracy: 0.3000 - val_loss: 0.0000e+00\n",
            "Epoch 145/200\n",
            "\u001b[1m4/4\u001b[0m \u001b[32m━━━━━━━━━━━━━━━━━━━━\u001b[0m\u001b[37m\u001b[0m \u001b[1m0s\u001b[0m 24ms/step - accuracy: 0.3054 - loss: 0.0000e+00 - val_accuracy: 0.3000 - val_loss: 0.0000e+00\n",
            "Epoch 146/200\n",
            "\u001b[1m4/4\u001b[0m \u001b[32m━━━━━━━━━━━━━━━━━━━━\u001b[0m\u001b[37m\u001b[0m \u001b[1m0s\u001b[0m 26ms/step - accuracy: 0.3512 - loss: 0.0000e+00 - val_accuracy: 0.3000 - val_loss: 0.0000e+00\n",
            "Epoch 147/200\n",
            "\u001b[1m4/4\u001b[0m \u001b[32m━━━━━━━━━━━━━━━━━━━━\u001b[0m\u001b[37m\u001b[0m \u001b[1m0s\u001b[0m 38ms/step - accuracy: 0.3325 - loss: 0.0000e+00 - val_accuracy: 0.3000 - val_loss: 0.0000e+00\n",
            "Epoch 148/200\n",
            "\u001b[1m4/4\u001b[0m \u001b[32m━━━━━━━━━━━━━━━━━━━━\u001b[0m\u001b[37m\u001b[0m \u001b[1m0s\u001b[0m 25ms/step - accuracy: 0.3512 - loss: 0.0000e+00 - val_accuracy: 0.3000 - val_loss: 0.0000e+00\n",
            "Epoch 149/200\n",
            "\u001b[1m4/4\u001b[0m \u001b[32m━━━━━━━━━━━━━━━━━━━━\u001b[0m\u001b[37m\u001b[0m \u001b[1m0s\u001b[0m 27ms/step - accuracy: 0.3512 - loss: 0.0000e+00 - val_accuracy: 0.3000 - val_loss: 0.0000e+00\n",
            "Epoch 150/200\n",
            "\u001b[1m4/4\u001b[0m \u001b[32m━━━━━━━━━━━━━━━━━━━━\u001b[0m\u001b[37m\u001b[0m \u001b[1m0s\u001b[0m 40ms/step - accuracy: 0.3273 - loss: 0.0000e+00 - val_accuracy: 0.3000 - val_loss: 0.0000e+00\n",
            "Epoch 151/200\n",
            "\u001b[1m4/4\u001b[0m \u001b[32m━━━━━━━━━━━━━━━━━━━━\u001b[0m\u001b[37m\u001b[0m \u001b[1m0s\u001b[0m 27ms/step - accuracy: 0.3502 - loss: 0.0000e+00 - val_accuracy: 0.3000 - val_loss: 0.0000e+00\n",
            "Epoch 152/200\n",
            "\u001b[1m4/4\u001b[0m \u001b[32m━━━━━━━━━━━━━━━━━━━━\u001b[0m\u001b[37m\u001b[0m \u001b[1m0s\u001b[0m 25ms/step - accuracy: 0.3252 - loss: 0.0000e+00 - val_accuracy: 0.3000 - val_loss: 0.0000e+00\n",
            "Epoch 153/200\n",
            "\u001b[1m4/4\u001b[0m \u001b[32m━━━━━━━━━━━━━━━━━━━━\u001b[0m\u001b[37m\u001b[0m \u001b[1m0s\u001b[0m 26ms/step - accuracy: 0.3440 - loss: 0.0000e+00 - val_accuracy: 0.3000 - val_loss: 0.0000e+00\n",
            "Epoch 154/200\n",
            "\u001b[1m4/4\u001b[0m \u001b[32m━━━━━━━━━━━━━━━━━━━━\u001b[0m\u001b[37m\u001b[0m \u001b[1m0s\u001b[0m 40ms/step - accuracy: 0.3627 - loss: 0.0000e+00 - val_accuracy: 0.3000 - val_loss: 0.0000e+00\n",
            "Epoch 155/200\n",
            "\u001b[1m4/4\u001b[0m \u001b[32m━━━━━━━━━━━━━━━━━━━━\u001b[0m\u001b[37m\u001b[0m \u001b[1m0s\u001b[0m 26ms/step - accuracy: 0.3398 - loss: 0.0000e+00 - val_accuracy: 0.3000 - val_loss: 0.0000e+00\n",
            "Epoch 156/200\n",
            "\u001b[1m4/4\u001b[0m \u001b[32m━━━━━━━━━━━━━━━━━━━━\u001b[0m\u001b[37m\u001b[0m \u001b[1m0s\u001b[0m 26ms/step - accuracy: 0.3294 - loss: 0.0000e+00 - val_accuracy: 0.3000 - val_loss: 0.0000e+00\n",
            "Epoch 157/200\n",
            "\u001b[1m4/4\u001b[0m \u001b[32m━━━━━━━━━━━━━━━━━━━━\u001b[0m\u001b[37m\u001b[0m \u001b[1m0s\u001b[0m 25ms/step - accuracy: 0.2992 - loss: 0.0000e+00 - val_accuracy: 0.3000 - val_loss: 0.0000e+00\n",
            "Epoch 158/200\n",
            "\u001b[1m4/4\u001b[0m \u001b[32m━━━━━━━━━━━━━━━━━━━━\u001b[0m\u001b[37m\u001b[0m \u001b[1m0s\u001b[0m 26ms/step - accuracy: 0.3096 - loss: 0.0000e+00 - val_accuracy: 0.3000 - val_loss: 0.0000e+00\n",
            "Epoch 159/200\n",
            "\u001b[1m4/4\u001b[0m \u001b[32m━━━━━━━━━━━━━━━━━━━━\u001b[0m\u001b[37m\u001b[0m \u001b[1m0s\u001b[0m 30ms/step - accuracy: 0.2940 - loss: 0.0000e+00 - val_accuracy: 0.3000 - val_loss: 0.0000e+00\n",
            "Epoch 160/200\n",
            "\u001b[1m4/4\u001b[0m \u001b[32m━━━━━━━━━━━━━━━━━━━━\u001b[0m\u001b[37m\u001b[0m \u001b[1m0s\u001b[0m 25ms/step - accuracy: 0.3690 - loss: 0.0000e+00 - val_accuracy: 0.3000 - val_loss: 0.0000e+00\n",
            "Epoch 161/200\n",
            "\u001b[1m4/4\u001b[0m \u001b[32m━━━━━━━━━━━━━━━━━━━━\u001b[0m\u001b[37m\u001b[0m \u001b[1m0s\u001b[0m 39ms/step - accuracy: 0.3460 - loss: 0.0000e+00 - val_accuracy: 0.3000 - val_loss: 0.0000e+00\n",
            "Epoch 162/200\n",
            "\u001b[1m4/4\u001b[0m \u001b[32m━━━━━━━━━━━━━━━━━━━━\u001b[0m\u001b[37m\u001b[0m \u001b[1m0s\u001b[0m 26ms/step - accuracy: 0.3169 - loss: 0.0000e+00 - val_accuracy: 0.3000 - val_loss: 0.0000e+00\n",
            "Epoch 163/200\n",
            "\u001b[1m4/4\u001b[0m \u001b[32m━━━━━━━━━━━━━━━━━━━━\u001b[0m\u001b[37m\u001b[0m \u001b[1m0s\u001b[0m 25ms/step - accuracy: 0.3252 - loss: 0.0000e+00 - val_accuracy: 0.3000 - val_loss: 0.0000e+00\n",
            "Epoch 164/200\n",
            "\u001b[1m4/4\u001b[0m \u001b[32m━━━━━━━━━━━━━━━━━━━━\u001b[0m\u001b[37m\u001b[0m \u001b[1m0s\u001b[0m 31ms/step - accuracy: 0.3398 - loss: 0.0000e+00 - val_accuracy: 0.3000 - val_loss: 0.0000e+00\n",
            "Epoch 165/200\n",
            "\u001b[1m4/4\u001b[0m \u001b[32m━━━━━━━━━━━━━━━━━━━━\u001b[0m\u001b[37m\u001b[0m \u001b[1m0s\u001b[0m 50ms/step - accuracy: 0.3460 - loss: 0.0000e+00 - val_accuracy: 0.3000 - val_loss: 0.0000e+00\n",
            "Epoch 166/200\n",
            "\u001b[1m4/4\u001b[0m \u001b[32m━━━━━━━━━━━━━━━━━━━━\u001b[0m\u001b[37m\u001b[0m \u001b[1m0s\u001b[0m 53ms/step - accuracy: 0.3294 - loss: 0.0000e+00 - val_accuracy: 0.3000 - val_loss: 0.0000e+00\n",
            "Epoch 167/200\n",
            "\u001b[1m4/4\u001b[0m \u001b[32m━━━━━━━━━━━━━━━━━━━━\u001b[0m\u001b[37m\u001b[0m \u001b[1m0s\u001b[0m 50ms/step - accuracy: 0.3710 - loss: 0.0000e+00 - val_accuracy: 0.3000 - val_loss: 0.0000e+00\n",
            "Epoch 168/200\n",
            "\u001b[1m4/4\u001b[0m \u001b[32m━━━━━━━━━━━━━━━━━━━━\u001b[0m\u001b[37m\u001b[0m \u001b[1m0s\u001b[0m 45ms/step - accuracy: 0.3669 - loss: 0.0000e+00 - val_accuracy: 0.3000 - val_loss: 0.0000e+00\n",
            "Epoch 169/200\n",
            "\u001b[1m4/4\u001b[0m \u001b[32m━━━━━━━━━━━━━━━━━━━━\u001b[0m\u001b[37m\u001b[0m \u001b[1m0s\u001b[0m 36ms/step - accuracy: 0.3502 - loss: 0.0000e+00 - val_accuracy: 0.3000 - val_loss: 0.0000e+00\n",
            "Epoch 170/200\n",
            "\u001b[1m4/4\u001b[0m \u001b[32m━━━━━━━━━━━━━━━━━━━━\u001b[0m\u001b[37m\u001b[0m \u001b[1m0s\u001b[0m 39ms/step - accuracy: 0.3440 - loss: 0.0000e+00 - val_accuracy: 0.3000 - val_loss: 0.0000e+00\n",
            "Epoch 171/200\n",
            "\u001b[1m4/4\u001b[0m \u001b[32m━━━━━━━━━━━━━━━━━━━━\u001b[0m\u001b[37m\u001b[0m \u001b[1m0s\u001b[0m 40ms/step - accuracy: 0.3502 - loss: 0.0000e+00 - val_accuracy: 0.3000 - val_loss: 0.0000e+00\n",
            "Epoch 172/200\n",
            "\u001b[1m4/4\u001b[0m \u001b[32m━━━━━━━━━━━━━━━━━━━━\u001b[0m\u001b[37m\u001b[0m \u001b[1m0s\u001b[0m 45ms/step - accuracy: 0.3908 - loss: 0.0000e+00 - val_accuracy: 0.3000 - val_loss: 0.0000e+00\n",
            "Epoch 173/200\n",
            "\u001b[1m4/4\u001b[0m \u001b[32m━━━━━━━━━━━━━━━━━━━━\u001b[0m\u001b[37m\u001b[0m \u001b[1m0s\u001b[0m 39ms/step - accuracy: 0.3127 - loss: 0.0000e+00 - val_accuracy: 0.3000 - val_loss: 0.0000e+00\n",
            "Epoch 174/200\n",
            "\u001b[1m4/4\u001b[0m \u001b[32m━━━━━━━━━━━━━━━━━━━━\u001b[0m\u001b[37m\u001b[0m \u001b[1m0s\u001b[0m 42ms/step - accuracy: 0.3148 - loss: 0.0000e+00 - val_accuracy: 0.3000 - val_loss: 0.0000e+00\n",
            "Epoch 175/200\n",
            "\u001b[1m4/4\u001b[0m \u001b[32m━━━━━━━━━━━━━━━━━━━━\u001b[0m\u001b[37m\u001b[0m \u001b[1m0s\u001b[0m 32ms/step - accuracy: 0.3752 - loss: 0.0000e+00 - val_accuracy: 0.3000 - val_loss: 0.0000e+00\n",
            "Epoch 176/200\n",
            "\u001b[1m4/4\u001b[0m \u001b[32m━━━━━━━━━━━━━━━━━━━━\u001b[0m\u001b[37m\u001b[0m \u001b[1m0s\u001b[0m 26ms/step - accuracy: 0.3648 - loss: 0.0000e+00 - val_accuracy: 0.3000 - val_loss: 0.0000e+00\n",
            "Epoch 177/200\n",
            "\u001b[1m4/4\u001b[0m \u001b[32m━━━━━━━━━━━━━━━━━━━━\u001b[0m\u001b[37m\u001b[0m \u001b[1m0s\u001b[0m 27ms/step - accuracy: 0.3283 - loss: 0.0000e+00 - val_accuracy: 0.3000 - val_loss: 0.0000e+00\n",
            "Epoch 178/200\n",
            "\u001b[1m4/4\u001b[0m \u001b[32m━━━━━━━━━━━━━━━━━━━━\u001b[0m\u001b[37m\u001b[0m \u001b[1m0s\u001b[0m 26ms/step - accuracy: 0.3440 - loss: 0.0000e+00 - val_accuracy: 0.3000 - val_loss: 0.0000e+00\n",
            "Epoch 179/200\n",
            "\u001b[1m4/4\u001b[0m \u001b[32m━━━━━━━━━━━━━━━━━━━━\u001b[0m\u001b[37m\u001b[0m \u001b[1m0s\u001b[0m 27ms/step - accuracy: 0.3887 - loss: 0.0000e+00 - val_accuracy: 0.3000 - val_loss: 0.0000e+00\n",
            "Epoch 180/200\n",
            "\u001b[1m4/4\u001b[0m \u001b[32m━━━━━━━━━━━━━━━━━━━━\u001b[0m\u001b[37m\u001b[0m \u001b[1m0s\u001b[0m 24ms/step - accuracy: 0.3544 - loss: 0.0000e+00 - val_accuracy: 0.3000 - val_loss: 0.0000e+00\n",
            "Epoch 181/200\n",
            "\u001b[1m4/4\u001b[0m \u001b[32m━━━━━━━━━━━━━━━━━━━━\u001b[0m\u001b[37m\u001b[0m \u001b[1m0s\u001b[0m 27ms/step - accuracy: 0.3742 - loss: 0.0000e+00 - val_accuracy: 0.3000 - val_loss: 0.0000e+00\n",
            "Epoch 182/200\n",
            "\u001b[1m4/4\u001b[0m \u001b[32m━━━━━━━━━━━━━━━━━━━━\u001b[0m\u001b[37m\u001b[0m \u001b[1m0s\u001b[0m 26ms/step - accuracy: 0.3710 - loss: 0.0000e+00 - val_accuracy: 0.3000 - val_loss: 0.0000e+00\n",
            "Epoch 183/200\n",
            "\u001b[1m4/4\u001b[0m \u001b[32m━━━━━━━━━━━━━━━━━━━━\u001b[0m\u001b[37m\u001b[0m \u001b[1m0s\u001b[0m 30ms/step - accuracy: 0.3523 - loss: 0.0000e+00 - val_accuracy: 0.3000 - val_loss: 0.0000e+00\n",
            "Epoch 184/200\n",
            "\u001b[1m4/4\u001b[0m \u001b[32m━━━━━━━━━━━━━━━━━━━━\u001b[0m\u001b[37m\u001b[0m \u001b[1m0s\u001b[0m 28ms/step - accuracy: 0.3356 - loss: 0.0000e+00 - val_accuracy: 0.3000 - val_loss: 0.0000e+00\n",
            "Epoch 185/200\n",
            "\u001b[1m4/4\u001b[0m \u001b[32m━━━━━━━━━━━━━━━━━━━━\u001b[0m\u001b[37m\u001b[0m \u001b[1m0s\u001b[0m 26ms/step - accuracy: 0.3388 - loss: 0.0000e+00 - val_accuracy: 0.3000 - val_loss: 0.0000e+00\n",
            "Epoch 186/200\n",
            "\u001b[1m4/4\u001b[0m \u001b[32m━━━━━━━━━━━━━━━━━━━━\u001b[0m\u001b[37m\u001b[0m \u001b[1m0s\u001b[0m 27ms/step - accuracy: 0.3429 - loss: 0.0000e+00 - val_accuracy: 0.3000 - val_loss: 0.0000e+00\n",
            "Epoch 187/200\n",
            "\u001b[1m4/4\u001b[0m \u001b[32m━━━━━━━━━━━━━━━━━━━━\u001b[0m\u001b[37m\u001b[0m \u001b[1m0s\u001b[0m 25ms/step - accuracy: 0.3137 - loss: 0.0000e+00 - val_accuracy: 0.3000 - val_loss: 0.0000e+00\n",
            "Epoch 188/200\n",
            "\u001b[1m4/4\u001b[0m \u001b[32m━━━━━━━━━━━━━━━━━━━━\u001b[0m\u001b[37m\u001b[0m \u001b[1m0s\u001b[0m 24ms/step - accuracy: 0.3460 - loss: 0.0000e+00 - val_accuracy: 0.3000 - val_loss: 0.0000e+00\n",
            "Epoch 189/200\n",
            "\u001b[1m4/4\u001b[0m \u001b[32m━━━━━━━━━━━━━━━━━━━━\u001b[0m\u001b[37m\u001b[0m \u001b[1m0s\u001b[0m 23ms/step - accuracy: 0.3544 - loss: 0.0000e+00 - val_accuracy: 0.3000 - val_loss: 0.0000e+00\n",
            "Epoch 190/200\n",
            "\u001b[1m4/4\u001b[0m \u001b[32m━━━━━━━━━━━━━━━━━━━━\u001b[0m\u001b[37m\u001b[0m \u001b[1m0s\u001b[0m 23ms/step - accuracy: 0.2950 - loss: 0.0000e+00 - val_accuracy: 0.3000 - val_loss: 0.0000e+00\n",
            "Epoch 191/200\n",
            "\u001b[1m4/4\u001b[0m \u001b[32m━━━━━━━━━━━━━━━━━━━━\u001b[0m\u001b[37m\u001b[0m \u001b[1m0s\u001b[0m 29ms/step - accuracy: 0.3013 - loss: 0.0000e+00 - val_accuracy: 0.3000 - val_loss: 0.0000e+00\n",
            "Epoch 192/200\n",
            "\u001b[1m4/4\u001b[0m \u001b[32m━━━━━━━━━━━━━━━━━━━━\u001b[0m\u001b[37m\u001b[0m \u001b[1m0s\u001b[0m 23ms/step - accuracy: 0.3940 - loss: 0.0000e+00 - val_accuracy: 0.3000 - val_loss: 0.0000e+00\n",
            "Epoch 193/200\n",
            "\u001b[1m4/4\u001b[0m \u001b[32m━━━━━━━━━━━━━━━━━━━━\u001b[0m\u001b[37m\u001b[0m \u001b[1m0s\u001b[0m 24ms/step - accuracy: 0.3606 - loss: 0.0000e+00 - val_accuracy: 0.3000 - val_loss: 0.0000e+00\n",
            "Epoch 194/200\n",
            "\u001b[1m4/4\u001b[0m \u001b[32m━━━━━━━━━━━━━━━━━━━━\u001b[0m\u001b[37m\u001b[0m \u001b[1m0s\u001b[0m 23ms/step - accuracy: 0.3762 - loss: 0.0000e+00 - val_accuracy: 0.3000 - val_loss: 0.0000e+00\n",
            "Epoch 195/200\n",
            "\u001b[1m4/4\u001b[0m \u001b[32m━━━━━━━━━━━━━━━━━━━━\u001b[0m\u001b[37m\u001b[0m \u001b[1m0s\u001b[0m 24ms/step - accuracy: 0.3606 - loss: 0.0000e+00 - val_accuracy: 0.3000 - val_loss: 0.0000e+00\n",
            "Epoch 196/200\n",
            "\u001b[1m4/4\u001b[0m \u001b[32m━━━━━━━━━━━━━━━━━━━━\u001b[0m\u001b[37m\u001b[0m \u001b[1m0s\u001b[0m 23ms/step - accuracy: 0.3252 - loss: 0.0000e+00 - val_accuracy: 0.3000 - val_loss: 0.0000e+00\n",
            "Epoch 197/200\n",
            "\u001b[1m4/4\u001b[0m \u001b[32m━━━━━━━━━━━━━━━━━━━━\u001b[0m\u001b[37m\u001b[0m \u001b[1m0s\u001b[0m 23ms/step - accuracy: 0.3533 - loss: 0.0000e+00 - val_accuracy: 0.3000 - val_loss: 0.0000e+00\n",
            "Epoch 198/200\n",
            "\u001b[1m4/4\u001b[0m \u001b[32m━━━━━━━━━━━━━━━━━━━━\u001b[0m\u001b[37m\u001b[0m \u001b[1m0s\u001b[0m 24ms/step - accuracy: 0.3294 - loss: 0.0000e+00 - val_accuracy: 0.3000 - val_loss: 0.0000e+00\n",
            "Epoch 199/200\n",
            "\u001b[1m4/4\u001b[0m \u001b[32m━━━━━━━━━━━━━━━━━━━━\u001b[0m\u001b[37m\u001b[0m \u001b[1m0s\u001b[0m 38ms/step - accuracy: 0.3273 - loss: 0.0000e+00 - val_accuracy: 0.3000 - val_loss: 0.0000e+00\n",
            "Epoch 200/200\n",
            "\u001b[1m4/4\u001b[0m \u001b[32m━━━━━━━━━━━━━━━━━━━━\u001b[0m\u001b[37m\u001b[0m \u001b[1m0s\u001b[0m 25ms/step - accuracy: 0.3460 - loss: 0.0000e+00 - val_accuracy: 0.3000 - val_loss: 0.0000e+00\n"
          ]
        }
      ]
    },
    {
      "cell_type": "code",
      "source": [
        "print(history.history.keys())"
      ],
      "metadata": {
        "colab": {
          "base_uri": "https://localhost:8080/"
        },
        "id": "dO1cPn7srsu1",
        "outputId": "8c555b49-e8d9-4bba-b046-5536f991ce46"
      },
      "execution_count": 22,
      "outputs": [
        {
          "output_type": "stream",
          "name": "stdout",
          "text": [
            "dict_keys(['accuracy', 'loss', 'val_accuracy', 'val_loss'])\n"
          ]
        }
      ]
    },
    {
      "cell_type": "code",
      "source": [
        "test_loss, acc = model_4.evaluate(X_test_iris, y_test_iris, verbose=2)\n",
        "print(f\"\\nTest MSE: {test_loss:.4f}, Test accuracy: {acc:.4f}\")\n",
        "\n",
        "# Model summary\n",
        "print(\"\\nModel Summary:\")\n",
        "model_4.summary()\n",
        "\n",
        "plt.figure(figsize=(10, 6))\n",
        "plt.plot(history.history['loss'], label='Training Loss (Categorical Cross-Entropy)')\n",
        "plt.plot(history.history['val_loss'], label='Test Loss (Categorical Cross-Entropy)')\n",
        "plt.title('Training vs Validation Loss')\n",
        "plt.xlabel('Epoch')\n",
        "plt.ylabel('Mean Squared Error')\n",
        "plt.legend()\n",
        "plt.grid(True)\n",
        "plt.show()"
      ],
      "metadata": {
        "colab": {
          "base_uri": "https://localhost:8080/",
          "height": 962
        },
        "id": "Sr6Kkmn4qckO",
        "outputId": "1af4879f-062f-471e-98cc-79ea57f8d744"
      },
      "execution_count": 23,
      "outputs": [
        {
          "output_type": "stream",
          "name": "stdout",
          "text": [
            "1/1 - 0s - 41ms/step - accuracy: 0.3000 - loss: 0.0000e+00\n",
            "\n",
            "Test MSE: 0.0000, Test accuracy: 0.3000\n",
            "\n",
            "Model Summary:\n"
          ]
        },
        {
          "output_type": "display_data",
          "data": {
            "text/plain": [
              "\u001b[1mModel: \"sequential_2\"\u001b[0m\n"
            ],
            "text/html": [
              "<pre style=\"white-space:pre;overflow-x:auto;line-height:normal;font-family:Menlo,'DejaVu Sans Mono',consolas,'Courier New',monospace\"><span style=\"font-weight: bold\">Model: \"sequential_2\"</span>\n",
              "</pre>\n"
            ]
          },
          "metadata": {}
        },
        {
          "output_type": "display_data",
          "data": {
            "text/plain": [
              "┏━━━━━━━━━━━━━━━━━━━━━━━━━━━━━━━━━┳━━━━━━━━━━━━━━━━━━━━━━━━┳━━━━━━━━━━━━━━━┓\n",
              "┃\u001b[1m \u001b[0m\u001b[1mLayer (type)                   \u001b[0m\u001b[1m \u001b[0m┃\u001b[1m \u001b[0m\u001b[1mOutput Shape          \u001b[0m\u001b[1m \u001b[0m┃\u001b[1m \u001b[0m\u001b[1m      Param #\u001b[0m\u001b[1m \u001b[0m┃\n",
              "┡━━━━━━━━━━━━━━━━━━━━━━━━━━━━━━━━━╇━━━━━━━━━━━━━━━━━━━━━━━━╇━━━━━━━━━━━━━━━┩\n",
              "│ dense_6 (\u001b[38;5;33mDense\u001b[0m)                 │ (\u001b[38;5;45mNone\u001b[0m, \u001b[38;5;34m64\u001b[0m)             │           \u001b[38;5;34m320\u001b[0m │\n",
              "├─────────────────────────────────┼────────────────────────┼───────────────┤\n",
              "│ dropout_2 (\u001b[38;5;33mDropout\u001b[0m)             │ (\u001b[38;5;45mNone\u001b[0m, \u001b[38;5;34m64\u001b[0m)             │             \u001b[38;5;34m0\u001b[0m │\n",
              "├─────────────────────────────────┼────────────────────────┼───────────────┤\n",
              "│ dense_7 (\u001b[38;5;33mDense\u001b[0m)                 │ (\u001b[38;5;45mNone\u001b[0m, \u001b[38;5;34m32\u001b[0m)             │         \u001b[38;5;34m2,080\u001b[0m │\n",
              "├─────────────────────────────────┼────────────────────────┼───────────────┤\n",
              "│ dropout_3 (\u001b[38;5;33mDropout\u001b[0m)             │ (\u001b[38;5;45mNone\u001b[0m, \u001b[38;5;34m32\u001b[0m)             │             \u001b[38;5;34m0\u001b[0m │\n",
              "├─────────────────────────────────┼────────────────────────┼───────────────┤\n",
              "│ dense_8 (\u001b[38;5;33mDense\u001b[0m)                 │ (\u001b[38;5;45mNone\u001b[0m, \u001b[38;5;34m16\u001b[0m)             │           \u001b[38;5;34m528\u001b[0m │\n",
              "├─────────────────────────────────┼────────────────────────┼───────────────┤\n",
              "│ dense_9 (\u001b[38;5;33mDense\u001b[0m)                 │ (\u001b[38;5;45mNone\u001b[0m, \u001b[38;5;34m1\u001b[0m)              │            \u001b[38;5;34m17\u001b[0m │\n",
              "└─────────────────────────────────┴────────────────────────┴───────────────┘\n"
            ],
            "text/html": [
              "<pre style=\"white-space:pre;overflow-x:auto;line-height:normal;font-family:Menlo,'DejaVu Sans Mono',consolas,'Courier New',monospace\">┏━━━━━━━━━━━━━━━━━━━━━━━━━━━━━━━━━┳━━━━━━━━━━━━━━━━━━━━━━━━┳━━━━━━━━━━━━━━━┓\n",
              "┃<span style=\"font-weight: bold\"> Layer (type)                    </span>┃<span style=\"font-weight: bold\"> Output Shape           </span>┃<span style=\"font-weight: bold\">       Param # </span>┃\n",
              "┡━━━━━━━━━━━━━━━━━━━━━━━━━━━━━━━━━╇━━━━━━━━━━━━━━━━━━━━━━━━╇━━━━━━━━━━━━━━━┩\n",
              "│ dense_6 (<span style=\"color: #0087ff; text-decoration-color: #0087ff\">Dense</span>)                 │ (<span style=\"color: #00d7ff; text-decoration-color: #00d7ff\">None</span>, <span style=\"color: #00af00; text-decoration-color: #00af00\">64</span>)             │           <span style=\"color: #00af00; text-decoration-color: #00af00\">320</span> │\n",
              "├─────────────────────────────────┼────────────────────────┼───────────────┤\n",
              "│ dropout_2 (<span style=\"color: #0087ff; text-decoration-color: #0087ff\">Dropout</span>)             │ (<span style=\"color: #00d7ff; text-decoration-color: #00d7ff\">None</span>, <span style=\"color: #00af00; text-decoration-color: #00af00\">64</span>)             │             <span style=\"color: #00af00; text-decoration-color: #00af00\">0</span> │\n",
              "├─────────────────────────────────┼────────────────────────┼───────────────┤\n",
              "│ dense_7 (<span style=\"color: #0087ff; text-decoration-color: #0087ff\">Dense</span>)                 │ (<span style=\"color: #00d7ff; text-decoration-color: #00d7ff\">None</span>, <span style=\"color: #00af00; text-decoration-color: #00af00\">32</span>)             │         <span style=\"color: #00af00; text-decoration-color: #00af00\">2,080</span> │\n",
              "├─────────────────────────────────┼────────────────────────┼───────────────┤\n",
              "│ dropout_3 (<span style=\"color: #0087ff; text-decoration-color: #0087ff\">Dropout</span>)             │ (<span style=\"color: #00d7ff; text-decoration-color: #00d7ff\">None</span>, <span style=\"color: #00af00; text-decoration-color: #00af00\">32</span>)             │             <span style=\"color: #00af00; text-decoration-color: #00af00\">0</span> │\n",
              "├─────────────────────────────────┼────────────────────────┼───────────────┤\n",
              "│ dense_8 (<span style=\"color: #0087ff; text-decoration-color: #0087ff\">Dense</span>)                 │ (<span style=\"color: #00d7ff; text-decoration-color: #00d7ff\">None</span>, <span style=\"color: #00af00; text-decoration-color: #00af00\">16</span>)             │           <span style=\"color: #00af00; text-decoration-color: #00af00\">528</span> │\n",
              "├─────────────────────────────────┼────────────────────────┼───────────────┤\n",
              "│ dense_9 (<span style=\"color: #0087ff; text-decoration-color: #0087ff\">Dense</span>)                 │ (<span style=\"color: #00d7ff; text-decoration-color: #00d7ff\">None</span>, <span style=\"color: #00af00; text-decoration-color: #00af00\">1</span>)              │            <span style=\"color: #00af00; text-decoration-color: #00af00\">17</span> │\n",
              "└─────────────────────────────────┴────────────────────────┴───────────────┘\n",
              "</pre>\n"
            ]
          },
          "metadata": {}
        },
        {
          "output_type": "display_data",
          "data": {
            "text/plain": [
              "\u001b[1m Total params: \u001b[0m\u001b[38;5;34m8,837\u001b[0m (34.52 KB)\n"
            ],
            "text/html": [
              "<pre style=\"white-space:pre;overflow-x:auto;line-height:normal;font-family:Menlo,'DejaVu Sans Mono',consolas,'Courier New',monospace\"><span style=\"font-weight: bold\"> Total params: </span><span style=\"color: #00af00; text-decoration-color: #00af00\">8,837</span> (34.52 KB)\n",
              "</pre>\n"
            ]
          },
          "metadata": {}
        },
        {
          "output_type": "display_data",
          "data": {
            "text/plain": [
              "\u001b[1m Trainable params: \u001b[0m\u001b[38;5;34m2,945\u001b[0m (11.50 KB)\n"
            ],
            "text/html": [
              "<pre style=\"white-space:pre;overflow-x:auto;line-height:normal;font-family:Menlo,'DejaVu Sans Mono',consolas,'Courier New',monospace\"><span style=\"font-weight: bold\"> Trainable params: </span><span style=\"color: #00af00; text-decoration-color: #00af00\">2,945</span> (11.50 KB)\n",
              "</pre>\n"
            ]
          },
          "metadata": {}
        },
        {
          "output_type": "display_data",
          "data": {
            "text/plain": [
              "\u001b[1m Non-trainable params: \u001b[0m\u001b[38;5;34m0\u001b[0m (0.00 B)\n"
            ],
            "text/html": [
              "<pre style=\"white-space:pre;overflow-x:auto;line-height:normal;font-family:Menlo,'DejaVu Sans Mono',consolas,'Courier New',monospace\"><span style=\"font-weight: bold\"> Non-trainable params: </span><span style=\"color: #00af00; text-decoration-color: #00af00\">0</span> (0.00 B)\n",
              "</pre>\n"
            ]
          },
          "metadata": {}
        },
        {
          "output_type": "display_data",
          "data": {
            "text/plain": [
              "\u001b[1m Optimizer params: \u001b[0m\u001b[38;5;34m5,892\u001b[0m (23.02 KB)\n"
            ],
            "text/html": [
              "<pre style=\"white-space:pre;overflow-x:auto;line-height:normal;font-family:Menlo,'DejaVu Sans Mono',consolas,'Courier New',monospace\"><span style=\"font-weight: bold\"> Optimizer params: </span><span style=\"color: #00af00; text-decoration-color: #00af00\">5,892</span> (23.02 KB)\n",
              "</pre>\n"
            ]
          },
          "metadata": {}
        },
        {
          "output_type": "display_data",
          "data": {
            "text/plain": [
              "<Figure size 1000x600 with 1 Axes>"
            ],
            "image/png": "[encoded data removed]"
          },
          "metadata": {}
        }
      ]
    },
    {
      "cell_type": "code",
      "source": [],
      "metadata": {
        "id": "vJD2F7dyrYYy"
      },
      "execution_count": null,
      "outputs": []
    }
  ]
}